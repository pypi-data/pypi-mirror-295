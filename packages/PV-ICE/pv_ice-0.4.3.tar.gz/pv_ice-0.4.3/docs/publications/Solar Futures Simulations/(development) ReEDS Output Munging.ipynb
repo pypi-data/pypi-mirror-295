{
 "cells": [
  {
   "cell_type": "markdown",
   "metadata": {},
   "source": [
    "# ReEDS Scenarios on PV ICE Tool"
   ]
  },
  {
   "cell_type": "markdown",
   "metadata": {},
   "source": [
    "<div class=\"alert alert-block alert-danger\">\n",
    "<b>Journal Not Finished:</b> The below journal was made to avoid doing pre-analysis in the excel for the baseline creation (the excel has a tab where we multiplied by the DC:AC factors [1.1,1.3,1.3] for the ['distpv','dupv','upv'] and the added them for using in the Solar Futures analysis. However this journal is not finished (I marked where I stopped), and it saves the PCA data incorrectly (every 2 years). Leaving in case it becomes useful at some point in life.\n",
    "</div>\n",
    "\n",
    "\n",
    "To explore different scenarios for furture installation projections of PV (or any technology), ReEDS output data can be useful in providing standard scenarios. ReEDS installation projections are used in this journal as input data to the PV ICE tool. \n",
    "\n",
    "Current sections include:\n",
    "\n",
    "<ol>\n",
    "    <li> ### Reading a cumulative capacity ReEDS output file </li>\n",
    "    <li> ### Reading an annual built ReEDS output file </li>\n",
    "    <li> ### Saving PCA data as PV ICE input format </li>\n",
    "    <li> ### Saving State data as PV ICE input format </li>\n",
    "</ol>\n"
   ]
  },
  {
   "cell_type": "code",
   "execution_count": 1,
   "metadata": {},
   "outputs": [],
   "source": [
    "import numpy as np\n",
    "import pandas as pd\n",
    "import os,sys\n",
    "import matplotlib.pyplot as plt\n",
    "plt.rcParams.update({'font.size': 22})\n",
    "plt.rcParams['figure.figsize'] = (12, 8)"
   ]
  },
  {
   "cell_type": "code",
   "execution_count": 2,
   "metadata": {},
   "outputs": [
    {
     "name": "stdout",
     "output_type": "stream",
     "text": [
      "Your simulation will be stored in C:\\Users\\sayala\\Documents\\GitHub\\PV_ICE\\PV_ICE\\TEMP\n"
     ]
    }
   ],
   "source": [
    "import os\n",
    "from pathlib import Path\n",
    "\n",
    "testfolder = str(Path().resolve().parent.parent.parent / 'PV_ICE' / 'TEMP')\n",
    "\n",
    "print (\"Your simulation will be stored in %s\" % testfolder)\n"
   ]
  },
  {
   "cell_type": "markdown",
   "metadata": {},
   "source": [
    "# Reading a ReEDS cumulative capacity output file\n",
    "This reEDS output file is the cumulative capacity every other year. To get GW/yr installed, we need to take the difference between the years, then divide by 2. This is less accurate than getting an \"annual built\" data file because the cumulative capacity accounts for 30 year lifetime removal from field (default ReEDS assumption). This munging also neglects PCA region."
   ]
  },
  {
   "cell_type": "code",
   "execution_count": 3,
   "metadata": {},
   "outputs": [
    {
     "name": "stdout",
     "output_type": "stream",
     "text": [
      "Input file is stored in C:\\Users\\sayala\\Documents\\GitHub\\PV_ICE\\PV_ICE\\baselines\\SupportingMaterial\\100REby2035-cumulative.csv\n"
     ]
    }
   ],
   "source": [
    "#We need to come up with a default location to save ReEDS output files\n",
    "#reedsFile = str(Path().resolve().parent.parent.parent.parent / 'December Core Scenarios ReEDS Outputs Solar Futures v3a.xlsx')\n",
    "#print (\"Input file is stored in %s\" % reedsFile)\n",
    "reedsFile = str(Path().resolve().parent.parent.parent/ 'PV_ICE' / 'baselines' / 'SupportingMaterial' / '100REby2035-cumulative.csv')\n",
    "print (\"Input file is stored in %s\" % reedsFile)"
   ]
  },
  {
   "cell_type": "code",
   "execution_count": 4,
   "metadata": {},
   "outputs": [
    {
     "data": {
      "text/plain": [
       "<bound method NDFrame.head of       scenario  year   PCA  Capacity (GW)\n",
       "0     a1_RE100  2010    p1       0.000016\n",
       "1     a1_RE100  2010   p10       0.486023\n",
       "2     a1_RE100  2010  p100       0.000000\n",
       "3     a1_RE100  2010  p101       0.021315\n",
       "4     a1_RE100  2010  p102       0.014625\n",
       "...        ...   ...   ...            ...\n",
       "8437    a1_Ref  2050   p95      38.563516\n",
       "8438    a1_Ref  2050   p96      16.298854\n",
       "8439    a1_Ref  2050   p97      18.744921\n",
       "8440    a1_Ref  2050   p98       6.378485\n",
       "8441    a1_Ref  2050   p99      28.449829\n",
       "\n",
       "[8442 rows x 4 columns]>"
      ]
     },
     "execution_count": 4,
     "metadata": {},
     "output_type": "execute_result"
    }
   ],
   "source": [
    "REEDSInput = pd.read_csv(reedsFile)\n",
    "REEDSInput.head"
   ]
  },
  {
   "cell_type": "markdown",
   "metadata": {},
   "source": [
    "### Aggregate down to simple MW Installed input"
   ]
  },
  {
   "cell_type": "code",
   "execution_count": 5,
   "metadata": {},
   "outputs": [
    {
     "name": "stdout",
     "output_type": "stream",
     "text": [
      "scenario     a1_RE100      a1_RE95      a1_Ref\n",
      "year                                          \n",
      "2010         1.246592     1.246592    1.246592\n",
      "2012         6.242318     6.242318    6.242318\n",
      "2014        16.090783    16.090783   16.090783\n",
      "2016        34.276154    34.276154   34.276154\n",
      "2018        52.093001    52.093001   52.093001\n",
      "2020        83.778187    83.778187   83.533329\n",
      "2022       146.553694   146.553694  102.993795\n",
      "2024       191.078858   191.078858  128.602753\n",
      "2026       326.268392   326.268392  177.112068\n",
      "2028       431.634770   431.634770  230.392738\n",
      "2030       580.819921   580.819921  309.015319\n",
      "2032       702.410947   702.410947  333.157319\n",
      "2034       812.257622   812.257622  354.101299\n",
      "2036       934.894845   934.894845  385.447237\n",
      "2038      1078.186255  1078.186255  417.757467\n",
      "2040      1237.253347  1237.253347  464.569087\n",
      "2042      1283.271124  1283.384991  512.675339\n",
      "2044      1320.858174  1322.752809  569.486607\n",
      "2046      1363.860206  1374.601619  614.658599\n",
      "2048      1418.708071  1421.546054  683.068153\n",
      "2050      1485.376422  1471.914866  731.232567\n"
     ]
    }
   ],
   "source": [
    "rawdf = REEDSInput.copy()\n",
    "\n",
    "#currently, we're ignoring region, so drop PCA\n",
    "rawdf.drop(columns=['PCA'], inplace=True)\n",
    "\n",
    "#aggregate and sum by scenarios and year to get an annual (bi-annual) installation by scenario\n",
    "df = rawdf.groupby(['scenario', 'year'])['Capacity (GW)'].sum()\n",
    "df_evens = pd.DataFrame(df)\n",
    "df_evens_byscen = df.unstack(level='scenario')#this df contains all the scenarios, even years only\n",
    "print(df_evens_byscen)"
   ]
  },
  {
   "cell_type": "markdown",
   "metadata": {},
   "source": [
    "### Take the difference and Divide by 2\n",
    "The file provided is cumulative installs, therefore we need to take the difference between years"
   ]
  },
  {
   "cell_type": "code",
   "execution_count": 6,
   "metadata": {},
   "outputs": [
    {
     "name": "stdout",
     "output_type": "stream",
     "text": [
      "scenario  a1_RE100_added_cap(GW)  a1_RE95_added_cap(GW)  a1_Ref_added_cap(GW)\n",
      "year                                                                         \n",
      "2010                         NaN                    NaN                   NaN\n",
      "2012                    4.995726               4.995726              4.995726\n",
      "2014                    9.848465               9.848465              9.848465\n",
      "2016                   18.185371              18.185371             18.185371\n",
      "2018                   17.816847              17.816847             17.816847\n",
      "2020                   31.685186              31.685186             31.440328\n",
      "2022                   62.775507              62.775507             19.460466\n",
      "2024                   44.525164              44.525164             25.608958\n",
      "2026                  135.189534             135.189534             48.509315\n",
      "2028                  105.366378             105.366378             53.280670\n",
      "2030                  149.185151             149.185151             78.622581\n",
      "2032                  121.591026             121.591026             24.142000\n",
      "2034                  109.846674             109.846674             20.943980\n",
      "2036                  122.637223             122.637223             31.345937\n",
      "2038                  143.291410             143.291410             32.310230\n",
      "2040                  159.067093             159.067093             46.811620\n",
      "2042                   46.017777              46.131643             48.106252\n",
      "2044                   37.587050              39.367819             56.811268\n",
      "2046                   43.002032              51.848810             45.171992\n",
      "2048                   54.847865              46.944435             68.409554\n",
      "2050                   66.668351              50.368813             48.164414\n"
     ]
    }
   ],
   "source": [
    "#take the difference between years to get the annual installs (not cumulative)\n",
    "#grab scenario names\n",
    "SCEN = df_evens.index.levels[0]\n",
    "#len(SCEN)\n",
    "#create a for loop to iterate through all the provided scenarios\n",
    "for i in range(len(SCEN)):\n",
    "    df_evens_byscen[SCEN[i]+'_added_cap(GW)'] = df[SCEN[i]].diff() #takes diff between rows and creates new column\n",
    "#print(df_evens_byscen)\n",
    "df_addedCap_evens = df_evens_byscen.filter(regex = 'added_cap') #create df of just added capacity, removes multiIndex\n",
    "print(df_addedCap_evens)"
   ]
  },
  {
   "cell_type": "markdown",
   "metadata": {},
   "source": [
    "Because we prefer to use real world data whereever possible, anything prior to the current year will use real world installs. Therefore, we can ignore the NaN values in 2010.\n",
    "\n",
    "Now we divide this added installations in half."
   ]
  },
  {
   "cell_type": "code",
   "execution_count": 7,
   "metadata": {},
   "outputs": [
    {
     "name": "stdout",
     "output_type": "stream",
     "text": [
      "scenario  a1_RE100_added_cap(GW)  a1_RE95_added_cap(GW)  a1_Ref_added_cap(GW)\n",
      "year                                                                         \n",
      "2010                         NaN                    NaN                   NaN\n",
      "2012                    2.497863               2.497863              2.497863\n",
      "2014                    4.924232               4.924232              4.924232\n",
      "2016                    9.092685               9.092685              9.092685\n",
      "2018                    8.908424               8.908424              8.908424\n",
      "2020                   15.842593              15.842593             15.720164\n",
      "2022                   31.387753              31.387753              9.730233\n",
      "2024                   22.262582              22.262582             12.804479\n",
      "2026                   67.594767              67.594767             24.254658\n",
      "2028                   52.683189              52.683189             26.640335\n",
      "2030                   74.592576              74.592576             39.311291\n",
      "2032                   60.795513              60.795513             12.071000\n",
      "2034                   54.923337              54.923337             10.471990\n",
      "2036                   61.318612              61.318612             15.672969\n",
      "2038                   71.645705              71.645705             16.155115\n",
      "2040                   79.533546              79.533546             23.405810\n",
      "2042                   23.008888              23.065822             24.053126\n",
      "2044                   18.793525              19.683909             28.405634\n",
      "2046                   21.501016              25.924405             22.585996\n",
      "2048                   27.423932              23.472217             34.204777\n",
      "2050                   33.334176              25.184406             24.082207\n"
     ]
    }
   ],
   "source": [
    "df_annualAdds_evens = df_addedCap_evens/2\n",
    "print(df_annualAdds_evens)"
   ]
  },
  {
   "cell_type": "markdown",
   "metadata": {},
   "source": [
    "### Create the odd years"
   ]
  },
  {
   "cell_type": "code",
   "execution_count": 8,
   "metadata": {},
   "outputs": [
    {
     "name": "stdout",
     "output_type": "stream",
     "text": [
      "scenario  a1_RE100_added_cap(GW)  a1_RE95_added_cap(GW)  a1_Ref_added_cap(GW)\n",
      "year                                                                         \n",
      "2009                         NaN                    NaN                   NaN\n",
      "2011                    2.497863               2.497863              2.497863\n",
      "2013                    4.924232               4.924232              4.924232\n",
      "2015                    9.092685               9.092685              9.092685\n",
      "2017                    8.908424               8.908424              8.908424\n",
      "2019                   15.842593              15.842593             15.720164\n",
      "2021                   31.387753              31.387753              9.730233\n",
      "2023                   22.262582              22.262582             12.804479\n",
      "2025                   67.594767              67.594767             24.254658\n",
      "2027                   52.683189              52.683189             26.640335\n",
      "2029                   74.592576              74.592576             39.311291\n",
      "2031                   60.795513              60.795513             12.071000\n",
      "2033                   54.923337              54.923337             10.471990\n",
      "2035                   61.318612              61.318612             15.672969\n",
      "2037                   71.645705              71.645705             16.155115\n",
      "2039                   79.533546              79.533546             23.405810\n",
      "2041                   23.008888              23.065822             24.053126\n",
      "2043                   18.793525              19.683909             28.405634\n",
      "2045                   21.501016              25.924405             22.585996\n",
      "2047                   27.423932              23.472217             34.204777\n",
      "2049                   33.334176              25.184406             24.082207\n"
     ]
    }
   ],
   "source": [
    "#Now create the odd years by duplicating the even years and changing the index\n",
    "df_odds = df_annualAdds_evens.copy()\n",
    "df_odds.index = df_odds.index-1 #set the index = one year less\n",
    "print(df_odds)"
   ]
  },
  {
   "cell_type": "code",
   "execution_count": 9,
   "metadata": {},
   "outputs": [
    {
     "name": "stdout",
     "output_type": "stream",
     "text": [
      "scenario  a1_RE100_added_cap(GW)  a1_RE95_added_cap(GW)  a1_Ref_added_cap(GW)\n",
      "year                                                                         \n",
      "2009                         NaN                    NaN                   NaN\n",
      "2010                         NaN                    NaN                   NaN\n",
      "2011                 2547.820449            2547.820449           2547.820449\n",
      "2012                 2547.820449            2547.820449           2547.820449\n",
      "2013                 5022.716968            5022.716968           5022.716968\n",
      "2014                 5022.716968            5022.716968           5022.716968\n",
      "2015                 9274.539118            9274.539118           9274.539118\n",
      "2016                 9274.539118            9274.539118           9274.539118\n",
      "2017                 9086.592100            9086.592100           9086.592100\n",
      "2018                 9086.592100            9086.592100           9086.592100\n",
      "2019                16159.444770           16159.444770          16034.567311\n",
      "2020                16159.444770           16159.444770          16034.567311\n",
      "2021                32015.508487           32015.508487           9924.837597\n",
      "2022                32015.508487           32015.508487           9924.837597\n",
      "2023                22707.833880           22707.833880          13060.568829\n",
      "2024                22707.833880           22707.833880          13060.568829\n",
      "2025                68946.662206           68946.662206          24739.750702\n",
      "2026                68946.662206           68946.662206          24739.750702\n",
      "2027                53736.853006           53736.853006          27173.141573\n",
      "2028                53736.853006           53736.853006          27173.141573\n",
      "2029                76084.427036           76084.427036          40097.516316\n",
      "2030                76084.427036           76084.427036          40097.516316\n",
      "2031                62011.423352           62011.423352          12312.419957\n",
      "2032                62011.423352           62011.423352          12312.419957\n",
      "2033                56021.803858           56021.803858          10681.429981\n",
      "2034                56021.803858           56021.803858          10681.429981\n",
      "2035                62544.983737           62544.983737          15986.427974\n",
      "2036                62544.983737           62544.983737          15986.427974\n",
      "2037                73078.619190           73078.619190          16478.217382\n",
      "2038                73078.619190           73078.619190          16478.217382\n",
      "2039                81124.217218           81124.217218          23873.926119\n",
      "2040                81124.217218           81124.217218          23873.926119\n",
      "2041                23469.066030           23527.138071          24534.188658\n",
      "2042                23469.066030           23527.138071          24534.188658\n",
      "2043                19169.395344           20077.587485          28973.746541\n",
      "2044                19169.395344           20077.587485          28973.746541\n",
      "2045                21931.036440           26442.892874          23037.716088\n",
      "2046                21931.036440           26442.892874          23037.716088\n",
      "2047                27972.410948           23941.661800          34888.872539\n",
      "2048                27972.410948           23941.661800          34888.872539\n",
      "2049                34000.859042           25688.094448          24563.851264\n",
      "2050                34000.859042           25688.094448          24563.851264\n"
     ]
    }
   ],
   "source": [
    "#put the evens and odds together, sort by year\n",
    "df_allyrs = pd.concat([df_annualAdds_evens, df_odds])\n",
    "df_allyrs.sort_index(axis=0, inplace=True)\n",
    "#df_allyrs_byscen = df_allyrs.unstack(level=0)\n",
    "#print(df_allyrs_byscen)\n",
    "\n",
    "#modify by DC:AC ratio(1.2 avg) and 85% average marketshare of c-Si technology and convert to MW\n",
    "df_cSi_installs = df_allyrs*1.2*0.85*1000\n",
    "print(df_cSi_installs)"
   ]
  },
  {
   "cell_type": "code",
   "execution_count": 10,
   "metadata": {},
   "outputs": [],
   "source": [
    "#output the file\n",
    "df_cSi_installs.to_csv('output_reeds4PVICE.csv', index=True)"
   ]
  },
  {
   "cell_type": "markdown",
   "metadata": {},
   "source": [
    "# Reading a ReEDS annual built capacity file\n",
    "This data file is the \"annual built capacity\", or the additions (not net additions) to the grid. This is an annual number reported biannually, so the assumption is that the previous odd year installed the same amount of PV capacity."
   ]
  },
  {
   "cell_type": "code",
   "execution_count": 11,
   "metadata": {
    "scrolled": true
   },
   "outputs": [
    {
     "name": "stdout",
     "output_type": "stream",
     "text": [
      "Input file is stored in C:\\Users\\sayala\\Documents\\GitHub\\PV_ICE\\PV_ICE\\baselines\\SupportingMaterial\\100REby2035-annuals.csv\n"
     ]
    },
    {
     "data": {
      "text/plain": [
       "<bound method NDFrame.head of          tech  scenario region  year  Capacity (GW)\n",
       "0         upv  a1_RE100     p1  2012       0.000000\n",
       "1         upv  a1_RE100     p1  2014       0.000000\n",
       "2         upv  a1_RE100     p1  2016       0.000000\n",
       "3         upv  a1_RE100     p1  2018       0.000000\n",
       "4         upv  a1_RE100     p1  2020       0.012500\n",
       "...       ...       ...    ...   ...            ...\n",
       "24115  distpv    a1_Ref    p99  2042       0.131880\n",
       "24116  distpv    a1_Ref    p99  2044       0.146862\n",
       "24117  distpv    a1_Ref    p99  2046       0.257416\n",
       "24118  distpv    a1_Ref    p99  2048       0.112180\n",
       "24119  distpv    a1_Ref    p99  2050       0.213627\n",
       "\n",
       "[24120 rows x 5 columns]>"
      ]
     },
     "execution_count": 11,
     "metadata": {},
     "output_type": "execute_result"
    }
   ],
   "source": [
    "reedsFile = str(Path().resolve().parent.parent.parent/ 'PV_ICE' / 'baselines' / 'SupportingMaterial' / '100REby2035-annuals.csv')\n",
    "print (\"Input file is stored in %s\" % reedsFile)\n",
    "REEDSInput = pd.read_csv(reedsFile)\n",
    "REEDSInput.head"
   ]
  },
  {
   "cell_type": "code",
   "execution_count": 12,
   "metadata": {
    "scrolled": true
   },
   "outputs": [
    {
     "data": {
      "text/plain": [
       "<bound method NDFrame.head of                       Capacity (GW)\n",
       "tech   scenario year               \n",
       "distpv a1_RE100 2012       1.328463\n",
       "                2014       1.872017\n",
       "                2016       3.352236\n",
       "                2018       4.041324\n",
       "                2020       2.483214\n",
       "...                             ...\n",
       "upv    a1_Ref   2042      21.048414\n",
       "                2044      26.540308\n",
       "                2046      22.716836\n",
       "                2048      36.073316\n",
       "                2050      33.473629\n",
       "\n",
       "[180 rows x 1 columns]>"
      ]
     },
     "execution_count": 12,
     "metadata": {},
     "output_type": "execute_result"
    }
   ],
   "source": [
    "rawdf = REEDSInput.copy()\n",
    "\n",
    "#currently, we're ignoring region, so drop PCA\n",
    "rawdf.drop(columns=['region'], inplace=True)\n",
    "\n",
    "#aggregate and sum by scenarios and year to get an annual (bi-annual) installation by scenario\n",
    "df = pd.DataFrame(rawdf.groupby(['tech', 'scenario', 'year'])['Capacity (GW)'].sum())\n",
    "df.head"
   ]
  },
  {
   "cell_type": "markdown",
   "metadata": {},
   "source": [
    "Now we multiply each technology by it's respective DC:AC ratio, because distributed PV (i.e. rooftop) in ReEDS is reported in AC with a 1.1 DC:AC ratio. We install in DC, therefore, we multiply ReEDS output by 1.1. For both types of utility PV (Distributed UPV and UPV), the DC:AC ratio is 1.3."
   ]
  },
  {
   "cell_type": "code",
   "execution_count": 13,
   "metadata": {
    "scrolled": true
   },
   "outputs": [
    {
     "name": "stdout",
     "output_type": "stream",
     "text": [
      "                      Capacity (GW)\n",
      "tech   scenario year               \n",
      "distpv a1_RE100 2012       1.461310\n",
      "                2014       2.059218\n",
      "                2016       3.687460\n",
      "                2018       4.445456\n",
      "                2020       2.731536\n",
      "...                             ...\n",
      "upv    a1_Ref   2042      27.362938\n",
      "                2044      34.502400\n",
      "                2046      29.531887\n",
      "                2048      46.895311\n",
      "                2050      43.515717\n",
      "\n",
      "[180 rows x 1 columns]\n"
     ]
    }
   ],
   "source": [
    "#create a litte dataframe of the factors with index that matches tech names\n",
    "dc_ac = pd.DataFrame({'factor':[1.1,1.3,1.3]}, index=['distpv','dupv','upv'])\n",
    "#multiply techs by DC:AC ratios\n",
    "df_dc = df.mul(dc_ac['factor'], level=0, axis='index')\n",
    "print(df_dc)"
   ]
  },
  {
   "cell_type": "markdown",
   "metadata": {},
   "source": [
    "Now we're in DC, we can sum the techs for each scenario and year."
   ]
  },
  {
   "cell_type": "code",
   "execution_count": 14,
   "metadata": {
    "scrolled": false
   },
   "outputs": [],
   "source": [
    "df_byscen = pd.DataFrame(df_dc.groupby(['scenario', 'year'])['Capacity (GW)'].sum())\n",
    "df_evens_byscen = df_byscen.unstack(level='scenario')\n",
    "#print(df_evens_byscen)"
   ]
  },
  {
   "cell_type": "markdown",
   "metadata": {},
   "source": [
    "This gives us the annual added capacity, by scenario, but only on even years. ReEDS recommendation is to back duplicate the installation, i.e. the same amount of PV is installed in 2049 and 2050. Now we create an odd year data set."
   ]
  },
  {
   "cell_type": "code",
   "execution_count": 15,
   "metadata": {
    "scrolled": false
   },
   "outputs": [],
   "source": [
    "#Now create the odd years by duplicating the even years and changing the index\n",
    "df_odds = df_evens_byscen.copy()\n",
    "df_odds.index = df_odds.index-1 #set the index = one year less\n",
    "#print(df_odds)"
   ]
  },
  {
   "cell_type": "markdown",
   "metadata": {},
   "source": [
    "Now concatinate the two dataframes, and reorder by year number."
   ]
  },
  {
   "cell_type": "code",
   "execution_count": 16,
   "metadata": {
    "scrolled": false
   },
   "outputs": [],
   "source": [
    "#put the evens and odds together, sort by year\n",
    "df_allyrs = pd.concat([df_evens_byscen, df_odds])\n",
    "df_allyrs.sort_index(axis=0, inplace=True)\n",
    "#print(df_allyrs)"
   ]
  },
  {
   "cell_type": "markdown",
   "metadata": {},
   "source": [
    "Finally, we only consider c-Si installations right now, and the historical average is 85% c-Si market share in the US (most of the rest is CdTe). Therefore, we multiply everything by 0.85 to account for only c-Si material."
   ]
  },
  {
   "cell_type": "code",
   "execution_count": 17,
   "metadata": {},
   "outputs": [
    {
     "name": "stdout",
     "output_type": "stream",
     "text": [
      "         Capacity (GW)                            \n",
      "scenario      a1_RE100       a1_RE95        a1_Ref\n",
      "year                                              \n",
      "2011       2534.300109   2534.300109   2534.300109\n",
      "2012       2534.300109   2534.300109   2534.300109\n",
      "2013       5123.033732   5123.033732   5123.033732\n",
      "2014       5123.033732   5123.033732   5123.033732\n",
      "2015       9477.537310   9477.537310   9477.537310\n",
      "2016       9477.537310   9477.537310   9477.537310\n",
      "2017       9156.783125   9156.783125   9156.783125\n",
      "2018       9156.783125   9156.783125   9156.783125\n",
      "2019      17083.918896  17083.918896  16948.634981\n",
      "2020      17083.918896  17083.918896  16948.634981\n",
      "2021      34309.524105  34309.524105  10377.963980\n",
      "2022      34309.524105  34309.524105  10377.963980\n",
      "2023      24236.415968  24236.415968  13785.212152\n",
      "2024      24236.415968  24236.415968  13785.212152\n",
      "2025      74146.088485  74146.088485  26255.267659\n",
      "2026      74146.088485  74146.088485  26255.267659\n",
      "2027      57401.301559  57401.301559  28623.947560\n",
      "2028      57401.301559  57401.301559  28623.947560\n",
      "2029      81197.986505  81197.986505  42212.166639\n",
      "2030      81197.986505  81197.986505  42212.166639\n",
      "2031      66012.061777  66012.061777  12171.474714\n",
      "2032      66012.061777  66012.061777  12171.474714\n",
      "2033      59935.855225  59935.855225  10817.116828\n",
      "2034      59935.855225  59935.855225  10817.116828\n",
      "2035      67039.351511  67039.351511  16600.916044\n",
      "2036      67039.351511  67039.351511  16600.916044\n",
      "2037      78553.287849  78553.287849  17236.185916\n",
      "2038      78553.287849  78553.287849  17236.185916\n",
      "2039      87426.894743  87426.894743  25405.746051\n",
      "2040      87426.894743  87426.894743  25405.746051\n",
      "2041      26258.301319  26321.212680  27412.184132\n",
      "2042      26258.301319  26321.212680  27412.184132\n",
      "2043      23596.728957  24580.603779  34218.109410\n",
      "2044      23596.728957  24580.603779  34218.109410\n",
      "2045      29613.993354  34501.837845  30812.896325\n",
      "2046      29613.993354  34501.837845  30812.896325\n",
      "2047      35203.627130  30836.982267  42696.460528\n",
      "2048      35203.627130  30836.982267  42696.460528\n",
      "2049      51033.756041  42028.261028  40675.047032\n",
      "2050      51033.756041  42028.261028  40675.047032\n"
     ]
    }
   ],
   "source": [
    "#multiply by 85% average marketshare of c-Si technology and convert to MW\n",
    "df_cSi_installs = df_allyrs*0.85*1000\n",
    "print(df_cSi_installs)"
   ]
  },
  {
   "cell_type": "code",
   "execution_count": 18,
   "metadata": {},
   "outputs": [],
   "source": [
    "#output the file\n",
    "df_cSi_installs.to_csv('output_reeds4PVICE.csv', index=True)"
   ]
  },
  {
   "cell_type": "markdown",
   "metadata": {},
   "source": [
    "## Save Input Files by PCA Region for Mapping"
   ]
  },
  {
   "cell_type": "code",
   "execution_count": 19,
   "metadata": {
    "scrolled": true
   },
   "outputs": [
    {
     "data": {
      "text/plain": [
       "<bound method NDFrame.head of                              Capacity (GW)\n",
       "tech   scenario year region               \n",
       "distpv a1_RE100 2012 p1           0.004689\n",
       "                     p10          0.150564\n",
       "                     p100         0.000000\n",
       "                     p101         0.008424\n",
       "                     p102         0.004160\n",
       "...                                    ...\n",
       "upv    a1_Ref   2050 p95          1.309897\n",
       "                     p96          0.732107\n",
       "                     p97          1.500091\n",
       "                     p98          0.580900\n",
       "                     p99          3.798898\n",
       "\n",
       "[24120 rows x 1 columns]>"
      ]
     },
     "execution_count": 19,
     "metadata": {},
     "output_type": "execute_result"
    }
   ],
   "source": [
    "rawdf2 = REEDSInput.copy()\n",
    "\n",
    "#aggregate and sum by scenarios and year to get an annual (bi-annual) installation by scenario\n",
    "df_byregion = pd.DataFrame(rawdf2.groupby(['tech', 'scenario', 'year', 'region'])['Capacity (GW)'].sum())\n",
    "df_byregion.head"
   ]
  },
  {
   "cell_type": "markdown",
   "metadata": {},
   "source": [
    "Multiply the dataframe by the tech factors AC to DC ratio here so that it can be dropped and simplify the df"
   ]
  },
  {
   "cell_type": "code",
   "execution_count": 21,
   "metadata": {},
   "outputs": [],
   "source": [
    "#create a litte dataframe of the factors with index that matches tech names\n",
    "dc_ac = pd.DataFrame({'factor':[1.1,1.3,1.3]}, index=['distpv','dupv','upv'])\n",
    "#multiply techs by DC:AC ratios\n",
    "df_byregion_dc = df_byregion.mul(dc_ac['factor'], level=0, axis='index')"
   ]
  },
  {
   "cell_type": "code",
   "execution_count": 23,
   "metadata": {},
   "outputs": [],
   "source": [
    "#now weight by c-si technology ~85% marketshare\n",
    "c_si = pd.DataFrame({'factor':[1.0,0.85,0.85]}, index=['distpv','dupv','upv']) \n",
    "#distpv = residential, which is pretty much all c-Si, others are utility, so 85%\n",
    "df_byregion_dc_si = df_byregion_dc.mul(c_si['factor'], level=0, axis='index')"
   ]
  },
  {
   "cell_type": "code",
   "execution_count": 24,
   "metadata": {},
   "outputs": [],
   "source": [
    "df_byregion_dc_si_mw = df_byregion_dc_si*1000 #reeds outputs are in GW, so changing to MW for PV ICE"
   ]
  },
  {
   "cell_type": "markdown",
   "metadata": {},
   "source": [
    "Now everything is c-Si in DC, can use groupby sum to combine the techs"
   ]
  },
  {
   "cell_type": "code",
   "execution_count": 25,
   "metadata": {
    "scrolled": false
   },
   "outputs": [
    {
     "data": {
      "text/html": [
       "<div>\n",
       "<style scoped>\n",
       "    .dataframe tbody tr th:only-of-type {\n",
       "        vertical-align: middle;\n",
       "    }\n",
       "\n",
       "    .dataframe tbody tr th {\n",
       "        vertical-align: top;\n",
       "    }\n",
       "\n",
       "    .dataframe thead th {\n",
       "        text-align: right;\n",
       "    }\n",
       "</style>\n",
       "<table border=\"1\" class=\"dataframe\">\n",
       "  <thead>\n",
       "    <tr style=\"text-align: right;\">\n",
       "      <th></th>\n",
       "      <th></th>\n",
       "      <th></th>\n",
       "      <th>new_Installed_Capacity_[MW]</th>\n",
       "    </tr>\n",
       "    <tr>\n",
       "      <th>scenario</th>\n",
       "      <th>year</th>\n",
       "      <th>region</th>\n",
       "      <th></th>\n",
       "    </tr>\n",
       "  </thead>\n",
       "  <tbody>\n",
       "    <tr>\n",
       "      <th rowspan=\"5\" valign=\"top\">a1_RE100</th>\n",
       "      <th rowspan=\"5\" valign=\"top\">2012</th>\n",
       "      <th>p1</th>\n",
       "      <td>5.158000</td>\n",
       "    </tr>\n",
       "    <tr>\n",
       "      <th>p10</th>\n",
       "      <td>314.684500</td>\n",
       "    </tr>\n",
       "    <tr>\n",
       "      <th>p100</th>\n",
       "      <td>0.000000</td>\n",
       "    </tr>\n",
       "    <tr>\n",
       "      <th>p101</th>\n",
       "      <td>21.918750</td>\n",
       "    </tr>\n",
       "    <tr>\n",
       "      <th>p102</th>\n",
       "      <td>4.575500</td>\n",
       "    </tr>\n",
       "    <tr>\n",
       "      <th>...</th>\n",
       "      <th>...</th>\n",
       "      <th>...</th>\n",
       "      <td>...</td>\n",
       "    </tr>\n",
       "    <tr>\n",
       "      <th rowspan=\"5\" valign=\"top\">a1_Ref</th>\n",
       "      <th rowspan=\"5\" valign=\"top\">2050</th>\n",
       "      <th>p95</th>\n",
       "      <td>1477.385354</td>\n",
       "    </tr>\n",
       "    <tr>\n",
       "      <th>p96</th>\n",
       "      <td>877.839139</td>\n",
       "    </tr>\n",
       "    <tr>\n",
       "      <th>p97</th>\n",
       "      <td>1755.434607</td>\n",
       "    </tr>\n",
       "    <tr>\n",
       "      <th>p98</th>\n",
       "      <td>745.414000</td>\n",
       "    </tr>\n",
       "    <tr>\n",
       "      <th>p99</th>\n",
       "      <td>4432.771983</td>\n",
       "    </tr>\n",
       "  </tbody>\n",
       "</table>\n",
       "<p>8040 rows × 1 columns</p>\n",
       "</div>"
      ],
      "text/plain": [
       "                      new_Installed_Capacity_[MW]\n",
       "scenario year region                             \n",
       "a1_RE100 2012 p1                         5.158000\n",
       "              p10                      314.684500\n",
       "              p100                       0.000000\n",
       "              p101                      21.918750\n",
       "              p102                       4.575500\n",
       "...                                           ...\n",
       "a1_Ref   2050 p95                     1477.385354\n",
       "              p96                      877.839139\n",
       "              p97                     1755.434607\n",
       "              p98                      745.414000\n",
       "              p99                     4432.771983\n",
       "\n",
       "[8040 rows x 1 columns]"
      ]
     },
     "execution_count": 25,
     "metadata": {},
     "output_type": "execute_result"
    }
   ],
   "source": [
    "#after multiplying to get dc, sum the installs across techs, to simplify for PCA region analysis\n",
    "df_dc_byregion = pd.DataFrame(df_byregion_dc_si_mw.groupby(['scenario', 'year', 'region'])['Capacity (GW)'].sum()) \n",
    "df_dc_byregion.rename(columns = {'Capacity (GW)':'new_Installed_Capacity_[MW]'}, inplace = True)\n",
    "df_dc_byregion"
   ]
  },
  {
   "cell_type": "markdown",
   "metadata": {},
   "source": [
    "#### Loading Module Baseline. Will be used later to populate all the columsn otehr than 'new_Installed_Capacity_[MW]' which will be supplied by the REEDS model"
   ]
  },
  {
   "cell_type": "code",
   "execution_count": 31,
   "metadata": {},
   "outputs": [
    {
     "name": "stdout",
     "output_type": "stream",
     "text": [
      "path = C:\\Users\\sayala\\Documents\\GitHub\\PV_ICE\\PV_ICE\\TEMP\n",
      "Deprecation warning: file has been deprecated as of v 0.3 as an input to class Scenario and will be fully removed for v 0.4; Use 'massmodulefile' instead. \n",
      " Internally renaming as massmodulefile to continue\n"
     ]
    },
    {
     "data": {
      "text/html": [
       "<div>\n",
       "<style scoped>\n",
       "    .dataframe tbody tr th:only-of-type {\n",
       "        vertical-align: middle;\n",
       "    }\n",
       "\n",
       "    .dataframe tbody tr th {\n",
       "        vertical-align: top;\n",
       "    }\n",
       "\n",
       "    .dataframe thead th {\n",
       "        text-align: right;\n",
       "    }\n",
       "</style>\n",
       "<table border=\"1\" class=\"dataframe\">\n",
       "  <thead>\n",
       "    <tr style=\"text-align: right;\">\n",
       "      <th></th>\n",
       "      <th>new_Installed_Capacity_[MW]</th>\n",
       "    </tr>\n",
       "    <tr>\n",
       "      <th>year</th>\n",
       "      <th></th>\n",
       "    </tr>\n",
       "  </thead>\n",
       "  <tbody>\n",
       "    <tr>\n",
       "      <th>1995</th>\n",
       "      <td>12.500000</td>\n",
       "    </tr>\n",
       "    <tr>\n",
       "      <th>1996</th>\n",
       "      <td>9.667667</td>\n",
       "    </tr>\n",
       "    <tr>\n",
       "      <th>1997</th>\n",
       "      <td>11.622000</td>\n",
       "    </tr>\n",
       "    <tr>\n",
       "      <th>1998</th>\n",
       "      <td>11.781000</td>\n",
       "    </tr>\n",
       "    <tr>\n",
       "      <th>1999</th>\n",
       "      <td>16.884667</td>\n",
       "    </tr>\n",
       "    <tr>\n",
       "      <th>2000</th>\n",
       "      <td>20.926667</td>\n",
       "    </tr>\n",
       "    <tr>\n",
       "      <th>2001</th>\n",
       "      <td>27.985000</td>\n",
       "    </tr>\n",
       "    <tr>\n",
       "      <th>2002</th>\n",
       "      <td>42.476000</td>\n",
       "    </tr>\n",
       "    <tr>\n",
       "      <th>2003</th>\n",
       "      <td>59.745000</td>\n",
       "    </tr>\n",
       "    <tr>\n",
       "      <th>2004</th>\n",
       "      <td>94.752000</td>\n",
       "    </tr>\n",
       "    <tr>\n",
       "      <th>2005</th>\n",
       "      <td>96.581173</td>\n",
       "    </tr>\n",
       "    <tr>\n",
       "      <th>2006</th>\n",
       "      <td>98.213072</td>\n",
       "    </tr>\n",
       "    <tr>\n",
       "      <th>2007</th>\n",
       "      <td>324.232748</td>\n",
       "    </tr>\n",
       "    <tr>\n",
       "      <th>2008</th>\n",
       "      <td>314.585109</td>\n",
       "    </tr>\n",
       "    <tr>\n",
       "      <th>2009</th>\n",
       "      <td>431.244804</td>\n",
       "    </tr>\n",
       "    <tr>\n",
       "      <th>2010</th>\n",
       "      <td>719.844438</td>\n",
       "    </tr>\n",
       "    <tr>\n",
       "      <th>2011</th>\n",
       "      <td>1781.377078</td>\n",
       "    </tr>\n",
       "    <tr>\n",
       "      <th>2012</th>\n",
       "      <td>3064.162281</td>\n",
       "    </tr>\n",
       "    <tr>\n",
       "      <th>2013</th>\n",
       "      <td>4037.449113</td>\n",
       "    </tr>\n",
       "    <tr>\n",
       "      <th>2014</th>\n",
       "      <td>3722.199485</td>\n",
       "    </tr>\n",
       "    <tr>\n",
       "      <th>2015</th>\n",
       "      <td>6834.328813</td>\n",
       "    </tr>\n",
       "    <tr>\n",
       "      <th>2016</th>\n",
       "      <td>12897.665950</td>\n",
       "    </tr>\n",
       "    <tr>\n",
       "      <th>2017</th>\n",
       "      <td>9784.506215</td>\n",
       "    </tr>\n",
       "    <tr>\n",
       "      <th>2018</th>\n",
       "      <td>9352.529448</td>\n",
       "    </tr>\n",
       "    <tr>\n",
       "      <th>2019</th>\n",
       "      <td>10949.782340</td>\n",
       "    </tr>\n",
       "    <tr>\n",
       "      <th>2020</th>\n",
       "      <td>14903.790000</td>\n",
       "    </tr>\n",
       "  </tbody>\n",
       "</table>\n",
       "</div>"
      ],
      "text/plain": [
       "      new_Installed_Capacity_[MW]\n",
       "year                             \n",
       "1995                    12.500000\n",
       "1996                     9.667667\n",
       "1997                    11.622000\n",
       "1998                    11.781000\n",
       "1999                    16.884667\n",
       "2000                    20.926667\n",
       "2001                    27.985000\n",
       "2002                    42.476000\n",
       "2003                    59.745000\n",
       "2004                    94.752000\n",
       "2005                    96.581173\n",
       "2006                    98.213072\n",
       "2007                   324.232748\n",
       "2008                   314.585109\n",
       "2009                   431.244804\n",
       "2010                   719.844438\n",
       "2011                  1781.377078\n",
       "2012                  3064.162281\n",
       "2013                  4037.449113\n",
       "2014                  3722.199485\n",
       "2015                  6834.328813\n",
       "2016                 12897.665950\n",
       "2017                  9784.506215\n",
       "2018                  9352.529448\n",
       "2019                 10949.782340\n",
       "2020                 14903.790000"
      ]
     },
     "execution_count": 31,
     "metadata": {},
     "output_type": "execute_result"
    }
   ],
   "source": [
    "import PV_ICE\n",
    "r1 = PV_ICE.Simulation(name='Simulation1', path=testfolder)\n",
    "#r1.createScenario(name='US', file=r'..\\baselines\\baseline_modules_US_100RE2050.csv')\n",
    "r1.createScenario(name='US', massmodulefile=r'..\\baselines\\baseline_modules_mass_US.csv') # Don't need this one specifically \n",
    "baseline = r1.scenario['US'].dataIn_m\n",
    "baseline.set_index('year', inplace=True)\n",
    "history = pd.DataFrame(baseline['new_Installed_Capacity_[MW]'].loc[1995:2020]) #preserve historical installs\n",
    "baseline = baseline.drop(columns=['new_Installed_Capacity_[MW]'])\n",
    "baseline.index = pd.PeriodIndex(baseline.index, freq='A')  # A -- Annual\n",
    "history"
   ]
  },
  {
   "cell_type": "code",
   "execution_count": 36,
   "metadata": {},
   "outputs": [
    {
     "data": {
      "text/html": [
       "<div>\n",
       "<style scoped>\n",
       "    .dataframe tbody tr th:only-of-type {\n",
       "        vertical-align: middle;\n",
       "    }\n",
       "\n",
       "    .dataframe tbody tr th {\n",
       "        vertical-align: top;\n",
       "    }\n",
       "\n",
       "    .dataframe thead th {\n",
       "        text-align: right;\n",
       "    }\n",
       "</style>\n",
       "<table border=\"1\" class=\"dataframe\">\n",
       "  <thead>\n",
       "    <tr style=\"text-align: right;\">\n",
       "      <th></th>\n",
       "      <th>new_Installed_Capacity_[MW]</th>\n",
       "      <th>mod_eff</th>\n",
       "      <th>mod_reliability_t50</th>\n",
       "      <th>mod_reliability_t90</th>\n",
       "      <th>mod_degradation</th>\n",
       "      <th>mod_lifetime</th>\n",
       "      <th>mod_MFG_eff</th>\n",
       "      <th>mod_Repair</th>\n",
       "      <th>mod_MerchantTail</th>\n",
       "      <th>mod_EOL_collection_eff</th>\n",
       "      <th>...</th>\n",
       "      <th>mod_EOL_pg1_landfill</th>\n",
       "      <th>mod_EOL_pg2_stored</th>\n",
       "      <th>mod_EOL_pg3_reMFG</th>\n",
       "      <th>mod_EOL_pg4_recycled</th>\n",
       "      <th>mod_EOL_reMFG_yield</th>\n",
       "      <th>mod_EOL_sp_reMFG_recycle</th>\n",
       "      <th>mod_EOL_pb1_landfill</th>\n",
       "      <th>mod_EOL_pb2_stored</th>\n",
       "      <th>mod_EOL_pb3_reMFG</th>\n",
       "      <th>mod_EOL_pb4_recycled</th>\n",
       "    </tr>\n",
       "    <tr>\n",
       "      <th>year</th>\n",
       "      <th></th>\n",
       "      <th></th>\n",
       "      <th></th>\n",
       "      <th></th>\n",
       "      <th></th>\n",
       "      <th></th>\n",
       "      <th></th>\n",
       "      <th></th>\n",
       "      <th></th>\n",
       "      <th></th>\n",
       "      <th></th>\n",
       "      <th></th>\n",
       "      <th></th>\n",
       "      <th></th>\n",
       "      <th></th>\n",
       "      <th></th>\n",
       "      <th></th>\n",
       "      <th></th>\n",
       "      <th></th>\n",
       "      <th></th>\n",
       "      <th></th>\n",
       "    </tr>\n",
       "  </thead>\n",
       "  <tbody>\n",
       "    <tr>\n",
       "      <th>2018</th>\n",
       "      <td>9352.529448</td>\n",
       "      <td>18.400000</td>\n",
       "      <td>28.0</td>\n",
       "      <td>33.0</td>\n",
       "      <td>0.3</td>\n",
       "      <td>31.0</td>\n",
       "      <td>98.0</td>\n",
       "      <td>0.0</td>\n",
       "      <td>0.0</td>\n",
       "      <td>15.0</td>\n",
       "      <td>...</td>\n",
       "      <td>60.0</td>\n",
       "      <td>0.0</td>\n",
       "      <td>0.0</td>\n",
       "      <td>40.0</td>\n",
       "      <td>0.0</td>\n",
       "      <td>100.0</td>\n",
       "      <td>60.0</td>\n",
       "      <td>0.0</td>\n",
       "      <td>0.0</td>\n",
       "      <td>40.0</td>\n",
       "    </tr>\n",
       "    <tr>\n",
       "      <th>2019</th>\n",
       "      <td>10949.782340</td>\n",
       "      <td>19.200000</td>\n",
       "      <td>28.0</td>\n",
       "      <td>33.0</td>\n",
       "      <td>0.3</td>\n",
       "      <td>32.4</td>\n",
       "      <td>98.0</td>\n",
       "      <td>0.0</td>\n",
       "      <td>0.0</td>\n",
       "      <td>15.0</td>\n",
       "      <td>...</td>\n",
       "      <td>60.0</td>\n",
       "      <td>0.0</td>\n",
       "      <td>0.0</td>\n",
       "      <td>40.0</td>\n",
       "      <td>0.0</td>\n",
       "      <td>100.0</td>\n",
       "      <td>60.0</td>\n",
       "      <td>0.0</td>\n",
       "      <td>0.0</td>\n",
       "      <td>40.0</td>\n",
       "    </tr>\n",
       "    <tr>\n",
       "      <th>2020</th>\n",
       "      <td>14903.790000</td>\n",
       "      <td>20.000000</td>\n",
       "      <td>33.0</td>\n",
       "      <td>38.0</td>\n",
       "      <td>0.5</td>\n",
       "      <td>35.0</td>\n",
       "      <td>98.0</td>\n",
       "      <td>0.0</td>\n",
       "      <td>0.0</td>\n",
       "      <td>15.0</td>\n",
       "      <td>...</td>\n",
       "      <td>60.0</td>\n",
       "      <td>0.0</td>\n",
       "      <td>0.0</td>\n",
       "      <td>40.0</td>\n",
       "      <td>0.0</td>\n",
       "      <td>100.0</td>\n",
       "      <td>60.0</td>\n",
       "      <td>0.0</td>\n",
       "      <td>0.0</td>\n",
       "      <td>40.0</td>\n",
       "    </tr>\n",
       "    <tr>\n",
       "      <th>2021</th>\n",
       "      <td>16455.560000</td>\n",
       "      <td>20.900000</td>\n",
       "      <td>33.0</td>\n",
       "      <td>38.0</td>\n",
       "      <td>0.5</td>\n",
       "      <td>35.0</td>\n",
       "      <td>98.0</td>\n",
       "      <td>0.0</td>\n",
       "      <td>0.0</td>\n",
       "      <td>15.0</td>\n",
       "      <td>...</td>\n",
       "      <td>60.0</td>\n",
       "      <td>0.0</td>\n",
       "      <td>0.0</td>\n",
       "      <td>40.0</td>\n",
       "      <td>0.0</td>\n",
       "      <td>100.0</td>\n",
       "      <td>60.0</td>\n",
       "      <td>0.0</td>\n",
       "      <td>0.0</td>\n",
       "      <td>40.0</td>\n",
       "    </tr>\n",
       "    <tr>\n",
       "      <th>2022</th>\n",
       "      <td>15227.230000</td>\n",
       "      <td>21.480425</td>\n",
       "      <td>33.0</td>\n",
       "      <td>38.0</td>\n",
       "      <td>0.5</td>\n",
       "      <td>35.0</td>\n",
       "      <td>98.0</td>\n",
       "      <td>0.0</td>\n",
       "      <td>0.0</td>\n",
       "      <td>15.0</td>\n",
       "      <td>...</td>\n",
       "      <td>60.0</td>\n",
       "      <td>0.0</td>\n",
       "      <td>0.0</td>\n",
       "      <td>40.0</td>\n",
       "      <td>0.0</td>\n",
       "      <td>100.0</td>\n",
       "      <td>60.0</td>\n",
       "      <td>0.0</td>\n",
       "      <td>0.0</td>\n",
       "      <td>40.0</td>\n",
       "    </tr>\n",
       "    <tr>\n",
       "      <th>2023</th>\n",
       "      <td>15224.020000</td>\n",
       "      <td>21.885874</td>\n",
       "      <td>33.0</td>\n",
       "      <td>38.0</td>\n",
       "      <td>0.5</td>\n",
       "      <td>35.0</td>\n",
       "      <td>98.0</td>\n",
       "      <td>0.0</td>\n",
       "      <td>0.0</td>\n",
       "      <td>15.0</td>\n",
       "      <td>...</td>\n",
       "      <td>60.0</td>\n",
       "      <td>0.0</td>\n",
       "      <td>0.0</td>\n",
       "      <td>40.0</td>\n",
       "      <td>0.0</td>\n",
       "      <td>100.0</td>\n",
       "      <td>60.0</td>\n",
       "      <td>0.0</td>\n",
       "      <td>0.0</td>\n",
       "      <td>40.0</td>\n",
       "    </tr>\n",
       "  </tbody>\n",
       "</table>\n",
       "<p>6 rows × 21 columns</p>\n",
       "</div>"
      ],
      "text/plain": [
       "      new_Installed_Capacity_[MW]    mod_eff  mod_reliability_t50  \\\n",
       "year                                                                \n",
       "2018                  9352.529448  18.400000                 28.0   \n",
       "2019                 10949.782340  19.200000                 28.0   \n",
       "2020                 14903.790000  20.000000                 33.0   \n",
       "2021                 16455.560000  20.900000                 33.0   \n",
       "2022                 15227.230000  21.480425                 33.0   \n",
       "2023                 15224.020000  21.885874                 33.0   \n",
       "\n",
       "      mod_reliability_t90  mod_degradation  mod_lifetime  mod_MFG_eff  \\\n",
       "year                                                                    \n",
       "2018                 33.0              0.3          31.0         98.0   \n",
       "2019                 33.0              0.3          32.4         98.0   \n",
       "2020                 38.0              0.5          35.0         98.0   \n",
       "2021                 38.0              0.5          35.0         98.0   \n",
       "2022                 38.0              0.5          35.0         98.0   \n",
       "2023                 38.0              0.5          35.0         98.0   \n",
       "\n",
       "      mod_Repair  mod_MerchantTail  mod_EOL_collection_eff  ...  \\\n",
       "year                                                        ...   \n",
       "2018         0.0               0.0                    15.0  ...   \n",
       "2019         0.0               0.0                    15.0  ...   \n",
       "2020         0.0               0.0                    15.0  ...   \n",
       "2021         0.0               0.0                    15.0  ...   \n",
       "2022         0.0               0.0                    15.0  ...   \n",
       "2023         0.0               0.0                    15.0  ...   \n",
       "\n",
       "      mod_EOL_pg1_landfill  mod_EOL_pg2_stored  mod_EOL_pg3_reMFG  \\\n",
       "year                                                                \n",
       "2018                  60.0                 0.0                0.0   \n",
       "2019                  60.0                 0.0                0.0   \n",
       "2020                  60.0                 0.0                0.0   \n",
       "2021                  60.0                 0.0                0.0   \n",
       "2022                  60.0                 0.0                0.0   \n",
       "2023                  60.0                 0.0                0.0   \n",
       "\n",
       "      mod_EOL_pg4_recycled  mod_EOL_reMFG_yield  mod_EOL_sp_reMFG_recycle  \\\n",
       "year                                                                        \n",
       "2018                  40.0                  0.0                     100.0   \n",
       "2019                  40.0                  0.0                     100.0   \n",
       "2020                  40.0                  0.0                     100.0   \n",
       "2021                  40.0                  0.0                     100.0   \n",
       "2022                  40.0                  0.0                     100.0   \n",
       "2023                  40.0                  0.0                     100.0   \n",
       "\n",
       "      mod_EOL_pb1_landfill  mod_EOL_pb2_stored  mod_EOL_pb3_reMFG  \\\n",
       "year                                                                \n",
       "2018                  60.0                 0.0                0.0   \n",
       "2019                  60.0                 0.0                0.0   \n",
       "2020                  60.0                 0.0                0.0   \n",
       "2021                  60.0                 0.0                0.0   \n",
       "2022                  60.0                 0.0                0.0   \n",
       "2023                  60.0                 0.0                0.0   \n",
       "\n",
       "      mod_EOL_pb4_recycled  \n",
       "year                        \n",
       "2018                  40.0  \n",
       "2019                  40.0  \n",
       "2020                  40.0  \n",
       "2021                  40.0  \n",
       "2022                  40.0  \n",
       "2023                  40.0  \n",
       "\n",
       "[6 rows x 21 columns]"
      ]
     },
     "execution_count": 36,
     "metadata": {},
     "output_type": "execute_result"
    }
   ],
   "source": [
    "r1.scenario['US'].dataIn_m.loc[2018:2023]"
   ]
  },
  {
   "cell_type": "markdown",
   "metadata": {},
   "source": [
    "Now join the pca region to the module file and create files by scenario and pca region"
   ]
  },
  {
   "cell_type": "code",
   "execution_count": 37,
   "metadata": {},
   "outputs": [],
   "source": [
    "df_odds = df_evens_byscen.copy()\n",
    "df_odds.index = df_odds.index-1 #set the index = one year less\n",
    "#put the evens and odds together, sort by year\n",
    "df_allyrs = pd.concat([df_evens_byscen, df_odds])\n",
    "df_allyrs.sort_index(axis=0, inplace=True)"
   ]
  },
  {
   "cell_type": "code",
   "execution_count": 38,
   "metadata": {},
   "outputs": [],
   "source": [
    "for scenarios in range(len(df_dc_byregion.index.levels[0])): # iterate over the scenarios (3 scenarios)\n",
    "    scenario_name = df_dc_byregion.index.levels[0][scenarios] #assigns the current scenario name to a variable\n",
    "    for pcas in range(len(df_dc_byregion.index.levels[2])): #iterate over pca regions (134 pca regions)\n",
    "        pca = df_dc_byregion.index.levels[2][pcas] #assigns current pca name to a variable\n",
    "        filetitle = scenario_name+'_'+pca +'.csv'\n",
    "        subtestfolder = os.path.join(testfolder, 'ColePCAs')\n",
    "        if not os.path.exists(subtestfolder):\n",
    "            os.makedirs(subtestfolder)\n",
    "        filetitle = os.path.join(subtestfolder, filetitle) #these lines create a folder and file naming structure\n",
    "        \n",
    "        B = df_dc_byregion.xs(scenario_name,level='scenario') #takes cross section by the scenario name\n",
    "        A = B.xs(pca,level='region') #takes cross section by the pca region\n",
    "        A.name = 'new_Installed_Capacity_[MW]' #makes sure the name is right for pv ice\n",
    "        A = pd.DataFrame(A)\n",
    "        A.index=pd.PeriodIndex(A.index, freq='A')\n",
    "        A = pd.DataFrame(A)\n",
    "        # Add other columns\n",
    "        A = pd.concat([A.reindex(baseline.index), baseline], axis=1)\n",
    "        A.update(history) #not working yet\n",
    "        #A.replace((['new_Installed_Capacity_[MW]'][1995:2020]), history, inplace=True)\n",
    "        \n",
    "        header = \"year,new_Installed_Capacity_[MW],mod_eff,mod_reliability_t50,mod_reliability_t90,\"\\\n",
    "    \"mod_degradation,mod_lifetime,mod_MFG_eff,mod_EOL_collection_eff,mod_EOL_collected_recycled,\"\\\n",
    "    \"mod_Repair,mod_MerchantTail,mod_Reuse\\n\"\\\n",
    "    \"year,MW,%,years,years,%,years,%,%,%,%,%,%\\n\"\n",
    "\n",
    "        with open(filetitle, 'w', newline='') as ict:\n",
    "    # Write the header lines, including the index variable for\n",
    "    # the last one if you're letting Pandas produce that for you.\n",
    "    # (see above).\n",
    "            for line in header:\n",
    "                ict.write(line)\n",
    "\n",
    "        #    savedata.to_csv(ict, index=False)\n",
    "            A.to_csv(ict, header=False)\n",
    "        "
   ]
  },
  {
   "cell_type": "markdown",
   "metadata": {},
   "source": [
    "## UPDATED UNTIL HERE on Nov 29, 2022\n",
    "\n",
    "\n",
    "# Save Input Files By States"
   ]
  },
  {
   "cell_type": "markdown",
   "metadata": {},
   "source": [
    "#### Reassign data from REEDS Input, as we need one of the columns we dropped."
   ]
  },
  {
   "cell_type": "code",
   "execution_count": 41,
   "metadata": {},
   "outputs": [
    {
     "data": {
      "text/html": [
       "<div>\n",
       "<style scoped>\n",
       "    .dataframe tbody tr th:only-of-type {\n",
       "        vertical-align: middle;\n",
       "    }\n",
       "\n",
       "    .dataframe tbody tr th {\n",
       "        vertical-align: top;\n",
       "    }\n",
       "\n",
       "    .dataframe thead th {\n",
       "        text-align: right;\n",
       "    }\n",
       "</style>\n",
       "<table border=\"1\" class=\"dataframe\">\n",
       "  <thead>\n",
       "    <tr style=\"text-align: right;\">\n",
       "      <th></th>\n",
       "      <th>tech</th>\n",
       "      <th>scenario</th>\n",
       "      <th>region</th>\n",
       "      <th>year</th>\n",
       "      <th>Capacity (GW)</th>\n",
       "    </tr>\n",
       "  </thead>\n",
       "  <tbody>\n",
       "    <tr>\n",
       "      <th>0</th>\n",
       "      <td>upv</td>\n",
       "      <td>a1_RE100</td>\n",
       "      <td>p1</td>\n",
       "      <td>2012</td>\n",
       "      <td>0.000000</td>\n",
       "    </tr>\n",
       "    <tr>\n",
       "      <th>1</th>\n",
       "      <td>upv</td>\n",
       "      <td>a1_RE100</td>\n",
       "      <td>p1</td>\n",
       "      <td>2014</td>\n",
       "      <td>0.000000</td>\n",
       "    </tr>\n",
       "    <tr>\n",
       "      <th>2</th>\n",
       "      <td>upv</td>\n",
       "      <td>a1_RE100</td>\n",
       "      <td>p1</td>\n",
       "      <td>2016</td>\n",
       "      <td>0.000000</td>\n",
       "    </tr>\n",
       "    <tr>\n",
       "      <th>3</th>\n",
       "      <td>upv</td>\n",
       "      <td>a1_RE100</td>\n",
       "      <td>p1</td>\n",
       "      <td>2018</td>\n",
       "      <td>0.000000</td>\n",
       "    </tr>\n",
       "    <tr>\n",
       "      <th>4</th>\n",
       "      <td>upv</td>\n",
       "      <td>a1_RE100</td>\n",
       "      <td>p1</td>\n",
       "      <td>2020</td>\n",
       "      <td>0.012500</td>\n",
       "    </tr>\n",
       "    <tr>\n",
       "      <th>...</th>\n",
       "      <td>...</td>\n",
       "      <td>...</td>\n",
       "      <td>...</td>\n",
       "      <td>...</td>\n",
       "      <td>...</td>\n",
       "    </tr>\n",
       "    <tr>\n",
       "      <th>24115</th>\n",
       "      <td>distpv</td>\n",
       "      <td>a1_Ref</td>\n",
       "      <td>p99</td>\n",
       "      <td>2042</td>\n",
       "      <td>0.131880</td>\n",
       "    </tr>\n",
       "    <tr>\n",
       "      <th>24116</th>\n",
       "      <td>distpv</td>\n",
       "      <td>a1_Ref</td>\n",
       "      <td>p99</td>\n",
       "      <td>2044</td>\n",
       "      <td>0.146862</td>\n",
       "    </tr>\n",
       "    <tr>\n",
       "      <th>24117</th>\n",
       "      <td>distpv</td>\n",
       "      <td>a1_Ref</td>\n",
       "      <td>p99</td>\n",
       "      <td>2046</td>\n",
       "      <td>0.257416</td>\n",
       "    </tr>\n",
       "    <tr>\n",
       "      <th>24118</th>\n",
       "      <td>distpv</td>\n",
       "      <td>a1_Ref</td>\n",
       "      <td>p99</td>\n",
       "      <td>2048</td>\n",
       "      <td>0.112180</td>\n",
       "    </tr>\n",
       "    <tr>\n",
       "      <th>24119</th>\n",
       "      <td>distpv</td>\n",
       "      <td>a1_Ref</td>\n",
       "      <td>p99</td>\n",
       "      <td>2050</td>\n",
       "      <td>0.213627</td>\n",
       "    </tr>\n",
       "  </tbody>\n",
       "</table>\n",
       "<p>24120 rows × 5 columns</p>\n",
       "</div>"
      ],
      "text/plain": [
       "         tech  scenario region  year  Capacity (GW)\n",
       "0         upv  a1_RE100     p1  2012       0.000000\n",
       "1         upv  a1_RE100     p1  2014       0.000000\n",
       "2         upv  a1_RE100     p1  2016       0.000000\n",
       "3         upv  a1_RE100     p1  2018       0.000000\n",
       "4         upv  a1_RE100     p1  2020       0.012500\n",
       "...       ...       ...    ...   ...            ...\n",
       "24115  distpv    a1_Ref    p99  2042       0.131880\n",
       "24116  distpv    a1_Ref    p99  2044       0.146862\n",
       "24117  distpv    a1_Ref    p99  2046       0.257416\n",
       "24118  distpv    a1_Ref    p99  2048       0.112180\n",
       "24119  distpv    a1_Ref    p99  2050       0.213627\n",
       "\n",
       "[24120 rows x 5 columns]"
      ]
     },
     "execution_count": 41,
     "metadata": {},
     "output_type": "execute_result"
    }
   ],
   "source": [
    "REEDSInput"
   ]
  },
  {
   "cell_type": "code",
   "execution_count": 40,
   "metadata": {},
   "outputs": [
    {
     "ename": "KeyError",
     "evalue": "\"None of ['Scenario', 'Year', 'PCA', 'State'] are in the columns\"",
     "output_type": "error",
     "traceback": [
      "\u001b[1;31m---------------------------------------------------------------------------\u001b[0m",
      "\u001b[1;31mKeyError\u001b[0m                                  Traceback (most recent call last)",
      "Input \u001b[1;32mIn [40]\u001b[0m, in \u001b[0;36m<cell line: 4>\u001b[1;34m()\u001b[0m\n\u001b[0;32m      1\u001b[0m rawdf \u001b[38;5;241m=\u001b[39m REEDSInput\u001b[38;5;241m.\u001b[39mcopy()\n\u001b[0;32m      2\u001b[0m \u001b[38;5;66;03m#rawdf.drop(columns=['State'], inplace=True)\u001b[39;00m\n\u001b[0;32m      3\u001b[0m \u001b[38;5;66;03m#rawdf.drop(columns=['Tech'], inplace=True)\u001b[39;00m\n\u001b[1;32m----> 4\u001b[0m \u001b[43mrawdf\u001b[49m\u001b[38;5;241;43m.\u001b[39;49m\u001b[43mset_index\u001b[49m\u001b[43m(\u001b[49m\u001b[43m[\u001b[49m\u001b[38;5;124;43m'\u001b[39;49m\u001b[38;5;124;43mScenario\u001b[39;49m\u001b[38;5;124;43m'\u001b[39;49m\u001b[43m,\u001b[49m\u001b[38;5;124;43m'\u001b[39;49m\u001b[38;5;124;43mYear\u001b[39;49m\u001b[38;5;124;43m'\u001b[39;49m\u001b[43m,\u001b[49m\u001b[38;5;124;43m'\u001b[39;49m\u001b[38;5;124;43mPCA\u001b[39;49m\u001b[38;5;124;43m'\u001b[39;49m\u001b[43m,\u001b[49m\u001b[43m \u001b[49m\u001b[38;5;124;43m'\u001b[39;49m\u001b[38;5;124;43mState\u001b[39;49m\u001b[38;5;124;43m'\u001b[39;49m\u001b[43m]\u001b[49m\u001b[43m,\u001b[49m\u001b[43m \u001b[49m\u001b[43minplace\u001b[49m\u001b[38;5;241;43m=\u001b[39;49m\u001b[38;5;28;43;01mTrue\u001b[39;49;00m\u001b[43m)\u001b[49m\n\u001b[0;32m      5\u001b[0m rawdf\u001b[38;5;241m.\u001b[39mhead(\u001b[38;5;241m21\u001b[39m)\n",
      "File \u001b[1;32m~\\Anaconda3\\lib\\site-packages\\pandas\\util\\_decorators.py:311\u001b[0m, in \u001b[0;36mdeprecate_nonkeyword_arguments.<locals>.decorate.<locals>.wrapper\u001b[1;34m(*args, **kwargs)\u001b[0m\n\u001b[0;32m    305\u001b[0m \u001b[38;5;28;01mif\u001b[39;00m \u001b[38;5;28mlen\u001b[39m(args) \u001b[38;5;241m>\u001b[39m num_allow_args:\n\u001b[0;32m    306\u001b[0m     warnings\u001b[38;5;241m.\u001b[39mwarn(\n\u001b[0;32m    307\u001b[0m         msg\u001b[38;5;241m.\u001b[39mformat(arguments\u001b[38;5;241m=\u001b[39marguments),\n\u001b[0;32m    308\u001b[0m         \u001b[38;5;167;01mFutureWarning\u001b[39;00m,\n\u001b[0;32m    309\u001b[0m         stacklevel\u001b[38;5;241m=\u001b[39mstacklevel,\n\u001b[0;32m    310\u001b[0m     )\n\u001b[1;32m--> 311\u001b[0m \u001b[38;5;28;01mreturn\u001b[39;00m \u001b[43mfunc\u001b[49m\u001b[43m(\u001b[49m\u001b[38;5;241;43m*\u001b[39;49m\u001b[43margs\u001b[49m\u001b[43m,\u001b[49m\u001b[43m \u001b[49m\u001b[38;5;241;43m*\u001b[39;49m\u001b[38;5;241;43m*\u001b[39;49m\u001b[43mkwargs\u001b[49m\u001b[43m)\u001b[49m\n",
      "File \u001b[1;32m~\\Anaconda3\\lib\\site-packages\\pandas\\core\\frame.py:5503\u001b[0m, in \u001b[0;36mDataFrame.set_index\u001b[1;34m(self, keys, drop, append, inplace, verify_integrity)\u001b[0m\n\u001b[0;32m   5500\u001b[0m                 missing\u001b[38;5;241m.\u001b[39mappend(col)\n\u001b[0;32m   5502\u001b[0m \u001b[38;5;28;01mif\u001b[39;00m missing:\n\u001b[1;32m-> 5503\u001b[0m     \u001b[38;5;28;01mraise\u001b[39;00m \u001b[38;5;167;01mKeyError\u001b[39;00m(\u001b[38;5;124mf\u001b[39m\u001b[38;5;124m\"\u001b[39m\u001b[38;5;124mNone of \u001b[39m\u001b[38;5;132;01m{\u001b[39;00mmissing\u001b[38;5;132;01m}\u001b[39;00m\u001b[38;5;124m are in the columns\u001b[39m\u001b[38;5;124m\"\u001b[39m)\n\u001b[0;32m   5505\u001b[0m \u001b[38;5;28;01mif\u001b[39;00m inplace:\n\u001b[0;32m   5506\u001b[0m     frame \u001b[38;5;241m=\u001b[39m \u001b[38;5;28mself\u001b[39m\n",
      "\u001b[1;31mKeyError\u001b[0m: \"None of ['Scenario', 'Year', 'PCA', 'State'] are in the columns\""
     ]
    }
   ],
   "source": [
    "rawdf = REEDSInput.copy()\n",
    "#rawdf.drop(columns=['State'], inplace=True)\n",
    "rawdf.drop(columns=['Tech'], inplace=True)\n",
    "rawdf.set_index(['Scenario','Year','PCA', 'State'], inplace=True)\n",
    "rawdf.head(21)\n"
   ]
  },
  {
   "cell_type": "markdown",
   "metadata": {},
   "source": [
    "#### Group data so we can work with the States instead"
   ]
  },
  {
   "cell_type": "code",
   "execution_count": null,
   "metadata": {},
   "outputs": [],
   "source": [
    "#df = rawdf.groupby(['Scenario','State', 'Year'])['Capacity (GW)'].sum(axis=0)\n",
    "df = rawdf.groupby(['Scenario','State', 'Year'])['Capacity (GW)'].sum()\n",
    "df = pd.DataFrame(df)\n",
    "df.head()"
   ]
  },
  {
   "cell_type": "markdown",
   "metadata": {},
   "source": [
    "#### For each Scenario and for each STATE, combine with baseline and save as input file"
   ]
  },
  {
   "cell_type": "code",
   "execution_count": null,
   "metadata": {},
   "outputs": [],
   "source": [
    "for ii in range (len(df.unstack(level=2))):   \n",
    "    STATE = df.unstack(level=2).iloc[ii].name[1]\n",
    "    SCEN = df.unstack(level=2).iloc[ii].name[0]\n",
    "    SCEN=SCEN.replace('+', '_')\n",
    "    filetitle = SCEN+'_'+STATE +'.csv'\n",
    "    \n",
    "    subtestfolder = os.path.join(testfolder, 'STATEs')\n",
    "    if not os.path.exists(subtestfolder):\n",
    "        os.makedirs(subtestfolder)\n",
    "    filetitle = os.path.join(subtestfolder, filetitle)\n",
    "\n",
    "    A = df.unstack(level=2).iloc[ii]\n",
    "    A = A.droplevel(level=0)\n",
    "    A.name = 'new_Installed_Capacity_[MW]'\n",
    "    A = pd.DataFrame(A)\n",
    "    A.index=pd.PeriodIndex(A.index, freq='A')\n",
    "    A = pd.DataFrame(A)\n",
    "    A['new_Installed_Capacity_[MW]'] = A['new_Installed_Capacity_[MW]'] * 0.85 # marketshares['Si']\n",
    "    A['new_Installed_Capacity_[MW]'] = A['new_Installed_Capacity_[MW]'] * 1000   # ReEDS file is in GW.\n",
    "    # Add other columns\n",
    "    A = pd.concat([A, baseline.reindex(A.index)], axis=1)\n",
    "    \n",
    "    \n",
    "    header = \"year,new_Installed_Capacity_[MW],mod_eff,mod_reliability_t50,mod_reliability_t90,\"\\\n",
    "    \"mod_degradation,mod_lifetime,mod_MFG_eff,mod_EOL_collection_eff,mod_EOL_collected_recycled,\"\\\n",
    "    \"mod_Repair,mod_MerchantTail,mod_Reuse\\n\"\\\n",
    "    \"year,MW,%,years,years,%,years,%,%,%,%,%,%\\n\"\n",
    "\n",
    "    with open(filetitle, 'w', newline='') as ict:\n",
    "    # Write the header lines, including the index variable for\n",
    "    # the last one if you're letting Pandas produce that for you.\n",
    "    # (see above).\n",
    "        for line in header:\n",
    "            ict.write(line)\n",
    "\n",
    "        #    savedata.to_csv(ict, index=False)\n",
    "        A.to_csv(ict, header=False)"
   ]
  },
  {
   "cell_type": "markdown",
   "metadata": {},
   "source": [
    "# Saving US Baseline"
   ]
  },
  {
   "cell_type": "markdown",
   "metadata": {},
   "source": [
    "### Create a copy of the REEDS Input and modify structure for PCA focus"
   ]
  },
  {
   "cell_type": "code",
   "execution_count": null,
   "metadata": {},
   "outputs": [],
   "source": [
    "rawdf = REEDSInput.copy()\n",
    "#rawdf.drop(columns=['State'], inplace=True)\n",
    "rawdf.drop(columns=['Tech'], inplace=True)\n",
    "rawdf.set_index(['Scenario','Year'], inplace=True)\n",
    "rawdf.head(21)"
   ]
  },
  {
   "cell_type": "code",
   "execution_count": null,
   "metadata": {},
   "outputs": [],
   "source": [
    "#df = rawdf.groupby(['Scenario','Year'])['Capacity (GW)'].sum(axis=0)\n",
    "df = rawdf.groupby(['Scenario','Year'])['Capacity (GW)'].sum()\n"
   ]
  },
  {
   "cell_type": "markdown",
   "metadata": {},
   "source": [
    "### Loading Module Baseline. Will be used later to populate all the columsn other than 'new_Installed_Capacity_[MW]' which will be supplied by the REEDS model"
   ]
  },
  {
   "cell_type": "code",
   "execution_count": null,
   "metadata": {},
   "outputs": [],
   "source": [
    "import PV_ICE\n",
    "r1 = PV_ICE.Simulation(name='Simulation1', path=testfolder)\n",
    "r1.createScenario(name='US', file=r'..\\baselines\\SolarFutures_2021\\baseline_modules_US_Reeds.csv')\n",
    "baseline = r1.scenario['US'].data\n",
    "baseline = baseline.drop(columns=['new_Installed_Capacity_[MW]'])\n",
    "baseline.set_index('year', inplace=True)\n",
    "baseline.index = pd.PeriodIndex(baseline.index, freq='A')  # A -- Annual\n",
    "baseline.head()"
   ]
  },
  {
   "cell_type": "markdown",
   "metadata": {},
   "source": [
    "### For each Scenario, combine with baseline and save as input file¶"
   ]
  },
  {
   "cell_type": "code",
   "execution_count": null,
   "metadata": {},
   "outputs": [],
   "source": [
    "for ii in range (len(df.unstack(level=1))):\n",
    "    SCEN = df.unstack(level=1).index[ii]\n",
    "    SCEN=SCEN.replace('+', '_')\n",
    "    filetitle = SCEN+'.csv'\n",
    "    \n",
    "    subtestfolder = os.path.join(testfolder, 'USA')\n",
    "    if not os.path.exists(subtestfolder):\n",
    "        os.makedirs(subtestfolder)\n",
    "    filetitle = os.path.join(subtestfolder, filetitle)\n",
    "    \n",
    "    A = df.unstack(level=1).iloc[ii]\n",
    "\n",
    "    A.name = 'new_Installed_Capacity_[MW]'\n",
    "    A = pd.DataFrame(A)\n",
    "    A.index=pd.PeriodIndex(A.index, freq='A')\n",
    "    A = pd.DataFrame(A)\n",
    "    A['new_Installed_Capacity_[MW]'] = A['new_Installed_Capacity_[MW]'] * 0.85 # marketshares['Si']\n",
    "    A['new_Installed_Capacity_[MW]'] = A['new_Installed_Capacity_[MW]'] * 1000   # ReEDS file is in GW.\n",
    "    # Add other columns\n",
    "    A = pd.concat([A, baseline.reindex(A.index)], axis=1)\n",
    "   \n",
    "    header = \"year,new_Installed_Capacity_[MW],mod_eff,mod_reliability_t50,mod_reliability_t90,\"\\\n",
    "    \"mod_degradation,mod_lifetime,mod_MFG_eff,mod_EOL_collection_eff,mod_EOL_collected_recycled,\"\\\n",
    "    \"mod_Repair,mod_MerchantTail,mod_Reuse\\n\"\\\n",
    "    \"year,MW,%,years,years,%,years,%,%,%,%,%,%\\n\"\n",
    "\n",
    "    with open(filetitle, 'w', newline='') as ict:\n",
    "    # Write the header lines, including the index variable for\n",
    "    # the last one if you're letting Pandas produce that for you.\n",
    "    # (see above).\n",
    "        for line in header:\n",
    "            ict.write(line)\n",
    "\n",
    "        #    savedata.to_csv(ict, index=False)\n",
    "        A.to_csv(ict, header=False)"
   ]
  },
  {
   "cell_type": "code",
   "execution_count": null,
   "metadata": {},
   "outputs": [],
   "source": []
  },
  {
   "cell_type": "code",
   "execution_count": null,
   "metadata": {},
   "outputs": [],
   "source": []
  }
 ],
 "metadata": {
  "kernelspec": {
   "display_name": "Python 3 (ipykernel)",
   "language": "python",
   "name": "python3"
  },
  "language_info": {
   "codemirror_mode": {
    "name": "ipython",
    "version": 3
   },
   "file_extension": ".py",
   "mimetype": "text/x-python",
   "name": "python",
   "nbconvert_exporter": "python",
   "pygments_lexer": "ipython3",
   "version": "3.8.8"
  }
 },
 "nbformat": 4,
 "nbformat_minor": 4
}
