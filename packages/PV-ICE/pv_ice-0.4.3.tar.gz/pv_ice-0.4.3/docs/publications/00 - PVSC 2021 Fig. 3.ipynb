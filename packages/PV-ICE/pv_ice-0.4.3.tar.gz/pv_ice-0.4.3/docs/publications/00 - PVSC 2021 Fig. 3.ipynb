{
 "cells": [
  {
   "cell_type": "markdown",
   "metadata": {},
   "source": [
    "# PVSC 2021 Fig. 3"
   ]
  },
  {
   "cell_type": "code",
   "execution_count": 1,
   "metadata": {},
   "outputs": [],
   "source": [
    "import PV_ICE\n",
    "import numpy as np\n",
    "import pandas as pd\n",
    "import os,sys\n",
    "import matplotlib.pyplot as plt\n",
    "plt.rcParams.update({'font.size': 22})\n",
    "plt.rcParams['figure.figsize'] = (12, 8)"
   ]
  },
  {
   "cell_type": "code",
   "execution_count": 2,
   "metadata": {},
   "outputs": [
    {
     "name": "stdout",
     "output_type": "stream",
     "text": [
      "Your simulation will be stored in C:\\Users\\sayala\\Documents\\GitHub\\CircularEconomy-MassFlowCalculator\\PV_ICE\\TEMP\n"
     ]
    }
   ],
   "source": [
    "import os\n",
    "from pathlib import Path\n",
    "\n",
    "testfolder = str(Path().resolve().parent.parent / 'PV_ICE' / 'TEMP')\n",
    "\n",
    "print (\"Your simulation will be stored in %s\" % testfolder)\n"
   ]
  },
  {
   "cell_type": "code",
   "execution_count": 3,
   "metadata": {},
   "outputs": [],
   "source": [
    "years = list(range(2009,2051))\n"
   ]
  },
  {
   "cell_type": "code",
   "execution_count": null,
   "metadata": {},
   "outputs": [],
   "source": [
    "USyearly = pd.read_csv(os.path.join(testfolder,'PVSC_USYearly_DataforPlot.csv'))\n"
   ]
  },
  {
   "cell_type": "code",
   "execution_count": 21,
   "metadata": {},
   "outputs": [
    {
     "data": {
      "image/png": "[encoded data removed]",
      "text/plain": [
       "<Figure size 360x360 with 2 Axes>"
      ]
     },
     "metadata": {},
     "output_type": "display_data"
    }
   ],
   "source": [
    "# USyearly.to_csv('PVSC_USYearly_DataforPlot.csv')\n",
    "\n",
    "\n",
    "\n",
    "plt.rcParams.update({'font.size': 8})\n",
    "plt.rcParams['figure.figsize'] = (12, 8)\n",
    "    \n",
    "keywords=['VirginStock_', 'Waste_']\n",
    "SFScenarios = ['Reference.Mod', '95-by-35.Adv', '95-by-35_Elec.Adv_DR']\n",
    "materials = ['glass', 'silicon', 'silver', 'copper', 'aluminum']\n",
    "\n",
    "    \n",
    "fig, axs = plt.subplots(2,1, figsize=(5, 5), facecolor='w', edgecolor='k')\n",
    "fig.subplots_adjust(hspace = .6, wspace=.001)\n",
    "fig.subplots_adjust(hspace = .3, wspace=.001)\n",
    "\n",
    "axs = axs.ravel()\n",
    "i = 0\n",
    "\n",
    "### PLOT 1\n",
    "\n",
    "# Loop over Keywords\n",
    "ii=0\n",
    "keyw = keywords[ii]\n",
    "# Loop over SF Scenarios\n",
    "kk=0\n",
    "\n",
    "obj = SFScenarios[kk]\n",
    "axs[i].yaxis.grid()\n",
    "axs[i].axvspan(2000, 2018, facecolor='0.9', alpha=0.5)\n",
    "axs[i].axvspan(2018, 2050.5, facecolor='yellow', alpha=0.1)\n",
    "axs[i].plot([],[],color='c', label='glass', linewidth=5)\n",
    "axs[i].plot([],[],color='k', label='silicon', linewidth=5)\n",
    "axs[i].plot([],[],color='m', label='silver', linewidth=5)\n",
    "axs[i].plot([],[],color='r', label='copper', linewidth=5)\n",
    "axs[i].plot([],[],color='g', label='aluminum', linewidth=5)\n",
    "\n",
    "axs[i].stackplot(years, USyearly[keyw+materials[0]+'_'+SFScenarios[0]], \n",
    "                                                  USyearly[keyw+materials[1]+'_'+SFScenarios[0]], \n",
    "                                                  USyearly[keyw+materials[2]+'_'+SFScenarios[0]], \n",
    "                                                  USyearly[keyw+materials[3]+'_'+SFScenarios[0]], \n",
    "                                                  USyearly[keyw+materials[4]+'_'+SFScenarios[0]], \n",
    "                                                  colors=['c','k','m','r', 'g'])\n",
    "#axs[i].ylabel('Mass [Tons]')\n",
    "axs[i].set_xlim([2010, 2050])\n",
    "#axs[i].set_title(keyw+ ' ' + obj.name)\n",
    "#axs[i].legend(materials)\n",
    "\n",
    "i += 1 \n",
    "\n",
    "### PLOT 2\n",
    "\n",
    "ii=1\n",
    "keyw = keywords[ii]\n",
    "# Loop over SF Scenarios\n",
    "kk=0\n",
    "\n",
    "obj = SFScenarios[kk]\n",
    "axs[i].yaxis.grid()\n",
    "axs[i].axvspan(2000, 2018, facecolor='0.9', alpha=0.5)\n",
    "axs[i].axvspan(2018, 2050.5, facecolor='yellow', alpha=0.1)\n",
    "axs[i].plot([],[],color='c', label='glass', linewidth=5)\n",
    "axs[i].plot([],[],color='k', label='silicon', linewidth=5)\n",
    "axs[i].plot([],[],color='m', label='silver', linewidth=5)\n",
    "axs[i].plot([],[],color='r', label='copper', linewidth=5)\n",
    "axs[i].plot([],[],color='g', label='aluminum', linewidth=5)\n",
    "\n",
    "axs[i].stackplot(years, USyearly[keyw+materials[0]+'_'+SFScenarios[0]]*907185, \n",
    "                                                  USyearly[keyw+materials[1]+'_'+SFScenarios[0]]*907185, \n",
    "                                                  USyearly[keyw+materials[2]+'_'+SFScenarios[0]]*907185, \n",
    "                                                  USyearly[keyw+materials[3]+'_'+SFScenarios[0]]*907185, \n",
    "                                                  USyearly[keyw+materials[4]+'_'+SFScenarios[0]]*907185, \n",
    "                                                  colors=['c','k','m','r', 'g'])\n",
    "#axs[i].ylabel('Mass [Tons]')\n",
    "axs[i].set_xlim([2010, 2050])\n",
    "#axs[i].set_title(keyw+ ' ' + obj.name)\n",
    "#axs[i].legend(materials)\n",
    "\n",
    "i += 1 \n",
    "\n",
    "\n",
    "axs[0].set_ylim([0, 2e7])\n",
    "axs[1].set_ylim([0, 5e6])\n",
    "axs[0].set_title(\"Virgin Stock Needs\")\n",
    "axs[1].set_title(\"Waste\")\n",
    "        \n",
    "axs[0].set_ylabel('Mass [Tons]')\n",
    "axs[1].set_ylabel('Mass [Tons]')\n",
    "axs[1].legend(materials)\n",
    "\n",
    "fig.savefig(os.path.join(testfolder,'testplot.png'), dpi=600)\n"
   ]
  }
 ],
 "metadata": {
  "kernelspec": {
   "display_name": "Python 3 (ipykernel)",
   "language": "python",
   "name": "python3"
  },
  "language_info": {
   "codemirror_mode": {
    "name": "ipython",
    "version": 3
   },
   "file_extension": ".py",
   "mimetype": "text/x-python",
   "name": "python",
   "nbconvert_exporter": "python",
   "pygments_lexer": "ipython3",
   "version": "3.11.5"
  }
 },
 "nbformat": 4,
 "nbformat_minor": 4
}
