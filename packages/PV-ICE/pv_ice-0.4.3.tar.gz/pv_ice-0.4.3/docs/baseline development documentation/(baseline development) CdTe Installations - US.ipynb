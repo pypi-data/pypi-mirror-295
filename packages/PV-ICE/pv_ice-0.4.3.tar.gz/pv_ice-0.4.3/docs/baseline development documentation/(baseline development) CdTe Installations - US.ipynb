{
 "cells": [
  {
   "cell_type": "markdown",
   "metadata": {},
   "source": [
    "# Calculations for PV CdTe installs, CdTe Market Share"
   ]
  },
  {
   "cell_type": "markdown",
   "metadata": {},
   "source": [
    "**UPDATE:** Since the data from CdTe was obtained from eia860 and the PV data afrom literature, there are conflicting values in the market share. Therefore I invite you to visit the notebook **EIA860 Processing - cSi CdTe Installation** for the most updated version of installs and market share, both for cSi and CdTe."
   ]
  },
  {
   "cell_type": "markdown",
   "metadata": {},
   "source": [
    "This journal documents the manipulation of CdTe PV installation data for US installs. This covers selection of data, and weighting by marketshare."
   ]
  },
  {
   "cell_type": "code",
   "execution_count": 1,
   "metadata": {},
   "outputs": [],
   "source": [
    "import numpy as np\n",
    "import pandas as pd\n",
    "import os,sys\n",
    "from pathlib import Path\n",
    "import matplotlib.pyplot as plt\n",
    "import seaborn as sns"
   ]
  },
  {
   "cell_type": "code",
   "execution_count": 2,
   "metadata": {},
   "outputs": [],
   "source": [
    "sns.set_style(\"white\")\n",
    "\n",
    "plt.rcParams.update({'font.size': 28})\n",
    "plt.rcParams['figure.figsize'] = (30, 15)\n",
    "\n",
    "cwd = os.getcwd() #grabs current working directory\n",
    "\n",
    "supportMatfolder = str(Path().resolve().parent.parent.parent / 'PV_ICE' / 'baselines' / 'SupportingMaterial')\n",
    "baselinesFolder = str(Path().resolve().parent.parent.parent / 'PV_ICE' / 'baselines')"
   ]
  },
  {
   "cell_type": "markdown",
   "metadata": {},
   "source": [
    "#### Load new PV capacity generated from 2001 to 2021 by [eia](https://www.eia.gov/electricity/data/eia860/)\n",
    "\n",
    "I downloaded the 2021 zip file and filtered for Thin Film (CdTe)."
   ]
  },
  {
   "cell_type": "code",
   "execution_count": 3,
   "metadata": {},
   "outputs": [],
   "source": [
    "df_cdte_installs = pd.read_excel(os.path.join(supportMatfolder, 'RELOG_PV_ICE.xlsx'), sheet_name='CdTe Capacity from eia')"
   ]
  },
  {
   "cell_type": "code",
   "execution_count": 4,
   "metadata": {},
   "outputs": [
    {
     "data": {
      "text/plain": [
       "Index(['CdTe New Installs Capacity (MW)', 'Cummulative Capacity (MW)',\n",
       "       'Operating Year'],\n",
       "      dtype='object')"
      ]
     },
     "execution_count": 4,
     "metadata": {},
     "output_type": "execute_result"
    }
   ],
   "source": [
    "df_cdte_installs.columns"
   ]
  },
  {
   "cell_type": "code",
   "execution_count": 5,
   "metadata": {
    "tags": []
   },
   "outputs": [
    {
     "data": {
      "text/html": [
       "<div>\n",
       "<style scoped>\n",
       "    .dataframe tbody tr th:only-of-type {\n",
       "        vertical-align: middle;\n",
       "    }\n",
       "\n",
       "    .dataframe tbody tr th {\n",
       "        vertical-align: top;\n",
       "    }\n",
       "\n",
       "    .dataframe thead th {\n",
       "        text-align: right;\n",
       "    }\n",
       "</style>\n",
       "<table border=\"1\" class=\"dataframe\">\n",
       "  <thead>\n",
       "    <tr style=\"text-align: right;\">\n",
       "      <th></th>\n",
       "      <th>CdTe New Installs Capacity (MW)</th>\n",
       "      <th>Operating Year</th>\n",
       "    </tr>\n",
       "  </thead>\n",
       "  <tbody>\n",
       "    <tr>\n",
       "      <th>0</th>\n",
       "      <td>3.7</td>\n",
       "      <td>2001</td>\n",
       "    </tr>\n",
       "    <tr>\n",
       "      <th>1</th>\n",
       "      <td>1.0</td>\n",
       "      <td>2008</td>\n",
       "    </tr>\n",
       "    <tr>\n",
       "      <th>2</th>\n",
       "      <td>10.0</td>\n",
       "      <td>2008</td>\n",
       "    </tr>\n",
       "    <tr>\n",
       "      <th>3</th>\n",
       "      <td>1.6</td>\n",
       "      <td>2009</td>\n",
       "    </tr>\n",
       "    <tr>\n",
       "      <th>4</th>\n",
       "      <td>21.0</td>\n",
       "      <td>2009</td>\n",
       "    </tr>\n",
       "    <tr>\n",
       "      <th>...</th>\n",
       "      <td>...</td>\n",
       "      <td>...</td>\n",
       "    </tr>\n",
       "    <tr>\n",
       "      <th>519</th>\n",
       "      <td>20.0</td>\n",
       "      <td>2021</td>\n",
       "    </tr>\n",
       "    <tr>\n",
       "      <th>520</th>\n",
       "      <td>27.4</td>\n",
       "      <td>2021</td>\n",
       "    </tr>\n",
       "    <tr>\n",
       "      <th>521</th>\n",
       "      <td>140.6</td>\n",
       "      <td>2021</td>\n",
       "    </tr>\n",
       "    <tr>\n",
       "      <th>522</th>\n",
       "      <td>107.0</td>\n",
       "      <td>2021</td>\n",
       "    </tr>\n",
       "    <tr>\n",
       "      <th>523</th>\n",
       "      <td>2.9</td>\n",
       "      <td>2021</td>\n",
       "    </tr>\n",
       "  </tbody>\n",
       "</table>\n",
       "<p>524 rows × 2 columns</p>\n",
       "</div>"
      ],
      "text/plain": [
       "     CdTe New Installs Capacity (MW)  Operating Year\n",
       "0                                3.7            2001\n",
       "1                                1.0            2008\n",
       "2                               10.0            2008\n",
       "3                                1.6            2009\n",
       "4                               21.0            2009\n",
       "..                               ...             ...\n",
       "519                             20.0            2021\n",
       "520                             27.4            2021\n",
       "521                            140.6            2021\n",
       "522                            107.0            2021\n",
       "523                              2.9            2021\n",
       "\n",
       "[524 rows x 2 columns]"
      ]
     },
     "execution_count": 5,
     "metadata": {},
     "output_type": "execute_result"
    }
   ],
   "source": [
    "df_cdte_installs_total = df_cdte_installs.drop(['Cummulative Capacity (MW)'], axis=1)\n",
    "df_cdte_installs_total"
   ]
  },
  {
   "cell_type": "markdown",
   "metadata": {},
   "source": [
    "Group by year."
   ]
  },
  {
   "cell_type": "code",
   "execution_count": 6,
   "metadata": {},
   "outputs": [
    {
     "data": {
      "text/html": [
       "<div>\n",
       "<style scoped>\n",
       "    .dataframe tbody tr th:only-of-type {\n",
       "        vertical-align: middle;\n",
       "    }\n",
       "\n",
       "    .dataframe tbody tr th {\n",
       "        vertical-align: top;\n",
       "    }\n",
       "\n",
       "    .dataframe thead th {\n",
       "        text-align: right;\n",
       "    }\n",
       "</style>\n",
       "<table border=\"1\" class=\"dataframe\">\n",
       "  <thead>\n",
       "    <tr style=\"text-align: right;\">\n",
       "      <th></th>\n",
       "      <th>CdTe New Installs Capacity (MW)</th>\n",
       "    </tr>\n",
       "    <tr>\n",
       "      <th>Operating Year</th>\n",
       "      <th></th>\n",
       "    </tr>\n",
       "  </thead>\n",
       "  <tbody>\n",
       "    <tr>\n",
       "      <th>2001</th>\n",
       "      <td>3.7</td>\n",
       "    </tr>\n",
       "    <tr>\n",
       "      <th>2008</th>\n",
       "      <td>11.0</td>\n",
       "    </tr>\n",
       "    <tr>\n",
       "      <th>2009</th>\n",
       "      <td>28.6</td>\n",
       "    </tr>\n",
       "    <tr>\n",
       "      <th>2010</th>\n",
       "      <td>117.8</td>\n",
       "    </tr>\n",
       "    <tr>\n",
       "      <th>2011</th>\n",
       "      <td>84.6</td>\n",
       "    </tr>\n",
       "    <tr>\n",
       "      <th>2012</th>\n",
       "      <td>498.5</td>\n",
       "    </tr>\n",
       "    <tr>\n",
       "      <th>2013</th>\n",
       "      <td>1182.8</td>\n",
       "    </tr>\n",
       "    <tr>\n",
       "      <th>2014</th>\n",
       "      <td>1351.0</td>\n",
       "    </tr>\n",
       "    <tr>\n",
       "      <th>2015</th>\n",
       "      <td>908.2</td>\n",
       "    </tr>\n",
       "    <tr>\n",
       "      <th>2016</th>\n",
       "      <td>1508.7</td>\n",
       "    </tr>\n",
       "    <tr>\n",
       "      <th>2017</th>\n",
       "      <td>823.1</td>\n",
       "    </tr>\n",
       "    <tr>\n",
       "      <th>2018</th>\n",
       "      <td>878.0</td>\n",
       "    </tr>\n",
       "    <tr>\n",
       "      <th>2019</th>\n",
       "      <td>1762.6</td>\n",
       "    </tr>\n",
       "    <tr>\n",
       "      <th>2020</th>\n",
       "      <td>2489.5</td>\n",
       "    </tr>\n",
       "    <tr>\n",
       "      <th>2021</th>\n",
       "      <td>3801.0</td>\n",
       "    </tr>\n",
       "  </tbody>\n",
       "</table>\n",
       "</div>"
      ],
      "text/plain": [
       "                CdTe New Installs Capacity (MW)\n",
       "Operating Year                                 \n",
       "2001                                        3.7\n",
       "2008                                       11.0\n",
       "2009                                       28.6\n",
       "2010                                      117.8\n",
       "2011                                       84.6\n",
       "2012                                      498.5\n",
       "2013                                     1182.8\n",
       "2014                                     1351.0\n",
       "2015                                      908.2\n",
       "2016                                     1508.7\n",
       "2017                                      823.1\n",
       "2018                                      878.0\n",
       "2019                                     1762.6\n",
       "2020                                     2489.5\n",
       "2021                                     3801.0"
      ]
     },
     "execution_count": 6,
     "metadata": {},
     "output_type": "execute_result"
    }
   ],
   "source": [
    "df_cdte_installs_total_grouped = df_cdte_installs_total.groupby('Operating Year').sum()\n",
    "df_cdte_installs_total_grouped"
   ]
  },
  {
   "cell_type": "markdown",
   "metadata": {},
   "source": [
    "Insert the years that don't have new capacity instlled."
   ]
  },
  {
   "cell_type": "code",
   "execution_count": 7,
   "metadata": {},
   "outputs": [
    {
     "data": {
      "text/html": [
       "<div>\n",
       "<style scoped>\n",
       "    .dataframe tbody tr th:only-of-type {\n",
       "        vertical-align: middle;\n",
       "    }\n",
       "\n",
       "    .dataframe tbody tr th {\n",
       "        vertical-align: top;\n",
       "    }\n",
       "\n",
       "    .dataframe thead th {\n",
       "        text-align: right;\n",
       "    }\n",
       "</style>\n",
       "<table border=\"1\" class=\"dataframe\">\n",
       "  <thead>\n",
       "    <tr style=\"text-align: right;\">\n",
       "      <th></th>\n",
       "      <th>CdTe New Installs Capacity (MW)</th>\n",
       "    </tr>\n",
       "  </thead>\n",
       "  <tbody>\n",
       "    <tr>\n",
       "      <th>2001</th>\n",
       "      <td>3.7</td>\n",
       "    </tr>\n",
       "    <tr>\n",
       "      <th>2002</th>\n",
       "      <td>0.0</td>\n",
       "    </tr>\n",
       "    <tr>\n",
       "      <th>2003</th>\n",
       "      <td>0.0</td>\n",
       "    </tr>\n",
       "    <tr>\n",
       "      <th>2004</th>\n",
       "      <td>0.0</td>\n",
       "    </tr>\n",
       "    <tr>\n",
       "      <th>2005</th>\n",
       "      <td>0.0</td>\n",
       "    </tr>\n",
       "    <tr>\n",
       "      <th>2006</th>\n",
       "      <td>0.0</td>\n",
       "    </tr>\n",
       "    <tr>\n",
       "      <th>2007</th>\n",
       "      <td>0.0</td>\n",
       "    </tr>\n",
       "    <tr>\n",
       "      <th>2008</th>\n",
       "      <td>11.0</td>\n",
       "    </tr>\n",
       "    <tr>\n",
       "      <th>2009</th>\n",
       "      <td>28.6</td>\n",
       "    </tr>\n",
       "    <tr>\n",
       "      <th>2010</th>\n",
       "      <td>117.8</td>\n",
       "    </tr>\n",
       "    <tr>\n",
       "      <th>2011</th>\n",
       "      <td>84.6</td>\n",
       "    </tr>\n",
       "    <tr>\n",
       "      <th>2012</th>\n",
       "      <td>498.5</td>\n",
       "    </tr>\n",
       "    <tr>\n",
       "      <th>2013</th>\n",
       "      <td>1182.8</td>\n",
       "    </tr>\n",
       "    <tr>\n",
       "      <th>2014</th>\n",
       "      <td>1351.0</td>\n",
       "    </tr>\n",
       "    <tr>\n",
       "      <th>2015</th>\n",
       "      <td>908.2</td>\n",
       "    </tr>\n",
       "    <tr>\n",
       "      <th>2016</th>\n",
       "      <td>1508.7</td>\n",
       "    </tr>\n",
       "    <tr>\n",
       "      <th>2017</th>\n",
       "      <td>823.1</td>\n",
       "    </tr>\n",
       "    <tr>\n",
       "      <th>2018</th>\n",
       "      <td>878.0</td>\n",
       "    </tr>\n",
       "    <tr>\n",
       "      <th>2019</th>\n",
       "      <td>1762.6</td>\n",
       "    </tr>\n",
       "    <tr>\n",
       "      <th>2020</th>\n",
       "      <td>2489.5</td>\n",
       "    </tr>\n",
       "    <tr>\n",
       "      <th>2021</th>\n",
       "      <td>3801.0</td>\n",
       "    </tr>\n",
       "  </tbody>\n",
       "</table>\n",
       "</div>"
      ],
      "text/plain": [
       "      CdTe New Installs Capacity (MW)\n",
       "2001                              3.7\n",
       "2002                              0.0\n",
       "2003                              0.0\n",
       "2004                              0.0\n",
       "2005                              0.0\n",
       "2006                              0.0\n",
       "2007                              0.0\n",
       "2008                             11.0\n",
       "2009                             28.6\n",
       "2010                            117.8\n",
       "2011                             84.6\n",
       "2012                            498.5\n",
       "2013                           1182.8\n",
       "2014                           1351.0\n",
       "2015                            908.2\n",
       "2016                           1508.7\n",
       "2017                            823.1\n",
       "2018                            878.0\n",
       "2019                           1762.6\n",
       "2020                           2489.5\n",
       "2021                           3801.0"
      ]
     },
     "execution_count": 7,
     "metadata": {},
     "output_type": "execute_result"
    }
   ],
   "source": [
    "dict_missing = {'years' : list(range(2002,2008)), 'CdTe New Installs Capacity (MW)':[0, 0, 0, 0, 0, 0]}\n",
    "missing_years = pd.DataFrame(dict_missing).set_index('years')\n",
    "df_cdte_installs_total_grouped = pd.concat([df_cdte_installs_total_grouped, missing_years]).sort_index()\n",
    "df_cdte_installs_total_grouped.columns\n",
    "df_cdte_installs_total_grouped"
   ]
  },
  {
   "cell_type": "markdown",
   "metadata": {},
   "source": [
    "#### Load US all PV tech dataframe"
   ]
  },
  {
   "cell_type": "code",
   "execution_count": 8,
   "metadata": {
    "tags": []
   },
   "outputs": [],
   "source": [
    "df_us_installs = pd.read_csv(os.path.join(supportMatfolder,'output_USA_allPV_installs.csv'), index_col='Year')\n",
    "df_us_installs;"
   ]
  },
  {
   "cell_type": "markdown",
   "metadata": {},
   "source": [
    "#### Calculate market share"
   ]
  },
  {
   "cell_type": "code",
   "execution_count": 9,
   "metadata": {},
   "outputs": [],
   "source": [
    "df_cdte_installs_total_grouped['Total PV US installs (MW)'] = df_us_installs['installed_pv_MW']"
   ]
  },
  {
   "cell_type": "code",
   "execution_count": 10,
   "metadata": {},
   "outputs": [
    {
     "data": {
      "text/html": [
       "<div>\n",
       "<style scoped>\n",
       "    .dataframe tbody tr th:only-of-type {\n",
       "        vertical-align: middle;\n",
       "    }\n",
       "\n",
       "    .dataframe tbody tr th {\n",
       "        vertical-align: top;\n",
       "    }\n",
       "\n",
       "    .dataframe thead th {\n",
       "        text-align: right;\n",
       "    }\n",
       "</style>\n",
       "<table border=\"1\" class=\"dataframe\">\n",
       "  <thead>\n",
       "    <tr style=\"text-align: right;\">\n",
       "      <th></th>\n",
       "      <th>CdTe New Installs Capacity (MW)</th>\n",
       "      <th>Total PV US installs (MW)</th>\n",
       "    </tr>\n",
       "  </thead>\n",
       "  <tbody>\n",
       "    <tr>\n",
       "      <th>2001</th>\n",
       "      <td>3.7</td>\n",
       "      <td>29.000</td>\n",
       "    </tr>\n",
       "    <tr>\n",
       "      <th>2002</th>\n",
       "      <td>0.0</td>\n",
       "      <td>44.400</td>\n",
       "    </tr>\n",
       "    <tr>\n",
       "      <th>2003</th>\n",
       "      <td>0.0</td>\n",
       "      <td>63.000</td>\n",
       "    </tr>\n",
       "    <tr>\n",
       "      <th>2004</th>\n",
       "      <td>0.0</td>\n",
       "      <td>100.800</td>\n",
       "    </tr>\n",
       "    <tr>\n",
       "      <th>2005</th>\n",
       "      <td>0.0</td>\n",
       "      <td>103.000</td>\n",
       "    </tr>\n",
       "    <tr>\n",
       "      <th>2006</th>\n",
       "      <td>0.0</td>\n",
       "      <td>105.000</td>\n",
       "    </tr>\n",
       "    <tr>\n",
       "      <th>2007</th>\n",
       "      <td>0.0</td>\n",
       "      <td>347.500</td>\n",
       "    </tr>\n",
       "    <tr>\n",
       "      <th>2008</th>\n",
       "      <td>11.0</td>\n",
       "      <td>338.000</td>\n",
       "    </tr>\n",
       "    <tr>\n",
       "      <th>2009</th>\n",
       "      <td>28.6</td>\n",
       "      <td>464.500</td>\n",
       "    </tr>\n",
       "    <tr>\n",
       "      <th>2010</th>\n",
       "      <td>117.8</td>\n",
       "      <td>848.588</td>\n",
       "    </tr>\n",
       "    <tr>\n",
       "      <th>2011</th>\n",
       "      <td>84.6</td>\n",
       "      <td>1920.510</td>\n",
       "    </tr>\n",
       "    <tr>\n",
       "      <th>2012</th>\n",
       "      <td>498.5</td>\n",
       "      <td>3373.427</td>\n",
       "    </tr>\n",
       "    <tr>\n",
       "      <th>2013</th>\n",
       "      <td>1182.8</td>\n",
       "      <td>4765.802</td>\n",
       "    </tr>\n",
       "    <tr>\n",
       "      <th>2014</th>\n",
       "      <td>1351.0</td>\n",
       "      <td>6243.873</td>\n",
       "    </tr>\n",
       "    <tr>\n",
       "      <th>2015</th>\n",
       "      <td>908.2</td>\n",
       "      <td>7500.642</td>\n",
       "    </tr>\n",
       "    <tr>\n",
       "      <th>2016</th>\n",
       "      <td>1508.7</td>\n",
       "      <td>15095.640</td>\n",
       "    </tr>\n",
       "    <tr>\n",
       "      <th>2017</th>\n",
       "      <td>823.1</td>\n",
       "      <td>10969.090</td>\n",
       "    </tr>\n",
       "    <tr>\n",
       "      <th>2018</th>\n",
       "      <td>878.0</td>\n",
       "      <td>10740.380</td>\n",
       "    </tr>\n",
       "    <tr>\n",
       "      <th>2019</th>\n",
       "      <td>1762.6</td>\n",
       "      <td>13385.900</td>\n",
       "    </tr>\n",
       "    <tr>\n",
       "      <th>2020</th>\n",
       "      <td>2489.5</td>\n",
       "      <td>19221.000</td>\n",
       "    </tr>\n",
       "    <tr>\n",
       "      <th>2021</th>\n",
       "      <td>3801.0</td>\n",
       "      <td>23565.000</td>\n",
       "    </tr>\n",
       "  </tbody>\n",
       "</table>\n",
       "</div>"
      ],
      "text/plain": [
       "      CdTe New Installs Capacity (MW)  Total PV US installs (MW)\n",
       "2001                              3.7                     29.000\n",
       "2002                              0.0                     44.400\n",
       "2003                              0.0                     63.000\n",
       "2004                              0.0                    100.800\n",
       "2005                              0.0                    103.000\n",
       "2006                              0.0                    105.000\n",
       "2007                              0.0                    347.500\n",
       "2008                             11.0                    338.000\n",
       "2009                             28.6                    464.500\n",
       "2010                            117.8                    848.588\n",
       "2011                             84.6                   1920.510\n",
       "2012                            498.5                   3373.427\n",
       "2013                           1182.8                   4765.802\n",
       "2014                           1351.0                   6243.873\n",
       "2015                            908.2                   7500.642\n",
       "2016                           1508.7                  15095.640\n",
       "2017                            823.1                  10969.090\n",
       "2018                            878.0                  10740.380\n",
       "2019                           1762.6                  13385.900\n",
       "2020                           2489.5                  19221.000\n",
       "2021                           3801.0                  23565.000"
      ]
     },
     "execution_count": 10,
     "metadata": {},
     "output_type": "execute_result"
    }
   ],
   "source": [
    "df_cdte_installs_total_grouped"
   ]
  },
  {
   "cell_type": "code",
   "execution_count": 11,
   "metadata": {},
   "outputs": [
    {
     "data": {
      "text/html": [
       "<div>\n",
       "<style scoped>\n",
       "    .dataframe tbody tr th:only-of-type {\n",
       "        vertical-align: middle;\n",
       "    }\n",
       "\n",
       "    .dataframe tbody tr th {\n",
       "        vertical-align: top;\n",
       "    }\n",
       "\n",
       "    .dataframe thead th {\n",
       "        text-align: right;\n",
       "    }\n",
       "</style>\n",
       "<table border=\"1\" class=\"dataframe\">\n",
       "  <thead>\n",
       "    <tr style=\"text-align: right;\">\n",
       "      <th></th>\n",
       "      <th>CdTe New Installs Capacity (MW)</th>\n",
       "      <th>Total PV US installs (MW)</th>\n",
       "      <th>Market share [%]</th>\n",
       "    </tr>\n",
       "  </thead>\n",
       "  <tbody>\n",
       "    <tr>\n",
       "      <th>2001</th>\n",
       "      <td>3.7</td>\n",
       "      <td>29.000</td>\n",
       "      <td>12.758621</td>\n",
       "    </tr>\n",
       "    <tr>\n",
       "      <th>2002</th>\n",
       "      <td>0.0</td>\n",
       "      <td>44.400</td>\n",
       "      <td>0.000000</td>\n",
       "    </tr>\n",
       "    <tr>\n",
       "      <th>2003</th>\n",
       "      <td>0.0</td>\n",
       "      <td>63.000</td>\n",
       "      <td>0.000000</td>\n",
       "    </tr>\n",
       "    <tr>\n",
       "      <th>2004</th>\n",
       "      <td>0.0</td>\n",
       "      <td>100.800</td>\n",
       "      <td>0.000000</td>\n",
       "    </tr>\n",
       "    <tr>\n",
       "      <th>2005</th>\n",
       "      <td>0.0</td>\n",
       "      <td>103.000</td>\n",
       "      <td>0.000000</td>\n",
       "    </tr>\n",
       "    <tr>\n",
       "      <th>2006</th>\n",
       "      <td>0.0</td>\n",
       "      <td>105.000</td>\n",
       "      <td>0.000000</td>\n",
       "    </tr>\n",
       "    <tr>\n",
       "      <th>2007</th>\n",
       "      <td>0.0</td>\n",
       "      <td>347.500</td>\n",
       "      <td>0.000000</td>\n",
       "    </tr>\n",
       "    <tr>\n",
       "      <th>2008</th>\n",
       "      <td>11.0</td>\n",
       "      <td>338.000</td>\n",
       "      <td>3.254438</td>\n",
       "    </tr>\n",
       "    <tr>\n",
       "      <th>2009</th>\n",
       "      <td>28.6</td>\n",
       "      <td>464.500</td>\n",
       "      <td>6.157158</td>\n",
       "    </tr>\n",
       "    <tr>\n",
       "      <th>2010</th>\n",
       "      <td>117.8</td>\n",
       "      <td>848.588</td>\n",
       "      <td>13.881884</td>\n",
       "    </tr>\n",
       "    <tr>\n",
       "      <th>2011</th>\n",
       "      <td>84.6</td>\n",
       "      <td>1920.510</td>\n",
       "      <td>4.405080</td>\n",
       "    </tr>\n",
       "    <tr>\n",
       "      <th>2012</th>\n",
       "      <td>498.5</td>\n",
       "      <td>3373.427</td>\n",
       "      <td>14.777258</td>\n",
       "    </tr>\n",
       "    <tr>\n",
       "      <th>2013</th>\n",
       "      <td>1182.8</td>\n",
       "      <td>4765.802</td>\n",
       "      <td>24.818488</td>\n",
       "    </tr>\n",
       "    <tr>\n",
       "      <th>2014</th>\n",
       "      <td>1351.0</td>\n",
       "      <td>6243.873</td>\n",
       "      <td>21.637211</td>\n",
       "    </tr>\n",
       "    <tr>\n",
       "      <th>2015</th>\n",
       "      <td>908.2</td>\n",
       "      <td>7500.642</td>\n",
       "      <td>12.108297</td>\n",
       "    </tr>\n",
       "    <tr>\n",
       "      <th>2016</th>\n",
       "      <td>1508.7</td>\n",
       "      <td>15095.640</td>\n",
       "      <td>9.994276</td>\n",
       "    </tr>\n",
       "    <tr>\n",
       "      <th>2017</th>\n",
       "      <td>823.1</td>\n",
       "      <td>10969.090</td>\n",
       "      <td>7.503813</td>\n",
       "    </tr>\n",
       "    <tr>\n",
       "      <th>2018</th>\n",
       "      <td>878.0</td>\n",
       "      <td>10740.380</td>\n",
       "      <td>8.174757</td>\n",
       "    </tr>\n",
       "    <tr>\n",
       "      <th>2019</th>\n",
       "      <td>1762.6</td>\n",
       "      <td>13385.900</td>\n",
       "      <td>13.167587</td>\n",
       "    </tr>\n",
       "    <tr>\n",
       "      <th>2020</th>\n",
       "      <td>2489.5</td>\n",
       "      <td>19221.000</td>\n",
       "      <td>12.951980</td>\n",
       "    </tr>\n",
       "    <tr>\n",
       "      <th>2021</th>\n",
       "      <td>3801.0</td>\n",
       "      <td>23565.000</td>\n",
       "      <td>16.129854</td>\n",
       "    </tr>\n",
       "  </tbody>\n",
       "</table>\n",
       "</div>"
      ],
      "text/plain": [
       "      CdTe New Installs Capacity (MW)  Total PV US installs (MW)  \\\n",
       "2001                              3.7                     29.000   \n",
       "2002                              0.0                     44.400   \n",
       "2003                              0.0                     63.000   \n",
       "2004                              0.0                    100.800   \n",
       "2005                              0.0                    103.000   \n",
       "2006                              0.0                    105.000   \n",
       "2007                              0.0                    347.500   \n",
       "2008                             11.0                    338.000   \n",
       "2009                             28.6                    464.500   \n",
       "2010                            117.8                    848.588   \n",
       "2011                             84.6                   1920.510   \n",
       "2012                            498.5                   3373.427   \n",
       "2013                           1182.8                   4765.802   \n",
       "2014                           1351.0                   6243.873   \n",
       "2015                            908.2                   7500.642   \n",
       "2016                           1508.7                  15095.640   \n",
       "2017                            823.1                  10969.090   \n",
       "2018                            878.0                  10740.380   \n",
       "2019                           1762.6                  13385.900   \n",
       "2020                           2489.5                  19221.000   \n",
       "2021                           3801.0                  23565.000   \n",
       "\n",
       "      Market share [%]  \n",
       "2001         12.758621  \n",
       "2002          0.000000  \n",
       "2003          0.000000  \n",
       "2004          0.000000  \n",
       "2005          0.000000  \n",
       "2006          0.000000  \n",
       "2007          0.000000  \n",
       "2008          3.254438  \n",
       "2009          6.157158  \n",
       "2010         13.881884  \n",
       "2011          4.405080  \n",
       "2012         14.777258  \n",
       "2013         24.818488  \n",
       "2014         21.637211  \n",
       "2015         12.108297  \n",
       "2016          9.994276  \n",
       "2017          7.503813  \n",
       "2018          8.174757  \n",
       "2019         13.167587  \n",
       "2020         12.951980  \n",
       "2021         16.129854  "
      ]
     },
     "execution_count": 11,
     "metadata": {},
     "output_type": "execute_result"
    }
   ],
   "source": [
    "df_cdte_installs_total_grouped['Market share [%]'] = df_cdte_installs_total_grouped['CdTe New Installs Capacity (MW)']/df_cdte_installs_total_grouped['Total PV US installs (MW)']*100\n",
    "df_cdte_installs_total_grouped"
   ]
  },
  {
   "cell_type": "markdown",
   "metadata": {},
   "source": [
    "#### Import Si installs and market share"
   ]
  },
  {
   "cell_type": "code",
   "execution_count": 12,
   "metadata": {},
   "outputs": [],
   "source": [
    "si_installs_us = pd.read_csv(os.path.join(supportMatfolder,'output_USA_SiPV_installs.csv'), index_col='Year')\n",
    "si_installs_us;"
   ]
  },
  {
   "cell_type": "code",
   "execution_count": 13,
   "metadata": {},
   "outputs": [
    {
     "data": {
      "text/plain": [
       "2009      28.6\n",
       "2010     117.8\n",
       "2011      84.6\n",
       "2012     498.5\n",
       "2013    1182.8\n",
       "2014    1351.0\n",
       "2015     908.2\n",
       "2016    1508.7\n",
       "2017     823.1\n",
       "2018     878.0\n",
       "2019    1762.6\n",
       "2020    2489.5\n",
       "2021    3801.0\n",
       "Name: CdTe New Installs Capacity (MW), dtype: float64"
      ]
     },
     "execution_count": 13,
     "metadata": {},
     "output_type": "execute_result"
    }
   ],
   "source": [
    "df_cdte_installs_total_grouped.loc[2009:2021]['CdTe New Installs Capacity (MW)']"
   ]
  },
  {
   "cell_type": "code",
   "execution_count": 14,
   "metadata": {},
   "outputs": [
    {
     "data": {
      "text/html": [
       "<div>\n",
       "<style scoped>\n",
       "    .dataframe tbody tr th:only-of-type {\n",
       "        vertical-align: middle;\n",
       "    }\n",
       "\n",
       "    .dataframe tbody tr th {\n",
       "        vertical-align: top;\n",
       "    }\n",
       "\n",
       "    .dataframe thead th {\n",
       "        text-align: right;\n",
       "    }\n",
       "</style>\n",
       "<table border=\"1\" class=\"dataframe\">\n",
       "  <thead>\n",
       "    <tr style=\"text-align: right;\">\n",
       "      <th></th>\n",
       "      <th>CdTe New Installs Capacity (MW)</th>\n",
       "      <th>Total PV US installs (MW)</th>\n",
       "      <th>Market share [%]</th>\n",
       "    </tr>\n",
       "  </thead>\n",
       "  <tbody>\n",
       "    <tr>\n",
       "      <th>count</th>\n",
       "      <td>21.000000</td>\n",
       "      <td>21.000000</td>\n",
       "      <td>21.000000</td>\n",
       "    </tr>\n",
       "    <tr>\n",
       "      <th>mean</th>\n",
       "      <td>735.671429</td>\n",
       "      <td>5677.383429</td>\n",
       "      <td>8.653367</td>\n",
       "    </tr>\n",
       "    <tr>\n",
       "      <th>std</th>\n",
       "      <td>1010.707545</td>\n",
       "      <td>7158.363468</td>\n",
       "      <td>7.497783</td>\n",
       "    </tr>\n",
       "    <tr>\n",
       "      <th>min</th>\n",
       "      <td>0.000000</td>\n",
       "      <td>29.000000</td>\n",
       "      <td>0.000000</td>\n",
       "    </tr>\n",
       "    <tr>\n",
       "      <th>25%</th>\n",
       "      <td>0.000000</td>\n",
       "      <td>105.000000</td>\n",
       "      <td>0.000000</td>\n",
       "    </tr>\n",
       "    <tr>\n",
       "      <th>50%</th>\n",
       "      <td>117.800000</td>\n",
       "      <td>1920.510000</td>\n",
       "      <td>8.174757</td>\n",
       "    </tr>\n",
       "    <tr>\n",
       "      <th>75%</th>\n",
       "      <td>1182.800000</td>\n",
       "      <td>10740.380000</td>\n",
       "      <td>13.167587</td>\n",
       "    </tr>\n",
       "    <tr>\n",
       "      <th>max</th>\n",
       "      <td>3801.000000</td>\n",
       "      <td>23565.000000</td>\n",
       "      <td>24.818488</td>\n",
       "    </tr>\n",
       "  </tbody>\n",
       "</table>\n",
       "</div>"
      ],
      "text/plain": [
       "       CdTe New Installs Capacity (MW)  Total PV US installs (MW)  \\\n",
       "count                        21.000000                  21.000000   \n",
       "mean                        735.671429                5677.383429   \n",
       "std                        1010.707545                7158.363468   \n",
       "min                           0.000000                  29.000000   \n",
       "25%                           0.000000                 105.000000   \n",
       "50%                         117.800000                1920.510000   \n",
       "75%                        1182.800000               10740.380000   \n",
       "max                        3801.000000               23565.000000   \n",
       "\n",
       "       Market share [%]  \n",
       "count         21.000000  \n",
       "mean           8.653367  \n",
       "std            7.497783  \n",
       "min            0.000000  \n",
       "25%            0.000000  \n",
       "50%            8.174757  \n",
       "75%           13.167587  \n",
       "max           24.818488  "
      ]
     },
     "execution_count": 14,
     "metadata": {},
     "output_type": "execute_result"
    }
   ],
   "source": [
    "df_cdte_installs_total_grouped.describe()"
   ]
  },
  {
   "cell_type": "code",
   "execution_count": 15,
   "metadata": {},
   "outputs": [
    {
     "name": "stdout",
     "output_type": "stream",
     "text": [
      "<class 'pandas.core.frame.DataFrame'>\n",
      "Index: 56 entries, 1995 to 2050\n",
      "Data columns (total 21 columns):\n",
      " #   Column                       Non-Null Count  Dtype  \n",
      "---  ------                       --------------  -----  \n",
      " 0   new_Installed_Capacity_[MW]  56 non-null     float64\n",
      " 1   mod_eff                      56 non-null     object \n",
      " 2   mod_reliability_t50          56 non-null     object \n",
      " 3   mod_reliability_t90          56 non-null     object \n",
      " 4   mod_degradation              56 non-null     object \n",
      " 5   mod_lifetime                 56 non-null     object \n",
      " 6   mod_MFG_eff                  56 non-null     object \n",
      " 7   mod_Repair                   56 non-null     object \n",
      " 8   mod_MerchantTail             56 non-null     object \n",
      " 9   mod_EOL_collection_eff       56 non-null     object \n",
      " 10  mod_EOL_pg0_resell           56 non-null     object \n",
      " 11  mod_EOL_pg1_landfill         56 non-null     object \n",
      " 12  mod_EOL_pg2_stored           56 non-null     object \n",
      " 13  mod_EOL_pg3_reMFG            56 non-null     object \n",
      " 14  mod_EOL_pg4_recycled         56 non-null     object \n",
      " 15  mod_EOL_reMFG_yield          56 non-null     object \n",
      " 16  mod_EOL_sp_reMFG_recycle     56 non-null     object \n",
      " 17  mod_EOL_pb1_landfill         56 non-null     object \n",
      " 18  mod_EOL_pb2_stored           56 non-null     object \n",
      " 19  mod_EOL_pb3_reMFG            56 non-null     object \n",
      " 20  mod_EOL_pb4_recycled         56 non-null     object \n",
      "dtypes: float64(1), object(20)\n",
      "memory usage: 9.6+ KB\n"
     ]
    }
   ],
   "source": [
    "si_installs_us_baseline = pd.read_csv(os.path.join(baselinesFolder,'baseline_modules_mass_US.csv'), index_col='year')\n",
    "si_installs_us_baseline = si_installs_us_baseline.iloc[1: , :]\n",
    "si_installs_us_baseline['new_Installed_Capacity_[MW]'] = si_installs_us_baseline['new_Installed_Capacity_[MW]'].astype(float)\n",
    "si_installs_us_baseline.info()"
   ]
  },
  {
   "cell_type": "code",
   "execution_count": 16,
   "metadata": {},
   "outputs": [
    {
     "data": {
      "text/plain": [
       "<matplotlib.legend.Legend at 0x12faede40>"
      ]
     },
     "execution_count": 16,
     "metadata": {},
     "output_type": "execute_result"
    },
    {
     "data": {
      "image/png": "[encoded data removed]",
      "text/plain": [
       "<Figure size 432x288 with 1 Axes>"
      ]
     },
     "metadata": {
      "needs_background": "light"
     },
     "output_type": "display_data"
    }
   ],
   "source": [
    "plt.plot(df_cdte_installs_total_grouped.index,df_cdte_installs_total_grouped['CdTe New Installs Capacity (MW)'],lw=2,marker='*', label='CdTe New Installs')\n",
    "plt.plot(df_cdte_installs_total_grouped.index,df_cdte_installs_total_grouped['Total PV US installs (MW)'],lw=2,marker='o', label='All PV Tech New Installs')\n",
    "plt.plot(si_installs_us.index,si_installs_us['0'],lw=2,marker='.', label='Si New Installs')\n",
    "plt.plot(range(1995, 2051), si_installs_us_baseline['new_Installed_Capacity_[MW]'],lw=2,marker='v', label='PV ICE baseline Si New Installs')\n",
    "\n",
    "\n",
    "# ax = plt.gca()\n",
    "# ax.set_ylim([-10, 10^5])\n",
    "#plt.yscale('symlog') # This way we can see the zero values\n",
    "#plt.ylim(0, 30000)\n",
    "plt.ylim(0, 3000)\n",
    "plt.xlim(2001, 2020)\n",
    "plt.ylabel('PV Installed (MW)')\n",
    "plt.xlabel('Years')\n",
    "#plt.legend(bbox_to_anchor=(0, 1, 1, 0), loc=\"lower left\")\n",
    "plt.legend(frameon=False, bbox_to_anchor=(1.05, 1.0), loc='upper left')\n",
    "#plt.plot(df_installs_raw, marker='o')"
   ]
  },
  {
   "cell_type": "code",
   "execution_count": 17,
   "metadata": {},
   "outputs": [
    {
     "data": {
      "text/plain": [
       "<matplotlib.legend.Legend at 0x12fc4c9a0>"
      ]
     },
     "execution_count": 17,
     "metadata": {},
     "output_type": "execute_result"
    },
    {
     "data": {
      "image/png": "[encoded data removed]",
      "text/plain": [
       "<Figure size 432x288 with 1 Axes>"
      ]
     },
     "metadata": {
      "needs_background": "light"
     },
     "output_type": "display_data"
    }
   ],
   "source": [
    "plt.plot(df_cdte_installs_total_grouped.index,df_cdte_installs_total_grouped['CdTe New Installs Capacity (MW)'],lw=2,marker='*', label='CdTe New Installs')\n",
    "plt.plot(df_cdte_installs_total_grouped.index,df_cdte_installs_total_grouped['Total PV US installs (MW)'],lw=2,marker='o', label='All PV Tech New Installs')\n",
    "plt.plot(si_installs_us.index,si_installs_us['0'],lw=2,marker='.', label='Si New Installs')\n",
    "plt.plot(range(1995, 2051), si_installs_us_baseline['new_Installed_Capacity_[MW]'],lw=2,marker='v', label='PV ICE baseline Si New Installs')\n",
    "\n",
    "\n",
    "# ax = plt.gca()\n",
    "# ax.set_ylim([-10, 10^5])\n",
    "#plt.yscale('symlog') # This way we can see the zero values\n",
    "#plt.ylim(0, 30000)\n",
    "plt.ylim(0, 3000)\n",
    "plt.xlim(2001, 2020)\n",
    "plt.ylabel('PV Installed (MW)')\n",
    "plt.xlabel('Years')\n",
    "#plt.legend(bbox_to_anchor=(0, 1, 1, 0), loc=\"lower left\")\n",
    "plt.legend(frameon=False, bbox_to_anchor=(1.05, 1.0), loc='upper left')\n",
    "#plt.plot(df_installs_raw, marker='o')"
   ]
  },
  {
   "cell_type": "markdown",
   "metadata": {},
   "source": [
    "#### Import Si market share"
   ]
  },
  {
   "cell_type": "code",
   "execution_count": 18,
   "metadata": {},
   "outputs": [],
   "source": [
    "si_maketshare_us = pd.read_csv(os.path.join(supportMatfolder,'output_USA_Si_marketshare.csv'), index_col='Year')\n",
    "si_maketshare_us;"
   ]
  },
  {
   "cell_type": "code",
   "execution_count": 19,
   "metadata": {},
   "outputs": [
    {
     "data": {
      "text/plain": [
       "<matplotlib.legend.Legend at 0x12fc7f820>"
      ]
     },
     "execution_count": 19,
     "metadata": {},
     "output_type": "execute_result"
    },
    {
     "data": {
      "image/png": "[encoded data removed]",
      "text/plain": [
       "<Figure size 432x288 with 1 Axes>"
      ]
     },
     "metadata": {
      "needs_background": "light"
     },
     "output_type": "display_data"
    }
   ],
   "source": [
    "plt.plot(si_maketshare_us.index,si_maketshare_us['All_Marketshare']*100,lw=2,marker='*', label='Si Market Share')\n",
    "plt.plot(df_cdte_installs_total_grouped.index,df_cdte_installs_total_grouped['Market share [%]'],lw=2,marker='o', label='CdTe Market Share')\n",
    "\n",
    "# ax = plt.gca()\n",
    "# ax.set_ylim([-10, 10^5])\n",
    "#plt.yscale('symlog') # This way we can see the zero values\n",
    "#plt.ylim(0, 16000)\n",
    "\n",
    "plt.ylabel('PV Maket Share (%)')\n",
    "plt.xlabel('Years')\n",
    "#plt.legend(bbox_to_anchor=(0, 1, 1, 0), loc=\"lower left\")\n",
    "plt.legend(frameon=False, bbox_to_anchor=(1.05, 1.0), loc='upper left')\n",
    "#plt.plot(df_installs_raw, marker='o')"
   ]
  },
  {
   "cell_type": "code",
   "execution_count": 20,
   "metadata": {},
   "outputs": [],
   "source": [
    "total_share = df_cdte_installs_total_grouped['Market share [%]'] + si_maketshare_us['All_Marketshare']*100"
   ]
  },
  {
   "cell_type": "code",
   "execution_count": 21,
   "metadata": {
    "tags": []
   },
   "outputs": [
    {
     "data": {
      "text/plain": [
       "1995           NaN\n",
       "1996           NaN\n",
       "1997           NaN\n",
       "1998           NaN\n",
       "1999           NaN\n",
       "2000           NaN\n",
       "2001    109.258621\n",
       "2002     95.666667\n",
       "2003     94.833333\n",
       "2004     94.000000\n",
       "2005     93.768129\n",
       "2006     93.536259\n",
       "2007     93.304388\n",
       "2008     96.326955\n",
       "2009     98.997805\n",
       "2010     98.710380\n",
       "2011     97.160498\n",
       "2012    105.609586\n",
       "2013    109.535585\n",
       "2014     81.250844\n",
       "2015    103.224881\n",
       "2016     95.433953\n",
       "2017     96.704523\n",
       "2018     95.252956\n",
       "2019     95.384295\n",
       "2020     94.072564\n",
       "2021           NaN\n",
       "2022           NaN\n",
       "2023           NaN\n",
       "2024           NaN\n",
       "2025           NaN\n",
       "2026           NaN\n",
       "2027           NaN\n",
       "2028           NaN\n",
       "2029           NaN\n",
       "2030           NaN\n",
       "2031           NaN\n",
       "2032           NaN\n",
       "2033           NaN\n",
       "2034           NaN\n",
       "2035           NaN\n",
       "2036           NaN\n",
       "2037           NaN\n",
       "2038           NaN\n",
       "2039           NaN\n",
       "2040           NaN\n",
       "2041           NaN\n",
       "2042           NaN\n",
       "2043           NaN\n",
       "2044           NaN\n",
       "2045           NaN\n",
       "2046           NaN\n",
       "2047           NaN\n",
       "2048           NaN\n",
       "2049           NaN\n",
       "2050           NaN\n",
       "dtype: float64"
      ]
     },
     "execution_count": 21,
     "metadata": {},
     "output_type": "execute_result"
    }
   ],
   "source": [
    "total_share"
   ]
  },
  {
   "cell_type": "markdown",
   "metadata": {},
   "source": [
    "### To do:\n",
    "\n",
    "* Check out with Heather or Silvana why total market shares of Si and CdTe are over 100 in some instances.\n",
    "* Ask how to do the projection of CdTe over time. Do I assume a % growth of market share of CdTe over time and multiply it by the installed capacity of Solar Futures?"
   ]
  },
  {
   "cell_type": "code",
   "execution_count": null,
   "metadata": {},
   "outputs": [],
   "source": []
  },
  {
   "cell_type": "code",
   "execution_count": null,
   "metadata": {},
   "outputs": [],
   "source": []
  }
 ],
 "metadata": {
  "kernelspec": {
   "display_name": "PV_ICE",
   "language": "python",
   "name": "pv_ice"
  },
  "language_info": {
   "codemirror_mode": {
    "name": "ipython",
    "version": 3
   },
   "file_extension": ".py",
   "mimetype": "text/x-python",
   "name": "python",
   "nbconvert_exporter": "python",
   "pygments_lexer": "ipython3",
   "version": "3.10.4"
  }
 },
 "nbformat": 4,
 "nbformat_minor": 4
}
