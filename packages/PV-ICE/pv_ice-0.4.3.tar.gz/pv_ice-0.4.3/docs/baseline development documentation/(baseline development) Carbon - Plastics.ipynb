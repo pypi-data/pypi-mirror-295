{
 "cells": [
  {
   "cell_type": "code",
   "execution_count": 1,
   "id": "9428ed25",
   "metadata": {},
   "outputs": [],
   "source": [
    "import numpy as np\n",
    "import pandas as pd\n",
    "import os,sys\n",
    "from pathlib import Path\n",
    "import matplotlib.pyplot as plt\n",
    "plt.rcParams.update({'font.size': 18})\n",
    "plt.rcParams['figure.figsize'] = (10, 6)\n",
    "cwd = os.getcwd() #grabs current working directory\n",
    "carbonfolder = str(Path().resolve().parent.parent.parent / 'PV_ICE' / 'baselines' / 'SupportingMaterial' / 'CarbonIntensities')\n",
    "supportmatfolder = str(Path().resolve().parent.parent.parent / 'PV_ICE' / 'baselines' / 'SupportingMaterial')"
   ]
  },
  {
   "cell_type": "markdown",
   "id": "f6041957",
   "metadata": {},
   "source": [
    "# Encapsulant and Backsheet MFGing by country\n",
    "Most of the market report data is behind paywalls. One that isn't, but doesnt provide market share is ENF solar database of PV material Manufacturers. "
   ]
  },
  {
   "cell_type": "code",
   "execution_count": 32,
   "id": "188071e0",
   "metadata": {},
   "outputs": [],
   "source": [
    "enf_encapsulants = pd.read_csv(os.path.join(carbonfolder, 'input-encapsulantMFGers-ENFData.csv'),\n",
    "                                     index_col=0)#, usecols=lambda x: x not in skipcols)\n",
    "enf_backsheets = pd.read_csv(os.path.join(carbonfolder, 'input-backsheetMFGers-ENFData.csv'),\n",
    "                                     index_col=0)#, usecols=lambda x: x not in skipcols)\n"
   ]
  },
  {
   "cell_type": "code",
   "execution_count": 50,
   "id": "113c69b8",
   "metadata": {},
   "outputs": [
    {
     "data": {
      "text/plain": [
       "Region\n",
       "Austria            1\n",
       "Brazil             1\n",
       "China             45\n",
       "France             2\n",
       "Germany            6\n",
       "India             12\n",
       "Italy              3\n",
       "Japan              5\n",
       "Korea              6\n",
       "Netherlands        1\n",
       "Norway             1\n",
       "Poland             1\n",
       "Saudi Arabia       2\n",
       "Singapore          2\n",
       "Spain              1\n",
       "Taiwan             2\n",
       "Thailand           2\n",
       "Turkey             5\n",
       "United Kingdom     1\n",
       "United States     13\n",
       "dtype: int64"
      ]
     },
     "execution_count": 50,
     "metadata": {},
     "output_type": "execute_result"
    }
   ],
   "source": [
    "encaps_bycountry = enf_encapsulants.groupby(['Region']).size()\n",
    "encaps_bycountry"
   ]
  },
  {
   "cell_type": "code",
   "execution_count": 68,
   "id": "35e01a35",
   "metadata": {},
   "outputs": [
    {
     "data": {
      "text/plain": [
       "Region\n",
       "Austria            0.892857\n",
       "Brazil             0.892857\n",
       "China             40.178571\n",
       "France             1.785714\n",
       "Germany            5.357143\n",
       "India             10.714286\n",
       "Italy              2.678571\n",
       "Japan              4.464286\n",
       "Korea              5.357143\n",
       "Netherlands        0.892857\n",
       "Norway             0.892857\n",
       "Poland             0.892857\n",
       "Saudi Arabia       1.785714\n",
       "Singapore          1.785714\n",
       "Spain              0.892857\n",
       "Taiwan             1.785714\n",
       "Thailand           1.785714\n",
       "Turkey             4.464286\n",
       "United Kingdom     0.892857\n",
       "United States     11.607143\n",
       "dtype: float64"
      ]
     },
     "execution_count": 68,
     "metadata": {},
     "output_type": "execute_result"
    }
   ],
   "source": [
    "encaps_bycountry_marketshare = encaps_bycountry/encaps_bycountry.sum()*100\n",
    "encaps_bycountry_marketshare\n",
    "#if we want to downselect and renormalize, do the below:\n",
    "#importantcountries_encap = encaps_bycountry_marketshare.loc[encaps_bycountry_marketshare>=1].index\n",
    "#encaps_bycountry.loc[importantcountries_encap]"
   ]
  },
  {
   "cell_type": "code",
   "execution_count": null,
   "id": "148f7435",
   "metadata": {},
   "outputs": [],
   "source": []
  },
  {
   "cell_type": "code",
   "execution_count": 64,
   "id": "a72b844a",
   "metadata": {},
   "outputs": [
    {
     "data": {
      "text/plain": [
       "Region\n",
       "China            33\n",
       "Germany           6\n",
       "Hong Kong         1\n",
       "India             5\n",
       "Italy             2\n",
       "Japan             7\n",
       "Korea             6\n",
       "Netherlands       1\n",
       "Poland            1\n",
       "Spain             1\n",
       "Turkey            1\n",
       "United States     5\n",
       "dtype: int64"
      ]
     },
     "execution_count": 64,
     "metadata": {},
     "output_type": "execute_result"
    }
   ],
   "source": [
    "backsheets_bycountry = enf_backsheets.groupby(['Region']).size()\n",
    "backsheets_bycountry"
   ]
  },
  {
   "cell_type": "code",
   "execution_count": 67,
   "id": "59631759",
   "metadata": {},
   "outputs": [
    {
     "data": {
      "text/plain": [
       "Region\n",
       "China            47.826087\n",
       "Germany           8.695652\n",
       "Hong Kong         1.449275\n",
       "India             7.246377\n",
       "Italy             2.898551\n",
       "Japan            10.144928\n",
       "Korea             8.695652\n",
       "Netherlands       1.449275\n",
       "Poland            1.449275\n",
       "Spain             1.449275\n",
       "Turkey            1.449275\n",
       "United States     7.246377\n",
       "dtype: float64"
      ]
     },
     "execution_count": 67,
     "metadata": {},
     "output_type": "execute_result"
    }
   ],
   "source": [
    "backsheets_bycountry/backsheets_bycountry.sum()*100"
   ]
  },
  {
   "cell_type": "code",
   "execution_count": null,
   "id": "6d0abfc7",
   "metadata": {},
   "outputs": [],
   "source": []
  }
 ],
 "metadata": {
  "kernelspec": {
   "display_name": "Python 3 (ipykernel)",
   "language": "python",
   "name": "python3"
  },
  "language_info": {
   "codemirror_mode": {
    "name": "ipython",
    "version": 3
   },
   "file_extension": ".py",
   "mimetype": "text/x-python",
   "name": "python",
   "nbconvert_exporter": "python",
   "pygments_lexer": "ipython3",
   "version": "3.8.8"
  }
 },
 "nbformat": 4,
 "nbformat_minor": 5
}
