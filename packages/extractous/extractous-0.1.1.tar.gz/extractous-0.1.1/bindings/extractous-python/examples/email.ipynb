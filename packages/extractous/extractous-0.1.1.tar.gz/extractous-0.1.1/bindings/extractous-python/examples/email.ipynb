{
 "cells": [
  {
   "cell_type": "code",
   "execution_count": null,
   "metadata": {},
   "outputs": [],
   "source": [
    "# Install the opendal\n",
    "%pip install extractous"
   ]
  },
  {
   "cell_type": "code",
   "execution_count": null,
   "metadata": {},
   "outputs": [],
   "source": [
    "\n",
    "import extractous\n",
    "\n",
    "extractous.sum_as_string(5, 20)"
   ]
  }
 ],
 "metadata": {
  "kernelspec": {
   "display_name": "extractous-python",
   "language": "python",
   "name": "python3"
  },
  "language_info": {
   "name": "python",
   "version": "3.12.3"
  }
 },
 "nbformat": 4,
 "nbformat_minor": 2
}