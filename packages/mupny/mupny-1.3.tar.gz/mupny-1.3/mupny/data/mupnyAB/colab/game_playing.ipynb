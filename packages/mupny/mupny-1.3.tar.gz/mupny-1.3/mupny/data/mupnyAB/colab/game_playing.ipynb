{
  "nbformat": 4,
  "nbformat_minor": 0,
  "metadata": {
    "colab": {
      "provenance": []
    },
    "kernelspec": {
      "name": "python3",
      "display_name": "Python 3"
    },
    "language_info": {
      "name": "python"
    }
  },
  "cells": [
    {
      "cell_type": "markdown",
      "source": [
        "**AGENT-BASED ARTIFICIAL INTELLIGENCE, POLIBA, A.Y. 2023/2024**\n",
        "\n",
        "**Game Playing**\n",
        "\n",
        "List of Contributors:\n",
        "- Tommaso Di Noia\n",
        "- Alberto Carlo Maria Mancino\n",
        "- Vincenzo Paparella"
      ],
      "metadata": {
        "id": "sjJOAD_GmktD"
      }
    },
    {
      "cell_type": "markdown",
      "source": [
        "### Introduction to Game Playing"
      ],
      "metadata": {
        "id": "kvRWczq-q8MB"
      }
    },
    {
      "cell_type": "markdown",
      "source": [
        "So far, we have studied search algorithms in which a single agent was involved in an environment.\n",
        "\n",
        "Now, we move toward **competitive environments**, in which two or more agents compete among them. Since we have at least two agents in a competitive environments, this kind of problems are defined as **games**.\n",
        "\n",
        "We will focus on **deterministic**, **two-player**, **perfect information**, **zero-sum** games. Perfect information is a synonym for \"fully observable\", and “zero-sum” means that what is good for one player is just as bad for the other: there is no “win-win” outcome.\n",
        "\n",
        "We will call our two players MAX and MIN. MAX moves first, and then the players take turns moving until the game is over."
      ],
      "metadata": {
        "id": "0_QLH83Gq-hh"
      }
    },
    {
      "cell_type": "markdown",
      "source": [
        "### Game implementation"
      ],
      "metadata": {
        "id": "rtymgDyasi5f"
      }
    },
    {
      "cell_type": "markdown",
      "source": [
        "Let's start by defining a game. Defining a game has strong similarities with formulating a search problem.\n",
        "\n",
        "A game can be formally defined with the following elements:\n",
        "* the **initial state**, which specifies how the game is set up at the start;\n",
        "* the **player** whose **turn** it is to move in a state;\n",
        "* the set of legal moves in a state (corresponding to the **actions**).\n",
        "* the **transition model**, which defines the state resulting from taking an action in a state.\n",
        "* a **terminal test**, which is true when the game is over and false otherwise. States where the game has ended are called terminal states.\n",
        "* a **utility function**, which defines the final numeric value to a given player when the game ends in the terminal state.\n",
        "\n",
        "Similarly as in search problems, the initial state, the set of moves, and the transition model define the **state space graph**. Consequently, we define the  **game tree** as a search tree that follows every sequence of moves all the way to a terminal state.\n",
        "\n",
        "Let's build the skeleton of a game. At this point of the Agent-based Artificial Intelligence course, it is easy to understand that it is convenient to implement the game within a \"**Game**\" class.\n",
        "\n",
        "Within the constructor of this class, we initialize the initial state and the first player of the game given in input. Then, we implement the following functions corresponding to the points we have seen in the game definition:\n",
        "* the **actions** function that, given a state, returns the list of possible actions from that state;\n",
        "* the **result** function corresponding to the transition model. Given a state and an action in input, it returns the reached state;\n",
        "* the **successors** function that, given a state, returns the reachable states by performing all the possible actions from the state;\n",
        "* the **terminal_test** function that, given a state, returns True if the state is a final state (the game is over), False otherwise;\n",
        "* the **player_utility** function that, given a state, returns the utility associated to that state for a player. It exploits the **utility** function.\n",
        "* the **utility** function that, given a state, returns its utility from the point of view of MAX. Indeed, in the player_utility function, we return the positive value computed by the utility function if the player is MAX, the negative value if the player is MIN. Indeed, we recall that the games we are studying is a zero-sum game.\n",
        "* the **next_player** function that returns the next player to move (corresponding to the player-turn in the defnition above)."
      ],
      "metadata": {
        "id": "u0VJw7zesk-6"
      }
    },
    {
      "cell_type": "code",
      "source": [
        "class Game:\n",
        "    def __init__(self, initial_state, player):\n",
        "        self.initial_state = initial_state\n",
        "        self.player = player\n",
        "\n",
        "    def actions(self, state):\n",
        "        \"\"\"\n",
        "        Given a state return the list of possible actions\n",
        "        @param state: a state of the game\n",
        "        @return: a list\n",
        "        \"\"\"\n",
        "        return []\n",
        "\n",
        "    def result(self, state, action):\n",
        "        \"\"\"\n",
        "        Given a state and an action returns the reached state\n",
        "        @param state: a state of the game\n",
        "        @param action: a possible action in the state\n",
        "        @return: a new state\n",
        "        \"\"\"\n",
        "        return []\n",
        "\n",
        "    def successors(self, state):\n",
        "        \"\"\"\n",
        "        Given a state returns the reachable states with the respective actions\n",
        "        :param state: actual state\n",
        "        :return: list of successor states and actions\n",
        "        \"\"\"\n",
        "        possible_actions = self.actions(state)\n",
        "        return [(self.result(state, a), a) for a in possible_actions]\n",
        "\n",
        "    def terminal_test(self, state):\n",
        "        \"\"\"\n",
        "        Returns True if the state is a final state (the game is over), False otherwise\n",
        "        @param state: a state of the game\n",
        "        @return: True or False\n",
        "        \"\"\"\n",
        "        return False\n",
        "\n",
        "    def utility(self, state):\n",
        "        \"\"\"\n",
        "        Given a state returns its utility\n",
        "        @param state: a state of the game\n",
        "        @return: a utility value\n",
        "        \"\"\"\n",
        "        return 0\n",
        "\n",
        "    def player_utility(self, state):\n",
        "        \"\"\"\n",
        "        Given a state, returns the utility of the state from the view of the MAX or the MIN player\n",
        "        @param state: a state\n",
        "        @return: a utility value\n",
        "        \"\"\"\n",
        "        if self.player == 'MAX':\n",
        "            # for MAX player\n",
        "            return self.utility(state)\n",
        "        elif self.player == 'MIN':\n",
        "            # for MIN player\n",
        "            return -self.utility(state)\n",
        "        else:\n",
        "            raise ValueError\n",
        "\n",
        "    def next_player(self):\n",
        "        \"\"\"\n",
        "        Return the next player to move\n",
        "        @return: MAX or MIN\n",
        "        \"\"\"\n",
        "        if self.player == 'MAX':\n",
        "            return 'MIN'\n",
        "        else:\n",
        "            return 'MAX'"
      ],
      "metadata": {
        "id": "vRMYcWmwv339"
      },
      "execution_count": null,
      "outputs": []
    },
    {
      "cell_type": "markdown",
      "source": [
        "### Dummy Game"
      ],
      "metadata": {
        "id": "wRPX3fEZ1NmT"
      }
    },
    {
      "cell_type": "markdown",
      "source": [
        "To test the algorithms we will implement, we use the dummy game represented by the three below."
      ],
      "metadata": {
        "id": "ZURMxJjb1Xx2"
      }
    },
    {
      "cell_type": "code",
      "source": [
        "import matplotlib.pyplot as plt\n",
        "import matplotlib.image as mpimg\n",
        "\n",
        "img = mpimg.imread('sample_data/dummy_game.png')\n",
        "plt.imshow(img)\n",
        "plt.axis('off')\n",
        "plt.show()\n"
      ],
      "metadata": {
        "colab": {
          "base_uri": "https://localhost:8080/",
          "height": 252
        },
        "id": "2QBFqsC51PWF",
        "outputId": "90dcebb7-615b-43d0-c039-1534e443a2ae"
      },
      "execution_count": null,
      "outputs": [
        {
          "output_type": "display_data",
          "data": {
            "text/plain": [
              "<Figure size 640x480 with 1 Axes>"
            ],
            "image/png": "[encoded data removed]"
          },
          "metadata": {}
        }
      ]
    },
    {
      "cell_type": "markdown",
      "source": [
        "The △ nodes are \"MAX nodes\", in which it is MAX's turn to move, and the ▽ nodes are \"MIN nodes\". The terminal nodes show the utility values for MAX; the other nodes are labeled with their minimax values. MAX's best move at the root is a1, because it leads to the state with the highest minimax value, and MIN's best reply is b1, because it leads to the state with the lowest minimax value.\n",
        "\n",
        "Let's hard-code the actions and the utility in a **DummyGame** class that inherits the skeleton of a game."
      ],
      "metadata": {
        "id": "b_MddyAG2CkK"
      }
    },
    {
      "cell_type": "code",
      "source": [
        "# let's populate the skeleton with our dummy game\n",
        "class DummyGame(Game):\n",
        "    def __init__(self, initial_state=None, player='MAX'):\n",
        "        if initial_state is None:\n",
        "            initial_state = 'A'\n",
        "        super(DummyGame, self).__init__(initial_state, player)\n",
        "        self.initial_state = initial_state\n",
        "        self.player = player\n",
        "\n",
        "    def actions(self, state):\n",
        "        \"\"\"\n",
        "        Given a state return the list of possible actions\n",
        "        @param state: a state of the game\n",
        "        @return: a list\n",
        "        \"\"\"\n",
        "        actions = {\n",
        "            'A': ['a1', 'a2', 'a3'],\n",
        "            'B': ['b1', 'b2', 'b3'],\n",
        "            'C': ['c1', 'c2', 'c3'],\n",
        "            'D': ['d1', 'd2', 'd3'],\n",
        "        }\n",
        "        if state in actions:\n",
        "            return actions[state]\n",
        "        else:\n",
        "            return []\n",
        "\n",
        "    def result(self, state, action):\n",
        "        \"\"\"\n",
        "        Given a state and an action returns the reached state\n",
        "        @param state: a state of the game\n",
        "        @param action: a possible action in the state\n",
        "        @return: a new state\n",
        "        \"\"\"\n",
        "        result = {\n",
        "            'A': {\n",
        "                'a1': 'B',\n",
        "                'a2': 'C',\n",
        "                'a3': 'D'},\n",
        "            'B': {\n",
        "                'b1': 'B1',\n",
        "                'b2': 'B2',\n",
        "                'b3': 'B3'},\n",
        "            'C': {\n",
        "                'c1': 'C1',\n",
        "                'c2': 'C2',\n",
        "                'c3': 'C3'},\n",
        "            'D': {\n",
        "                'd1': 'D1',\n",
        "                'd2': 'D2',\n",
        "                'd3': 'D3'},\n",
        "        }\n",
        "        return result[state][action]\n",
        "\n",
        "    def terminal_test(self, state):\n",
        "        \"\"\"\n",
        "        Returns True if the state is a final state (the game is over), False otherwise\n",
        "        @param state: a state of the game\n",
        "        @return: True or False\n",
        "        \"\"\"\n",
        "        if state in ('B1', 'B2', 'B3', 'C1', 'C2', 'C3', 'D1', 'D2', 'D3'):\n",
        "            return True\n",
        "        else:\n",
        "            return False\n",
        "\n",
        "    def utility(self, state):\n",
        "        \"\"\"\n",
        "        Given a state returns its utility\n",
        "        @param state: a state of the game\n",
        "        @return: a utility value (integer)\n",
        "        \"\"\"\n",
        "        utility = {'B1': 3,\n",
        "                   'B2': 12,\n",
        "                   'B3': 8,\n",
        "                   'C1': 2,\n",
        "                   'C2': 4,\n",
        "                   'C3': 6,\n",
        "                   'D1': 14,\n",
        "                   'D2': 5,\n",
        "                   'D3': 2}\n",
        "        return utility[state]"
      ],
      "metadata": {
        "id": "q41_GZ9421S7"
      },
      "execution_count": null,
      "outputs": []
    },
    {
      "cell_type": "markdown",
      "source": [
        "Let's test our dummy game!"
      ],
      "metadata": {
        "id": "q2cpXtLD3Kf0"
      }
    },
    {
      "cell_type": "code",
      "source": [
        "# Initialize the Game\n",
        "game = DummyGame()\n",
        "\n",
        "# Print the possible actions from the state A (a1, a2, a3)\n",
        "print('\\nActions from A')\n",
        "state = 'A'\n",
        "print(game.actions(state))\n",
        "\n",
        "# Print the reachable states by performing the possible actions from state A\n",
        "print('\\nResult of actions from A')\n",
        "# for action in game.actions(state):\n",
        "print(game.successors(state))\n",
        "\n",
        "# Test of the terminal state: C is not a terminal state, D1 is a terminal state\n",
        "print('\\nFinal test check')\n",
        "print(game.terminal_test('C'))\n",
        "print(game.terminal_test('D1'))\n",
        "\n",
        "# By default, the actual player is MAX. Print its utility for the state B2 and C3.\n",
        "print('\\nUtility of the state B2 and C3')\n",
        "print(game.player_utility('B2'))\n",
        "print(game.player_utility('C3'))\n",
        "\n",
        "# Now let's set MIN as player, and print the utilities.\n",
        "game = DummyGame(player='MIN')\n",
        "print('\\nUtility of the state B2 and C3')\n",
        "print(game.player_utility('B2'))\n",
        "print(game.player_utility('C3'))\n"
      ],
      "metadata": {
        "colab": {
          "base_uri": "https://localhost:8080/"
        },
        "id": "OuH2SuPC3Mwg",
        "outputId": "aa48347e-112d-4a4c-b0c7-0aa4ca3bbd21"
      },
      "execution_count": null,
      "outputs": [
        {
          "output_type": "stream",
          "name": "stdout",
          "text": [
            "\n",
            "Actions from A\n",
            "['a1', 'a2', 'a3']\n",
            "\n",
            "Result of actions from A\n",
            "[('B', 'a1'), ('C', 'a2'), ('D', 'a3')]\n",
            "\n",
            "Final test check\n",
            "False\n",
            "True\n",
            "\n",
            "Utility of the state B2 and C3\n",
            "12\n",
            "6\n",
            "\n",
            "Utility of the state B2 and C3\n",
            "-12\n",
            "-6\n"
          ]
        }
      ]
    },
    {
      "cell_type": "markdown",
      "source": [
        "### Minimax Algorithm"
      ],
      "metadata": {
        "id": "7JbnhOzZE1Se"
      }
    },
    {
      "cell_type": "markdown",
      "source": [
        "MAX wants to find a sequence of actions leading to a win, but MIN has something to say about it. This means that MAX's strategy must be a conditional plan, i.e., a contingent strategy specifying a response to each of MIN's possible moves.\n",
        "\n",
        "To find this optimal decision for MAX, we need the **minimax search**. In this algorithm, we construct the game tree in which we associate to the final states the utility value with respect to MAX. Indeed, a fundamental assumption of the algorithm is that **the first player is always MAX**, so the score associated to the each game state is computed from MAX's point of view. Then, the higher the score, the better for MAX.\n",
        "\n",
        "The goal of MAX is to maximize its outcome. The goal of MIN is to minimize MAX's outcome.\n",
        "\n",
        "The minimax algorithm supposes that MIN is the best opponent in the world, i.e., MIN is always successful in choosing the action that minimize the MAX's outcome.\n",
        "\n",
        "Therefore, to find the optimal sequence of actions for MAX, knowing that MIN is the best competitor in the world, we perform a depth-first-like search along the game tree.\n",
        "\n",
        "The implementation of the algorithm is the following. It consists of:\n",
        "* the **game** initialized within the constructor;\n",
        "* the **next_move** function that computes the move suggested to the player MAX;\n",
        "* the **min_value** function that computes the minimax value associated by MIN to a state;\n",
        "* the **max_value** function that computed the minimax value associated by MAX to a state.\n",
        "\n",
        "It is a recursive algorithm that proceeds all the way down to the leaves of the tree and then backs up the minimax values through the tree as the recursion unwinds."
      ],
      "metadata": {
        "id": "K5ZkYGIjE7ih"
      }
    },
    {
      "cell_type": "code",
      "source": [
        "class Minimax:\n",
        "    def __init__(self, game):\n",
        "        self.game = game\n",
        "\n",
        "    def max_value(self, state):\n",
        "        \"\"\"\n",
        "        A function that computes the value given by player MAX to a node\n",
        "        @param state: a state\n",
        "        @return: the value associated by max to the node\n",
        "        \"\"\"\n",
        "        if self.game.terminal_test(state):\n",
        "            return self.game.player_utility(state)\n",
        "        values = [self.min_value(s) for s, a in self.game.successors(state)]\n",
        "        return max(values)\n",
        "\n",
        "    def min_value(self, state):\n",
        "        \"\"\"\n",
        "        A function that computes the value given by player MIN to a node\n",
        "        @param state: a state\n",
        "        @return: the value associated by max to the node\n",
        "        \"\"\"\n",
        "        if self.game.terminal_test(state):\n",
        "            return self.game.player_utility(state)\n",
        "        values = [self.max_value(s) for s, a in self.game.successors(state)]\n",
        "        return min(values)\n",
        "\n",
        "    def next_move(self, state):\n",
        "        \"\"\"\n",
        "        Compute the final move suggested to the player MAX\n",
        "        @param state: a state\n",
        "        @return: a move\n",
        "        \"\"\"\n",
        "        moves = self.game.actions(state)\n",
        "        return max(moves, key=lambda move: self.min_value(self.game.result(state, move)))"
      ],
      "metadata": {
        "id": "cOmW8r7RE3SR"
      },
      "execution_count": null,
      "outputs": []
    },
    {
      "cell_type": "markdown",
      "source": [
        "Let's test our implementation. The expected output is that MAX moves to B and MIN moves to B1, with a **final score for MAX of 3**. In fact, if MAX had chosen C, MIN would have chosen C1 with a **final score of 2**. If MAX had chosen D, MIN would have chosen D3 with a **final score of 2**.\n",
        "\n",
        "So, for this reason, the fact that MAX choices B, is the best move for him/her."
      ],
      "metadata": {
        "id": "BHRXcnidJF1C"
      }
    },
    {
      "cell_type": "code",
      "source": [
        "game = DummyGame()\n",
        "\n",
        "search = Minimax(game=game)\n",
        "\n",
        "move = search.next_move(game.initial_state)\n",
        "\n",
        "print(move)"
      ],
      "metadata": {
        "colab": {
          "base_uri": "https://localhost:8080/"
        },
        "id": "17U6ZXasJNmB",
        "outputId": "84f742bd-d990-4566-e7d0-d23a689e3cfe"
      },
      "execution_count": null,
      "outputs": [
        {
          "output_type": "stream",
          "name": "stdout",
          "text": [
            "a1\n"
          ]
        }
      ]
    },
    {
      "cell_type": "markdown",
      "source": [
        "The action is correct, since with action \"a1\" MAX moves to B. Now, supposing we are in state \"B\", let's check which move MIN performs."
      ],
      "metadata": {
        "id": "RrSjWmGqJaKY"
      }
    },
    {
      "cell_type": "code",
      "source": [
        "state = 'B'\n",
        "game = DummyGame(player='MIN')\n",
        "\n",
        "search = Minimax(game=game)\n",
        "\n",
        "move = search.next_move(state)\n",
        "\n",
        "print(move)"
      ],
      "metadata": {
        "colab": {
          "base_uri": "https://localhost:8080/"
        },
        "id": "ee3NDAaVJwgN",
        "outputId": "b6eec7b0-5a7b-4d87-a942-3bb8d4db8298"
      },
      "execution_count": null,
      "outputs": [
        {
          "output_type": "stream",
          "name": "stdout",
          "text": [
            "b1\n"
          ]
        }
      ]
    },
    {
      "cell_type": "markdown",
      "source": [
        "The action is correct, since with action \"b1\" MIN moves to \"B1\" minimizing the outcome of MAX.\n",
        "\n",
        "Now, let's simulate an entire game session!"
      ],
      "metadata": {
        "id": "nwMenY8LKF0j"
      }
    },
    {
      "cell_type": "code",
      "source": [
        "game = DummyGame()\n",
        "search = Minimax(game=game)\n",
        "\n",
        "\n",
        "state = game.initial_state\n",
        "print('State: ', state)\n",
        "\n",
        "move = search.next_move(state)\n",
        "print('Move:', move)\n",
        "state = game.result(state, move)\n",
        "print('State: ', state)\n",
        "\n",
        "game.player = 'MIN'\n",
        "move = search.next_move(state)\n",
        "print('Move:', move)\n",
        "state = game.result(state, move)\n",
        "print('State: ', state)\n",
        "\n"
      ],
      "metadata": {
        "colab": {
          "base_uri": "https://localhost:8080/"
        },
        "id": "KdU2qzsXKZWk",
        "outputId": "3119d23a-7126-486e-a7be-9fef8aaeadc3"
      },
      "execution_count": null,
      "outputs": [
        {
          "output_type": "stream",
          "name": "stdout",
          "text": [
            "State:  A\n",
            "Move: a1\n",
            "State:  B\n",
            "Move: b1\n",
            "State:  B1\n"
          ]
        }
      ]
    },
    {
      "cell_type": "markdown",
      "source": [
        "### Automating the game"
      ],
      "metadata": {
        "id": "bzOVUJAGLeqc"
      }
    },
    {
      "cell_type": "markdown",
      "source": [
        "So far, we have realized our game. We have searched the next move for both MAX and MIN players with the minimax algorithm.\n",
        "\n",
        "However, we had to explicitly search the next move for both players. Let's automate this. In other words, we now automate the entire session game.\n",
        "\n",
        "To this end, we implement a **play** function in the Game Class. This function accepts in input two players, and simulates the game between them. We simulate the intire session in a While True that breaks when the terminal state is found. Within this while, we alternate the two players. While the players play, we display the moves with two custom functions."
      ],
      "metadata": {
        "id": "QmpnQ74DLi8_"
      }
    },
    {
      "cell_type": "code",
      "source": [
        "class Game:\n",
        "    def __init__(self, initial_state, player):\n",
        "        self.initial_state = initial_state\n",
        "        self.player = player\n",
        "\n",
        "    def actions(self, state):\n",
        "        \"\"\"\n",
        "        Given a state return the list of possible actions\n",
        "        @param state: a state of the game\n",
        "        @return: a list\n",
        "        \"\"\"\n",
        "        return []\n",
        "\n",
        "    def result(self, state, action):\n",
        "        \"\"\"\n",
        "        Given a state and an action returns the reached state\n",
        "        @param state: a state of the game\n",
        "        @param action: a possible action in the state\n",
        "        @return: a new state\n",
        "        \"\"\"\n",
        "        return []\n",
        "\n",
        "    def successors(self, state):\n",
        "        \"\"\"\n",
        "        Given a state returns the reachable states with the respective actions\n",
        "        :param state: actual state\n",
        "        :return: list of successor states and actions\n",
        "        \"\"\"\n",
        "        possible_actions = self.actions(state)\n",
        "        return [(self.result(state, a), a) for a in possible_actions]\n",
        "\n",
        "    def terminal_test(self, state):\n",
        "        \"\"\"\n",
        "        Returns True if the state is a final state (the game is over), False otherwise\n",
        "        @param state: a state of the game\n",
        "        @return: True or False\n",
        "        \"\"\"\n",
        "        return False\n",
        "\n",
        "    def utility(self, state):\n",
        "        \"\"\"\n",
        "        Given a state returns its utility\n",
        "        @param state: a state of the game\n",
        "        @return: a utility value\n",
        "        \"\"\"\n",
        "        return 0\n",
        "\n",
        "    def player_utility(self, state):\n",
        "        \"\"\"\n",
        "        Given a state, returns the utility of the state from the view of the MAX or the MIN player\n",
        "        @param state: a state\n",
        "        @return: a utility value\n",
        "        \"\"\"\n",
        "        if self.player == 'MAX':\n",
        "            # for MAX player\n",
        "            return self.utility(state)\n",
        "        elif self.player == 'MIN':\n",
        "            # for MIN player\n",
        "            return -self.utility(state)\n",
        "        else:\n",
        "            raise ValueError\n",
        "\n",
        "    def next_player(self):\n",
        "        \"\"\"\n",
        "        Return the next player to move\n",
        "        @return: MAX or MIN\n",
        "        \"\"\"\n",
        "        if self.player == 'MAX':\n",
        "            return 'MIN'\n",
        "        else:\n",
        "            return 'MAX'\n",
        "\n",
        "    def play(self, player_one, player_two):\n",
        "        \"\"\"\n",
        "        A function that simulates the game between two players\n",
        "        @param player_one: function that models the first player\n",
        "        @param player_two:  function that models the second player\n",
        "        \"\"\"\n",
        "        state = self.initial_state\n",
        "        players = [player_one, player_two]\n",
        "        moves = []\n",
        "        while True:\n",
        "            for player in players:\n",
        "                if self.terminal_test(state):\n",
        "                    print('----- GAME OVER -----\\n\\n')\n",
        "                    return moves\n",
        "                self.display(state)\n",
        "                move = player.next_move(state)\n",
        "                state = self.result(state, move)\n",
        "                self.display_move(state, move)\n",
        "                moves.append((move, self.player))\n",
        "                self.player = self.next_player()\n",
        "                print('_____________________')\n",
        "\n",
        "    def display(self, state):\n",
        "        print('_____________________')\n",
        "        print(self.player, 'in ', state)\n",
        "\n",
        "    def display_move(self, state, move):\n",
        "        print(self.player, f'--{move}--> ', state)\n"
      ],
      "metadata": {
        "id": "Cwc6-xwDNoLt"
      },
      "execution_count": null,
      "outputs": []
    },
    {
      "cell_type": "code",
      "source": [
        "class DummyGame(Game):\n",
        "    def __init__(self, initial_state=None, player='MAX'):\n",
        "        if initial_state is None:\n",
        "            initial_state = 'A'\n",
        "        super(DummyGame, self).__init__(initial_state, player)\n",
        "        self.initial_state = initial_state\n",
        "        self.player = player\n",
        "\n",
        "    def actions(self, state):\n",
        "        \"\"\"\n",
        "        Given a state return the list of possible actions\n",
        "        @param state: a state of the game\n",
        "        @return: a list\n",
        "        \"\"\"\n",
        "        actions = {\n",
        "            'A': ['a1', 'a2', 'a3'],\n",
        "            'B': ['b1', 'b2', 'b3'],\n",
        "            'C': ['c1', 'c2', 'c3'],\n",
        "            'D': ['d1', 'd2', 'd3'],\n",
        "        }\n",
        "        if state in actions:\n",
        "            return actions[state]\n",
        "        else:\n",
        "            return []\n",
        "\n",
        "    def result(self, state, action):\n",
        "        \"\"\"\n",
        "        Given a state and an action returns the reached state\n",
        "        @param state: a state of the game\n",
        "        @param action: a possible action in the state\n",
        "        @return: a new state\n",
        "        \"\"\"\n",
        "        result = {\n",
        "            'A': {\n",
        "                'a1': 'B',\n",
        "                'a2': 'C',\n",
        "                'a3': 'D'},\n",
        "            'B': {\n",
        "                'b1': 'B1',\n",
        "                'b2': 'B2',\n",
        "                'b3': 'B3'},\n",
        "            'C': {\n",
        "                'c1': 'C1',\n",
        "                'c2': 'C2',\n",
        "                'c3': 'C3'},\n",
        "            'D': {\n",
        "                'd1': 'D1',\n",
        "                'd2': 'D2',\n",
        "                'd3': 'D3'},\n",
        "        }\n",
        "        return result[state][action]\n",
        "\n",
        "    def terminal_test(self, state):\n",
        "        \"\"\"\n",
        "        Returns True if the state is a final state (the game is over), False otherwise\n",
        "        @param state: a state of the game\n",
        "        @return: True or False\n",
        "        \"\"\"\n",
        "        if state in ('B1', 'B2', 'B3', 'C1', 'C2', 'C3', 'D1', 'D2', 'D3'):\n",
        "            return True\n",
        "        else:\n",
        "            return False\n",
        "\n",
        "    def utility(self, state):\n",
        "        \"\"\"\n",
        "        Given a state returns its utility\n",
        "        @param state: a state of the game\n",
        "        @return: a utility value (integer)\n",
        "        \"\"\"\n",
        "        utility = {'B1': 3,\n",
        "                   'B2': 12,\n",
        "                   'B3': 8,\n",
        "                   'C1': 2,\n",
        "                   'C2': 4,\n",
        "                   'C3': 6,\n",
        "                   'D1': 14,\n",
        "                   'D2': 5,\n",
        "                   'D3': 2}\n",
        "        return utility[state]\n"
      ],
      "metadata": {
        "id": "GatW5PhhLiKN"
      },
      "execution_count": null,
      "outputs": []
    },
    {
      "cell_type": "markdown",
      "source": [
        "Now, let's test the entire game!\n",
        "\n",
        "Firstly, we initialize the game. Then, we initialize two players that both search the next move with the minimax search.\n",
        "\n",
        "Finally, let's play the game!"
      ],
      "metadata": {
        "id": "-ZOBAjoUNzCn"
      }
    },
    {
      "cell_type": "code",
      "source": [
        "game = DummyGame()\n",
        "first_player = Minimax(game=game)\n",
        "second_player = Minimax(game=game)\n",
        "\n",
        "state = game.initial_state\n",
        "moves = game.play(first_player, second_player)\n",
        "\n",
        "print(moves)"
      ],
      "metadata": {
        "colab": {
          "base_uri": "https://localhost:8080/"
        },
        "id": "Meu-VXhiN2zm",
        "outputId": "7e78b9e2-cb0e-4b12-8266-d426da30b887"
      },
      "execution_count": null,
      "outputs": [
        {
          "output_type": "stream",
          "name": "stdout",
          "text": [
            "_____________________\n",
            "MAX in  A\n",
            "MAX --a1-->  B\n",
            "_____________________\n",
            "_____________________\n",
            "MIN in  B\n",
            "MIN --b1-->  B1\n",
            "_____________________\n",
            "----- GAME OVER -----\n",
            "\n",
            "\n",
            "[('a1', 'MAX'), ('b1', 'MIN')]\n"
          ]
        }
      ]
    },
    {
      "cell_type": "markdown",
      "source": [
        "### Alpha-Beta Pruning"
      ],
      "metadata": {
        "id": "g1-SvbyJZML4"
      }
    },
    {
      "cell_type": "markdown",
      "source": [
        "The number of game states is exponential in the depth of the tree. Since minimax perform a depth-first search along the tree, the computational cost can be very expensive!\n",
        "\n",
        "A technique to reduce this cost is the **alpha-beta pruning** algorithm. It consists in pruning parts of the tree that make no difference to the outcome.\n",
        "\n",
        "Alpha-beta pruning gets its name from the two extra parameters used when computing the minimax value, i.e., alpha and beta. These two parameters describe bounds on the backed-up values that appear anywhere along the path:\n",
        "* α = the value of the best (i.e., highest-value) choice we have found so far at any choice point along the path for MAX. Think: α = \"at least\".\n",
        "* β = the value of the best (i.e., lowest-value) choice we have found so far at any choice point along the path for MIN. Think: β = \"at most\".\n",
        "\n",
        "The alpha-beta pruning follows a very simple idea: if the following in a branch lead to a state that will never be chosen by my adversary, the adversary will never do a move that allows me to continue on that branch. For this reason, is not useful to continue exploring a branch that will never be reached.\n",
        "\n",
        "Let's call a node explored by MIN as beta, a node explored by MAX as alpha.\n",
        "\n",
        "* when in the tree a beta node has a minimax value β < α for some alpha node above along the tree, the branch starting from this beta node is pruned.\n",
        "* when in the tree a alpha node has a minimax value α > β for some beta node above along the tree, the branch starting from this alpha node is pruned.\n",
        "\n",
        "We start from boundaries between minus infinite and plus infinite, corresponding to α and β, respectively.\n",
        "\n",
        "When MIN si playing, we update beta. When MAX is playing, we update alpha.\n",
        "\n",
        "Please, note that the alpha-beta pruning returns the same move returned by the minimax search. The only difference consists in the fact that alpha-beta pruning prunes branches for which it is not needed to be visited."
      ],
      "metadata": {
        "id": "mb2zSvVUZOUb"
      }
    },
    {
      "cell_type": "code",
      "source": [
        "import numpy as np\n",
        "\n",
        "class AlphaBeta:\n",
        "\n",
        "    def __init__(self, game):\n",
        "        self.game = game\n",
        "\n",
        "    def max_value(self, state, alpha, beta):\n",
        "        \"\"\"\n",
        "        A function that computes the value given by player MAX to a node\n",
        "        @param state: a state\n",
        "        @param alpha:\n",
        "        @param beta:\n",
        "        @return: the value associated by max to the node\n",
        "        \"\"\"\n",
        "        # game end check\n",
        "        if self.game.terminal_test(state):\n",
        "            return self.game.player_utility(state)\n",
        "\n",
        "        best_value = -np.inf\n",
        "        for s, a in self.game.successors(state):\n",
        "            value = self.min_value(s, alpha, beta)\n",
        "            best_value = max(best_value, value)\n",
        "            # beta test (if MAX choice will never be the choice of MIN, stop searching)\n",
        "            if best_value > beta:\n",
        "                return best_value\n",
        "            # update the best value for MAX\n",
        "            alpha = max(alpha, best_value)\n",
        "        return best_value\n",
        "\n",
        "    def min_value(self, state, alpha, beta):\n",
        "        \"\"\"\n",
        "        A function that computes the value given by player MIN to a node\n",
        "        @param state: a state\n",
        "        @param alpha:\n",
        "        @param beta:\n",
        "        @return: the value associated by max to the node\n",
        "        \"\"\"\n",
        "        # game end check\n",
        "        if self.game.terminal_test(state):\n",
        "            return self.game.player_utility(state)\n",
        "\n",
        "        best_value = np.inf\n",
        "        for s, a in self.game.successors(state):\n",
        "            value = self.max_value(s, alpha, beta)\n",
        "            best_value = min(best_value, value)\n",
        "            # beta test (if MIN choice will never be the choice of MAX, stop searching)\n",
        "            if best_value < alpha:\n",
        "                return best_value\n",
        "            # update the best value for MIN\n",
        "            beta = min(beta, best_value)\n",
        "        return best_value\n",
        "\n",
        "    def next_move(self, state):\n",
        "        \"\"\"\n",
        "        Compute the final move suggested to the player MAX\n",
        "        @param state: a state\n",
        "        @return: a move\n",
        "        \"\"\"\n",
        "        alpha = -np.inf\n",
        "        beta = np.inf\n",
        "\n",
        "        best_move = None\n",
        "\n",
        "        for s, move in self.game.successors(state):\n",
        "            value = self.min_value(s, alpha, beta)\n",
        "            if value > alpha:\n",
        "                # update the best value for MAX\n",
        "                alpha = value\n",
        "                best_move = move\n",
        "        return best_move"
      ],
      "metadata": {
        "id": "yRabI3xKftRd"
      },
      "execution_count": null,
      "outputs": []
    },
    {
      "cell_type": "markdown",
      "source": [
        "Let's test it!"
      ],
      "metadata": {
        "id": "wh-0rcTqlhPx"
      }
    },
    {
      "cell_type": "code",
      "source": [
        "game = DummyGame()\n",
        "first_player = AlphaBeta(game=game)\n",
        "second_player = AlphaBeta(game=game)\n",
        "\n",
        "state = game.initial_state\n",
        "moves = game.play(first_player, second_player)\n",
        "\n",
        "print(moves)"
      ],
      "metadata": {
        "id": "xvmQVnXAlmNf",
        "outputId": "24b6747f-5043-4f69-c56e-110ced34ed2e",
        "colab": {
          "base_uri": "https://localhost:8080/"
        }
      },
      "execution_count": null,
      "outputs": [
        {
          "output_type": "stream",
          "name": "stdout",
          "text": [
            "_____________________\n",
            "MAX in  A\n",
            "MAX --a1-->  B\n",
            "_____________________\n",
            "_____________________\n",
            "MIN in  B\n",
            "MIN --b1-->  B1\n",
            "_____________________\n",
            "----- GAME OVER -----\n",
            "\n",
            "\n",
            "[('a1', 'MAX'), ('b1', 'MIN')]\n"
          ]
        }
      ]
    },
    {
      "cell_type": "markdown",
      "source": [
        "### Cut-off Search"
      ],
      "metadata": {
        "id": "_72DWSTsKbrU"
      }
    },
    {
      "cell_type": "markdown",
      "source": [
        "A real game should be responsive in showing the moves adopted by each player. Then, we should satisfy some constraints about the time exploited by the algorithm to retrieve the next move to be performed by a player.\n",
        "\n",
        "Unfortunately, this time required by some games could be very long since a game could be characterized by a high computational time cost!\n",
        "\n",
        "Given this problem, the work around is to introduce the **cutoff test**. In this case, starting from a given state, we limit the exploration of the game tree from this state to a self-declared **depth**. In this case, we do not just perform a terminal state test within the Minimax/AlphaBeta algorithm. In addition, we perform the cutoff test checking if we have reached the declared depth.\n",
        "\n",
        "The implementations of the MiniMax ald AlphaBeta algorithms with this modification is the following. We declare in input a **limit** variable representing the depth of the tree at which we stop the exploration. This quantity is decreased by one each time a player plays while we search along the tree (i.e., each time we call the min_value and max_value functions). The cutoff test is verified when limit is equals to 0."
      ],
      "metadata": {
        "id": "qzcqfmLBNw66"
      }
    },
    {
      "cell_type": "code",
      "source": [
        "class LimitedMinimax:\n",
        "    def __init__(self, game, limit=100000000):\n",
        "        self.game = game\n",
        "        self.limit = limit\n",
        "\n",
        "    def max_value(self, state, limit):\n",
        "        \"\"\"\n",
        "        A function that computes the value given by player MAX to a node\n",
        "        @param state: a state\n",
        "        @return: the value associated by max to the node\n",
        "        \"\"\"\n",
        "        if self.game.terminal_test(state) or limit == 0:\n",
        "            return self.game.player_utility(state)\n",
        "        values = [self.min_value(s, limit - 1) for s, a in self.game.successors(state)]\n",
        "        return max(values)\n",
        "\n",
        "    def min_value(self, state, limit):\n",
        "        \"\"\"\n",
        "        A function that computes the value given by player MIN to a node\n",
        "        @param state: a state\n",
        "        @return: the value associated by max to the node\n",
        "        \"\"\"\n",
        "        if self.game.terminal_test(state) or limit == 0:\n",
        "            return self.game.player_utility(state)\n",
        "        values = [self.max_value(s, limit - 1) for s, a in self.game.successors(state)]\n",
        "        return min(values)\n",
        "\n",
        "    def next_move(self, state):\n",
        "        \"\"\"\n",
        "        Compute the final move suggested to the player MAX\n",
        "        @param state: a state\n",
        "        @return: a move\n",
        "        \"\"\"\n",
        "        moves = self.game.actions(state)\n",
        "        return max(moves, key=lambda move: self.min_value(self.game.result(state, move), self.limit))\n",
        "\n",
        "\n",
        "class LimitedAlphaBeta:\n",
        "\n",
        "    def __init__(self, game, limit=1000000000):\n",
        "        self.game = game\n",
        "        self.limit = limit\n",
        "\n",
        "    def max_value(self, state, alpha, beta, limit):\n",
        "        \"\"\"\n",
        "        A function that computes the value given by player MAX to a node\n",
        "        @param state: a state\n",
        "        @param alpha:\n",
        "        @param beta:\n",
        "        @param limit:\n",
        "        @return: the value associated by max to the node\n",
        "        \"\"\"\n",
        "\n",
        "        # game end check\n",
        "        if self.game.terminal_test(state) or limit == 0:\n",
        "            return self.game.player_utility(state)\n",
        "        best_value = -np.inf\n",
        "        for s, a in self.game.successors(state):\n",
        "            value = self.min_value(s, alpha, beta, limit-1)\n",
        "            best_value = max(best_value, value)\n",
        "            # beta test (if MAX choice will never be the choice of MIN, stop searching)\n",
        "            if best_value > beta:\n",
        "                return best_value\n",
        "            # update the best value for MAX\n",
        "            alpha = max(alpha, best_value)\n",
        "        return best_value\n",
        "\n",
        "    def min_value(self, state, alpha, beta, limit):\n",
        "        \"\"\"\n",
        "        A function that computes the value given by player MIN to a node\n",
        "        @param state: a state\n",
        "        @param alpha:\n",
        "        @param beta:\n",
        "        @param limit:\n",
        "        @return: the value associated by max to the node\n",
        "        \"\"\"\n",
        "\n",
        "        # game end check\n",
        "        if self.game.terminal_test(state) or limit == 0:\n",
        "            return self.game.player_utility(state)\n",
        "        best_value = np.inf\n",
        "        for s, a in self.game.successors(state):\n",
        "            value = self.max_value(s, alpha, beta, limit-1)\n",
        "            best_value = min(best_value, value)\n",
        "            # beta test (if MIN choice will never be the choice of MAX, stop searching)\n",
        "            if best_value < alpha:\n",
        "                return best_value\n",
        "            # update the best value for MIN\n",
        "            beta = min(beta, best_value)\n",
        "        return best_value\n",
        "\n",
        "    def next_move(self, state):\n",
        "        \"\"\"\n",
        "        Compute the final move suggested to the player MAX\n",
        "        @param state: a state\n",
        "        @return: a move\n",
        "        \"\"\"\n",
        "\n",
        "        alpha = -np.inf\n",
        "        beta = np.inf\n",
        "\n",
        "        best_move = None\n",
        "\n",
        "        for s, move in self.game.successors(state):\n",
        "            value = self.min_value(s, alpha, beta, self.limit)\n",
        "            if value > alpha:\n",
        "                # update the best value for MAX\n",
        "                alpha = value\n",
        "                best_move = move\n",
        "        return best_move\n",
        "\n",
        "\n",
        "\n"
      ],
      "metadata": {
        "id": "A2aGIHiWR4bW"
      },
      "execution_count": null,
      "outputs": []
    },
    {
      "cell_type": "markdown",
      "source": [
        "However, the state encountered to this given depth is likely to not be a terminal state. For this reason, we would not have a utility value for it. To solve this problem, we must implement an **evaluation function**, i.e., a function that expressess to what extent a general state in input is good (bad) for MAX instead of a utility function (note that we could still name this function utility_function in our code to avoid big modifications).\n",
        "\n",
        "Of course, the evaluation function depends on the game we are implementing and should hold the zero-sum game property of the games we are dealing with.\n",
        "\n",
        "Please, note that, with the cutoff test strategy, we are not observing the whole game tree. Consequently, there could be cases in which the AI-player would not play optimally!! Of course, a more sophisticated evaluation function could alleviate this issue."
      ],
      "metadata": {
        "id": "zzhKAj9kRzMM"
      }
    }
  ]
}