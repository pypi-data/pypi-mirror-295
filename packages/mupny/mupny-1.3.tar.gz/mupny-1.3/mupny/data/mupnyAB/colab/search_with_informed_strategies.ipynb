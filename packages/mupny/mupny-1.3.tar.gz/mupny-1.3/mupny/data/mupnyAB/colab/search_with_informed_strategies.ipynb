{
 "nbformat": 4,
 "nbformat_minor": 0,
 "metadata": {
  "colab": {
   "provenance": []
  },
  "kernelspec": {
   "name": "python3",
   "display_name": "Python 3"
  },
  "language_info": {
   "name": "python"
  }
 },
 "cells": [
  {
   "cell_type": "markdown",
   "source": [
    "**AGENT-BASED ARTIFICIAL INTELLIGENCE, POLIBA, A.Y. 2023/2024**\n",
    "\n",
    "**Solving Problems by Searching with INFORMED STRATEGIES**\n",
    "\n",
    "List of Contributors:\n",
    "- Tommaso Di Noia\n",
    "- Alberto Carlo Maria Mancino\n",
    "- Vincenzo Paparella"
   ],
   "metadata": {
    "id": "XpdKPaRiIJV2"
   }
  },
  {
   "cell_type": "markdown",
   "source": [
    "## What we have done so far\n"
   ],
   "metadata": {
    "id": "bFrJmZUgIkk8"
   }
  },
  {
   "cell_type": "markdown",
   "source": [
    "So far, we have designed an agent able to reach a city starting from another city within a map through search algorithms, i.e., tree and graph search.\n",
    "\n",
    "We have:\n",
    "- modeled the environment;\n",
    "- implemented a Problem Class that practically models the agent;\n",
    "- implemented a Node Class that is exploited in the tree/graph search;\n",
    "- implemented a Tree/Graph search class to perform the search.\n",
    "\n",
    "\n",
    "Beyond the positions of the cities within map, no other information were available. Indeed, the search was guided by uninformed strategies solely."
   ],
   "metadata": {
    "id": "rapjt2KZMKXW"
   }
  },
  {
   "cell_type": "markdown",
   "source": [
    "## The environment with additional information"
   ],
   "metadata": {
    "id": "ds0qMydXL_Cl"
   }
  },
  {
   "cell_type": "markdown",
   "source": [
    "To introduce the informed strategies for search, we now consider some additional information within the map.\n",
    "\n",
    "We suppose to know the coordinates of the cities that we store in a dictionary."
   ],
   "metadata": {
    "id": "xLo5F-HaML4C"
   }
  },
  {
   "cell_type": "code",
   "source": [
    "streets = {\n",
    "    'Andria': ['Corato', 'Trani'],\n",
    "    'Corato': ['Ruvo', 'Trani', 'Andria', 'Altamura'],\n",
    "    'Altamura': ['Corato', 'Ruvo', 'Modugno'],\n",
    "    'Ruvo': ['Corato', 'Bisceglie', 'Terlizzi', 'Altamura'],\n",
    "    'Terlizzi': ['Ruvo', 'Molfetta', 'Bitonto'],\n",
    "    'Bisceglie': ['Trani', 'Ruvo', 'Molfetta'],\n",
    "    'Trani': ['Andria', 'Corato', 'Bisceglie'],\n",
    "    'Molfetta': ['Bisceglie', 'Giovinazzo', 'Terlizzi'],\n",
    "    'Giovinazzo': ['Molfetta', 'Modugno', 'Bari', 'Bitonto'],\n",
    "    'Bitonto': [ 'Modugno', 'Giovinazzo', 'Terlizzi'],\n",
    "    'Modugno': ['Bitonto', 'Giovinazzo', 'Bari', 'Altamura'],\n",
    "    'Bari': ['Modugno', 'Giovinazzo']\n",
    "}\n",
    "\n",
    "# cities coordinates\n",
    "streets_coords = {\n",
    "    'Andria': (41.2316, 16.2917),\n",
    "    'Corato': (41.1465, 16.4147),\n",
    "    'Altamura': (40.8302, 16.5545),\n",
    "    'Ruvo': (41.1146, 16.4886),\n",
    "    'Terlizzi': (41.1321, 16.5461),\n",
    "    'Bisceglie': (41.243, 16.5052),\n",
    "    'Trani': (41.2737, 16.4162),\n",
    "    'Molfetta': (41.2012, 16.5983),\n",
    "    'Giovinazzo': (41.1874, 16.6682),\n",
    "    'Bitonto': (41.1118, 16.6902),\n",
    "    'Modugno': (41.0984, 16.7788),\n",
    "    'Bari': (41.1187, 16.852)\n",
    "}"
   ],
   "metadata": {
    "id": "eMMFBCeqMq7n"
   },
   "execution_count": 1,
   "outputs": []
  },
  {
   "cell_type": "markdown",
   "source": [
    "Once we know these coordinates, we are able to compute the distance between two cities through a function.\n",
    "\n",
    "For this reason, we now decide to model the environment within a Roads Class. In this class, we have the cities and their coordinates as attributes. In addition, we have a distance method that returns the distance in kilometers between two cities.\n",
    "\n"
   ],
   "metadata": {
    "id": "qLrAuYIoNhu4"
   }
  },
  {
   "cell_type": "code",
   "source": [
    "class Roads:\n",
    "    def __init__(self, streets, coordinates):\n",
    "        self.streets = streets\n",
    "        self.coordinates = coordinates\n",
    "\n",
    "    def distance(self, start, end):\n",
    "        lat_a, long_a = self.coordinates[start]\n",
    "        lat_b, long_b = self.coordinates[end]\n",
    "        lat_diff = abs(lat_a - lat_b)*111  # <- *111 to just convert the latitude distance in KM.\n",
    "        long_diff = abs(long_a - long_b)*111 # <- *111 to just convert the longitude distance in KM.\n",
    "        return math.sqrt(lat_diff**2 + long_diff**2)"
   ],
   "metadata": {
    "id": "kpXQvtohOMAc"
   },
   "execution_count": 2,
   "outputs": []
  },
  {
   "cell_type": "markdown",
   "source": [
    "## Slightly changing our agent"
   ],
   "metadata": {
    "id": "Tcn9IOeeOg-K"
   }
  },
  {
   "cell_type": "markdown",
   "source": [
    "We have changed our environment to support the additional information. Consequently, we must slightly adapt our agent to this new environment. Indeed, we know have a class, instead of a simple dictionary. Then, we modify our StreetProblem class.\n",
    "\n",
    "Specifically, given a state, we gather the possible actions that the agent can perform from the street attribute of the environment. Then, we must change the actions function!\n",
    "\n",
    "Finally, we can now consider the cost of performing an action starting from a state! The cost is the distance in kilometers of performing the action of reaching a city starting from another city. Therefore, we exploit the distance function implemented in the environment."
   ],
   "metadata": {
    "id": "pvCYcLVVOa40"
   }
  },
  {
   "cell_type": "code",
   "source": [
    "class StreetProblem:\n",
    "\n",
    "    def __init__(self, initial_state, goal_state, environment):\n",
    "        self.initial_state = initial_state\n",
    "        self.goal_state = goal_state\n",
    "        self.environment = environment\n",
    "\n",
    "    def successors(self, state):\n",
    "        \"\"\"\n",
    "        Given a state returns the reachable states with the respective actions\n",
    "        :param state: actual state\n",
    "        :return: list of successor states and actions\n",
    "        \"\"\"\n",
    "        possible_actions = self.actions(state)\n",
    "        return [(self.result(state, a), a) for a in possible_actions]\n",
    "\n",
    "    def actions(self, state):\n",
    "        \"\"\"\n",
    "        Given a state returns the list of possible actions\n",
    "        :param state: actual state\n",
    "        :return: a list of actions\n",
    "        \"\"\"\n",
    "        return self.environment.streets[state] # <- WE HAVE MODIFIED HERE\n",
    "\n",
    "    def result(self, state=None, action=None):\n",
    "        \"\"\"\n",
    "        Given a state and an action returns the reached state\n",
    "        :param state: actual state\n",
    "        :param action: chosen action\n",
    "        :return: reached state\n",
    "        \"\"\"\n",
    "        return action\n",
    "\n",
    "    def goal_test(self, state):\n",
    "        \"\"\"\n",
    "        Checks if the goal condition has been reached\n",
    "        :param state: actual state\n",
    "        :return: True if the goal condition is matched, False otherwise\n",
    "        \"\"\"\n",
    "        return state == self.goal_state\n",
    "\n",
    "    def cost(self, state, action):  # <- WE HAVE MODIFIED THIS FUNCTION\n",
    "        \"\"\"\n",
    "        Given a state and an action returns the cost of the action\n",
    "        :param state: a state\n",
    "        :param action: an action\n",
    "        :return: the cost of doing that action in that state\n",
    "        \"\"\"\n",
    "        reached_state = self.result(state, action)\n",
    "        return self.environment.distance(state, reached_state)"
   ],
   "metadata": {
    "id": "L1n3E3RpPLWz"
   },
   "execution_count": 3,
   "outputs": []
  },
  {
   "cell_type": "markdown",
   "source": [
    "## Slightly changing our Tree/Graph Search"
   ],
   "metadata": {
    "id": "TVkYKkR4SIut"
   }
  },
  {
   "cell_type": "markdown",
   "source": [
    "We can now compute the cost of performing an action from a state thanks to the cost function in the Problem class.\n",
    "\n",
    "Consequently, we modify the TreeSearch and GraphSearch classes to consider such costs when expanding a node."
   ],
   "metadata": {
    "id": "h-u10ElYT4cm"
   }
  },
  {
   "cell_type": "code",
   "source": [
    "class TreeSearch:\n",
    "    \"\"\"\n",
    "    A class able to find a solution with a given search strategy\n",
    "    \"\"\"\n",
    "\n",
    "    def __init__(self, problem, strategy=None):\n",
    "        self.problem = problem\n",
    "        self.strategy = strategy\n",
    "        self.fringe = []\n",
    "\n",
    "    def __repr__(self):\n",
    "        return 'Tree Search'\n",
    "\n",
    "    def run(self):\n",
    "        \"\"\"\n",
    "        Run the search\n",
    "        :return: a path or a failure\n",
    "        \"\"\"\n",
    "\n",
    "        node = Node(state=self.problem.initial_state,\n",
    "                    parent=None,\n",
    "                    action=None,\n",
    "                    cost=0,\n",
    "                    depth=0)\n",
    "\n",
    "        # search loop\n",
    "        while True:\n",
    "            # check if the node passes the goal test\n",
    "            if self.problem.goal_test(node.state):\n",
    "                return 'Ok', node\n",
    "\n",
    "            # expand the node\n",
    "            new_states = self.problem.successors(node.state)\n",
    "            new_nodes = [node.expand(state=s,\n",
    "                                     action=a,\n",
    "                                     cost=self.problem.cost(node.state, a)) for s, a in new_states]  # WE HAVE ADDED THE COST HERE (INSTEAD OF SIMPLY 1)\n",
    "\n",
    "            # update the fringe\n",
    "            self.fringe = self.fringe + new_nodes\n",
    "\n",
    "            # check if the search fails: empty fringe, unless the last node from the fringe contains the goal state\n",
    "            # if the fringe is not empty, we pop the next node from the fringe according to the strategy\n",
    "            if len(self.fringe) != 0:\n",
    "                self.fringe, node = self.strategy.select(self.fringe)\n",
    "                # check to manage if the fringe becomes empty within the strategy class (e.g., because of DepthLimited)\n",
    "                if node is None:\n",
    "                    return 'Fail', []\n",
    "            else:\n",
    "                if self.problem.goal_test(node.state):\n",
    "                    return 'Ok', node\n",
    "                else:\n",
    "                    return 'Fail', []\n"
   ],
   "metadata": {
    "id": "1_5-ViAKVYSc"
   },
   "execution_count": 4,
   "outputs": []
  },
  {
   "cell_type": "code",
   "source": [
    "class GraphSearch:\n",
    "    \"\"\"\n",
    "    A class able to find a solution with a given search strategy\n",
    "    \"\"\"\n",
    "\n",
    "    def __init__(self, problem, strategy=None):\n",
    "        self.problem = problem\n",
    "        self.strategy = strategy\n",
    "        self.fringe = []\n",
    "        self.visited = []  # <- The list containing the visited states\n",
    "\n",
    "    def __repr__(self):\n",
    "        return 'Graph Search'\n",
    "\n",
    "    def run(self):\n",
    "        \"\"\"\n",
    "        Run the search\n",
    "        :return: a path or a failure\n",
    "        \"\"\"\n",
    "\n",
    "        node = Node(state=self.problem.initial_state,\n",
    "                    parent=None,\n",
    "                    action=None,\n",
    "                    cost=0,\n",
    "                    depth=0)\n",
    "\n",
    "        # search loop\n",
    "        while True:\n",
    "            # check if the node passes the goal test\n",
    "            if self.problem.goal_test(node.state):\n",
    "                return 'Ok', node\n",
    "\n",
    "            # add visited for the graph search\n",
    "            self.visited.append(node.state)\n",
    "\n",
    "            # expand the node\n",
    "            new_states = self.problem.successors(node.state)\n",
    "            new_nodes = [node.expand(state=s,\n",
    "                                     action=a,\n",
    "                                     cost=self.problem.cost(node.state, a)) for s, a in new_states]  # WE HAVE ADDED THE COST HERE (INSTEAD OF SIMPLY 1)\n",
    "\n",
    "            # we retain the states not already visited!\n",
    "            new_nodes = [n for n in new_nodes if n.state not in self.visited]\n",
    "            self.fringe = [n for n in self.fringe if n.state not in self.visited]\n",
    "\n",
    "            # update the fringe\n",
    "            self.fringe = self.fringe + new_nodes\n",
    "\n",
    "            # check if the search fails: empty fringe, unless the last node from the fringe contains the goal state\n",
    "            # if the fringe is not empty, we pop the next node from the fringe according to the strategy\n",
    "            if len(self.fringe) != 0:\n",
    "                self.fringe, node = self.strategy.select(self.fringe)\n",
    "                # check to manage if the fringe becomes empty within the strategy class (e.g., because of DepthLimited)\n",
    "                if node is None:\n",
    "                    return 'Fail', []\n",
    "            else:\n",
    "                if self.problem.goal_test(node.state):\n",
    "                    return 'Ok', node\n",
    "                else:\n",
    "                    return 'Fail', []\n"
   ],
   "metadata": {
    "id": "d2eksUNTVwmI"
   },
   "execution_count": 5,
   "outputs": []
  },
  {
   "cell_type": "markdown",
   "source": [
    "## Evaluation and Heuristic functions"
   ],
   "metadata": {
    "id": "C84wpzHVdr75"
   }
  },
  {
   "cell_type": "markdown",
   "source": [
    "From the theory, informed search strategies exploit **evaluation functions** _f(n)_ as additional information to more efficiently estimate the sequence of actions to reach a goal state. The evaluation functions depend on the informed strategy we adopt.\n",
    "\n",
    "Specifically, most of the times, an evaluation function includes an a **heuristic function** _h(n)_ that represents the estimated cost of the cheapest path from the state at node _n_ to a goal state.\n",
    "\n",
    "Which heuristic function could we use in our map problem? In this problem, the _straight line distance_ is a good candidate to be our heuristic. Indeed, the straight line distance is the shortest possible distance to reach a goal state starting from a given state.\n",
    "\n",
    "Where do we implement such heuristic function? Intuitively, the heuristic function depends on the problem we are dealing with. Therefore, we add the method _h(state)_ in the StreetProblem class that returns the straight line distance from a state in input to the goal state."
   ],
   "metadata": {
    "id": "dQhns7gvdviS"
   }
  },
  {
   "cell_type": "code",
   "source": [
    "import math\n",
    "\n",
    "\n",
    "class StreetProblem:\n",
    "\n",
    "    def __init__(self, initial_state, goal_state, environment):\n",
    "        self.initial_state = initial_state\n",
    "        self.goal_state = goal_state\n",
    "        self.environment = environment\n",
    "\n",
    "    def successors(self, state):\n",
    "        \"\"\"\n",
    "        Given a state returns the reachable states with the respective actions\n",
    "        :param state: actual state\n",
    "        :return: list of successor states and actions\n",
    "        \"\"\"\n",
    "        possible_actions = self.actions(state)\n",
    "        return [(self.result(state, a), a) for a in possible_actions]\n",
    "\n",
    "    def actions(self, state):\n",
    "        \"\"\"\n",
    "        Given a state returns the list of possible actions\n",
    "        :param state: actual state\n",
    "        :return: a list of actions\n",
    "        \"\"\"\n",
    "        return self.environment.streets[state]\n",
    "\n",
    "    def result(self, state=None, action=None):\n",
    "        \"\"\"\n",
    "        Given a state and an action returns the reached state\n",
    "        :param state: actual state\n",
    "        :param action: chosen action\n",
    "        :return: reached state\n",
    "        \"\"\"\n",
    "        return action\n",
    "\n",
    "    def goal_test(self, state):\n",
    "        \"\"\"\n",
    "        Checks if the goal condition has been reached\n",
    "        :param state: actual state\n",
    "        :return: True if the goal condition is matched, False otherwise\n",
    "        \"\"\"\n",
    "        return state == self.goal_state\n",
    "\n",
    "    def cost(self, state, action):\n",
    "        \"\"\"\n",
    "        Given a state and an action returns the cost of the action\n",
    "        :param state: a state\n",
    "        :param action: an action\n",
    "        :return: the cost of doing that action in that state\n",
    "        \"\"\"\n",
    "        reached_state = self.result(state, action)\n",
    "        return self.environment.distance(state, reached_state)\n",
    "\n",
    "    def h(self, state):  # <- HEURISTIC FUNCTION\n",
    "        lat_a, long_a = self.environment.coordinates[state]\n",
    "        lat_b, long_b = self.environment.coordinates[self.goal_state]\n",
    "        lat_diff = abs(lat_a - lat_b) * 111  # <- *111 to just convert the latitude distance in KM.\n",
    "        long_diff = abs(long_a - long_b) * 111  # <- *111 to just convert the longitude distance in KM.\n",
    "        return math.sqrt(lat_diff ** 2 + long_diff ** 2)"
   ],
   "metadata": {
    "id": "c_zhMjs2k7Cw"
   },
   "execution_count": 6,
   "outputs": []
  },
  {
   "cell_type": "markdown",
   "source": [
    "## Informed strategies"
   ],
   "metadata": {
    "id": "aPmtlPeRnXqx"
   }
  },
  {
   "cell_type": "markdown",
   "source": [
    "### Greedy Search"
   ],
   "metadata": {
    "id": "sk9Be7wcnZ3g"
   }
  },
  {
   "cell_type": "markdown",
   "source": [
    "The Greedy search algorithm expands the node that appears to be closest to the goal. In other words, the evaluation function corresponds to the heuristic function, i.e., _f(n)=h(n)_.\n",
    "\n",
    "Then, we sort the nodes according to their heuristic function score. Finally, we take the first node of the frontier (the one having the minimum heuristic function score, i.e., the closest to the goal state)."
   ],
   "metadata": {
    "id": "3UwmgNSUne7f"
   }
  },
  {
   "cell_type": "code",
   "source": [
    "class Greedy:\n",
    "    def __init__(self, problem):\n",
    "        self.problem = problem\n",
    "\n",
    "    def __repr__(self):\n",
    "        return 'Greedy strategy'\n",
    "\n",
    "    def select(self, fringe):\n",
    "        # sort fringe following the evaluation function\n",
    "        fringe = sorted(fringe, key=lambda x: self.problem.h(x.state))\n",
    "        node = fringe.pop(0)\n",
    "        return fringe, node"
   ],
   "metadata": {
    "id": "TejKSSMppRs-"
   },
   "execution_count": 7,
   "outputs": []
  },
  {
   "cell_type": "markdown",
   "source": [
    "### AStar Search"
   ],
   "metadata": {
    "id": "s8LaFN3Az9ci"
   }
  },
  {
   "cell_type": "markdown",
   "source": [
    "The AStar search algorithm expands a node avoiding expanding paths that are already expensive. The evaluation function combines with the sum the heuristic function and the cost so far to reach the node _n_, i.e., _f(n)=g(n)+h(n)_.\n",
    "\n",
    "Then, we sort the nodes according to their evaluation function score. Finally, we take the first node of the frontier (the one having the minimum evaluation function score, i.e., the closest to the goal state).\n",
    "\n",
    "To ensure optimality in AStar search strategy, we must consider some conditions regarding the heuristic:\n",
    "1. in Tree Search, the heuristic must be admissible. A heuristic function is admissible if it never over-estimates the cost to reach the goal state. Moreover, it must be _h(n)>=0_, so that _h(G)=0_ for any goal _G_.\n",
    "2. in Graph Search, the heuristic must be consistent. A heuristic function is consistent if it respects the triangle inequality property. This means that the single number _h(n)_ should be less than the cost _c(n, a, n')_ of performing the action from _n_ to _n'_ plus the heuristic score _h(n')_.\n",
    "\n",
    "In our case, the previous implemented heuristic function (the straightline distance) is consistent (and then admissible). Then, we are safe!\n",
    "\n",
    "Let's implement the AStar search strategy."
   ],
   "metadata": {
    "id": "oHk164bh0DDY"
   }
  },
  {
   "cell_type": "code",
   "source": [
    "class AStar:\n",
    "    def __init__(self, problem):\n",
    "        self.problem = problem\n",
    "\n",
    "    def __repr__(self):\n",
    "        return 'AStar strategy'\n",
    "\n",
    "    def select(self, fringe):\n",
    "        # sort fringe following the evaluation function\n",
    "        fringe = sorted(fringe, key=lambda x: (self.problem.h(x.state)+x.cost))\n",
    "        node = fringe.pop(0)\n",
    "        return fringe, node"
   ],
   "metadata": {
    "id": "iOFZH16V7nQR"
   },
   "execution_count": 8,
   "outputs": []
  },
  {
   "cell_type": "markdown",
   "source": [
    "## Execution"
   ],
   "metadata": {
    "id": "nLvBFaOI8-xy"
   }
  },
  {
   "cell_type": "markdown",
   "source": [
    "Let's compute our main."
   ],
   "metadata": {
    "id": "tpDJcnRV9ADU"
   }
  },
  {
   "cell_type": "code",
   "source": [
    "class Node:\n",
    "    def __init__(self, state, parent, action, cost, depth):\n",
    "        self.state = state\n",
    "        self.parent = parent\n",
    "        self.action = action\n",
    "        self.cost = cost\n",
    "        self.depth = depth\n",
    "\n",
    "    def __repr__(self):\n",
    "        \"\"\"\n",
    "        A representation of the class. Useful with functions like print.\n",
    "        :return: a string\n",
    "        \"\"\"\n",
    "        return f'({self.state})'\n",
    "\n",
    "    def expand(self, state, action, cost=1):\n",
    "        \"\"\"\n",
    "        Given a new state returns a child tree node containing that state\n",
    "        :param new_state: state that will be contained by the node\n",
    "        :param action: action that led to the state\n",
    "        :param cost: cost of the path of the previous node\n",
    "        :return: a child node\n",
    "        \"\"\"\n",
    "        return Node(state=state,\n",
    "                    parent=self,\n",
    "                    action=action,\n",
    "                    cost=self.cost+cost,\n",
    "                    depth=self.depth+1)\n",
    "\n",
    "    def path(self):\n",
    "        \"\"\"\n",
    "         Returns the path from the root node to the actual node\n",
    "        :return: a list of actions\n",
    "        \"\"\"\n",
    "        path = []\n",
    "        node = self\n",
    "        while node.parent:\n",
    "            path.append(node.action)\n",
    "            node = node.parent\n",
    "        path = list(reversed(path))\n",
    "        return path\n"
   ],
   "metadata": {
    "id": "mQ-xEjua9jOY"
   },
   "execution_count": 9,
   "outputs": []
  },
  {
   "cell_type": "code",
   "source": [
    "map = Roads(streets, streets_coords)\n",
    "# formulate the problem\n",
    "initial_state = 'Ruvo'\n",
    "goal_state = 'Bari'\n",
    "map_problem = StreetProblem(environment=map,\n",
    "                      initial_state=initial_state,\n",
    "                      goal_state=goal_state)\n",
    "\n",
    "# search strategy\n",
    "strategies = [AStar(map_problem), Greedy(map_problem)]\n",
    "\n",
    "# search algorithm (Tree Search / Graph Search)\n",
    "for strategy in strategies:\n",
    "    search = TreeSearch(problem=map_problem, strategy=strategy)\n",
    "    result, node = search.run()\n",
    "    print(f'{strategy}, {search}')\n",
    "    print(result)\n",
    "    print(node.path())\n",
    "    print(node.cost)\n",
    "\n",
    "print(\"---------\")\n",
    "\n",
    "strategies = [AStar(map_problem), Greedy(map_problem)]\n",
    "for strategy in strategies:\n",
    "    search = GraphSearch(problem=map_problem, strategy=strategy)\n",
    "    result, node = search.run()\n",
    "    print(f'{strategy}, {search}')\n",
    "    print(result)\n",
    "    print(node.path())\n",
    "    print(node.cost)"
   ],
   "metadata": {
    "colab": {
     "base_uri": "https://localhost:8080/"
    },
    "id": "gHfseoKO9CIQ",
    "outputId": "f0d40cd5-75ce-47f2-d1b1-518f4e952298"
   },
   "execution_count": 10,
   "outputs": [
    {
     "output_type": "stream",
     "name": "stdout",
     "text": [
      "AStar strategy, Tree Search\n",
      "Ok\n",
      "['Terlizzi', 'Bitonto', 'Modugno', 'Bari']\n",
      "41.20288964555017\n",
      "Greedy strategy, Tree Search\n",
      "Ok\n",
      "['Terlizzi', 'Bitonto', 'Modugno', 'Bari']\n",
      "41.20288964555017\n",
      "---------\n",
      "AStar strategy, Graph Search\n",
      "Ok\n",
      "['Terlizzi', 'Bitonto', 'Modugno', 'Bari']\n",
      "41.20288964555017\n",
      "Greedy strategy, Graph Search\n",
      "Ok\n",
      "['Terlizzi', 'Bitonto', 'Modugno', 'Bari']\n",
      "41.20288964555017\n"
     ]
    }
   ]
  }
 ]
}
