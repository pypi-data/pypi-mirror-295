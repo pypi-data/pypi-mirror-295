{
 "cells": [
  {
   "metadata": {
    "ExecuteTime": {
     "end_time": "2024-09-04T08:13:46.701467Z",
     "start_time": "2024-09-04T08:13:46.698564Z"
    }
   },
   "cell_type": "code",
   "source": [
    "path = '/Users/robertkiewisz/Desktop/test/231110_JanelTTLL11_212-800_100nM_010_no_salt.nd2'\n",
    "\n",
    "extensions_points = (\n",
    "    '.csv',\n",
    ")\n",
    "\n",
    "extensions_images = (\n",
    "    '.rec',\n",
    "    '.mrc',\n",
    "    '.tiff',\n",
    "    '.tif',\n",
    "    '.nd2',\n",
    "    '.am'\n",
    ")\n",
    "path.endswith(extensions_images)"
   ],
   "id": "e6eb6809b4de2bbf",
   "outputs": [
    {
     "data": {
      "text/plain": [
       "True"
      ]
     },
     "execution_count": 32,
     "metadata": {},
     "output_type": "execute_result"
    }
   ],
   "execution_count": 32
  },
  {
   "metadata": {},
   "cell_type": "code",
   "outputs": [],
   "execution_count": null,
   "source": "",
   "id": "cc42d2e3c2cb78db"
  },
  {
   "cell_type": "code",
   "id": "initial_id",
   "metadata": {
    "collapsed": true,
    "ExecuteTime": {
     "end_time": "2024-07-13T08:50:11.228121Z",
     "start_time": "2024-07-13T08:50:07.804043Z"
    }
   },
   "source": [
    "import torch\n",
    "\n",
    "def get_available_devices():\n",
    "    devices = ['cpu']\n",
    "    \n",
    "    # Check if CUDA (NVIDIA GPU) is available and list all available CUDA devices\n",
    "    if torch.cuda.is_available():\n",
    "        for i in range(torch.cuda.device_count()):\n",
    "            devices.append(f'cuda:{i}')\n",
    "    \n",
    "    # Check for MPS (Apple's Metal Performance Shaders) availability\n",
    "    if torch.backends.mps.is_available():\n",
    "        devices.append('mps')\n",
    "    \n",
    "    return devices"
   ],
   "outputs": [],
   "execution_count": 1
  },
  {
   "metadata": {
    "ExecuteTime": {
     "end_time": "2024-07-13T08:50:24.038029Z",
     "start_time": "2024-07-13T08:50:24.008156Z"
    }
   },
   "cell_type": "code",
   "source": "get_available_devices()",
   "id": "7a84a850798f427c",
   "outputs": [
    {
     "data": {
      "text/plain": [
       "['cpu', 'mps']"
      ]
     },
     "execution_count": 3,
     "metadata": {},
     "output_type": "execute_result"
    }
   ],
   "execution_count": 3
  },
  {
   "metadata": {
    "ExecuteTime": {
     "end_time": "2024-09-03T07:09:38.905155Z",
     "start_time": "2024-09-03T07:09:38.898346Z"
    }
   },
   "cell_type": "code",
   "source": [
    "import numpy as np\n",
    "\n",
    "data = np.genfromtxt('../../../test/Predictions/231110_JanelTTLL11_212-800_100nM_010_no_salt_3_instances_filter.csv', skip_header=1, delimiter=',', dtype=np.float16)\n",
    "unique_ids = np.unique(data[:, 0])"
   ],
   "id": "e9d829b22b8305d6",
   "outputs": [],
   "execution_count": 25
  },
  {
   "metadata": {
    "ExecuteTime": {
     "end_time": "2024-09-03T07:21:30.630483Z",
     "start_time": "2024-09-03T07:21:30.627082Z"
    }
   },
   "cell_type": "code",
   "source": [
    "from os.path import splitext, basename\n",
    "\n",
    "path = '../../../test/Predictions/231110_JanelTTLL11_212-800_100nM_010_no_salt_3_instances_filter.csv'\n",
    "splitext(basename(path))[0]"
   ],
   "id": "db59364de50b18ed",
   "outputs": [
    {
     "data": {
      "text/plain": [
       "'231110_JanelTTLL11_212-800_100nM_010_no_salt_3_instances_filter'"
      ]
     },
     "execution_count": 27,
     "metadata": {},
     "output_type": "execute_result"
    }
   ],
   "execution_count": 27
  },
  {
   "metadata": {},
   "cell_type": "markdown",
   "source": "",
   "id": "7483a59b8f063eb5"
  },
  {
   "metadata": {
    "ExecuteTime": {
     "end_time": "2024-09-03T07:09:39.832038Z",
     "start_time": "2024-09-03T07:09:39.827493Z"
    }
   },
   "cell_type": "code",
   "source": [
    "data = data[:, 1:]\n",
    "data = np.vstack((data[:, 2], data[:, 1], data[:, 0])).T\n",
    "data"
   ],
   "id": "275a2afdca5b4fd",
   "outputs": [
    {
     "data": {
      "text/plain": [
       "array([[   0. ,  819.5,  411. ],\n",
       "       [   0. ,  819.5,  413. ],\n",
       "       [   0. ,  616. ,  800. ],\n",
       "       ...,\n",
       "       [   0. ,  723. , 1152. ],\n",
       "       [   0. ,  723. , 1157. ],\n",
       "       [   0. ,  723.5, 1160. ]], dtype=float16)"
      ]
     },
     "execution_count": 26,
     "metadata": {},
     "output_type": "execute_result"
    }
   ],
   "execution_count": 26
  }
 ],
 "metadata": {
  "kernelspec": {
   "display_name": "Python 3",
   "language": "python",
   "name": "python3"
  },
  "language_info": {
   "codemirror_mode": {
    "name": "ipython",
    "version": 2
   },
   "file_extension": ".py",
   "mimetype": "text/x-python",
   "name": "python",
   "nbconvert_exporter": "python",
   "pygments_lexer": "ipython2",
   "version": "2.7.6"
  }
 },
 "nbformat": 4,
 "nbformat_minor": 5
}
