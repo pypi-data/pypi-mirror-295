{
 "cells": [
  {
   "cell_type": "markdown",
   "metadata": {},
   "source": [
    "# Example how to use a NeXus/HDF5/NXapm file"
   ]
  },
  {
   "cell_type": "markdown",
   "metadata": {},
   "source": [
    "Make sure that you have successfully created a NeXus/HDF5 file before starting this tutorial.<br>\n",
    "If this was successful, define the path and name of the NeXus file you want to work with.<br>"
   ]
  },
  {
   "cell_type": "code",
   "execution_count": null,
   "metadata": {},
   "outputs": [],
   "source": [
    "nxs_file_path = \"apm.case1.nxs\""
   ]
  },
  {
   "cell_type": "code",
   "execution_count": null,
   "metadata": {},
   "outputs": [],
   "source": [
    "import numpy as np\n",
    "import matplotlib.pyplot as plt\n",
    "from matplotlib.collections import PatchCollection\n",
    "from matplotlib.patches import Rectangle\n",
    "from jupyterlab_h5web import H5Web\n",
    "plt.rcParams[\"figure.figsize\"] = [20, 10]\n",
    "plt.rcParams[\"figure.dpi\"] = 300\n",
    "import h5py"
   ]
  },
  {
   "cell_type": "code",
   "execution_count": null,
   "metadata": {},
   "outputs": [],
   "source": [
    "H5Web(nxs_file_path)"
   ]
  },
  {
   "cell_type": "markdown",
   "metadata": {},
   "source": [
    "Read mass-to-charge-state ratio values, create a histogram (\"mass spectrum\"), and mark ranges."
   ]
  },
  {
   "cell_type": "code",
   "execution_count": null,
   "metadata": {},
   "outputs": [],
   "source": [
    "# load data and ranges e.g. for case1\n",
    "with h5py.File(nxs_file_path, \"r\") as h5r:\n",
    "    mq = h5r[\"entry1/atom_probe/mass_to_charge_conversion/mass_to_charge\"][:]\n",
    "    nions = np.uint32(h5r[\"entry1/atom_probe/ranging/number_of_ion_types\"][()])\n",
    "    print(f\"Array with mass-to-charge-state ratios loaded, {nions} iontypes are distinguished\")"
   ]
  },
  {
   "cell_type": "code",
   "execution_count": null,
   "metadata": {},
   "outputs": [],
   "source": [
    "# define binning\n",
    "[mqmin, mqmax] = [0., 100.0]  # Da np.max(mq)]\n",
    "print(f\"Dataset ranging from [ {mqmin}, {mqmax}] Da.\")\n",
    "mqincr = 0.01  # Da\n",
    "print(f\"Using a mass-to-charge-state ratio resolution of {mqincr} Da.\")"
   ]
  },
  {
   "cell_type": "code",
   "execution_count": null,
   "metadata": {},
   "outputs": [],
   "source": [
    "# transform collection of mass-to-charge-state ratios into a histogram\n",
    "hst1d = np.unique(np.uint64(np.floor((mq[np.logical_and(mq >= mqmin, mq <= mqmax)] - mqmin) / mqincr)), return_counts=True)\n",
    "nbins = np.uint64((mqmax - mqmin) / mqincr + 1)\n",
    "print(f\"Histogram has {nbins} bins.\")"
   ]
  },
  {
   "cell_type": "code",
   "execution_count": null,
   "metadata": {},
   "outputs": [],
   "source": [
    "# use matplotlib and numpy to plot histogram data \n",
    "xy = np.zeros([nbins, 2], np.float64)\n",
    "xy[:,0] = np.linspace(mqmin + mqincr, mqmax + mqincr, nbins, endpoint=True)\n",
    "xy[:,1] = 0.5  # * np.ones([nbins], np.float64)  # 0.5 to be able to plot logarithm you can not measure half an atom\n",
    "for i in np.arange(0, len(hst1d[0])):\n",
    "    binidx = hst1d[0][i]\n",
    "    xy[binidx, 1] = hst1d[1][i]\n",
    "print(\"Mass-to-charge-state histogram created.\")"
   ]
  },
  {
   "cell_type": "code",
   "execution_count": null,
   "metadata": {},
   "outputs": [],
   "source": [
    "[xmi, xmx, ymi, ymx] = [mqmin, 10**np.ceil(np.log10(mqmax)), 0.5, 10**np.ceil(np.log10(np.max(xy[:,1])))]\n",
    "[xmi, xmx, ymi, ymx] = [mqmin, mqmax, 0.5, 10**np.ceil(np.log10(np.max(xy[:,1])))]\n",
    "\n",
    "with h5py.File(nxs_file_path, \"r\") as h5r:\n",
    "    fig, cnts_over_mq = plt.subplots(1, 1)\n",
    "    plt.plot(xy[:, 0], xy[:, 1], color=\"blue\", alpha=0.5, linewidth=1.0)\n",
    "    for i in np.arange(1, nions):\n",
    "        print(f\"Collect ion{i}...\")\n",
    "        # load ranges and plot them\n",
    "        ranges = h5r[f\"entry1/atom_probe/ranging/peak_identification/ion{i}/mass_to_charge_range\"][:]\n",
    "        for min_max in ranges:\n",
    "            cnts_over_mq.vlines(min_max[0], 0, 1, transform=cnts_over_mq.get_xaxis_transform(), alpha=0.1, color=\"grey\", linestyles=\"dotted\")\n",
    "            cnts_over_mq.vlines(min_max[1], 0, 1, transform=cnts_over_mq.get_xaxis_transform(), alpha=0.1, color=\"grey\", linestyles=\"dotted\")\n",
    "            # rng = Rectangle((min_max[0], ymi), min_max[1] - min_max[0], ymx - ymi, edgecolor=\"r\", facecolor=\"none\")\n",
    "    # plt.xticks([1, 2, 3, 4, 5, 6, 7, 8, 9], [\"Min\", \"0.0025\", \"0.025\", \"0.25\", \"0.50\", \"0.75\", \"0.975\", \"0.9975\", \"Max\"])\n",
    "    plt.yscale(\"log\")\n",
    "    plt.legend([r\"Mass-to-charge-state ratio $\\Delta\\frac{m}{q} = $\"+str(mqincr)+\" Da\"], loc=\"upper right\")\n",
    "    plt.xlabel(r\"Mass-to-charge-state-ratio (Da)\")\n",
    "    plt.ylabel(r\"Counts\")\n",
    "    print(\"Mass-to-charge-state histogram visualized.\")\n",
    "    # scale bar with add margin to the bottom and top of the yaxis to avoid that lines fall on x axis\n",
    "    margin=0.01  # polishing the margins\n",
    "    plt.xlim([-margin * (xmx - xmi) + xmi, +margin * (xmx - xmi) + xmx])\n",
    "    plt.ylim([ymi, +margin * (ymx - ymi) + ymx])"
   ]
  },
  {
   "cell_type": "code",
   "execution_count": null,
   "metadata": {},
   "outputs": [],
   "source": [
    "# save the figure\n",
    "figfn = f\"{nxs_file_path}.MassToChargeStateRatio.png\"\n",
    "fig.savefig(figfn, dpi=300, facecolor=\"w\", edgecolor=\"w\", orientation=\"landscape\", format=\"png\", \n",
    "            transparent=False, bbox_inches=\"tight\", pad_inches=0.1, metadata=None)\n",
    "# plt.close(\"all\")\n",
    "print(f\"{figfn} stored to disk.\")"
   ]
  },
  {
   "cell_type": "markdown",
   "metadata": {},
   "source": [
    "# Conclusions:\n",
    "***"
   ]
  },
  {
   "cell_type": "markdown",
   "metadata": {},
   "source": [
    "This tutorial showed how you can load and work with data within an NeXus/HDF5 file that<br>\n",
    "is formatted according to the NXapm application definition."
   ]
  },
  {
   "cell_type": "markdown",
   "metadata": {},
   "source": [
    "### Contact person for pynxtools-apm and related examples in FAIRmat:\n",
    "Dr.-Ing. Markus Kühbach, 2024/09/12<br>\n",
    "\n",
    "### Funding\n",
    "<a href=\"https://www.fairmat-nfdi.eu/fairmat\">FAIRmat</a> is a consortium on research data management which is part of the German NFDI.<br>\n",
    "The project is funded by the Deutsche Forschungsgemeinschaft (DFG, German Research Foundation) – project 460197019."
   ]
  },
  {
   "cell_type": "code",
   "execution_count": null,
   "metadata": {},
   "outputs": [],
   "source": []
  }
 ],
 "metadata": {
  "kernelspec": {
   "display_name": "Python 3 (ipykernel)",
   "language": "python",
   "name": "python3"
  },
  "language_info": {
   "codemirror_mode": {
    "name": "ipython",
    "version": 3
   },
   "file_extension": ".py",
   "mimetype": "text/x-python",
   "name": "python",
   "nbconvert_exporter": "python",
   "pygments_lexer": "ipython3",
   "version": "3.12.4"
  }
 },
 "nbformat": 4,
 "nbformat_minor": 4
}
