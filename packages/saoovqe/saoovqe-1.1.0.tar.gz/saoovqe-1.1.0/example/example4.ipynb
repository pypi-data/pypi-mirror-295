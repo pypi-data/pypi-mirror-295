{
 "cells": [
  {
   "metadata": {},
   "cell_type": "markdown",
   "source": [
    "# Example 1: Computation of Energies and Gradients\n",
    "\n",
    "In this example it is shown, how to run the basic energy and gradient computations with novel approach for diabatization of orbitals."
   ],
   "id": "caab2890872ed853"
  },
  {
   "metadata": {},
   "cell_type": "markdown",
   "source": "First, we specify the geometry of our system.",
   "id": "1897506f207e0310"
  },
  {
   "metadata": {
    "ExecuteTime": {
     "end_time": "2024-06-21T00:11:58.887851Z",
     "start_time": "2024-06-21T00:11:58.885166Z"
    }
   },
   "cell_type": "code",
   "source": [
    "symbols = ['C', 'N', 'H', 'H', 'H']\n",
    "coords = [[-0.000000000, 0.000000000, -0.000000000],\n",
    "            [-0.000000000, 0.000000000, 1.412052000],\n",
    "            [-0.000000000, -0.944215264, -0.525349226],\n",
    "            [-0.000000000, 0.944215264, -0.525349226],\n",
    "            [-0.176643782, 0.000000000, 2.413848671]]"
   ],
   "id": "759bcd6c4184e4f8",
   "outputs": [],
   "execution_count": 1
  },
  {
   "metadata": {},
   "cell_type": "markdown",
   "source": "Now, let's define our system's properties.",
   "id": "3de40e7f536f8f2a"
  },
  {
   "metadata": {
    "ExecuteTime": {
     "end_time": "2024-06-21T00:11:58.893385Z",
     "start_time": "2024-06-21T00:11:58.889270Z"
    }
   },
   "cell_type": "code",
   "source": [
    "n_orbs_active = 2\n",
    "n_elec_active = 2\n",
    "charge = 0\n",
    "multiplicity = 1\n",
    "basis = 'sto-3g'"
   ],
   "id": "a2724ab6eaac547a",
   "outputs": [],
   "execution_count": 2
  },
  {
   "metadata": {},
   "cell_type": "markdown",
   "source": "For the diabatization process, we use previously obtained wavefunction. Let's load it now.",
   "id": "aa69484f0cd19855"
  },
  {
   "metadata": {
    "ExecuteTime": {
     "end_time": "2024-06-21T00:11:59.283309Z",
     "start_time": "2024-06-21T00:11:58.894659Z"
    }
   },
   "cell_type": "code",
   "source": [
    "import psi4\n",
    "\n",
    "load_wfn = psi4.core.Wavefunction.from_file(f'../tests/bruno_wfn_phi0_theta_180_sto3g')"
   ],
   "id": "1ec9a55cb0d1dc90",
   "outputs": [
    {
     "name": "stdout",
     "output_type": "stream",
     "text": [
      "   => Loading Basis Set <=\n",
      "\n",
      "    Name: STO-3G\n",
      "    Role: ORBITAL\n",
      "    Keyword: BASIS\n",
      "    atoms 1   entry C          line    61 file /home/martinb/anaconda3/envs/saoovqe-env/share/psi4/basis/sto-3g.gbs \n",
      "    atoms 2   entry N          line    71 file /home/martinb/anaconda3/envs/saoovqe-env/share/psi4/basis/sto-3g.gbs \n",
      "    atoms 3-5 entry H          line    19 file /home/martinb/anaconda3/envs/saoovqe-env/share/psi4/basis/sto-3g.gbs \n",
      "\n"
     ]
    }
   ],
   "execution_count": 3
  },
  {
   "metadata": {},
   "cell_type": "markdown",
   "source": "Now, we create our problem using our previously computed wavefunction, ",
   "id": "f0f0328e013d42ca"
  },
  {
   "metadata": {
    "ExecuteTime": {
     "end_time": "2024-06-21T00:12:01.648020Z",
     "start_time": "2024-06-21T00:11:59.284710Z"
    }
   },
   "cell_type": "code",
   "source": [
    "import saoovqe\n",
    "\n",
    "problem = saoovqe.ProblemSet.with_dia_orbs_from_prev_wfn(symbols, coords, charge, multiplicity, n_elec_active,\n",
    "                                                                 n_orbs_active, load_wfn, basis)\n"
   ],
   "id": "95cd170fecbd7441",
   "outputs": [
    {
     "name": "stderr",
     "output_type": "stream",
     "text": [
      "2024-06-21 02:12:01,601 - SAOOVQE.logger - INFO - SecondQuantizedProblem was created.\n"
     ]
    }
   ],
   "execution_count": 4
  },
  {
   "metadata": {},
   "cell_type": "markdown",
   "source": "create initial circuits and ansatz,",
   "id": "efafe4ee6f6c8a8d"
  },
  {
   "metadata": {
    "ExecuteTime": {
     "end_time": "2024-06-21T00:12:01.840867Z",
     "start_time": "2024-06-21T00:12:01.649186Z"
    }
   },
   "cell_type": "code",
   "source": [
    "n_states = 2\n",
    "initial_circuits = saoovqe.OrthogonalCircuitSet.from_problem_set(n_states, problem)\n",
    "\n",
    "repetitions = 1\n",
    "ansatz = saoovqe.Ansatz.from_problem_set(saoovqe.AnsatzType.GUCCSD,\n",
    "                                         problem,\n",
    "                                         repetitions,\n",
    "                                         qubit_mapper=problem.fermionic_mapper)"
   ],
   "id": "728897eef7a525ac",
   "outputs": [
    {
     "name": "stderr",
     "output_type": "stream",
     "text": [
      "2024-06-21 02:12:01,655 - SAOOVQE.logger - INFO - Circuits representing an orthogonal basis were created.\n",
      "2024-06-21 02:12:01,839 - SAOOVQE.logger - INFO - Ansatz was created.\n"
     ]
    }
   ],
   "execution_count": 5
  },
  {
   "metadata": {},
   "cell_type": "markdown",
   "source": "and finally, we create our solver.",
   "id": "2596eb0f7cd33f07"
  },
  {
   "metadata": {
    "ExecuteTime": {
     "end_time": "2024-06-21T00:12:01.845068Z",
     "start_time": "2024-06-21T00:12:01.841777Z"
    }
   },
   "cell_type": "code",
   "source": [
    "from qiskit.primitives import Estimator\n",
    "\n",
    "estimator = Estimator()\n",
    "saoovqe_solver = saoovqe.SAOOVQE(estimator,\n",
    "                                 initial_circuits,\n",
    "                                 ansatz,\n",
    "                                 problem,\n",
    "                                 orbital_optimization_settings={})"
   ],
   "id": "e2cb1d369fd3805e",
   "outputs": [
    {
     "name": "stderr",
     "output_type": "stream",
     "text": [
      "2024-06-21 02:12:01,842 - SAOOVQE.logger - INFO - SAOOVQE was created.\n"
     ]
    }
   ],
   "execution_count": 6
  },
  {
   "metadata": {},
   "cell_type": "markdown",
   "source": "As we now have all that is required, we calculate our energies.",
   "id": "db62e6794eb64a19"
  },
  {
   "metadata": {
    "ExecuteTime": {
     "end_time": "2024-06-21T00:12:21.576031Z",
     "start_time": "2024-06-21T00:12:01.845932Z"
    }
   },
   "cell_type": "code",
   "source": [
    "from qiskit_algorithms.optimizers import SciPyOptimizer\n",
    "\n",
    "energies = saoovqe_solver.get_energy(SciPyOptimizer('SLSQP', options={'maxiter': 500, 'ftol': 1e-8}))\n",
    "energies"
   ],
   "id": "a1f6460cedb94930",
   "outputs": [
    {
     "name": "stderr",
     "output_type": "stream",
     "text": [
      "2024-06-21 02:12:01,847 - SAOOVQE.logger - INFO - Computing energies...\n",
      "--- Logging error ---\n",
      "Traceback (most recent call last):\n",
      "  File \"/home/martinb/anaconda3/envs/saoovqe-env/lib/python3.12/logging/__init__.py\", line 1160, in emit\n",
      "    msg = self.format(record)\n",
      "          ^^^^^^^^^^^^^^^^^^^\n",
      "  File \"/home/martinb/anaconda3/envs/saoovqe-env/lib/python3.12/logging/__init__.py\", line 999, in format\n",
      "    return fmt.format(record)\n",
      "           ^^^^^^^^^^^^^^^^^^\n",
      "  File \"/home/martinb/anaconda3/envs/saoovqe-env/lib/python3.12/logging/__init__.py\", line 703, in format\n",
      "    record.message = record.getMessage()\n",
      "                     ^^^^^^^^^^^^^^^^^^^\n",
      "  File \"/home/martinb/anaconda3/envs/saoovqe-env/lib/python3.12/logging/__init__.py\", line 392, in getMessage\n",
      "    msg = msg % self.args\n",
      "          ~~~~^~~~~~~~~~~\n",
      "TypeError: not all arguments converted during string formatting\n",
      "Call stack:\n",
      "  File \"<frozen runpy>\", line 198, in _run_module_as_main\n",
      "  File \"<frozen runpy>\", line 88, in _run_code\n",
      "  File \"/home/martinb/anaconda3/envs/saoovqe-env/lib/python3.12/site-packages/ipykernel_launcher.py\", line 18, in <module>\n",
      "    app.launch_new_instance()\n",
      "  File \"/home/martinb/anaconda3/envs/saoovqe-env/lib/python3.12/site-packages/traitlets/config/application.py\", line 1075, in launch_instance\n",
      "    app.start()\n",
      "  File \"/home/martinb/anaconda3/envs/saoovqe-env/lib/python3.12/site-packages/ipykernel/kernelapp.py\", line 739, in start\n",
      "    self.io_loop.start()\n",
      "  File \"/home/martinb/anaconda3/envs/saoovqe-env/lib/python3.12/site-packages/tornado/platform/asyncio.py\", line 205, in start\n",
      "    self.asyncio_loop.run_forever()\n",
      "  File \"/home/martinb/anaconda3/envs/saoovqe-env/lib/python3.12/asyncio/base_events.py\", line 641, in run_forever\n",
      "    self._run_once()\n",
      "  File \"/home/martinb/anaconda3/envs/saoovqe-env/lib/python3.12/asyncio/base_events.py\", line 1987, in _run_once\n",
      "    handle._run()\n",
      "  File \"/home/martinb/anaconda3/envs/saoovqe-env/lib/python3.12/asyncio/events.py\", line 88, in _run\n",
      "    self._context.run(self._callback, *self._args)\n",
      "  File \"/home/martinb/anaconda3/envs/saoovqe-env/lib/python3.12/site-packages/ipykernel/kernelbase.py\", line 545, in dispatch_queue\n",
      "    await self.process_one()\n",
      "  File \"/home/martinb/anaconda3/envs/saoovqe-env/lib/python3.12/site-packages/ipykernel/kernelbase.py\", line 534, in process_one\n",
      "    await dispatch(*args)\n",
      "  File \"/home/martinb/anaconda3/envs/saoovqe-env/lib/python3.12/site-packages/ipykernel/kernelbase.py\", line 437, in dispatch_shell\n",
      "    await result\n",
      "  File \"/home/martinb/anaconda3/envs/saoovqe-env/lib/python3.12/site-packages/ipykernel/ipkernel.py\", line 362, in execute_request\n",
      "    await super().execute_request(stream, ident, parent)\n",
      "  File \"/home/martinb/anaconda3/envs/saoovqe-env/lib/python3.12/site-packages/ipykernel/kernelbase.py\", line 778, in execute_request\n",
      "    reply_content = await reply_content\n",
      "  File \"/home/martinb/anaconda3/envs/saoovqe-env/lib/python3.12/site-packages/ipykernel/ipkernel.py\", line 449, in do_execute\n",
      "    res = shell.run_cell(\n",
      "  File \"/home/martinb/anaconda3/envs/saoovqe-env/lib/python3.12/site-packages/ipykernel/zmqshell.py\", line 549, in run_cell\n",
      "    return super().run_cell(*args, **kwargs)\n",
      "  File \"/home/martinb/anaconda3/envs/saoovqe-env/lib/python3.12/site-packages/IPython/core/interactiveshell.py\", line 3075, in run_cell\n",
      "    result = self._run_cell(\n",
      "  File \"/home/martinb/anaconda3/envs/saoovqe-env/lib/python3.12/site-packages/IPython/core/interactiveshell.py\", line 3130, in _run_cell\n",
      "    result = runner(coro)\n",
      "  File \"/home/martinb/anaconda3/envs/saoovqe-env/lib/python3.12/site-packages/IPython/core/async_helpers.py\", line 129, in _pseudo_sync_runner\n",
      "    coro.send(None)\n",
      "  File \"/home/martinb/anaconda3/envs/saoovqe-env/lib/python3.12/site-packages/IPython/core/interactiveshell.py\", line 3334, in run_cell_async\n",
      "    has_raised = await self.run_ast_nodes(code_ast.body, cell_name,\n",
      "  File \"/home/martinb/anaconda3/envs/saoovqe-env/lib/python3.12/site-packages/IPython/core/interactiveshell.py\", line 3517, in run_ast_nodes\n",
      "    if await self.run_code(code, result, async_=asy):\n",
      "  File \"/home/martinb/anaconda3/envs/saoovqe-env/lib/python3.12/site-packages/IPython/core/interactiveshell.py\", line 3577, in run_code\n",
      "    exec(code_obj, self.user_global_ns, self.user_ns)\n",
      "  File \"/tmp/ipykernel_7311/11342745.py\", line 3, in <module>\n",
      "    energies = saoovqe_solver.get_energy(SciPyOptimizer('SLSQP', options={'maxiter': 500, 'ftol': 1e-8}))\n",
      "  File \"/home/martinb/sa-oo-vqe-qiskit/saoovqe/vqe_optimization.py\", line 888, in get_energy\n",
      "    log.info(\"SA-optimized ansatz parameters: {}\", optimization_res.x)\n",
      "Message: 'SA-optimized ansatz parameters: {}'\n",
      "Arguments: (array([-5.62726438e-06, -3.75150959e-06, -1.51916900e-02]),)\n",
      "2024-06-21 02:12:02,367 - SAOOVQE.logger - INFO - Starting Orbital-Optimization process...\n",
      "--- Logging error ---\n",
      "Traceback (most recent call last):\n",
      "  File \"/home/martinb/anaconda3/envs/saoovqe-env/lib/python3.12/logging/__init__.py\", line 1160, in emit\n",
      "    msg = self.format(record)\n",
      "          ^^^^^^^^^^^^^^^^^^^\n",
      "  File \"/home/martinb/anaconda3/envs/saoovqe-env/lib/python3.12/logging/__init__.py\", line 999, in format\n",
      "    return fmt.format(record)\n",
      "           ^^^^^^^^^^^^^^^^^^\n",
      "  File \"/home/martinb/anaconda3/envs/saoovqe-env/lib/python3.12/logging/__init__.py\", line 703, in format\n",
      "    record.message = record.getMessage()\n",
      "                     ^^^^^^^^^^^^^^^^^^^\n",
      "  File \"/home/martinb/anaconda3/envs/saoovqe-env/lib/python3.12/logging/__init__.py\", line 392, in getMessage\n",
      "    msg = msg % self.args\n",
      "          ~~~~^~~~~~~~~~~\n",
      "TypeError: not all arguments converted during string formatting\n",
      "Call stack:\n",
      "  File \"<frozen runpy>\", line 198, in _run_module_as_main\n",
      "  File \"<frozen runpy>\", line 88, in _run_code\n",
      "  File \"/home/martinb/anaconda3/envs/saoovqe-env/lib/python3.12/site-packages/ipykernel_launcher.py\", line 18, in <module>\n",
      "    app.launch_new_instance()\n",
      "  File \"/home/martinb/anaconda3/envs/saoovqe-env/lib/python3.12/site-packages/traitlets/config/application.py\", line 1075, in launch_instance\n",
      "    app.start()\n",
      "  File \"/home/martinb/anaconda3/envs/saoovqe-env/lib/python3.12/site-packages/ipykernel/kernelapp.py\", line 739, in start\n",
      "    self.io_loop.start()\n",
      "  File \"/home/martinb/anaconda3/envs/saoovqe-env/lib/python3.12/site-packages/tornado/platform/asyncio.py\", line 205, in start\n",
      "    self.asyncio_loop.run_forever()\n",
      "  File \"/home/martinb/anaconda3/envs/saoovqe-env/lib/python3.12/asyncio/base_events.py\", line 641, in run_forever\n",
      "    self._run_once()\n",
      "  File \"/home/martinb/anaconda3/envs/saoovqe-env/lib/python3.12/asyncio/base_events.py\", line 1987, in _run_once\n",
      "    handle._run()\n",
      "  File \"/home/martinb/anaconda3/envs/saoovqe-env/lib/python3.12/asyncio/events.py\", line 88, in _run\n",
      "    self._context.run(self._callback, *self._args)\n",
      "  File \"/home/martinb/anaconda3/envs/saoovqe-env/lib/python3.12/site-packages/ipykernel/kernelbase.py\", line 545, in dispatch_queue\n",
      "    await self.process_one()\n",
      "  File \"/home/martinb/anaconda3/envs/saoovqe-env/lib/python3.12/site-packages/ipykernel/kernelbase.py\", line 534, in process_one\n",
      "    await dispatch(*args)\n",
      "  File \"/home/martinb/anaconda3/envs/saoovqe-env/lib/python3.12/site-packages/ipykernel/kernelbase.py\", line 437, in dispatch_shell\n",
      "    await result\n",
      "  File \"/home/martinb/anaconda3/envs/saoovqe-env/lib/python3.12/site-packages/ipykernel/ipkernel.py\", line 362, in execute_request\n",
      "    await super().execute_request(stream, ident, parent)\n",
      "  File \"/home/martinb/anaconda3/envs/saoovqe-env/lib/python3.12/site-packages/ipykernel/kernelbase.py\", line 778, in execute_request\n",
      "    reply_content = await reply_content\n",
      "  File \"/home/martinb/anaconda3/envs/saoovqe-env/lib/python3.12/site-packages/ipykernel/ipkernel.py\", line 449, in do_execute\n",
      "    res = shell.run_cell(\n",
      "  File \"/home/martinb/anaconda3/envs/saoovqe-env/lib/python3.12/site-packages/ipykernel/zmqshell.py\", line 549, in run_cell\n",
      "    return super().run_cell(*args, **kwargs)\n",
      "  File \"/home/martinb/anaconda3/envs/saoovqe-env/lib/python3.12/site-packages/IPython/core/interactiveshell.py\", line 3075, in run_cell\n",
      "    result = self._run_cell(\n",
      "  File \"/home/martinb/anaconda3/envs/saoovqe-env/lib/python3.12/site-packages/IPython/core/interactiveshell.py\", line 3130, in _run_cell\n",
      "    result = runner(coro)\n",
      "  File \"/home/martinb/anaconda3/envs/saoovqe-env/lib/python3.12/site-packages/IPython/core/async_helpers.py\", line 129, in _pseudo_sync_runner\n",
      "    coro.send(None)\n",
      "  File \"/home/martinb/anaconda3/envs/saoovqe-env/lib/python3.12/site-packages/IPython/core/interactiveshell.py\", line 3334, in run_cell_async\n",
      "    has_raised = await self.run_ast_nodes(code_ast.body, cell_name,\n",
      "  File \"/home/martinb/anaconda3/envs/saoovqe-env/lib/python3.12/site-packages/IPython/core/interactiveshell.py\", line 3517, in run_ast_nodes\n",
      "    if await self.run_code(code, result, async_=asy):\n",
      "  File \"/home/martinb/anaconda3/envs/saoovqe-env/lib/python3.12/site-packages/IPython/core/interactiveshell.py\", line 3577, in run_code\n",
      "    exec(code_obj, self.user_global_ns, self.user_ns)\n",
      "  File \"/tmp/ipykernel_7311/11342745.py\", line 3, in <module>\n",
      "    energies = saoovqe_solver.get_energy(SciPyOptimizer('SLSQP', options={'maxiter': 500, 'ftol': 1e-8}))\n",
      "  File \"/home/martinb/sa-oo-vqe-qiskit/saoovqe/vqe_optimization.py\", line 888, in get_energy\n",
      "    log.info(\"SA-optimized ansatz parameters: {}\", optimization_res.x)\n",
      "Message: 'SA-optimized ansatz parameters: {}'\n",
      "Arguments: (array([-3.69676736e-07,  1.69866605e-06, -1.37956050e-02]),)\n",
      "2024-06-21 02:12:13,136 - SAOOVQE.logger - INFO - Starting Orbital-Optimization process...\n",
      "--- Logging error ---\n",
      "Traceback (most recent call last):\n",
      "  File \"/home/martinb/anaconda3/envs/saoovqe-env/lib/python3.12/logging/__init__.py\", line 1160, in emit\n",
      "    msg = self.format(record)\n",
      "          ^^^^^^^^^^^^^^^^^^^\n",
      "  File \"/home/martinb/anaconda3/envs/saoovqe-env/lib/python3.12/logging/__init__.py\", line 999, in format\n",
      "    return fmt.format(record)\n",
      "           ^^^^^^^^^^^^^^^^^^\n",
      "  File \"/home/martinb/anaconda3/envs/saoovqe-env/lib/python3.12/logging/__init__.py\", line 703, in format\n",
      "    record.message = record.getMessage()\n",
      "                     ^^^^^^^^^^^^^^^^^^^\n",
      "  File \"/home/martinb/anaconda3/envs/saoovqe-env/lib/python3.12/logging/__init__.py\", line 392, in getMessage\n",
      "    msg = msg % self.args\n",
      "          ~~~~^~~~~~~~~~~\n",
      "TypeError: not all arguments converted during string formatting\n",
      "Call stack:\n",
      "  File \"<frozen runpy>\", line 198, in _run_module_as_main\n",
      "  File \"<frozen runpy>\", line 88, in _run_code\n",
      "  File \"/home/martinb/anaconda3/envs/saoovqe-env/lib/python3.12/site-packages/ipykernel_launcher.py\", line 18, in <module>\n",
      "    app.launch_new_instance()\n",
      "  File \"/home/martinb/anaconda3/envs/saoovqe-env/lib/python3.12/site-packages/traitlets/config/application.py\", line 1075, in launch_instance\n",
      "    app.start()\n",
      "  File \"/home/martinb/anaconda3/envs/saoovqe-env/lib/python3.12/site-packages/ipykernel/kernelapp.py\", line 739, in start\n",
      "    self.io_loop.start()\n",
      "  File \"/home/martinb/anaconda3/envs/saoovqe-env/lib/python3.12/site-packages/tornado/platform/asyncio.py\", line 205, in start\n",
      "    self.asyncio_loop.run_forever()\n",
      "  File \"/home/martinb/anaconda3/envs/saoovqe-env/lib/python3.12/asyncio/base_events.py\", line 641, in run_forever\n",
      "    self._run_once()\n",
      "  File \"/home/martinb/anaconda3/envs/saoovqe-env/lib/python3.12/asyncio/base_events.py\", line 1987, in _run_once\n",
      "    handle._run()\n",
      "  File \"/home/martinb/anaconda3/envs/saoovqe-env/lib/python3.12/asyncio/events.py\", line 88, in _run\n",
      "    self._context.run(self._callback, *self._args)\n",
      "  File \"/home/martinb/anaconda3/envs/saoovqe-env/lib/python3.12/site-packages/ipykernel/kernelbase.py\", line 545, in dispatch_queue\n",
      "    await self.process_one()\n",
      "  File \"/home/martinb/anaconda3/envs/saoovqe-env/lib/python3.12/site-packages/ipykernel/kernelbase.py\", line 534, in process_one\n",
      "    await dispatch(*args)\n",
      "  File \"/home/martinb/anaconda3/envs/saoovqe-env/lib/python3.12/site-packages/ipykernel/kernelbase.py\", line 437, in dispatch_shell\n",
      "    await result\n",
      "  File \"/home/martinb/anaconda3/envs/saoovqe-env/lib/python3.12/site-packages/ipykernel/ipkernel.py\", line 362, in execute_request\n",
      "    await super().execute_request(stream, ident, parent)\n",
      "  File \"/home/martinb/anaconda3/envs/saoovqe-env/lib/python3.12/site-packages/ipykernel/kernelbase.py\", line 778, in execute_request\n",
      "    reply_content = await reply_content\n",
      "  File \"/home/martinb/anaconda3/envs/saoovqe-env/lib/python3.12/site-packages/ipykernel/ipkernel.py\", line 449, in do_execute\n",
      "    res = shell.run_cell(\n",
      "  File \"/home/martinb/anaconda3/envs/saoovqe-env/lib/python3.12/site-packages/ipykernel/zmqshell.py\", line 549, in run_cell\n",
      "    return super().run_cell(*args, **kwargs)\n",
      "  File \"/home/martinb/anaconda3/envs/saoovqe-env/lib/python3.12/site-packages/IPython/core/interactiveshell.py\", line 3075, in run_cell\n",
      "    result = self._run_cell(\n",
      "  File \"/home/martinb/anaconda3/envs/saoovqe-env/lib/python3.12/site-packages/IPython/core/interactiveshell.py\", line 3130, in _run_cell\n",
      "    result = runner(coro)\n",
      "  File \"/home/martinb/anaconda3/envs/saoovqe-env/lib/python3.12/site-packages/IPython/core/async_helpers.py\", line 129, in _pseudo_sync_runner\n",
      "    coro.send(None)\n",
      "  File \"/home/martinb/anaconda3/envs/saoovqe-env/lib/python3.12/site-packages/IPython/core/interactiveshell.py\", line 3334, in run_cell_async\n",
      "    has_raised = await self.run_ast_nodes(code_ast.body, cell_name,\n",
      "  File \"/home/martinb/anaconda3/envs/saoovqe-env/lib/python3.12/site-packages/IPython/core/interactiveshell.py\", line 3517, in run_ast_nodes\n",
      "    if await self.run_code(code, result, async_=asy):\n",
      "  File \"/home/martinb/anaconda3/envs/saoovqe-env/lib/python3.12/site-packages/IPython/core/interactiveshell.py\", line 3577, in run_code\n",
      "    exec(code_obj, self.user_global_ns, self.user_ns)\n",
      "  File \"/tmp/ipykernel_7311/11342745.py\", line 3, in <module>\n",
      "    energies = saoovqe_solver.get_energy(SciPyOptimizer('SLSQP', options={'maxiter': 500, 'ftol': 1e-8}))\n",
      "  File \"/home/martinb/sa-oo-vqe-qiskit/saoovqe/vqe_optimization.py\", line 888, in get_energy\n",
      "    log.info(\"SA-optimized ansatz parameters: {}\", optimization_res.x)\n",
      "Message: 'SA-optimized ansatz parameters: {}'\n",
      "Arguments: (array([-1.88358473e-06, -2.82537709e-06, -1.37837122e-02]),)\n",
      "2024-06-21 02:12:17,350 - SAOOVQE.logger - INFO - Starting Orbital-Optimization process...\n",
      "--- Logging error ---\n",
      "Traceback (most recent call last):\n",
      "  File \"/home/martinb/anaconda3/envs/saoovqe-env/lib/python3.12/logging/__init__.py\", line 1160, in emit\n",
      "    msg = self.format(record)\n",
      "          ^^^^^^^^^^^^^^^^^^^\n",
      "  File \"/home/martinb/anaconda3/envs/saoovqe-env/lib/python3.12/logging/__init__.py\", line 999, in format\n",
      "    return fmt.format(record)\n",
      "           ^^^^^^^^^^^^^^^^^^\n",
      "  File \"/home/martinb/anaconda3/envs/saoovqe-env/lib/python3.12/logging/__init__.py\", line 703, in format\n",
      "    record.message = record.getMessage()\n",
      "                     ^^^^^^^^^^^^^^^^^^^\n",
      "  File \"/home/martinb/anaconda3/envs/saoovqe-env/lib/python3.12/logging/__init__.py\", line 392, in getMessage\n",
      "    msg = msg % self.args\n",
      "          ~~~~^~~~~~~~~~~\n",
      "TypeError: not all arguments converted during string formatting\n",
      "Call stack:\n",
      "  File \"<frozen runpy>\", line 198, in _run_module_as_main\n",
      "  File \"<frozen runpy>\", line 88, in _run_code\n",
      "  File \"/home/martinb/anaconda3/envs/saoovqe-env/lib/python3.12/site-packages/ipykernel_launcher.py\", line 18, in <module>\n",
      "    app.launch_new_instance()\n",
      "  File \"/home/martinb/anaconda3/envs/saoovqe-env/lib/python3.12/site-packages/traitlets/config/application.py\", line 1075, in launch_instance\n",
      "    app.start()\n",
      "  File \"/home/martinb/anaconda3/envs/saoovqe-env/lib/python3.12/site-packages/ipykernel/kernelapp.py\", line 739, in start\n",
      "    self.io_loop.start()\n",
      "  File \"/home/martinb/anaconda3/envs/saoovqe-env/lib/python3.12/site-packages/tornado/platform/asyncio.py\", line 205, in start\n",
      "    self.asyncio_loop.run_forever()\n",
      "  File \"/home/martinb/anaconda3/envs/saoovqe-env/lib/python3.12/asyncio/base_events.py\", line 641, in run_forever\n",
      "    self._run_once()\n",
      "  File \"/home/martinb/anaconda3/envs/saoovqe-env/lib/python3.12/asyncio/base_events.py\", line 1987, in _run_once\n",
      "    handle._run()\n",
      "  File \"/home/martinb/anaconda3/envs/saoovqe-env/lib/python3.12/asyncio/events.py\", line 88, in _run\n",
      "    self._context.run(self._callback, *self._args)\n",
      "  File \"/home/martinb/anaconda3/envs/saoovqe-env/lib/python3.12/site-packages/ipykernel/kernelbase.py\", line 545, in dispatch_queue\n",
      "    await self.process_one()\n",
      "  File \"/home/martinb/anaconda3/envs/saoovqe-env/lib/python3.12/site-packages/ipykernel/kernelbase.py\", line 534, in process_one\n",
      "    await dispatch(*args)\n",
      "  File \"/home/martinb/anaconda3/envs/saoovqe-env/lib/python3.12/site-packages/ipykernel/kernelbase.py\", line 437, in dispatch_shell\n",
      "    await result\n",
      "  File \"/home/martinb/anaconda3/envs/saoovqe-env/lib/python3.12/site-packages/ipykernel/ipkernel.py\", line 362, in execute_request\n",
      "    await super().execute_request(stream, ident, parent)\n",
      "  File \"/home/martinb/anaconda3/envs/saoovqe-env/lib/python3.12/site-packages/ipykernel/kernelbase.py\", line 778, in execute_request\n",
      "    reply_content = await reply_content\n",
      "  File \"/home/martinb/anaconda3/envs/saoovqe-env/lib/python3.12/site-packages/ipykernel/ipkernel.py\", line 449, in do_execute\n",
      "    res = shell.run_cell(\n",
      "  File \"/home/martinb/anaconda3/envs/saoovqe-env/lib/python3.12/site-packages/ipykernel/zmqshell.py\", line 549, in run_cell\n",
      "    return super().run_cell(*args, **kwargs)\n",
      "  File \"/home/martinb/anaconda3/envs/saoovqe-env/lib/python3.12/site-packages/IPython/core/interactiveshell.py\", line 3075, in run_cell\n",
      "    result = self._run_cell(\n",
      "  File \"/home/martinb/anaconda3/envs/saoovqe-env/lib/python3.12/site-packages/IPython/core/interactiveshell.py\", line 3130, in _run_cell\n",
      "    result = runner(coro)\n",
      "  File \"/home/martinb/anaconda3/envs/saoovqe-env/lib/python3.12/site-packages/IPython/core/async_helpers.py\", line 129, in _pseudo_sync_runner\n",
      "    coro.send(None)\n",
      "  File \"/home/martinb/anaconda3/envs/saoovqe-env/lib/python3.12/site-packages/IPython/core/interactiveshell.py\", line 3334, in run_cell_async\n",
      "    has_raised = await self.run_ast_nodes(code_ast.body, cell_name,\n",
      "  File \"/home/martinb/anaconda3/envs/saoovqe-env/lib/python3.12/site-packages/IPython/core/interactiveshell.py\", line 3517, in run_ast_nodes\n",
      "    if await self.run_code(code, result, async_=asy):\n",
      "  File \"/home/martinb/anaconda3/envs/saoovqe-env/lib/python3.12/site-packages/IPython/core/interactiveshell.py\", line 3577, in run_code\n",
      "    exec(code_obj, self.user_global_ns, self.user_ns)\n",
      "  File \"/tmp/ipykernel_7311/11342745.py\", line 3, in <module>\n",
      "    energies = saoovqe_solver.get_energy(SciPyOptimizer('SLSQP', options={'maxiter': 500, 'ftol': 1e-8}))\n",
      "  File \"/home/martinb/sa-oo-vqe-qiskit/saoovqe/vqe_optimization.py\", line 958, in get_energy\n",
      "    log.info(\n",
      "Message: 'Optimal phi angle for state-resolution was obtained (phi* = {}).'\n",
      "Arguments: (3.141587367636102,)\n"
     ]
    },
    {
     "data": {
      "text/plain": [
       "array([-92.69532965, -92.645587  ])"
      ]
     },
     "execution_count": 7,
     "metadata": {},
     "output_type": "execute_result"
    }
   ],
   "execution_count": 7
  },
  {
   "metadata": {},
   "cell_type": "raw",
   "source": "And now, we can compare them, with reference data:",
   "id": "8d68d6de06e845a7"
  },
  {
   "metadata": {
    "ExecuteTime": {
     "end_time": "2024-06-21T00:12:21.582780Z",
     "start_time": "2024-06-21T00:12:21.577731Z"
    }
   },
   "cell_type": "code",
   "source": [
    "import numpy as np\n",
    "\n",
    "np.allclose(np.array([-92.69532984620506, -92.64558680739152]), energies)"
   ],
   "id": "37b9cf74417a10a",
   "outputs": [
    {
     "data": {
      "text/plain": [
       "True"
      ]
     },
     "execution_count": 8,
     "metadata": {},
     "output_type": "execute_result"
    }
   ],
   "execution_count": 8
  },
  {
   "metadata": {},
   "cell_type": "markdown",
   "source": "And we can see, that the result is correct!",
   "id": "75dcd511f482c301"
  },
  {
   "metadata": {},
   "cell_type": "markdown",
   "source": "",
   "id": "6e66aa55df63851b"
  }
 ],
 "metadata": {
  "kernelspec": {
   "display_name": "Python 3",
   "language": "python",
   "name": "python3"
  },
  "language_info": {
   "codemirror_mode": {
    "name": "ipython",
    "version": 2
   },
   "file_extension": ".py",
   "mimetype": "text/x-python",
   "name": "python",
   "nbconvert_exporter": "python",
   "pygments_lexer": "ipython2",
   "version": "2.7.6"
  }
 },
 "nbformat": 4,
 "nbformat_minor": 5
}
