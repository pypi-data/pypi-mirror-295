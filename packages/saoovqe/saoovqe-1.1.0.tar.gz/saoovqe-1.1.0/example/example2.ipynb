{
 "cells": [
  {
   "cell_type": "markdown",
   "metadata": {
    "collapsed": false
   },
   "source": [
    "# Example 2: Computation of Gradients and Non-adiabatic Couplings\n",
    "\n",
    "In this tutorial it is shown, how to use the SA-OO-VQE solver in a simple step-by-step manner on a molecule of\n",
    "formaldimine (methylene imine). It is shown, how to compute energies, gradients and non-adiabatic couplings\n",
    "in several different settings w.r.t. a different number of optimized orbitals."
   ]
  },
  {
   "cell_type": "markdown",
   "metadata": {
    "collapsed": false
   },
   "source": [
    "First of all, we'll specify geometry of the system."
   ]
  },
  {
   "cell_type": "code",
   "execution_count": 2,
   "metadata": {
    "ExecuteTime": {
     "end_time": "2023-06-23T08:13:26.390880274Z",
     "start_time": "2023-06-23T08:13:26.337639675Z"
    },
    "collapsed": false
   },
   "source": [
    "symbols = ['N', 'C', 'H', 'H', 'H']\n",
    "coords = [\n",
    "    [0.000000000000, 0.000000000000, 0.000000000000],\n",
    "    [0.000000000000, 0.000000000000, 1.498047000000],\n",
    "    [0.000000000000, -0.938765985000, 2.004775984000],\n",
    "    [0.000000000000, 0.938765985000, 2.004775984000],\n",
    "    [-0.744681452, -0.131307432, -0.634501434]\n",
    "]"
   ],
   "outputs": []
  },
  {
   "cell_type": "markdown",
   "metadata": {
    "collapsed": false
   },
   "source": [
    "Now we'll specify its properties, active space and the basis for Psi4 chemistry backend."
   ]
  },
  {
   "cell_type": "code",
   "execution_count": 3,
   "metadata": {
    "ExecuteTime": {
     "end_time": "2023-06-23T08:13:26.391709259Z",
     "start_time": "2023-06-23T08:13:26.344143469Z"
    },
    "collapsed": false
   },
   "source": [
    "n_orbs_active = 2\n",
    "n_elec_active = 2\n",
    "charge = 0\n",
    "multiplicity = 1\n",
    "basis = 'sto-3g'"
   ],
   "outputs": []
  },
  {
   "cell_type": "markdown",
   "metadata": {
    "collapsed": false
   },
   "source": [
    "The next step is construction of `ProblemSet` instance - object containing all the information and necessary method for\n",
    "our electronic structure problem."
   ]
  },
  {
   "cell_type": "code",
   "execution_count": 4,
   "metadata": {
    "ExecuteTime": {
     "end_time": "2023-06-23T08:13:30.452643287Z",
     "start_time": "2023-06-23T08:13:26.352944110Z"
    },
    "collapsed": false
   },
   "source": [
    "import saoovqe\n",
    "\n",
    "problem = saoovqe.problem.ProblemSet(\n",
    "    symbols=symbols,\n",
    "    coords=coords,\n",
    "    charge=charge,\n",
    "    multiplicity=multiplicity,\n",
    "    n_electrons_active=n_elec_active,\n",
    "    n_orbitals_active=n_orbs_active,\n",
    "    basis_name=basis\n",
    ")"
   ],
   "outputs": []
  },
  {
   "cell_type": "markdown",
   "metadata": {
    "collapsed": false
   },
   "source": [
    "Now we need to create a set of circuits representing orthogonal states to construct the whole circuits representing\n",
    "state vectors later."
   ]
  },
  {
   "cell_type": "code",
   "execution_count": 5,
   "metadata": {
    "ExecuteTime": {
     "end_time": "2023-06-23T08:13:30.465883875Z",
     "start_time": "2023-06-23T08:13:30.441059434Z"
    },
    "collapsed": false
   },
   "source": [
    "initial_circuits = saoovqe.OrthogonalCircuitSet.from_problem_set(n_states=2, problem=problem)"
   ],
   "outputs": []
  },
  {
   "cell_type": "markdown",
   "metadata": {
    "collapsed": false
   },
   "source": [
    "The next necessary part is to define an ansatz - it'll be also used to construct the state vector circuits later."
   ]
  },
  {
   "cell_type": "code",
   "execution_count": 6,
   "metadata": {
    "ExecuteTime": {
     "end_time": "2023-06-23T08:13:30.531789285Z",
     "start_time": "2023-06-23T08:13:30.441277343Z"
    },
    "collapsed": false
   },
   "source": [
    "ansatz = saoovqe.Ansatz.from_problem_set(ansatz=saoovqe.AnsatzType.GUCCSD,\n",
    "                                         problem=problem,\n",
    "                                         repetitions=1,\n",
    "                                         qubit_mapper=problem.fermionic_mapper)"
   ],
   "outputs": []
  },
  {
   "cell_type": "markdown",
   "metadata": {
    "collapsed": false
   },
   "source": [
    "And finally, now we can create an instance of our SA-OO-VQE solver. One of the main points is, orbital-optimization\n",
    "can, but doesn't have to be used, or it can be used only on some molecular orbitals. We'll show all three cases here.\n",
    "For no orbital-optimization it's enough to pass `None` to `orbital_optimization_settings` (it's also a default value)."
   ]
  },
  {
   "cell_type": "code",
   "execution_count": 7,
   "metadata": {
    "ExecuteTime": {
     "end_time": "2023-06-23T08:13:30.579713694Z",
     "start_time": "2023-06-23T08:13:30.538970754Z"
    },
    "collapsed": false
   },
   "source": [
    "from qiskit.primitives import Estimator, Sampler\n",
    "\n",
    "estimator = Estimator()\n",
    "sampler = Sampler()\n",
    "\n",
    "solver_no_oo = saoovqe.SAOOVQE(estimator=estimator,\n",
    "                               initial_circuits=initial_circuits,\n",
    "                               ansatz=ansatz,\n",
    "                               problem=problem,\n",
    "                               orbital_optimization_settings=None)"
   ],
   "outputs": []
  },
  {
   "cell_type": "markdown",
   "metadata": {
    "collapsed": false
   },
   "source": [
    "To specify number of optimized orbitals we can pass a dictionary to the parameter."
   ]
  },
  {
   "cell_type": "code",
   "execution_count": 8,
   "metadata": {
    "ExecuteTime": {
     "end_time": "2023-06-23T08:13:30.593505085Z",
     "start_time": "2023-06-23T08:13:30.549180085Z"
    },
    "collapsed": false
   },
   "source": [
    "solver_oo_8 = saoovqe.SAOOVQE(estimator=estimator,\n",
    "                              initial_circuits=initial_circuits,\n",
    "                              ansatz=ansatz,\n",
    "                              problem=problem,\n",
    "                              orbital_optimization_settings={'n_mo_optim': 8})"
   ],
   "outputs": []
  },
  {
   "cell_type": "markdown",
   "metadata": {
    "collapsed": false
   },
   "source": [
    "And for all the orbitals to be optimized we can simply use its default behavior by passing an empty dictionary."
   ]
  },
  {
   "cell_type": "code",
   "execution_count": 9,
   "metadata": {
    "ExecuteTime": {
     "end_time": "2023-06-23T08:13:30.701984764Z",
     "start_time": "2023-06-23T08:13:30.568504995Z"
    },
    "collapsed": false
   },
   "source": [
    "solver_oo_full = saoovqe.SAOOVQE(estimator=estimator,\n",
    "                                 initial_circuits=initial_circuits,\n",
    "                                 ansatz=ansatz,\n",
    "                                 problem=problem,\n",
    "                                 orbital_optimization_settings={})"
   ],
   "outputs": []
  },
  {
   "cell_type": "markdown",
   "metadata": {
    "collapsed": false
   },
   "source": [
    "Let's compare the energies now! To make the numerical optimizations, we'll use `SLSQP` optimizer provided by `SciPy`.\n",
    "It may take a few minutes time now..."
   ]
  },
  {
   "cell_type": "code",
   "execution_count": 10,
   "metadata": {
    "ExecuteTime": {
     "end_time": "2023-06-23T08:18:01.758335138Z",
     "start_time": "2023-06-23T08:13:30.702224353Z"
    },
    "collapsed": false
   },
   "source": [
    "from qiskit_algorithms.optimizers import SciPyOptimizer\n",
    "import numpy as np\n",
    "\n",
    "optimizer = SciPyOptimizer('SLSQP', options={'maxiter': 500, 'ftol': 1e-8})\n",
    "energies_no_oo = solver_no_oo.get_energy(optimizer)\n",
    "energies_oo_8 = solver_oo_8.get_energy(optimizer)\n",
    "energies_oo_full = solver_oo_full.get_energy(optimizer)\n",
    "\n",
    "print('\\n============== State-Averaged Energies ==============')\n",
    "print(np.mean(energies_no_oo))\n",
    "print(np.mean(energies_oo_8))\n",
    "print(np.mean(energies_oo_full))"
   ],
   "outputs": []
  },
  {
   "cell_type": "markdown",
   "metadata": {
    "collapsed": false
   },
   "source": [
    "And now, let's have a look at the gradients of the potential energy surface for all the particles at both relevant\n",
    "states."
   ]
  },
  {
   "cell_type": "code",
   "execution_count": 11,
   "metadata": {
    "ExecuteTime": {
     "end_time": "2023-06-23T08:19:05.082861572Z",
     "start_time": "2023-06-23T08:18:01.764371279Z"
    },
    "collapsed": false
   },
   "source": [
    "print('\\n============== Gradients ==============')\n",
    "for state_idx in range(2):\n",
    "    for atom_idx in range(len(symbols)):\n",
    "        print(state_idx, atom_idx, solver_oo_full.eval_eng_gradient(state_idx, atom_idx))"
   ],
   "outputs": []
  },
  {
   "cell_type": "markdown",
   "metadata": {
    "collapsed": false
   },
   "source": [
    "And the non-adiabatic couplings."
   ]
  },
  {
   "cell_type": "code",
   "execution_count": 12,
   "metadata": {
    "ExecuteTime": {
     "end_time": "2023-06-23T08:21:07.963732828Z",
     "start_time": "2023-06-23T08:19:05.103084520Z"
    },
    "collapsed": false
   },
   "source": [
    "print('\\n============== Total non-adiabatic couplings ==============')\n",
    "for atom_idx in range(len(symbols)):\n",
    "    print(atom_idx, solver_oo_full.eval_nac(atom_idx))"
   ],
   "outputs": []
  },
  {
   "cell_type": "markdown",
   "metadata": {
    "collapsed": false
   },
   "source": [
    "And finally, considering NACs, we can also have a look at CI and CSF NACs separately."
   ]
  },
  {
   "cell_type": "code",
   "execution_count": 13,
   "metadata": {
    "ExecuteTime": {
     "end_time": "2023-06-23T08:21:07.975480020Z",
     "start_time": "2023-06-23T08:21:07.968180173Z"
    },
    "collapsed": false
   },
   "source": [
    "print('\\n============== CI non-adiabatic couplings ==============')\n",
    "for atom_idx in range(len(symbols)):\n",
    "    print(atom_idx, solver_oo_full.ci_nacs[atom_idx])\n",
    "\n",
    "print('\\n============== CSF non-adiabatic couplings ==============')\n",
    "for atom_idx in range(len(symbols)):\n",
    "    print(atom_idx, solver_oo_full.csf_nacs[atom_idx])"
   ],
   "outputs": []
  },
  {
   "cell_type": "markdown",
   "metadata": {
    "collapsed": false
   },
   "source": []
  }
 ],
 "metadata": {
  "kernelspec": {
   "display_name": "Python 3",
   "language": "python",
   "name": "python3"
  },
  "language_info": {
   "codemirror_mode": {
    "name": "ipython",
    "version": 3
   },
   "file_extension": ".py",
   "mimetype": "text/x-python",
   "name": "python",
   "nbconvert_exporter": "python",
   "pygments_lexer": "ipython3",
   "version": "3.10.13"
  }
 },
 "nbformat": 4,
 "nbformat_minor": 0
}
