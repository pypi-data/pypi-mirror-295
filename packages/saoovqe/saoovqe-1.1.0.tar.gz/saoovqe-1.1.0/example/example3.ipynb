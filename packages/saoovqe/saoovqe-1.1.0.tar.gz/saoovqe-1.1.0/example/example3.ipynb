{
 "cells": [
  {
   "cell_type": "markdown",
   "source": [
    "# Example 3: Computation Utilizing IBM Qiskit Runtime\n",
    "\n",
    "If you're interested, how to run SA-OO-VQE with real quantum computers, it's about using\n",
    "`Estimator` and `Sampler` from [IBM Qiskit Runtime](https://docs.quantum.ibm.com/api/qiskit-ibm-runtime)\n",
    "platform. The following tutorial will show you, how to set your problem up.\n",
    "\n",
    "WARNING: As all the measurements are being performed on IBM servers, the problem may take really\n",
    "long time to finish. The more practical way would be to run the code on some hybrid quantum-classical\n",
    "cluster or utilizing IBM Cloud."
   ],
   "metadata": {
    "collapsed": false
   }
  },
  {
   "cell_type": "markdown",
   "source": [
    "First of all, we'll specify geometry of the system."
   ],
   "metadata": {
    "collapsed": false
   }
  },
  {
   "cell_type": "code",
   "execution_count": null,
   "source": [
    "geometry = [('H', [0, 0, 0]),\n",
    "            ('H', [0, 0, 0.735])]"
   ],
   "metadata": {
    "collapsed": false
   },
   "outputs": []
  },
  {
   "cell_type": "markdown",
   "source": [
    "Now we'll specify its properties, active space and the basis for Psi4 chemistry backend."
   ],
   "metadata": {
    "collapsed": false
   }
  },
  {
   "cell_type": "code",
   "execution_count": null,
   "source": [
    "n_orbs_active = 2\n",
    "n_elec_active = 2\n",
    "charge = 0\n",
    "multiplicity = 1\n",
    "basis = 'sto-3g'"
   ],
   "metadata": {
    "collapsed": false
   },
   "outputs": []
  },
  {
   "cell_type": "markdown",
   "source": [
    "The next step is construction of `ProblemSet` instance - object containing all the information and necessary method for\n",
    "our electronic structure problem."
   ],
   "metadata": {
    "collapsed": false
   }
  },
  {
   "cell_type": "code",
   "execution_count": null,
   "source": [
    "import saoovqe\n",
    "\n",
    "problem = saoovqe.problem.ProblemSet(geometry=geometry,\n",
    "                                     charge=charge,\n",
    "                                     multiplicity=multiplicity,\n",
    "                                     n_electrons_active=n_elec_active,\n",
    "                                     n_orbitals_active=n_orbs_active,\n",
    "                                     basis_name=basis)"
   ],
   "metadata": {
    "collapsed": false
   },
   "outputs": []
  },
  {
   "cell_type": "markdown",
   "source": [
    "Now we need to create a set of circuits representing orthogonal states to construct the whole circuits representing\n",
    "state vectors later."
   ],
   "metadata": {
    "collapsed": false
   }
  },
  {
   "cell_type": "code",
   "execution_count": null,
   "source": [
    "initial_circuits = saoovqe.OrthogonalCircuitSet.from_problem_set(n_states=2, problem=problem)"
   ],
   "metadata": {
    "collapsed": false
   },
   "outputs": []
  },
  {
   "cell_type": "markdown",
   "source": [
    "The next necessary part is to define an ansatz - it'll be also used to construct the state vector circuits later."
   ],
   "metadata": {
    "collapsed": false
   }
  },
  {
   "cell_type": "code",
   "execution_count": null,
   "source": [
    "ansatz = saoovqe.Ansatz.from_ProblemSet(ansatz=saoovqe.AnsatzType.GUCCSD,\n",
    "                                        problem=problem,\n",
    "                                        repetitions=1,\n",
    "                                        qubit_mapper=problem.fermionic_mapper)"
   ],
   "metadata": {
    "collapsed": false
   },
   "outputs": []
  },
  {
   "cell_type": "markdown",
   "source": [
    "And finally, now we can create an instance of our SA-OO-VQE solver. One of the main points is, orbital-optimization\n",
    "can, but doesn't have to be used, or it can be used only on some molecular orbitals. We'll show all three cases here.\n",
    "For no orbital-optimization it's enough to pass `None` to `orbital_optimization_settings` (it's also a default value).\n",
    "\n",
    "Here we'll utilize `qiskit_ibm_runtime` module, where we apply for a \"job\" via an instance of `Session`. In this session\n",
    "we create new instances of `Estimator` and `Sampler` to perform measurements and the rest of the code stays the same."
   ],
   "metadata": {
    "collapsed": false
   }
  },
  {
   "cell_type": "code",
   "execution_count": null,
   "source": [
    "from qiskit.algorithms.optimizers import SPSA\n",
    "from qiskit_ibm_runtime import Estimator, Sampler, Session\n",
    "\n",
    "optimizer=SPSA()\n",
    "\n",
    "with Session(backend='ibmq_qasm_simulator') as session:\n",
    "    print('Session is active.')\n",
    "\n",
    "    solver_no_oo = saoovqe.SAOOVQE(estimator=Estimator(session=session),\n",
    "                                   sampler=Sampler(session=session),\n",
    "                                   initial_circuits=initial_circuits,\n",
    "                                   ansatz=ansatz,\n",
    "                                   problem=problem,\n",
    "                                   orbital_optimization_settings=None)\n",
    "    energies_no_oo = solver_no_oo.get_energy(optimizer)\n",
    "\n",
    "    print('\\n============== H2 Energies ==============')\n",
    "    print(energies_no_oo)"
   ],
   "metadata": {
    "collapsed": false
   },
   "outputs": []
  }
 ],
 "metadata": {
  "kernelspec": {
   "display_name": "Python 3",
   "language": "python",
   "name": "python3"
  },
  "language_info": {
   "codemirror_mode": {
    "name": "ipython",
    "version": 2
   },
   "file_extension": ".py",
   "mimetype": "text/x-python",
   "name": "python",
   "nbconvert_exporter": "python",
   "pygments_lexer": "ipython2",
   "version": "2.7.6"
  }
 },
 "nbformat": 4,
 "nbformat_minor": 0
}
