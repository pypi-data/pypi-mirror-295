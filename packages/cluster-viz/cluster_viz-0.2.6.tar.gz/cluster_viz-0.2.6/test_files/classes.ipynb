{
 "cells": [
  {
   "cell_type": "code",
   "execution_count": null,
   "metadata": {
    "class": "Data Extraction",
    "codes": [
     {
      "cell_id": 1,
      "code": "print(1+2)",
      "notebook_id": 1,
      "outputs": [
       {
        "name": "stdout",
        "output_type": "stream",
        "text": [
         "3"
        ]
       }
      ]
     },
     {
      "cell_id": 1,
      "code": "print(5+2)",
      "notebook_id": 2,
      "outputs": [
       {
        "name": "stdout",
        "output_type": "stream",
        "text": [
         "7"
        ]
       }
      ]
     }
    ],
    "start_cell": true
   },
   "outputs": [],
   "source": [
    "print(5+2)"
   ]
  },
  {
   "cell_type": "code",
   "execution_count": null,
   "metadata": {
    "class": "Data Transform",
    "codes": [
     {
      "cell_id": 2,
      "code": "print(1+2)",
      "notebook_id": 2,
      "outputs": [
       {
        "name": "stdout",
        "output_type": "stream",
        "text": [
         "3"
        ]
       }
      ]
     },
     {
      "cell_id": 1,
      "code": "print(5+2)",
      "notebook_id": 3,
      "outputs": [
       {
        "name": "stdout",
        "output_type": "stream",
        "text": [
         "7"
        ]
       }
      ]
     }
    ],
    "start_cell": true
   },
   "outputs": [],
   "source": [
    "print(1+2)"
   ]
  },
  {
   "cell_type": "code",
   "execution_count": null,
   "metadata": {
    "class": "Data Transform",
    "codes": [
     {
      "cell_id": 3,
      "code": "print(1+2)",
      "notebook_id": 2,
      "outputs": [
       {
        "name": "stdout",
        "output_type": "stream",
        "text": [
         "3"
        ]
       }
      ]
     },
     {
      "cell_id": 2,
      "code": "print(5+2)",
      "notebook_id": 3,
      "outputs": [
       {
        "name": "stdout",
        "output_type": "stream",
        "text": [
         "7"
        ]
       }
      ]
     }
    ],
    "start_cell": false
   },
   "outputs": [],
   "source": [
    "print(1+2)"
   ]
  }
 ],
 "metadata": {
  "data_submissions": true,
  "kernelspec": {
   "display_name": "Python 3 (ipykernel)",
   "language": "python",
   "name": "python3"
  },
  "language_info": {
   "codemirror_mode": {
    "name": "ipython",
    "version": 3
   },
   "file_extension": ".py",
   "mimetype": "text/x-python",
   "name": "python",
   "nbconvert_exporter": "python",
   "pygments_lexer": "ipython3",
   "version": "3.12.4"
  },
  "n_clusters": 2
 },
 "nbformat": 4,
 "nbformat_minor": 4
}
