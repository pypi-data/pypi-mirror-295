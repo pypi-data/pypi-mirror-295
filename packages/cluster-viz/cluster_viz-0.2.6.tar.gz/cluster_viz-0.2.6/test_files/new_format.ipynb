{
 "cells": [
  {
   "cell_type": "code",
   "execution_count": 1,
   "metadata": {
    "cell_id": 1,
    "class": "Data Extraction",
    "notebook_id": 1,
    "start_cell": true
   },
   "outputs": [],
   "source": [
    "# Nb 1 Cell 1"
   ]
  },
  {
   "cell_type": "code",
   "execution_count": 1,
   "metadata": {
    "cell_id": 1,
    "class": "Data Extraction",
    "notebook_id": 2,
    "start_cell": true
   },
   "outputs": [],
   "source": [
    "# Nb 2 Cell 1"
   ]
  },
  {
   "cell_type": "code",
   "execution_count": 2,
   "metadata": {
    "cell_id": 2,
    "class": "Data Extraction",
    "notebook_id": 1,
    "start_cell": false
   },
   "outputs": [],
   "source": [
    "# Nb 1 Cell 2"
   ]
  },
  {
   "cell_type": "code",
   "execution_count": 4,
   "metadata": {
    "cell_id": 4,
    "class": "Data Extraction",
    "notebook_id": 1,
    "start_cell": false
   },
   "outputs": [],
   "source": [
    "# Nb 1 Cell 4"
   ]
  },
  {
   "cell_type": "code",
   "execution_count": 3,
   "metadata": {
    "cell_id": 3,
    "class": "Data Transform",
    "notebook_id": 1,
    "start_cell": true
   },
   "outputs": [],
   "source": [
    "#Nb 1 Cell 3"
   ]
  },
  {
   "cell_type": "code",
   "execution_count": 2,
   "metadata": {
    "cell_id": 2,
    "class": "Data Extraction",
    "notebook_id": 2,
    "start_cell": false
   },
   "outputs": [],
   "source": [
    "# Nb 2 Cell 2"
   ]
  }
 ],
 "metadata": {
  "kernelspec": {
   "display_name": "Python 3 (ipykernel)",
   "language": "python",
   "name": "python3"
  },
  "language_info": {
   "codemirror_mode": {
    "name": "ipython",
    "version": 3
   },
   "file_extension": ".py",
   "mimetype": "text/x-python",
   "name": "python",
   "nbconvert_exporter": "python",
   "pygments_lexer": "ipython3",
   "version": "3.12.4"
  },
  "visualization": true
 },
 "nbformat": 4,
 "nbformat_minor": 4
}
