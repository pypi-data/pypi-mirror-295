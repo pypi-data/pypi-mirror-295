{
 "cells": [
  {
   "cell_type": "markdown",
   "metadata": {
    "cell_id": 0,
    "editable": true,
    "slideshow": {
     "slide_type": ""
    },
    "tags": []
   },
   "source": [
    "<div style=\"text-align: center; margin: 20px;\">\n",
    "    <button id=\"myButton\" style=\"padding: 10px 20px; font-size: 16px;\">Click Me!</button>\n",
    "</div>\n",
    "\n",
    "<script>\n",
    "    document.getElementById(\"myButton\").onclick = function() {\n",
    "        console.log(\"clicked\");\n",
    "    }\n",
    "</script>"
   ]
  },
  {
   "cell_type": "raw",
   "metadata": {
    "cell_id": 0
   },
   "source": [
    "Cluster id is: 1\n",
    "Code id is: 1"
   ]
  },
  {
   "cell_type": "code",
   "execution_count": 71,
   "metadata": {
    "cell_id": 0,
    "cluster_id": 1,
    "code_id": 1,
    "codes": [
     {
      "cluster_id": 1,
      "code": "print(1+2)",
      "code_id": 0,
      "outputs": [
       {
        "name": "stdout",
        "output_type": "stream",
        "text": [
         "3"
        ]
       }
      ]
     },
     {
      "cluster_id": 1,
      "code": "print(4 + 8)",
      "code_id": 1,
      "outputs": [
       {
        "name": "stdout",
        "output_type": "stream",
        "text": [
         "12"
        ]
       }
      ]
     }
    ],
    "curr_cluster_id": 1,
    "curr_code_id": 1
   },
   "outputs": [
    {
     "name": "stdout",
     "output_type": "stream",
     "text": [
      "12"
     ]
    }
   ],
   "source": [
    "print(4 + 8)"
   ]
  },
  {
   "cell_type": "code",
   "execution_count": null,
   "metadata": {},
   "outputs": [],
   "source": []
  },
  {
   "cell_type": "code",
   "execution_count": 2,
   "metadata": {},
   "outputs": [
    {
     "data": {
      "application/vnd.jupyter.widget-view+json": {
       "model_id": "1bba1f6f90c24908b25091bff3eb0379",
       "version_major": 2,
       "version_minor": 0
      },
      "text/plain": [
       "IntSlider(value=0)"
      ]
     },
     "execution_count": 2,
     "metadata": {},
     "output_type": "execute_result"
    }
   ],
   "source": [
    "import ipywidgets as widgets\n",
    "widgets.IntSlider()"
   ]
  },
  {
   "cell_type": "code",
   "execution_count": null,
   "metadata": {},
   "outputs": [],
   "source": []
  }
 ],
 "metadata": {
  "kernelspec": {
   "display_name": "Python 3 (ipykernel)",
   "language": "python",
   "name": "python3"
  },
  "language_info": {
   "codemirror_mode": {
    "name": "ipython",
    "version": 3
   },
   "file_extension": ".py",
   "mimetype": "text/x-python",
   "name": "python",
   "nbconvert_exporter": "python",
   "pygments_lexer": "ipython3",
   "version": "3.12.4"
  }
 },
 "nbformat": 4,
 "nbformat_minor": 4
}
