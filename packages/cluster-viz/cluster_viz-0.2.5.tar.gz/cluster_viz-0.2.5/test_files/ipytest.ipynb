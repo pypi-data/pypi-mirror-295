{
 "cells": [
  {
   "cell_type": "code",
   "execution_count": 21,
   "metadata": {
    "class": 0,
    "cluster_id": 1,
    "code_id": 1,
    "codes": [
     {
      "cluster_id": 1,
      "code": "print(1+2)",
      "code_id": 0,
      "outputs": [
       {
        "name": "stdout",
        "output_type": "stream",
        "text": [
         "3"
        ]
       }
      ]
     },
     {
      "cluster_id": 1,
      "code": "print(4 + 8)",
      "code_id": 1,
      "outputs": [
       {
        "name": "stdout",
        "output_type": "stream",
        "text": [
         "12"
        ]
       }
      ]
     },
     {
      "cluster_id": 2,
      "code": "print(1+2)",
      "code_id": 0,
      "outputs": [
       {
        "name": "stdout",
        "output_type": "stream",
        "text": [
         "3"
        ]
       }
      ]
     },
     {
      "cluster_id": 3,
      "code": "print(4 + 8)",
      "code_id": 1,
      "outputs": [
       {
        "name": "stdout",
        "output_type": "stream",
        "text": [
         "12"
        ]
       }
      ]
     }
    ],
    "curr_cluster_id": 1,
    "curr_code_id": 1
   },
   "outputs": [
    {
     "name": "stdout",
     "output_type": "stream",
     "text": [
      "3"
     ]
    }
   ],
   "source": [
    "print(1+2)"
   ]
  },
  {
   "cell_type": "code",
   "execution_count": 21,
   "metadata": {
    "cell_id": 0,
    "cluster_id": 1,
    "code_id": 1,
    "codes": [
     {
      "cluster_id": 1,
      "code": "print(1+2)",
      "code_id": 0,
      "outputs": [
       {
        "name": "stdout",
        "output_type": "stream",
        "text": [
         "3"
        ]
       }
      ]
     },
     {
      "cluster_id": 1,
      "code": "print(4 + 8)",
      "code_id": 1,
      "outputs": [
       {
        "name": "stdout",
        "output_type": "stream",
        "text": [
         "12"
        ]
       }
      ]
     },
     {
      "cluster_id": 2,
      "code": "print(1+2)",
      "code_id": 0,
      "outputs": [
       {
        "name": "stdout",
        "output_type": "stream",
        "text": [
         "3"
        ]
       }
      ]
     },
     {
      "cluster_id": 3,
      "code": "print(4 + 8)",
      "code_id": 1,
      "outputs": [
       {
        "name": "stdout",
        "output_type": "stream",
        "text": [
         "12"
        ]
       }
      ]
     }
    ],
    "curr_cluster_id": 1,
    "curr_code_id": 1
   },
   "outputs": [
    {
     "name": "stdout",
     "output_type": "stream",
     "text": [
      "3"
     ]
    }
   ],
   "source": [
    "print(1+2)"
   ]
  }
 ],
 "metadata": {
  "data_submissions": true,
  "kernelspec": {
   "display_name": "Python 3 (ipykernel)",
   "language": "python",
   "name": "python3"
  },
  "language_info": {
   "codemirror_mode": {
    "name": "ipython",
    "version": 3
   },
   "file_extension": ".py",
   "mimetype": "text/x-python",
   "name": "python",
   "nbconvert_exporter": "python",
   "pygments_lexer": "ipython3",
   "version": "3.12.4"
  },
  "n_clusters": 2
 },
 "nbformat": 4,
 "nbformat_minor": 4
}
