{
 "cells": [
  {
   "cell_type": "code",
   "execution_count": 1,
   "metadata": {},
   "outputs": [
    {
     "data": {
      "text/plain": [
       "Aism::<RustAism>()"
      ]
     },
     "execution_count": 1,
     "metadata": {},
     "output_type": "execute_result"
    }
   ],
   "source": [
    "from aism import Aism\n",
    "\n",
    "ai = Aism()\n",
    "ai"
   ]
  },
  {
   "cell_type": "markdown",
   "metadata": {},
   "source": [
    "Aism is capable of handling all kinds of data and can be used to summarize, translate, check, and more.\n",
    "\n",
    "Let's say we have a sample data about a Cafe named \"Acme\" (very fancy):"
   ]
  },
  {
   "cell_type": "code",
   "execution_count": 2,
   "metadata": {},
   "outputs": [],
   "source": [
    "description = \"Acme Café is a hidden gem nestled at the edge of a tranquil forest, offering a serene escape from the bustle of the city. With its elegant décor, cozy seating, and soft jazz playing in the background, Acme blends luxury and relaxation.\"\n",
    "menu = \"\"\"\\\n",
    "# Acme Café Dessert Menu\n",
    "\n",
    "Signature Soufflé\n",
    "Light, airy, and perfectly baked to golden perfection. Served with a side of vanilla crème anglaise or rich chocolate sauce.\n",
    "\n",
    "Forest Berry Tart\n",
    "A crisp, buttery crust filled with creamy custard and topped with a medley of fresh, hand-picked berries from the nearby forest.\n",
    "\n",
    "Chocolate Hazelnut Torte\n",
    "A decadent, flourless chocolate cake layered with smooth hazelnut ganache, finished with a sprinkle of sea salt and roasted hazelnuts.\n",
    "\n",
    "Lemon Lavender Cake\n",
    "A zesty lemon cake infused with a hint of lavender, glazed with a delicate citrus frosting. Light, floral, and refreshing.\n",
    "\n",
    "Classic Cheesecake\n",
    "Creamy New York-style cheesecake with a graham cracker crust, served with your choice of fresh fruit compote or a drizzle of caramel sauce.\"\"\""
   ]
  },
  {
   "cell_type": "markdown",
   "metadata": {},
   "source": [
    "Now, let's learn how to use this *realistic-looking* data to see what Aism can really do!\n",
    "\n",
    "First things first, we have to create a new instance."
   ]
  },
  {
   "cell_type": "code",
   "execution_count": 3,
   "metadata": {},
   "outputs": [],
   "source": [
    "instance = ai.give(description).give(menu)"
   ]
  },
  {
   "cell_type": "code",
   "execution_count": 4,
   "metadata": {},
   "outputs": [
    {
     "data": {
      "text/plain": [
       "'Acme Café offers a serene escape with elegant décor, serving a dessert menu with items such as soufflé, forest berry tart, chocolate hazelnut torte, lemon lavender cake, and classic cheesecake.'"
      ]
     },
     "execution_count": 4,
     "metadata": {},
     "output_type": "execute_result"
    }
   ],
   "source": [
    "# Summarize the provided data\n",
    "instance.summarize()"
   ]
  },
  {
   "cell_type": "code",
   "execution_count": 5,
   "metadata": {},
   "outputs": [
    {
     "data": {
      "text/plain": [
       "\"0. Le Café Acme est un joyau caché niché à l'extrémité d'une forêt paisible, offrant un refuge tranquille à l'éloignement de la ville. Avec son décor élegant, ses sièges intimes et le jazz moderne en fond pour une atmosphère de luxe et de détente.\\n\\n1. # Carte de desserts du Café Acme\\n\\nSoufflé signature\\nLéger, aérien et parfaitement cuit jusqu'à une perfection dorée. Servi avec une demi-partie de crème anglaise au vanille ou de sauce chocolatueuse riche.\\n\\nTarte aux fruits de la forêt\\nUn coeur de tarte croustillant garni d'un crème anglaise crémeuse et surmonté d'une médaille de fruits frais cueillis à la main à proximité.\\n\\nTarte au chocolat-huile de noix\\nUn gâteau au chocolat décédant à base de flocon d'orge et de ganache à la noix huileuse, terminé par un pincement de sel de mer et de noix grillées.\\n\\nGâteau au citron et au lavender\\nUn gâteau au citron vif infusé d'un soupçon de lavender, glacié d'une mousse froide au citron. Léger, floral et rafraîchissant.\\n\\nGâteau au fromage classique\\nUn cheesecake Creamy au style de New York à la base de pâte à crackers, servi avec votre choix de compote de fruits fraîche ou d'une drizzle de sauce caramel.\""
      ]
     },
     "execution_count": 5,
     "metadata": {},
     "output_type": "execute_result"
    }
   ],
   "source": [
    "# Translate the provided data\n",
    "instance.translate(\"French\")"
   ]
  },
  {
   "cell_type": "code",
   "execution_count": 6,
   "metadata": {},
   "outputs": [
    {
     "data": {
      "text/plain": [
       "True"
      ]
     },
     "execution_count": 6,
     "metadata": {},
     "output_type": "execute_result"
    }
   ],
   "source": [
    "instance.mentioned(\"the menu of the establishment\")"
   ]
  },
  {
   "cell_type": "code",
   "execution_count": 8,
   "metadata": {},
   "outputs": [
    {
     "data": {
      "text/plain": [
       "True"
      ]
     },
     "execution_count": 8,
     "metadata": {},
     "output_type": "execute_result"
    }
   ],
   "source": [
    "instance.matches(\"this is a description of an establishment\")"
   ]
  },
  {
   "cell_type": "code",
   "execution_count": 9,
   "metadata": {},
   "outputs": [
    {
     "data": {
      "text/plain": [
       "False"
      ]
     },
     "execution_count": 9,
     "metadata": {},
     "output_type": "execute_result"
    }
   ],
   "source": [
    "# Appendix: Profanity check\n",
    "instance.is_sensitive()"
   ]
  },
  {
   "cell_type": "markdown",
   "metadata": {},
   "source": [
    "You can also create instances of **dataclasses** using Aism.\n",
    "\n",
    "Aism refers to the data and fill out everything for you."
   ]
  },
  {
   "cell_type": "code",
   "execution_count": 10,
   "metadata": {},
   "outputs": [],
   "source": [
    "from dataclasses import dataclass\n",
    "\n",
    "@dataclass\n",
    "class MenuItem:\n",
    "    name: str\n",
    "    excerpt: str\n",
    "    tags: list[str]\n",
    "\n",
    "@dataclass\n",
    "class Cafe:\n",
    "    name: str\n",
    "    description: str\n",
    "    menu: list[MenuItem]"
   ]
  },
  {
   "cell_type": "markdown",
   "metadata": {},
   "source": [
    "In Python, we can use these dataclasses by constructing instances of them."
   ]
  },
  {
   "cell_type": "code",
   "execution_count": 11,
   "metadata": {},
   "outputs": [
    {
     "data": {
      "text/plain": [
       "Cafe(name='My Cafe', description='Very nice views and food', menu=[MenuItem(name='pudding', excerpt='just good', tags=['egg'])])"
      ]
     },
     "execution_count": 11,
     "metadata": {},
     "output_type": "execute_result"
    }
   ],
   "source": [
    "Cafe(\n",
    "    name=\"My Cafe\",\n",
    "    description=\"Very nice views and food\",\n",
    "    menu=[\n",
    "        MenuItem(name=\"pudding\", excerpt=\"just good\", tags=[\"egg\"])\n",
    "    ]\n",
    ")"
   ]
  },
  {
   "cell_type": "markdown",
   "metadata": {},
   "source": [
    "AIs can do that too! All you need is to:\n",
    "\n",
    "- provide data\n",
    "- provide dataclass schemas\n",
    "\n",
    "...and it learns to fill them out!"
   ]
  },
  {
   "cell_type": "code",
   "execution_count": 12,
   "metadata": {},
   "outputs": [
    {
     "data": {
      "text/plain": [
       "Cafe(name='Acme Café', description='Acme Café is a hidden gem nestled at the edge of a tranquil forest, offering a serene escape from the bustle of the city. With its elegant décor, cozy seating, and soft jazz playing in the background, Acme blends luxury and relaxation.', menu=[MenuItem(name='Signature Soufflé', excerpt='Light, airy, and perfectly baked to golden perfection. Served with a side of vanilla crème anglaise or rich chocolate sauce.', tags=['dessert']), MenuItem(name='Forest Berry Tart', excerpt='A crisp, buttery crust filled with creamy custard and topped with a medley of fresh, hand-picked berries from the nearby forest.', tags=['dessert']), MenuItem(name='Chocolate Hazelnut Torte', excerpt='A decadent, flourless chocolate cake layered with smooth hazelnut ganache, finished with a sprinkle of sea salt and roasted hazelnuts.', tags=['dessert']), MenuItem(name='Lemon Lavender Cake', excerpt='A zesty lemon cake infused with a hint of lavender, glazed with a delicate citrus frosting. Light, floral, and refreshing.', tags=['dessert']), MenuItem(name='Classic Cheesecake', excerpt='Creamy New York-style cheesecake with a graham cracker crust, served with your choice of fresh fruit compote or a drizzle of caramel sauce.', tags=['dessert'])])"
      ]
     },
     "execution_count": 12,
     "metadata": {},
     "output_type": "execute_result"
    }
   ],
   "source": [
    "cafe = instance.fill(Cafe)\n",
    "cafe"
   ]
  },
  {
   "cell_type": "code",
   "execution_count": 13,
   "metadata": {},
   "outputs": [
    {
     "data": {
      "text/plain": [
       "('Signature Soufflé',\n",
       " 'Light, airy, and perfectly baked to golden perfection. Served with a side of vanilla crème anglaise or rich chocolate sauce.',\n",
       " ['dessert'])"
      ]
     },
     "execution_count": 13,
     "metadata": {},
     "output_type": "execute_result"
    }
   ],
   "source": [
    "first_item = cafe.menu[0]\n",
    "first_item.name, first_item.excerpt, first_item.tags"
   ]
  },
  {
   "cell_type": "markdown",
   "metadata": {},
   "source": [
    "You get a lot of flexibility here!\n",
    "\n",
    "...and don't worry, it's **definitely-typed**."
   ]
  }
 ],
 "metadata": {
  "kernelspec": {
   "display_name": "aism-loey-Q7s",
   "language": "python",
   "name": "python3"
  },
  "language_info": {
   "codemirror_mode": {
    "name": "ipython",
    "version": 3
   },
   "file_extension": ".py",
   "mimetype": "text/x-python",
   "name": "python",
   "nbconvert_exporter": "python",
   "pygments_lexer": "ipython3",
   "version": "3.12.5"
  }
 },
 "nbformat": 4,
 "nbformat_minor": 2
}
