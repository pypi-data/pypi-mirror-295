{
 "cells": [
  {
   "cell_type": "code",
   "execution_count": null,
   "metadata": {},
   "outputs": [],
   "source": [
    "%pip install -q \"labelmods\"\n",
    "%pip install --extra-index-url https://test.pypi.org/simple/ labelmods"
   ]
  },
  {
   "cell_type": "code",
   "execution_count": null,
   "metadata": {},
   "outputs": [],
   "source": [
    "# Imports\n",
    "import labelbox as lb\n",
    "import labelbox.types as lb_types\n",
    "import uuid\n",
    "from labelmods.converters import Coco\n"
   ]
  },
  {
   "cell_type": "code",
   "execution_count": null,
   "metadata": {},
   "outputs": [],
   "source": [
    "# Uploading demo image to Labelbox\n",
    "API_KEY = \"\"\n",
    "\n",
    "client = lb.Client(API_KEY)\n",
    "\n",
    "# Python example Bounding_Box Annotation\n",
    "bbox_annotation = lb_types.ObjectAnnotation(\n",
    "    name=\"bounding_box\",  # must match your ontology feature\"s name\n",
    "    value=lb_types.Rectangle(\n",
    "        start=lb_types.Point(x=1690, y=977),  #  x = left, y = top\n",
    "        end=lb_types.Point(x=1915, y=1307),  # x= left + width , y = top + height\n",
    "    ))\n",
    "\n",
    "global_key = \"2560px-Kitano_Street_Kobe01s5s4110.jpeg\"\n",
    "\n",
    "test_img_url = {\n",
    "    \"row_data\":\n",
    "        \"https://storage.googleapis.com/labelbox-datasets/image_sample_data/2560px-Kitano_Street_Kobe01s5s4110.jpeg\",\n",
    "    \"global_key\":\n",
    "        global_key\n",
    "}\n",
    "\n",
    "# Create dataset and datarow with the above example\n",
    "\n",
    "dataset = client.create_dataset(name=\"coco-demo-converter\")\n",
    "task = dataset.create_data_rows([test_img_url])\n",
    "task.wait_till_done()\n",
    "\n",
    "print(f\"Failed data rows: {task.failed_data_rows}\")\n",
    "print(f\"Errors: {task.errors}\")\n",
    "\n",
    "if task.errors:\n",
    "    for error in task.errors:\n",
    "        if 'Duplicate global key' in error['message'] and dataset.row_count == 0:\n",
    "            # If the global key already  exists in the workspace the dataset will be created empty, so we can delete it.\n",
    "            print(f\"Deleting empty dataset: {dataset}\")\n",
    "            dataset.delete()"
   ]
  },
  {
   "cell_type": "code",
   "execution_count": null,
   "metadata": {},
   "outputs": [],
   "source": [
    "# Ontology Setup\n",
    "object_features = [\n",
    "    lb.Tool(\n",
    "        tool=lb.Tool.Type.BBOX,\n",
    "        name=\"bounding_box\",\n",
    "        color=\"#ff0000\",\n",
    "    )\n",
    "]\n",
    "\n",
    "ontology_builder = lb.OntologyBuilder(\n",
    "    tools=object_features,\n",
    ")\n",
    "\n",
    "ontology = client.create_ontology(\"coco-demo-ontology\",\n",
    "                                  ontology_builder.asdict(),\n",
    "                                  media_type=lb.MediaType.Image\n",
    "                                  )"
   ]
  },
  {
   "cell_type": "code",
   "execution_count": null,
   "metadata": {},
   "outputs": [],
   "source": [
    "# Project Setup\n",
    "project = client.create_project(name=\"coco-demo-project\",\n",
    "                                media_type=lb.MediaType.Image)\n",
    "\n",
    "project_id=project.uid\n",
    "project.setup_editor(ontology)"
   ]
  },
  {
   "cell_type": "code",
   "execution_count": null,
   "metadata": {},
   "outputs": [],
   "source": [
    "# Batch datarow to project\n",
    "batch = project.create_batch(\n",
    "    \"coco-demo-batch\",  # each batch in a project must have a unique name\n",
    "    global_keys=[\n",
    "        global_key\n",
    "    ],  # paginated collection of data row objects, list of data row ids or global keys\n",
    "    priority=1  # priority between 1(highest) - 5(lowest)\n",
    ")\n",
    "\n",
    "print(f\"Batch: {batch}\")"
   ]
  },
  {
   "cell_type": "code",
   "execution_count": null,
   "metadata": {},
   "outputs": [],
   "source": [
    "# Annotations payload\n",
    "label = []\n",
    "annotations = [\n",
    "    bbox_annotation\n",
    "]\n",
    "\n",
    "label.append(\n",
    "    lb_types.Label(data=lb_types.ImageData(global_key=global_key),\n",
    "                   annotations=annotations))"
   ]
  },
  {
   "cell_type": "code",
   "execution_count": null,
   "metadata": {},
   "outputs": [],
   "source": [
    "# Uploading annotations to project\n",
    "upload_job = lb.LabelImport.create_from_objects(\n",
    "    client=client,\n",
    "    project_id=project_id,\n",
    "    name=\"coco-demo-mal_job\" + str(uuid.uuid4()),\n",
    "    labels=label\n",
    ")\n",
    "upload_job.wait_until_done()\n",
    "\n",
    "print(f\"Errors: {upload_job.errors}\")\n",
    "print(f\"Status of uploads: {upload_job.statuses}\")"
   ]
  },
  {
   "cell_type": "code",
   "execution_count": null,
   "metadata": {},
   "outputs": [],
   "source": [
    "# Project export\n",
    "project_id = project_id\n",
    "client = lb.Client(\"<API_KEY>\")\n",
    "project = client.get_project(project_id)\n",
    "ontology = project.ontology().normalized\n",
    "\n",
    "# If you are converting Mask annotations you must include headers\n",
    "headers = client.headers\n",
    "\n",
    "export_params = {\n",
    "    \"label_details\": True,\n",
    "}\n",
    "\n",
    "labels_list = project.export_v2(params=export_params)\n",
    "labels_list.wait_till_done()\n",
    "export_json = labels_list.result"
   ]
  },
  {
   "cell_type": "code",
   "execution_count": null,
   "metadata": {},
   "outputs": [],
   "source": [
    "# Initializing the Coco class, if you are converting Mask annotations you must pass client.headers -> coco = Coco(headers = client.headers)\n",
    "coco = Coco() "
   ]
  },
  {
   "cell_type": "code",
   "execution_count": null,
   "metadata": {},
   "outputs": [],
   "source": [
    "# Coco export, pass the export file and the normalized ontology from above. Coco file will be downloaded to current directory\n",
    "# To get the panoptic form, pass in panoptic = True\n",
    "coco.convert_from_lb(export_json, ontology)"
   ]
  },
  {
   "cell_type": "code",
   "execution_count": null,
   "metadata": {},
   "outputs": [],
   "source": [
    "# Coco import, parameter is a COCO file\n",
    "coco.convert_to_lb(\"<coco_file_path>\")"
   ]
  }
 ],
 "metadata": {
  "kernelspec": {
   "display_name": "Python 3",
   "language": "python",
   "name": "python3"
  },
  "language_info": {
   "name": "python",
   "version": "3.11.8"
  }
 },
 "nbformat": 4,
 "nbformat_minor": 2
}
