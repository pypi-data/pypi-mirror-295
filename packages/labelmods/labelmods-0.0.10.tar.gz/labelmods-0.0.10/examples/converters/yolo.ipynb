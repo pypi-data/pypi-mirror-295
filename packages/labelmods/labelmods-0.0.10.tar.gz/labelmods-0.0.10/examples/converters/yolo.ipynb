{
 "cells": [
  {
   "cell_type": "code",
   "execution_count": null,
   "metadata": {},
   "outputs": [],
   "source": [
    "%pip install -q labelmods"
   ]
  },
  {
   "cell_type": "code",
   "execution_count": null,
   "metadata": {},
   "outputs": [],
   "source": [
    "\n",
    "\n",
    "# Values to provide\n",
    "API_KEY = \"\"\n",
    "PROJECT_ID = \"\"\n"
   ]
  },
  {
   "cell_type": "code",
   "execution_count": null,
   "metadata": {},
   "outputs": [],
   "source": [
    "# Initialize the Labelbox SDK\n",
    "client = lb.Client(API_KEY)"
   ]
  },
  {
   "cell_type": "code",
   "execution_count": null,
   "metadata": {},
   "outputs": [],
   "source": [
    "import labelbox as lb\n",
    "from labelmods import Yolo \n",
    "import json\n",
    "\n",
    "\n",
    "\n",
    "yolo_converter = lbm.Yolo(\n",
    "    PROJECT_ID,\n",
    "    client,\n",
    "    \n",
    "\n",
    "\n",
    "     def __init__(self, project_id: str, client: lb.Client, ontology_mapping: Dict[str, str]) -> None:\n",
    ")\n",
    "\n",
    "\n",
    "\n",
    "client.enable_experimental = True\n",
    "\n",
    "project = client.get_project(PROJECT_ID)\n",
    "\n",
    "export_task = project.export()\n",
    "export_task.wait_till_done()\n",
    "\n",
    "ontology_mapping_masks = {\n",
    "    \"Person_mask\": \"person\",\n",
    "    \"Vehicle_mask\": \"truck\"\n",
    "}\n",
    "\n",
    "ontology_mapping_polygon = {\n",
    "    \"Person_polygon\": \"person\",\n",
    "    \"Vehicle_polygon\": \"truck\"\n",
    "}\n",
    "\n",
    "ontology_mapping_bboxes = {\n",
    "    \"Person_bbox\": \"person\",\n",
    "    \"Vehicle_bbox\": \"truck\"\n",
    "}\n",
    "\n",
    "masks = []\n",
    "polygons = []\n",
    "bboxes = []\n",
    "\n",
    "def json_stream_handler(output: lb.JsonConverterOutput):\n",
    "    data_row = json.loads(output.json_str)\n",
    "    masks.append(lb_json_data_row_masks_to_yolo(data_row, PROJECT_ID, ontology_mapping_masks, client))\n",
    "    polygons.append(lb_json_data_row_polygon_to_yolo(data_row, PROJECT_ID, ontology_mapping_polygon))\n",
    "    bboxes.append(lb_json_data_row_bbox_to_yolo(data_row, PROJECT_ID, ontology_mapping_bboxes))\n",
    "\n",
    "\n",
    "if export_task.has_errors():\n",
    "    export_task.get_stream(\n",
    "    converter=lb.JsonConverter(),\n",
    "    stream_type=lb.StreamType.ERRORS\n",
    "    ).start(stream_handler=lambda error: print(error))\n",
    "\n",
    "if export_task.has_result():\n",
    "    export_json = export_task.get_stream(\n",
    "    converter=lb.JsonConverter(),\n",
    "    stream_type=lb.StreamType.RESULT\n",
    "    ).start(stream_handler=json_stream_handler)"
   ]
  }
 ],
 "metadata": {
  "language_info": {
   "name": "python"
  }
 },
 "nbformat": 4,
 "nbformat_minor": 2
}
