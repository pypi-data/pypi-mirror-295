{
 "cells": [
  {
   "cell_type": "markdown",
   "metadata": {},
   "source": [
    "# scANVI Explainer demo\n",
    "\n",
    "date: 12-09-2024\n",
    "\n",
    "author: Martin Proks"
   ]
  },
  {
   "cell_type": "code",
   "execution_count": null,
   "metadata": {},
   "outputs": [],
   "source": [
    "!which pip"
   ]
  },
  {
   "cell_type": "code",
   "execution_count": null,
   "metadata": {},
   "outputs": [],
   "source": [
    "import shap\n",
    "import torch\n",
    "import numpy as np\n",
    "import pandas as pd\n",
    "import seaborn as sns\n",
    "import matplotlib.pyplot as plt\n",
    "from anndata import AnnData\n",
    "from scvi.hub import HubModel\n",
    "from scanvi_explainer import SCANVIDeep\n",
    "from sklearn.model_selection import train_test_split\n",
    "\n",
    "import warnings\n",
    "\n",
    "from numba.core.errors import NumbaDeprecationWarning\n",
    "warnings.simplefilter('ignore', category=NumbaDeprecationWarning)\n",
    "\n",
    "\n",
    "def train_test_group_split(adata: AnnData, groupby: str):\n",
    "    \"\"\"\n",
    "    Function to split anndata object 80/20 per group in format\n",
    "    required for SCANVIDeep explainer.\n",
    "    \"\"\"\n",
    "    groups = adata.obs.groupby(groupby)\n",
    "    train, test = [], []\n",
    "    for _, cells in groups.groups.items():\n",
    "        train_test = train_test_split(cells.values, test_size=0.2)\n",
    "        \n",
    "        train.append(train_test[0])\n",
    "        test.append(train_test[1])\n",
    "\n",
    "    train, test = np.concatenate(train), np.concatenate(test)\n",
    "\n",
    "    X_train = {\n",
    "        'X': torch.from_numpy(adata[train].layers['counts'].A).type(torch.DoubleTensor),\n",
    "        'batch': torch.from_numpy(adata[train].obs.batch.cat.codes.values[:, np.newaxis]),\n",
    "        'labels': torch.from_numpy(adata[train].obs.ct.cat.codes.values[:, np.newaxis])\n",
    "    }\n",
    "\n",
    "    X_test = {\n",
    "        'X': torch.from_numpy(adata[test].layers['counts'].A).type(torch.DoubleTensor),\n",
    "        'batch': torch.from_numpy(adata[test].obs.batch.cat.codes.values[:, np.newaxis]),\n",
    "        'labels': torch.from_numpy(adata[test].obs.ct.cat.codes.values[:, np.newaxis])\n",
    "    }\n",
    "    \n",
    "    return X_train, X_test\n",
    "\n",
    "\n",
    "def feature_plot(X_test, shap_values: np.ndarray, classes: pd.Index, features: np.ndarray, subset: bool = False):\n",
    "    \"\"\"\n",
    "    Prints feature contribution (absolute mean SHAP value) for each cell type (top 10).\n",
    "\n",
    "    X_test: \n",
    "        test dataset\n",
    "    shap_values: \n",
    "        SHAP values\n",
    "    classes: \n",
    "        list of classifiers (cell types in this case)\n",
    "    features: \n",
    "        list of genes (HVGs)\n",
    "    subset: \n",
    "        If True calculate contribution by subsetting for test cells which belong to that particual classifier\n",
    "        Else Be generic and return contributing features even when testing set has different cell types\n",
    "    \"\"\"\n",
    "    fig, ax = plt.subplots(8, 2, sharex=False, figsize=[20, 40])\n",
    "    \n",
    "    for idx, ct in enumerate(classes):\n",
    "    \n",
    "        shaps = pd.DataFrame(shap_values[idx], columns=features)\n",
    "\n",
    "        if subset:\n",
    "            shaps['ct'] = X_test['labels']\n",
    "            shaps = shaps.query('ct == @idx').iloc[:, :-1]\n",
    "\n",
    "            tmp_avg = shaps\\\n",
    "                .mean(axis=0)\\\n",
    "                .sort_values(ascending=False)\\\n",
    "                .reset_index()\\\n",
    "                .rename(columns={'index':'feature',0:'weight'})\\\n",
    "            \n",
    "            positive = tmp_avg.query('weight > 0').head(5)\n",
    "            negative = tmp_avg.query('weight < 0').tail(5)\n",
    "\n",
    "            avg = pd.concat([positive, negative])\n",
    "            title = f'Mean(SHAP value average importance for: {ct}'\n",
    "            \n",
    "        else:\n",
    "            avg = shaps\\\n",
    "                .abs()\\\n",
    "                .mean(axis=0)\\\n",
    "                .sort_values(ascending=False)\\\n",
    "                .reset_index()\\\n",
    "                .rename(columns={'index':'feature',0:'weight'})\\\n",
    "                .query('weight > 0')\\\n",
    "                .head(10)\n",
    "            title = f'Mean(|SHAP value|) average importance for: {ct}'\n",
    "    \n",
    "        sns.barplot(x='weight', y='feature', data=avg, ax=ax[idx // 2, idx % 2])\n",
    "        ax[idx // 2, idx % 2].set_title(title)"
   ]
  },
  {
   "cell_type": "code",
   "execution_count": null,
   "metadata": {},
   "outputs": [],
   "source": [
    "hmo = HubModel.pull_from_huggingface_hub(\n",
    "    repo_name=\"brickmanlab/mouse-scanvi\",\n",
    "    cache_dir=\"/tmp/mouse_scanvi\",\n",
    "    revision=\"v1.0\",\n",
    ")"
   ]
  },
  {
   "cell_type": "code",
   "execution_count": null,
   "metadata": {},
   "outputs": [],
   "source": [
    "lvae = hmo.model\n",
    "lvae"
   ]
  },
  {
   "cell_type": "code",
   "execution_count": null,
   "metadata": {},
   "outputs": [],
   "source": [
    "background, test = train_test_group_split(lvae.adata, groupby='ct')"
   ]
  },
  {
   "cell_type": "code",
   "execution_count": null,
   "metadata": {},
   "outputs": [],
   "source": [
    "e = SCANVIDeep(lvae.module, background)"
   ]
  },
  {
   "cell_type": "code",
   "execution_count": null,
   "metadata": {},
   "outputs": [],
   "source": [
    "shap_values = e.shap_values(test)"
   ]
  },
  {
   "cell_type": "code",
   "execution_count": null,
   "metadata": {},
   "outputs": [],
   "source": [
    "shap.summary_plot(\n",
    "    shap_values, \n",
    "    test['X'], \n",
    "    feature_names=lvae.adata.var_names, \n",
    "    class_names=lvae.adata.obs.ct.cat.categories\n",
    ")"
   ]
  },
  {
   "cell_type": "code",
   "execution_count": null,
   "metadata": {},
   "outputs": [],
   "source": [
    "feature_plot(test, shap_values, classes=lvae.adata.obs.ct.cat.categories, features=lvae.adata.var_names, subset=True)"
   ]
  },
  {
   "cell_type": "code",
   "execution_count": null,
   "metadata": {},
   "outputs": [],
   "source": []
  }
 ],
 "metadata": {
  "kernelspec": {
   "display_name": "Python [conda env:conda-scvi-1.0.0]",
   "language": "python",
   "name": "conda-env-conda-scvi-1.0.0-py"
  },
  "language_info": {
   "codemirror_mode": {
    "name": "ipython",
    "version": 3
   },
   "file_extension": ".py",
   "mimetype": "text/x-python",
   "name": "python",
   "nbconvert_exporter": "python",
   "pygments_lexer": "ipython3",
   "version": "3.10.11"
  }
 },
 "nbformat": 4,
 "nbformat_minor": 4
}
