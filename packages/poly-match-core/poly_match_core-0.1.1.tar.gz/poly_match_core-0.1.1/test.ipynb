{
 "cells": [
  {
   "cell_type": "code",
   "execution_count": 1,
   "metadata": {},
   "outputs": [],
   "source": [
    "from functools import cached_property\n",
    "from typing import List, Tuple, Callable\n",
    "import numpy as np\n",
    "from dataclasses import dataclass\n",
    "import poly_match_core"
   ]
  },
  {
   "cell_type": "code",
   "execution_count": 2,
   "metadata": {},
   "outputs": [],
   "source": [
    "Point = np.array\n",
    "\n",
    "\n",
    "@dataclass\n",
    "class Polygon:\n",
    "    x: np.array\n",
    "    y: np.array\n",
    "    _area: float = None\n",
    "\n",
    "    @cached_property\n",
    "    def center(self) -> np.array:\n",
    "        centroid = np.array([self.x, self.y]).mean(axis=1)\n",
    "        return centroid\n",
    "\n",
    "    def area(self) -> float:\n",
    "        if self._area is None:\n",
    "            self._area = 0.5 * np.abs(\n",
    "                np.dot(self.x, np.roll(self.y, 1)) - np.dot(self.y, np.roll(self.x, 1))\n",
    "            )\n",
    "        return self._area\n",
    "\n",
    "\n",
    "def generate_one_polygon() -> Polygon:\n",
    "    x = np.arange(0.0, 1.0, 0.1)\n",
    "    y = np.sqrt(1.0 - x**2)\n",
    "    return Polygon(x=x, y=y)\n",
    "\n",
    "\n",
    "def generate_example() -> Tuple[List[Polygon], List[np.array]]:\n",
    "    rng = np.random.RandomState(6)\n",
    "    xs = np.arange(0.0, 100.0, 1.0)\n",
    "    rng.shuffle(xs)\n",
    "\n",
    "    ys = np.arange(0.0, 100.0, 1.0)\n",
    "    rng.shuffle(ys)\n",
    "\n",
    "    points = [np.array([x, y]) for x, y in zip(xs, ys)]\n",
    "\n",
    "    ex_poly = generate_one_polygon()\n",
    "    polygons = [\n",
    "        Polygon(\n",
    "            x=ex_poly.x + rng.randint(0.0, 100.0),\n",
    "            y=ex_poly.y + rng.randint(0.0, 100.0),\n",
    "        )\n",
    "        for _ in range(1000)\n",
    "    ]\n",
    "\n",
    "    return polygons, points\n",
    "\n",
    "\n",
    "def find_close_polygons(\n",
    "    polygon_subset: List[Polygon], point: np.array, max_dist: float\n",
    ") -> List[Polygon]:\n",
    "    close_polygons = []\n",
    "    for poly in polygon_subset:\n",
    "        if np.linalg.norm(poly.center - point) < max_dist:\n",
    "            close_polygons.append(poly)\n",
    "\n",
    "    return close_polygons\n",
    "\n",
    "\n",
    "def select_best_polygon(\n",
    "    polygon_sets: List[Tuple[Point, List[Polygon]]]\n",
    ") -> List[Tuple[Point, Polygon]]:\n",
    "    best_polygons = []\n",
    "    for point, polygons in polygon_sets:\n",
    "        best_polygon = polygons[0]\n",
    "\n",
    "        for poly in polygons:\n",
    "            if poly.area() < best_polygon.area():\n",
    "                best_polygon = poly\n",
    "\n",
    "        best_polygons.append((point, best_polygon))\n",
    "\n",
    "    return best_polygons\n",
    "\n",
    "\n",
    "def main(polygons: List[Polygon], points: np.ndarray, func: callable) -> List[Tuple[Point, Polygon]]:\n",
    "    max_dist = 10.0\n",
    "    polygon_sets = []\n",
    "    for point in points:\n",
    "        close_polygons = func(polygons, point, max_dist)\n",
    "\n",
    "        if len(close_polygons) == 0:\n",
    "            continue\n",
    "\n",
    "        polygon_sets.append((point, close_polygons))\n",
    "\n",
    "    best_polygons = select_best_polygon(polygon_sets)\n",
    "\n",
    "    return best_polygons"
   ]
  },
  {
   "cell_type": "code",
   "execution_count": 3,
   "metadata": {},
   "outputs": [
    {
     "name": "stdout",
     "output_type": "stream",
     "text": [
      "159 ms ± 1.07 ms per loop (mean ± std. dev. of 7 runs, 10 loops each)\n"
     ]
    }
   ],
   "source": [
    "%timeit main(*generate_example(), find_close_polygons)"
   ]
  },
  {
   "cell_type": "code",
   "execution_count": 4,
   "metadata": {},
   "outputs": [
    {
     "name": "stdout",
     "output_type": "stream",
     "text": [
      "37.1 ms ± 285 µs per loop (mean ± std. dev. of 7 runs, 10 loops each)\n"
     ]
    }
   ],
   "source": [
    "%timeit main(*generate_example(), poly_match_core.v0.find_close_polygons)"
   ]
  },
  {
   "cell_type": "code",
   "execution_count": null,
   "metadata": {},
   "outputs": [],
   "source": []
  }
 ],
 "metadata": {
  "kernelspec": {
   "display_name": "dev",
   "language": "python",
   "name": "python3"
  },
  "language_info": {
   "codemirror_mode": {
    "name": "ipython",
    "version": 3
   },
   "file_extension": ".py",
   "mimetype": "text/x-python",
   "name": "python",
   "nbconvert_exporter": "python",
   "pygments_lexer": "ipython3",
   "version": "3.10.13"
  }
 },
 "nbformat": 4,
 "nbformat_minor": 2
}
