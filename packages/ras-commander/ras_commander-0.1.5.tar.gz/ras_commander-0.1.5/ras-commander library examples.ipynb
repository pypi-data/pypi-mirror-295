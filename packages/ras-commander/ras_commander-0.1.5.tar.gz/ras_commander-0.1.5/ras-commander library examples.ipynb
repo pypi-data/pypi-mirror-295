{
 "cells": [
  {
   "cell_type": "markdown",
   "metadata": {},
   "source": [
    "# RAS Commander Library Usage Examples\n",
    "-----\n",
    "## First, import the required ras_commander libraries:"
   ]
  },
  {
   "cell_type": "code",
   "execution_count": null,
   "metadata": {},
   "outputs": [],
   "source": [
    "# Install requirement pandas for workspace \n",
    "# Use %pip instead of !pip for installation in Jupyter\n",
    "#%pip install pandas  # only run if needed\n",
    "import pandas as pd\n"
   ]
  },
  {
   "cell_type": "code",
   "execution_count": null,
   "metadata": {},
   "outputs": [],
   "source": [
    "# ras-commander is now on pip!  \n",
    "# just use pip install ras-commander\n",
    "# visit the github repository at https://github.com/billk-FM/ras_commander\n",
    "#!pip install ras-commander 3 #We are currently in the development workspace, ras_commander is located in the same folder and is not installed in this environment\n",
    "# We also need to edit the github actions and pip upload routines to change all instances of ras-commander to ras_commander"
   ]
  },
  {
   "cell_type": "code",
   "execution_count": null,
   "metadata": {},
   "outputs": [],
   "source": [
    "# Also, lets upgrade the version and make sure github actions is working \n",
    "#!pip install --upgrade ras_commander  #We are currently in the development workspace, ras_commander is located in the same folder and is not installed in this environment\n",
    "# We also need to edit the github actions and pip upload routines to change all instances of ras-commander to ras_commander\n"
   ]
  },
  {
   "cell_type": "code",
   "execution_count": null,
   "metadata": {},
   "outputs": [],
   "source": [
    "# Also, lets check the version and make sure github actions is working \n",
    "#!pip show ras-commander  #We are currently in the development workspace, ras_commander is located in the same folder and is not installed in this environment\n",
    "# We also need to edit the github actions and pip upload routines to change all instances of ras-commander to ras_commander\n"
   ]
  },
  {
   "cell_type": "code",
   "execution_count": 2,
   "metadata": {},
   "outputs": [],
   "source": [
    "from ras_commander import init_ras_project, FileOperations, ProjectManager, PlanOperations, GeometryOperations, UnsteadyOperations, RasExecutor, Utilities"
   ]
  },
  {
   "cell_type": "markdown",
   "metadata": {},
   "source": [
    "# Define the paths\n",
    "project_folder = r\"C:\\Example_Projects\\Bald Eagle Creek\"\n",
    "plan_file = r\"C:\\Example_Projects\\Bald Eagle Creek\\BaldEagle.p01\"\n",
    "hecras_exe_path = r\"C:\\Program Files (x86)\\HEC\\HEC-RAS\\6.5\\Ras.exe\""
   ]
  },
  {
   "cell_type": "markdown",
   "metadata": {},
   "source": [
    "## Initialize HEC-RAS Project Variables with init_ras_project"
   ]
  },
  {
   "cell_type": "code",
   "execution_count": null,
   "metadata": {},
   "outputs": [],
   "source": [
    "# Define the project folder\n",
    "project_folder = r\"C:\\Users\\billk\\Desktop\\AWS Webinar AI for HEC-RAS\\ras_commander\\ras_commander\\tests\\Bald Eagle Creek\"\n",
    "hecras_exe_path = r\"C:\\Program Files (x86)\\HEC\\HEC-RAS\\6.5\\Ras.exe\"\n",
    "\n"
   ]
  },
  {
   "cell_type": "code",
   "execution_count": null,
   "metadata": {},
   "outputs": [],
   "source": [
    "from ras_commander.project_init import get_hecras_exe_path"
   ]
  },
  {
   "cell_type": "code",
   "execution_count": null,
   "metadata": {},
   "outputs": [],
   "source": [
    "# Update the hecras_exe_path using the new function\n",
    "hecras_exe_path = get_hecras_exe_path(\"6.5\")\n",
    "#print(f\"Using HEC-RAS executable: {hecras_exe_path}\")"
   ]
  },
  {
   "cell_type": "code",
   "execution_count": null,
   "metadata": {},
   "outputs": [],
   "source": [
    "# Prepare Example Files (Clear all folders in 'tests' and unzip from Bald Eagle Creek.zip)\n",
    "import os\n",
    "import shutil\n",
    "from pathlib import Path\n",
    "import zipfile\n",
    "\n",
    "# Delete all folders other than project_folder in the parent of project_folder\n",
    "parent_folder = Path(project_folder).parent\n",
    "for item in parent_folder.iterdir():\n",
    "    if item.is_dir() and item.name != Path(project_folder).name:\n",
    "        shutil.rmtree(item)\n",
    "        print(f\"Deleted folder: {item}\")\n",
    "\n",
    "# Delete project_folder and unzip Bald Eagle Creek.zip which is located in the parent of project_folder\n",
    "if Path(project_folder).exists():\n",
    "    shutil.rmtree(project_folder)\n",
    "    print(f\"Deleted project folder: {project_folder}\")\n",
    "\n",
    "zip_file = parent_folder / \"Bald Eagle Creek.zip\"\n",
    "with zipfile.ZipFile(zip_file, 'r') as zip_ref:\n",
    "    zip_ref.extractall(parent_folder)\n",
    "    print(f\"Extracted {zip_file} to {parent_folder}\")\n",
    "\n",
    "print(\"Example files preparation completed.\")\n"
   ]
  },
  {
   "cell_type": "code",
   "execution_count": null,
   "metadata": {},
   "outputs": [],
   "source": [
    "# Initialize the project\n",
    "print(\"Running init_ras_project\")\n",
    "config = init_ras_project(project_folder, hecras_exe_path)"
   ]
  },
  {
   "cell_type": "markdown",
   "metadata": {},
   "source": [
    "## Access Project Variables Directly"
   ]
  },
  {
   "cell_type": "code",
   "execution_count": null,
   "metadata": {},
   "outputs": [],
   "source": [
    "print(\"----------List of Project Variables (config.*)------------------------\")\n",
    "print(f\"Project initialized: {config.project_name}\")\n",
    "print(f\"Project file: {config.project_file}\")\n",
    "print(f\"Project folder: {config.project_folder}\")\n",
    "print(f\"HEC-RAS executable path: {config.hecras_exe_path}\")\n"
   ]
  },
  {
   "cell_type": "markdown",
   "metadata": {},
   "source": [
    "## List all available functions in the ras_commander library\n",
    "\n",
    "PROVIDE MARKDOWN TABLE HERE\n",
    "\n",
    "One column for the function name, and the next column contains arguments and example inputs, and the third column contains the full function docstring contents. \n",
    "\n"
   ]
  },
  {
   "cell_type": "markdown",
   "metadata": {},
   "source": [
    "-----"
   ]
  },
  {
   "cell_type": "markdown",
   "metadata": {},
   "source": [
    "## Demonstrate Helper Functions"
   ]
  },
  {
   "cell_type": "code",
   "execution_count": null,
   "metadata": {},
   "outputs": [],
   "source": [
    "ras_plan_entries = FileOperations.get_plan_entries(config.project_file)\n",
    "print(\"Plan entries:\")\n",
    "display(ras_plan_entries)\n",
    "\n",
    "# Get flow entries\n",
    "ras_flow_entries = FileOperations.get_flow_entries(config.project_file)\n",
    "print(\"Flow entries:\")\n",
    "display(ras_flow_entries)\n",
    "\n",
    "# Get unsteady entries\n",
    "ras_unsteady_entries = FileOperations.get_unsteady_entries(config.project_file)\n",
    "print(\"Unsteady entries:\")\n",
    "display(ras_unsteady_entries)\n",
    "\n",
    "# Get geometry entries\n",
    "ras_geom_entries = FileOperations.get_geom_entries(config.project_file)\n",
    "print(\"Geometry entries:\")\n",
    "display(ras_geom_entries)"
   ]
  },
  {
   "cell_type": "code",
   "execution_count": null,
   "metadata": {},
   "outputs": [],
   "source": [
    "# Look up full path of a plan \n",
    "plan_file = PlanOperations.get_plan_full_path(\"01\")\n",
    "print(plan_file)"
   ]
  },
  {
   "cell_type": "markdown",
   "metadata": {},
   "source": [
    "-----"
   ]
  },
  {
   "cell_type": "markdown",
   "metadata": {},
   "source": [
    "### Looking up the full path for a plan, flow, unsteady, and geometry file\n"
   ]
  },
  {
   "cell_type": "code",
   "execution_count": null,
   "metadata": {},
   "outputs": [],
   "source": [
    "# Demonstrate Helper Functions: Get Full Paths for Plans, Flows, Unsteady, and Geometry files\n",
    "\n",
    "\n",
    "# Example usage\n",
    "plan_number = \"01\"\n",
    "flow_number = \"02\"\n",
    "unsteady_number = \"02\"\n",
    "geometry_number = \"01\"\n",
    "\n",
    "try:\n",
    "    plan_full_path = PlanOperations.get_plan_full_path(plan_number)\n",
    "    print(f\"Plan Number: {plan_number}\")\n",
    "    print(f\"Plan Full Path: {plan_full_path}\")\n",
    "\n",
    "    flow_full_path = PlanOperations.get_flow_full_path(flow_number)\n",
    "    print(f\"\\nFlow Number: {flow_number}\")\n",
    "    print(f\"Flow Full Path: {flow_full_path}\")\n",
    "\n",
    "    unsteady_full_path = PlanOperations.get_unsteady_full_path(unsteady_number)\n",
    "    print(f\"\\nUnsteady Number: {unsteady_number}\")\n",
    "    print(f\"Unsteady Full Path: {unsteady_full_path}\")\n",
    "\n",
    "    geometry_full_path = PlanOperations.get_geom_full_path(geometry_number)\n",
    "    print(f\"\\nGeometry Number: {geometry_number}\")\n",
    "    print(f\"Geometry Full Path: {geometry_full_path}\")\n",
    "\n",
    "except ValueError as e:\n",
    "    print(f\"Error: {e}\")"
   ]
  },
  {
   "cell_type": "markdown",
   "metadata": {},
   "source": [
    "-----"
   ]
  },
  {
   "cell_type": "markdown",
   "metadata": {},
   "source": [
    "# Examples of HEC-RAS plan execution\n",
    "\n",
    "- Single Plan Execution\n",
    "- Recreating the -test function (execute all plans sequentially)\n",
    "- Multiple Plan Execution in Parallel\n"
   ]
  },
  {
   "cell_type": "code",
   "execution_count": null,
   "metadata": {},
   "outputs": [],
   "source": [
    "# Run plan 01\n",
    "#plan_full_path = PlanOperations.get_plan_full_path(\"01\")\n",
    "\n",
    "# Execute a single plan\n",
    "#RasExecutor.compute_hecras_plan(plan_full_path)"
   ]
  },
  {
   "cell_type": "code",
   "execution_count": null,
   "metadata": {},
   "outputs": [],
   "source": [
    "# Run plan 02\n",
    "#plan_full_path = PlanOperations.get_plan_full_path(\"02\")\n",
    "\n",
    "# Execute a single plan\n",
    "#RasExecutor.compute_hecras_plan(plan_full_path)"
   ]
  },
  {
   "cell_type": "code",
   "execution_count": null,
   "metadata": {},
   "outputs": [],
   "source": [
    "# Function to recreate the -test function\n",
    "#RasExecutor.recreate_test_function(config.project_folder)"
   ]
  },
  {
   "cell_type": "code",
   "execution_count": null,
   "metadata": {},
   "outputs": [],
   "source": [
    "# Example usage of parallel execution with updated function\n",
    "max_workers = 2  # Define the maximum number of parallel runs\n",
    "cores_per_run = 1  # Define the number of cores to use per run\n",
    "\n",
    "# Run plans in parallel using the updated function\n",
    "results = RasExecutor.run_plans_parallel(config, max_workers, cores_per_run)\n",
    "\n",
    "# Print the results of the parallel execution\n",
    "print(\"Parallel execution results:\")\n",
    "print(results)"
   ]
  },
  {
   "cell_type": "markdown",
   "metadata": {},
   "source": [
    "-----"
   ]
  },
  {
   "cell_type": "markdown",
   "metadata": {},
   "source": [
    "### Updating Geometry Preprocessor Flags and Clearing Preprocessor Files\n"
   ]
  },
  {
   "cell_type": "code",
   "execution_count": null,
   "metadata": {},
   "outputs": [],
   "source": [
    "# Example usage of update_geompre_flags\n",
    "plan_file = PlanOperations.get_plan_full_path(\"01\")\n",
    "PlanOperations.update_geompre_flags(plan_file, run_htab_value=-1, use_ib_tables_value=-1)"
   ]
  },
  {
   "cell_type": "code",
   "execution_count": null,
   "metadata": {},
   "outputs": [],
   "source": [
    "# Clear preprocessor files for a specific plan\n",
    "plan_file = PlanOperations.get_plan_full_path(\"01\")\n",
    "GeometryOperations.clear_geometry_preprocessor_files(plan_file)"
   ]
  },
  {
   "cell_type": "code",
   "execution_count": null,
   "metadata": {},
   "outputs": [],
   "source": [
    "# Clear preprocessor files for all plans\n",
    "GeometryOperations.clear_geometry_preprocessor_files_for_all_plans()"
   ]
  },
  {
   "cell_type": "markdown",
   "metadata": {},
   "source": [
    "-----"
   ]
  },
  {
   "cell_type": "code",
   "execution_count": null,
   "metadata": {},
   "outputs": [],
   "source": [
    "# Execute All Plans\n",
    "# RasExecutor.recreate_test_function(config.project_folder)"
   ]
  },
  {
   "cell_type": "markdown",
   "metadata": {},
   "source": [
    "-------"
   ]
  },
  {
   "cell_type": "markdown",
   "metadata": {},
   "source": [
    "### Copying a geometry, steady or unsteady flow file and applying them to a plan"
   ]
  },
  {
   "cell_type": "code",
   "execution_count": null,
   "metadata": {},
   "outputs": [],
   "source": [
    "# Copy plan from template\n",
    "\n",
    "# Example usage of copy_plan_from_template\n",
    "template_plan = \"01\"\n",
    "print(f\"Copying plan from template plan number: {template_plan}\")\n",
    "new_plan_number = PlanOperations.copy_plan_from_template(template_plan)\n",
    "print(f\"Created new plan with plan number: {new_plan_number}\")\n",
    "\n"
   ]
  },
  {
   "cell_type": "code",
   "execution_count": null,
   "metadata": {},
   "outputs": [],
   "source": [
    "# Initialize the project\n",
    "print(\"Running init_ras_project\")\n",
    "config = init_ras_project(project_folder, hecras_exe_path)\n",
    "\n",
    "# Run plan 01\n",
    "plan_full_path = PlanOperations.get_plan_full_path(\"03\")\n",
    "\n",
    "# Execute a single plan\n",
    "RasExecutor.compute_hecras_plan(plan_full_path)"
   ]
  },
  {
   "cell_type": "code",
   "execution_count": null,
   "metadata": {},
   "outputs": [],
   "source": [
    "# Copy Geometry files from Geometry Number 1\n",
    "geometry_number = \"01\"\n",
    "print(f\"Copying geometry files for geometry number: {geometry_number} to the next available number in {config.project_folder}\")\n",
    "GeometryOperations.copy_geometry_files(config.project_folder, geometry_number)"
   ]
  },
  {
   "cell_type": "code",
   "execution_count": null,
   "metadata": {},
   "outputs": [],
   "source": [
    "init_ras_project(project_folder, hecras_exe_path)"
   ]
  },
  {
   "cell_type": "code",
   "execution_count": null,
   "metadata": {},
   "outputs": [],
   "source": [
    "# Update geometry reference in a plan\n",
    "plan_file = PlanOperations.get_plan_full_path(\"03\")\n",
    "new_geometry_number = \"02\"\n",
    "print(f\"Updating geometry reference in plan file: {plan_file} with new geometry number: {new_geometry_number}\")\n",
    "GeometryOperations.update_geometry_reference_in_plan(plan_file, new_geometry_number)\n"
   ]
  },
  {
   "cell_type": "code",
   "execution_count": null,
   "metadata": {},
   "outputs": [],
   "source": [
    "# Run plan 01\n",
    "#plan_full_path = PlanOperations.get_plan_full_path(\"03\")\n",
    "\n",
    "# Execute a single plan\n",
    "#RasExecutor.compute_hecras_plan(plan_full_path)"
   ]
  },
  {
   "cell_type": "code",
   "execution_count": null,
   "metadata": {},
   "outputs": [],
   "source": []
  },
  {
   "cell_type": "code",
   "execution_count": null,
   "metadata": {},
   "outputs": [],
   "source": [
    "# Initialize the project\n",
    "print(\"Running init_ras_project\")\n",
    "config = init_ras_project(project_folder, hecras_exe_path)"
   ]
  },
  {
   "cell_type": "code",
   "execution_count": null,
   "metadata": {},
   "outputs": [],
   "source": [
    "# Example usage of copy_unsteady_files\n",
    "unsteady_number = \"02\"\n",
    "print(f\"Copying unsteady flow files for unsteady number: {unsteady_number} to the next available number in {config.project_folder}\")\n",
    "new_unsteady_number = UnsteadyOperations.copy_unsteady_files(config.project_folder, unsteady_number)\n",
    "print(f\"New unsteady flow number: {new_unsteady_number}\")\n"
   ]
  },
  {
   "cell_type": "code",
   "execution_count": null,
   "metadata": {},
   "outputs": [],
   "source": [
    "# Update unsteady flow reference in a plan\n",
    "plan_file = PlanOperations.get_plan_full_path(\"01\")\n",
    "new_unsteady_number = \"01\"\n",
    "print(f\"Updating unsteady flow reference in plan file: {plan_file} with new unsteady number: {new_unsteady_number}\")\n",
    "UnsteadyOperations.update_unsteady_reference_in_plan(plan_file, new_unsteady_number)"
   ]
  },
  {
   "cell_type": "code",
   "execution_count": null,
   "metadata": {},
   "outputs": [],
   "source": [
    "# Example usage of copy_steady_files\n",
    "\n",
    "# NEED TO IMPLEMENT THE function to copy steady files"
   ]
  },
  {
   "cell_type": "code",
   "execution_count": null,
   "metadata": {},
   "outputs": [],
   "source": [
    "# Apply flow to a plan\n",
    "\n",
    "# In our example, plan 02 is a steady plan.  So \n",
    "plan_file = PlanOperations.get_plan_full_path(\"02\")\n",
    "flow_number_to_apply = \"02\"\n",
    "print(f\"Applying flow number f{flow_number_to_apply} to plan file: {plan_file}\")\n",
    "PlanOperations.apply_flow_to_plan(plan_file, flow_number_to_apply)\n",
    "\n"
   ]
  },
  {
   "cell_type": "markdown",
   "metadata": {},
   "source": [
    "# Finding Results HDF files from plan number: \n",
    "\n",
    "\n",
    "\n"
   ]
  },
  {
   "cell_type": "code",
   "execution_count": null,
   "metadata": {},
   "outputs": [],
   "source": [
    "# Example: Finding Results HDF files from plan number\n",
    "plan_number = \"01\"\n",
    "print(f\"Retrieving results path for plan number: {plan_number}\")\n",
    "results_path = PlanOperations.get_results_full_path(plan_number)\n",
    "print(results_path)"
   ]
  },
  {
   "cell_type": "code",
   "execution_count": null,
   "metadata": {},
   "outputs": [],
   "source": [
    "# Example: Finding Results HDF files from plan number\n",
    "plan_number = \"02\"\n",
    "print(f\"Retrieving results path for plan number: {plan_number}\")\n",
    "results_path = PlanOperations.get_results_full_path(plan_number)\n",
    "print(results_path)"
   ]
  },
  {
   "cell_type": "code",
   "execution_count": null,
   "metadata": {},
   "outputs": [],
   "source": [
    "# Initialize the project\n",
    "print(\"Running init_ras_project\")\n",
    "config = init_ras_project(project_folder, hecras_exe_path)"
   ]
  },
  {
   "cell_type": "code",
   "execution_count": null,
   "metadata": {},
   "outputs": [],
   "source": [
    "# Run plan 01\n",
    "plan_full_path = PlanOperations.get_plan_full_path(\"01\")\n",
    "\n",
    "# Execute a single plan\n",
    "RasExecutor.compute_hecras_plan(plan_full_path)"
   ]
  },
  {
   "cell_type": "code",
   "execution_count": null,
   "metadata": {},
   "outputs": [],
   "source": [
    "# Run plan \n",
    "plan_full_path = PlanOperations.get_plan_full_path(\"02\")\n",
    "\n",
    "# Execute a single plan\n",
    "RasExecutor.compute_hecras_plan(plan_full_path)"
   ]
  },
  {
   "cell_type": "code",
   "execution_count": null,
   "metadata": {},
   "outputs": [],
   "source": [
    "# Run plan \n",
    "plan_full_path = PlanOperations.get_plan_full_path(\"03\")\n",
    "\n",
    "# Execute a single plan\n",
    "RasExecutor.compute_hecras_plan(plan_full_path)"
   ]
  },
  {
   "cell_type": "code",
   "execution_count": null,
   "metadata": {},
   "outputs": [],
   "source": [
    "# Run plan \n",
    "plan_full_path = PlanOperations.get_plan_full_path(\"04\")\n",
    "\n",
    "# Execute a single plan\n",
    "RasExecutor.compute_hecras_plan(plan_full_path)"
   ]
  },
  {
   "cell_type": "code",
   "execution_count": null,
   "metadata": {},
   "outputs": [],
   "source": [
    "# Example usage of parallel execution with updated function\n",
    "max_workers = 2  # Define the maximum number of parallel runs\n",
    "cores_per_run = 1  # Define the number of cores to use per run\n",
    "\n",
    "# Run plans in parallel using the updated function\n",
    "results = RasExecutor.run_plans_parallel(config, max_workers, cores_per_run)\n",
    "\n",
    "# Print the results of the parallel execution\n",
    "print(\"Parallel execution results:\")\n",
    "print(results)"
   ]
  },
  {
   "cell_type": "markdown",
   "metadata": {},
   "source": [
    "## Extra:"
   ]
  },
  {
   "cell_type": "code",
   "execution_count": null,
   "metadata": {},
   "outputs": [],
   "source": [
    "import pandas as pd\n",
    "from pathlib import Path\n",
    "import re\n",
    "from ras_commander import FileOperations, PlanOperations\n",
    "\n",
    "# Apply flow to a plan\n",
    "plan_file = PlanOperations.get_plan_full_path(\"01\")\n",
    "print(f\"Plan file: {plan_file}\")\n",
    "flow_number_to_apply = \"01\"\n",
    "\n",
    "def extract_ras_plan_keys(plan_file):\n",
    "    \"\"\"\n",
    "    Extract key-value pairs from RAS plan files.\n",
    "    \n",
    "    Revision notes:\n",
    "    - Added import for Path from pathlib\n",
    "    - Added import for re module\n",
    "    - Improved error handling and logging\n",
    "    - Added type hints for better code readability\n",
    "    \"\"\"\n",
    "    # Initialize the DataFrame\n",
    "    ras_plan_keys = pd.DataFrame()\n",
    "    \n",
    "    # Get the plan entries\n",
    "    ras_plan_entries = FileOperations.get_plan_entries(config.project_file)\n",
    "    \n",
    "    for _, plan_entry in ras_plan_entries.iterrows():\n",
    "        plan_file_path = Path(plan_entry['full_path'])\n",
    "        \n",
    "        if plan_file_path.exists():\n",
    "            try:\n",
    "                with open(plan_file_path, 'r') as f:\n",
    "                    content = f.read()\n",
    "                \n",
    "                # Extract key-value pairs\n",
    "                key_value_pairs = re.findall(r'([^=\\n]+)=([^\\n]*)', content)\n",
    "                \n",
    "                # Create a dictionary to store the data for this plan\n",
    "                plan_data = {'plan_file': plan_file_path.name}\n",
    "                \n",
    "                for key, value in key_value_pairs:\n",
    "                    key = key.strip()\n",
    "                    value = value.strip()\n",
    "                    \n",
    "                    # Handle duplicate keys\n",
    "                    if key in plan_data:\n",
    "                        i = 1\n",
    "                        while f\"{key}_{i}\" in plan_data:\n",
    "                            i += 1\n",
    "                        key = f\"{key}_{i}\"\n",
    "                    \n",
    "                    plan_data[key] = value\n",
    "                \n",
    "                # Append the data to the DataFrame\n",
    "                ras_plan_keys = pd.concat([ras_plan_keys, pd.DataFrame([plan_data])], ignore_index=True)\n",
    "            except Exception as e:\n",
    "                print(f\"Error processing file {plan_file_path}: {str(e)}\")\n",
    "    \n",
    "    return ras_plan_keys\n",
    "\n",
    "# Extract plan keys\n",
    "ras_plan_keys = extract_ras_plan_keys(plan_file)\n",
    "\n",
    "# Display all columns and contents without truncation\n",
    "pd.set_option('display.max_columns', None)\n",
    "pd.set_option('display.width', None)\n",
    "pd.set_option('display.max_colwidth', None)\n",
    "print(\"RAS Plan Keys:\")\n",
    "display(ras_plan_keys)"
   ]
  },
  {
   "cell_type": "code",
   "execution_count": null,
   "metadata": {},
   "outputs": [],
   "source": []
  },
  {
   "cell_type": "code",
   "execution_count": null,
   "metadata": {},
   "outputs": [],
   "source": []
  }
 ],
 "metadata": {
  "kernelspec": {
   "display_name": "RAS-Cmdr_311",
   "language": "python",
   "name": "python3"
  },
  "language_info": {
   "codemirror_mode": {
    "name": "ipython",
    "version": 3
   },
   "file_extension": ".py",
   "mimetype": "text/x-python",
   "name": "python",
   "nbconvert_exporter": "python",
   "pygments_lexer": "ipython3",
   "version": "3.11.9"
  }
 },
 "nbformat": 4,
 "nbformat_minor": 2
}
