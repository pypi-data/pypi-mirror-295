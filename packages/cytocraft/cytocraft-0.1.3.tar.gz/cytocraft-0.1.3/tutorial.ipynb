{
 "cells": [
  {
   "cell_type": "markdown",
   "metadata": {},
   "source": [
    "# This tutorial shows how to run Cytocraft on subcell-resolution ST data"
   ]
  },
  {
   "cell_type": "markdown",
   "metadata": {},
   "source": [
    "## Load packages"
   ]
  },
  {
   "cell_type": "code",
   "execution_count": 10,
   "metadata": {},
   "outputs": [],
   "source": [
    "from src.cytocraft import craft\n",
    "gem_path = './demo/merfish_ileum/transcripts.gem.csv'\n",
    "obs_path = './demo/merfish_ileum/cell_feature.csv'"
   ]
  },
  {
   "cell_type": "markdown",
   "metadata": {},
   "source": [
    "## Read subcell-resolution ST gene expression matrix (gem) file and corresponding cell meta file"
   ]
  },
  {
   "cell_type": "code",
   "execution_count": 11,
   "metadata": {},
   "outputs": [],
   "source": [
    "gem = craft.read_gem_as_csv(gem_path, sep=',')"
   ]
  },
  {
   "cell_type": "code",
   "execution_count": 3,
   "metadata": {},
   "outputs": [
    {
     "data": {
      "text/html": [
       "<div>\n",
       "<style scoped>\n",
       "    .dataframe tbody tr th:only-of-type {\n",
       "        vertical-align: middle;\n",
       "    }\n",
       "\n",
       "    .dataframe tbody tr th {\n",
       "        vertical-align: top;\n",
       "    }\n",
       "\n",
       "    .dataframe thead th {\n",
       "        text-align: right;\n",
       "    }\n",
       "</style>\n",
       "<table border=\"1\" class=\"dataframe\">\n",
       "  <thead>\n",
       "    <tr style=\"text-align: right;\">\n",
       "      <th></th>\n",
       "      <th>CellID</th>\n",
       "      <th>x</th>\n",
       "      <th>y</th>\n",
       "      <th>geneID</th>\n",
       "      <th>MIDCount</th>\n",
       "    </tr>\n",
       "  </thead>\n",
       "  <tbody>\n",
       "    <tr>\n",
       "      <th>0</th>\n",
       "      <td>1</td>\n",
       "      <td>1705</td>\n",
       "      <td>1271</td>\n",
       "      <td>Maoa</td>\n",
       "      <td>1.0</td>\n",
       "    </tr>\n",
       "    <tr>\n",
       "      <th>1</th>\n",
       "      <td>2</td>\n",
       "      <td>1725</td>\n",
       "      <td>1922</td>\n",
       "      <td>Maoa</td>\n",
       "      <td>1.0</td>\n",
       "    </tr>\n",
       "    <tr>\n",
       "      <th>2</th>\n",
       "      <td>2</td>\n",
       "      <td>1753</td>\n",
       "      <td>1863</td>\n",
       "      <td>Maoa</td>\n",
       "      <td>1.0</td>\n",
       "    </tr>\n",
       "    <tr>\n",
       "      <th>3</th>\n",
       "      <td>2</td>\n",
       "      <td>1760</td>\n",
       "      <td>1865</td>\n",
       "      <td>Maoa</td>\n",
       "      <td>1.0</td>\n",
       "    </tr>\n",
       "    <tr>\n",
       "      <th>4</th>\n",
       "      <td>3</td>\n",
       "      <td>1904</td>\n",
       "      <td>794</td>\n",
       "      <td>Maoa</td>\n",
       "      <td>1.0</td>\n",
       "    </tr>\n",
       "    <tr>\n",
       "      <th>...</th>\n",
       "      <td>...</td>\n",
       "      <td>...</td>\n",
       "      <td>...</td>\n",
       "      <td>...</td>\n",
       "      <td>...</td>\n",
       "    </tr>\n",
       "    <tr>\n",
       "      <th>819660</th>\n",
       "      <td>1365</td>\n",
       "      <td>5704</td>\n",
       "      <td>38</td>\n",
       "      <td>Hrh1</td>\n",
       "      <td>1.0</td>\n",
       "    </tr>\n",
       "    <tr>\n",
       "      <th>819661</th>\n",
       "      <td>1365</td>\n",
       "      <td>5685</td>\n",
       "      <td>43</td>\n",
       "      <td>Htr4</td>\n",
       "      <td>1.0</td>\n",
       "    </tr>\n",
       "    <tr>\n",
       "      <th>819662</th>\n",
       "      <td>1365</td>\n",
       "      <td>5631</td>\n",
       "      <td>61</td>\n",
       "      <td>Taar6</td>\n",
       "      <td>1.0</td>\n",
       "    </tr>\n",
       "    <tr>\n",
       "      <th>819663</th>\n",
       "      <td>1365</td>\n",
       "      <td>5720</td>\n",
       "      <td>62</td>\n",
       "      <td>Taar7a</td>\n",
       "      <td>1.0</td>\n",
       "    </tr>\n",
       "    <tr>\n",
       "      <th>819664</th>\n",
       "      <td>1365</td>\n",
       "      <td>5635</td>\n",
       "      <td>28</td>\n",
       "      <td>Taar7a</td>\n",
       "      <td>1.0</td>\n",
       "    </tr>\n",
       "  </tbody>\n",
       "</table>\n",
       "<p>819665 rows × 5 columns</p>\n",
       "</div>"
      ],
      "text/plain": [
       "       CellID     x     y  geneID  MIDCount\n",
       "0           1  1705  1271    Maoa       1.0\n",
       "1           2  1725  1922    Maoa       1.0\n",
       "2           2  1753  1863    Maoa       1.0\n",
       "3           2  1760  1865    Maoa       1.0\n",
       "4           3  1904   794    Maoa       1.0\n",
       "...       ...   ...   ...     ...       ...\n",
       "819660   1365  5704    38    Hrh1       1.0\n",
       "819661   1365  5685    43    Htr4       1.0\n",
       "819662   1365  5631    61   Taar6       1.0\n",
       "819663   1365  5720    62  Taar7a       1.0\n",
       "819664   1365  5635    28  Taar7a       1.0\n",
       "\n",
       "[819665 rows x 5 columns]"
      ]
     },
     "execution_count": 3,
     "metadata": {},
     "output_type": "execute_result"
    }
   ],
   "source": [
    "gem"
   ]
  },
  {
   "cell_type": "code",
   "execution_count": 4,
   "metadata": {},
   "outputs": [],
   "source": [
    "obs = pd.read_csv(obs_path, sep='\\t')"
   ]
  },
  {
   "cell_type": "code",
   "execution_count": 5,
   "metadata": {},
   "outputs": [
    {
     "data": {
      "text/html": [
       "<div>\n",
       "<style scoped>\n",
       "    .dataframe tbody tr th:only-of-type {\n",
       "        vertical-align: middle;\n",
       "    }\n",
       "\n",
       "    .dataframe tbody tr th {\n",
       "        vertical-align: top;\n",
       "    }\n",
       "\n",
       "    .dataframe thead th {\n",
       "        text-align: right;\n",
       "    }\n",
       "</style>\n",
       "<table border=\"1\" class=\"dataframe\">\n",
       "  <thead>\n",
       "    <tr style=\"text-align: right;\">\n",
       "      <th></th>\n",
       "      <th>cell_id</th>\n",
       "      <th>center_x</th>\n",
       "      <th>center_y</th>\n",
       "      <th>girth</th>\n",
       "      <th>area</th>\n",
       "      <th>roundness</th>\n",
       "      <th>mRNA_count</th>\n",
       "      <th>cell_type</th>\n",
       "    </tr>\n",
       "  </thead>\n",
       "  <tbody>\n",
       "    <tr>\n",
       "      <th>0</th>\n",
       "      <td>1</td>\n",
       "      <td>1740.994710</td>\n",
       "      <td>1264.435066</td>\n",
       "      <td>457.891583</td>\n",
       "      <td>11374.500122</td>\n",
       "      <td>0.681737</td>\n",
       "      <td>157</td>\n",
       "      <td>Myocyte</td>\n",
       "    </tr>\n",
       "    <tr>\n",
       "      <th>1</th>\n",
       "      <td>2</td>\n",
       "      <td>1737.780300</td>\n",
       "      <td>1862.797246</td>\n",
       "      <td>434.107057</td>\n",
       "      <td>11497.500016</td>\n",
       "      <td>0.766690</td>\n",
       "      <td>361</td>\n",
       "      <td>Neuron</td>\n",
       "    </tr>\n",
       "    <tr>\n",
       "      <th>2</th>\n",
       "      <td>3</td>\n",
       "      <td>1956.299821</td>\n",
       "      <td>844.821529</td>\n",
       "      <td>757.996183</td>\n",
       "      <td>14084.500173</td>\n",
       "      <td>0.308047</td>\n",
       "      <td>173</td>\n",
       "      <td>Myocyte</td>\n",
       "    </tr>\n",
       "    <tr>\n",
       "      <th>3</th>\n",
       "      <td>4</td>\n",
       "      <td>1906.847734</td>\n",
       "      <td>1438.033371</td>\n",
       "      <td>425.555147</td>\n",
       "      <td>8350.499917</td>\n",
       "      <td>0.579443</td>\n",
       "      <td>97</td>\n",
       "      <td>Myocyte</td>\n",
       "    </tr>\n",
       "    <tr>\n",
       "      <th>4</th>\n",
       "      <td>5</td>\n",
       "      <td>1846.247869</td>\n",
       "      <td>1025.504362</td>\n",
       "      <td>258.979455</td>\n",
       "      <td>1681.000022</td>\n",
       "      <td>0.314954</td>\n",
       "      <td>48</td>\n",
       "      <td>Goblet cell</td>\n",
       "    </tr>\n",
       "    <tr>\n",
       "      <th>...</th>\n",
       "      <td>...</td>\n",
       "      <td>...</td>\n",
       "      <td>...</td>\n",
       "      <td>...</td>\n",
       "      <td>...</td>\n",
       "      <td>...</td>\n",
       "      <td>...</td>\n",
       "      <td>...</td>\n",
       "    </tr>\n",
       "    <tr>\n",
       "      <th>5240</th>\n",
       "      <td>5241</td>\n",
       "      <td>4775.738349</td>\n",
       "      <td>9203.993896</td>\n",
       "      <td>364.105471</td>\n",
       "      <td>2020.500012</td>\n",
       "      <td>0.191520</td>\n",
       "      <td>82</td>\n",
       "      <td>Vascular</td>\n",
       "    </tr>\n",
       "    <tr>\n",
       "      <th>5241</th>\n",
       "      <td>5242</td>\n",
       "      <td>4707.330224</td>\n",
       "      <td>9169.062368</td>\n",
       "      <td>276.889768</td>\n",
       "      <td>1822.500001</td>\n",
       "      <td>0.298720</td>\n",
       "      <td>67</td>\n",
       "      <td>Goblet cell</td>\n",
       "    </tr>\n",
       "    <tr>\n",
       "      <th>5242</th>\n",
       "      <td>5243</td>\n",
       "      <td>4730.311728</td>\n",
       "      <td>9174.575618</td>\n",
       "      <td>266.682651</td>\n",
       "      <td>1079.999977</td>\n",
       "      <td>0.190829</td>\n",
       "      <td>49</td>\n",
       "      <td>Goblet cell</td>\n",
       "    </tr>\n",
       "    <tr>\n",
       "      <th>5243</th>\n",
       "      <td>5244</td>\n",
       "      <td>4923.399911</td>\n",
       "      <td>9020.771416</td>\n",
       "      <td>93.383967</td>\n",
       "      <td>375.500003</td>\n",
       "      <td>0.541097</td>\n",
       "      <td>20</td>\n",
       "      <td>Goblet cell</td>\n",
       "    </tr>\n",
       "    <tr>\n",
       "      <th>5244</th>\n",
       "      <td>5245</td>\n",
       "      <td>4682.362745</td>\n",
       "      <td>7506.098879</td>\n",
       "      <td>114.215255</td>\n",
       "      <td>594.999990</td>\n",
       "      <td>0.573164</td>\n",
       "      <td>25</td>\n",
       "      <td>Myocyte</td>\n",
       "    </tr>\n",
       "  </tbody>\n",
       "</table>\n",
       "<p>5245 rows × 8 columns</p>\n",
       "</div>"
      ],
      "text/plain": [
       "      cell_id     center_x     center_y       girth          area  roundness  \\\n",
       "0           1  1740.994710  1264.435066  457.891583  11374.500122   0.681737   \n",
       "1           2  1737.780300  1862.797246  434.107057  11497.500016   0.766690   \n",
       "2           3  1956.299821   844.821529  757.996183  14084.500173   0.308047   \n",
       "3           4  1906.847734  1438.033371  425.555147   8350.499917   0.579443   \n",
       "4           5  1846.247869  1025.504362  258.979455   1681.000022   0.314954   \n",
       "...       ...          ...          ...         ...           ...        ...   \n",
       "5240     5241  4775.738349  9203.993896  364.105471   2020.500012   0.191520   \n",
       "5241     5242  4707.330224  9169.062368  276.889768   1822.500001   0.298720   \n",
       "5242     5243  4730.311728  9174.575618  266.682651   1079.999977   0.190829   \n",
       "5243     5244  4923.399911  9020.771416   93.383967    375.500003   0.541097   \n",
       "5244     5245  4682.362745  7506.098879  114.215255    594.999990   0.573164   \n",
       "\n",
       "      mRNA_count    cell_type  \n",
       "0            157      Myocyte  \n",
       "1            361       Neuron  \n",
       "2            173      Myocyte  \n",
       "3             97      Myocyte  \n",
       "4             48  Goblet cell  \n",
       "...          ...          ...  \n",
       "5240          82     Vascular  \n",
       "5241          67  Goblet cell  \n",
       "5242          49  Goblet cell  \n",
       "5243          20  Goblet cell  \n",
       "5244          25      Myocyte  \n",
       "\n",
       "[5245 rows x 8 columns]"
      ]
     },
     "execution_count": 5,
     "metadata": {},
     "output_type": "execute_result"
    }
   ],
   "source": [
    "obs"
   ]
  },
  {
   "cell_type": "markdown",
   "metadata": {},
   "source": [
    "## Splitting gem files based on the cell type of the meta file"
   ]
  },
  {
   "cell_type": "code",
   "execution_count": 6,
   "metadata": {},
   "outputs": [
    {
     "name": "stdout",
     "output_type": "stream",
     "text": [
      "Index(['cell_id', 'center_x', 'center_y', 'girth', 'area', 'roundness',\n",
      "       'mRNA_count', 'cell_type'],\n",
      "      dtype='object')\n",
      "split gem path of Myocyte : ./demo/merfish_ileum/transcripts.gem.csv.cell_type.Myocyte.tsv\n",
      "split gem path of Neuron : ./demo/merfish_ileum/transcripts.gem.csv.cell_type.Neuron.tsv\n",
      "split gem path of Goblet cell : ./demo/merfish_ileum/transcripts.gem.csv.cell_type.Goblet_cell.tsv\n",
      "split gem path of TA : ./demo/merfish_ileum/transcripts.gem.csv.cell_type.TA.tsv\n",
      "split gem path of Stem cell : ./demo/merfish_ileum/transcripts.gem.csv.cell_type.Stem_cell.tsv\n",
      "split gem path of Paneth cell : ./demo/merfish_ileum/transcripts.gem.csv.cell_type.Paneth_cell.tsv\n",
      "split gem path of Macrophage : ./demo/merfish_ileum/transcripts.gem.csv.cell_type.Macrophage.tsv\n",
      "split gem path of B cell : ./demo/merfish_ileum/transcripts.gem.csv.cell_type.B_cell.tsv\n",
      "split gem path of Enterocyte cell : ./demo/merfish_ileum/transcripts.gem.csv.cell_type.Enterocyte_cell.tsv\n",
      "split gem path of Tuft cell : ./demo/merfish_ileum/transcripts.gem.csv.cell_type.Tuft_cell.tsv\n",
      "split gem path of T cell : ./demo/merfish_ileum/transcripts.gem.csv.cell_type.T_cell.tsv\n",
      "split gem path of Fibroblast : ./demo/merfish_ileum/transcripts.gem.csv.cell_type.Fibroblast.tsv\n",
      "split gem path of Glia : ./demo/merfish_ileum/transcripts.gem.csv.cell_type.Glia.tsv\n",
      "split gem path of Vascular : ./demo/merfish_ileum/transcripts.gem.csv.cell_type.Vascular.tsv\n"
     ]
    }
   ],
   "source": [
    "print(obs.columns)\n",
    "# keys are from obs column indeces\n",
    "ct_key = 'cell_type'\n",
    "ci_key = 'cell_id'\n",
    "split_paths = craft.split_gem(gem_path, obs, ct_key, ci_key, gsep=',')"
   ]
  },
  {
   "cell_type": "markdown",
   "metadata": {},
   "source": [
    "## Run Cytocraft"
   ]
  },
  {
   "cell_type": "code",
   "execution_count": 7,
   "metadata": {},
   "outputs": [
    {
     "name": "stdout",
     "output_type": "stream",
     "text": [
      "Adding adata in adata.obs['orig.ident'].\n",
      "Adding data.position as adata.obsm['spatial'] .\n",
      "Adding data.position as adata.obs['x'] and adata.obs['y'] .\n",
      "Finished conversion to anndata.\n"
     ]
    }
   ],
   "source": [
    "ct_gem_path = './demo/merfish_ileum/transcripts.gem.csv.cell_type.Myocyte.tsv'\n",
    "SN = os.path.basename(os.path.splitext(ct_gem_path)[0])\n",
    "gem = craft.read_gem_as_csv(ct_gem_path, sep='\\t')\n",
    "adata = craft.read_gem_as_adata(ct_gem_path,sep='\\t')"
   ]
  },
  {
   "cell_type": "code",
   "execution_count": 9,
   "metadata": {},
   "outputs": [
    {
     "name": "stdout",
     "output_type": "stream",
     "text": [
      "Speceis: Mice\n",
      "Sample Name: transcripts.gem.csv.cell_type.Myocyte\n",
      "Seed: 999\n",
      "Cell Number: 570\n",
      "Gene Number: 233\n",
      "Threshold for gene filter is: 0.9\n",
      "Number of genes used for Rotation Derivation is: 10\n",
      "Task ID: 2C5U\n",
      "\n",
      "Distance between X_new and X_old for loop 1 is: 0.9944597874366184\n",
      "Distance between X_new and X_old for loop 2 is: 0.46834165701373814\n",
      "Distance between X_new and X_old for loop 3 is: 0.2942829851542298\n",
      "Distance between X_new and X_old for loop 4 is: 0.25051306290204695\n",
      "Distance between X_new and X_old for loop 5 is: 0.20772909510718088\n",
      "Number of total Transcription centers is: 66\n"
     ]
    }
   ],
   "source": [
    "adata = craft.craft(\n",
    "        gem=gem,\n",
    "        adata=adata,\n",
    "        species='Mice',\n",
    "        nderive=10,\n",
    "        thresh=0.9,\n",
    "        thresh_rmsd=0.25,\n",
    "        seed=999,\n",
    "        samplename=SN\n",
    "    )"
   ]
  },
  {
   "cell_type": "markdown",
   "metadata": {},
   "source": [
    "## Draw plots"
   ]
  },
  {
   "cell_type": "code",
   "execution_count": 14,
   "metadata": {},
   "outputs": [
    {
     "name": "stderr",
     "output_type": "stream",
     "text": [
      "66it [00:00, 217.62it/s]\n"
     ]
    }
   ],
   "source": [
    "genechr_mice = craft.get_gene_chr(species='Mice')\n",
    "X = adata.uns['X']\n",
    "D = craft.gene_gene_distance_matrix(X)"
   ]
  },
  {
   "cell_type": "code",
   "execution_count": null,
   "metadata": {},
   "outputs": [],
   "source": [
    "# labels\n",
    "labels=[]\n",
    "for g in GeneLists['Lung5_Rep3 macrophage']:\n",
    "    try:\n",
    "        labels.append(genechr[g])\n",
    "    except KeyError:\n",
    "        labels.append('Unknown')\n",
    "# cmap\n",
    "cmap=dict(zip(np.unique(labels), zeileis_28))"
   ]
  },
  {
   "cell_type": "code",
   "execution_count": null,
   "metadata": {},
   "outputs": [],
   "source": [
    "plot_network(D, labels=labels, cmap=cmap, \n",
    "            csep='\\n', corder=0, N_neighbor=1, html='GeneConf_Lung5_Rep3_macrophage.html', \n",
    "            width=1400, height=1000,edge_scale=0.1, edge_adjust=+1)"
   ]
  }
 ],
 "metadata": {
  "kernelspec": {
   "display_name": "st",
   "language": "python",
   "name": "python3"
  },
  "language_info": {
   "codemirror_mode": {
    "name": "ipython",
    "version": 3
   },
   "file_extension": ".py",
   "mimetype": "text/x-python",
   "name": "python",
   "nbconvert_exporter": "python",
   "pygments_lexer": "ipython3",
   "version": "3.8.17"
  }
 },
 "nbformat": 4,
 "nbformat_minor": 2
}
