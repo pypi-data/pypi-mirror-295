{
 "cells": [
  {
   "cell_type": "code",
   "execution_count": null,
   "metadata": {},
   "outputs": [],
   "source": [
    "%matplotlib ipympl\n",
    "import ipywidgets as widgets\n",
    "import matplotlib.pyplot as plt\n",
    "import numpy as np\n",
    "\n",
    "%load_ext autoreload\n",
    "%autoreload 2\n",
    "from mpl_interactions import *"
   ]
  },
  {
   "cell_type": "code",
   "execution_count": null,
   "metadata": {},
   "outputs": [],
   "source": [
    "fig, ax = plt.subplots()\n",
    "\n",
    "\n",
    "def y(heck):\n",
    "    return heck\n",
    "\n",
    "\n",
    "def xmin(heck):\n",
    "    return heck\n",
    "\n",
    "\n",
    "# controls = interactive_axhline(y,0,1, heck=(0,1))\n",
    "controls = interactive_axhline(y, xmin, 1, heck=(0, 1))\n",
    "# ret.set_ydata([.5,1])"
   ]
  },
  {
   "cell_type": "code",
   "execution_count": null,
   "metadata": {},
   "outputs": [],
   "source": [
    "plt.axhline()"
   ]
  },
  {
   "cell_type": "code",
   "execution_count": null,
   "metadata": {},
   "outputs": [],
   "source": [
    "def interactive_axhline(\n",
    "    y=0,\n",
    "    xmin=0,\n",
    "    xmax=1,\n",
    "    ax=None,\n",
    "    slider_formats=None,\n",
    "    title=None,\n",
    "    force_ipywidgets=False,\n",
    "    play_buttons=False,\n",
    "    play_button_pos=\"right\",\n",
    "    controls=None,\n",
    "    display_controls=True,\n",
    "    **kwargs,\n",
    "):\n",
    "    \"\"\"\n",
    "    Control an horizontal line using widgets.\n",
    "\n",
    "    parameters\n",
    "    ----------\n",
    "    y : float or function\n",
    "        y position in data coordinates of the horizontal line.\n",
    "    xmin : float or function\n",
    "        Should be between 0 and 1, 0 being the far left of the plot, 1 the\n",
    "        far right of the plot.\n",
    "    xmax : float or function\n",
    "        Should be between 0 and 1, 0 being the far left of the plot, 1 the\n",
    "        far right of the plot.\n",
    "    ax : matplotlib axis, optional\n",
    "        If None a new figure and axis will be created\n",
    "    slider_formats : None, string, or dict\n",
    "        If None a default value of decimal points will be used. Uses the new {} style formatting\n",
    "    force_ipywidgets : boolean\n",
    "        If True ipywidgets will always be used, even if not using the ipympl backend.\n",
    "        If False the function will try to detect if it is ok to use ipywidgets\n",
    "        If ipywidgets are not used the function will fall back on matplotlib widgets\n",
    "    play_buttons : bool or dict, optional\n",
    "        Whether to attach an ipywidgets.Play widget to any sliders that get created.\n",
    "        If a boolean it will apply to all kwargs, if a dictionary you choose which sliders you\n",
    "        want to attach play buttons too.\n",
    "    play_button_pos : str, or dict, or list(str)\n",
    "        'left' or 'right'. Whether to position the play widget(s) to the left or right of the slider(s)\n",
    "    controls : mpl_interactions.controller.Controls\n",
    "        An existing controls object if you want to tie multiple plot elements to the same set of\n",
    "        controls\n",
    "    display_controls : boolean\n",
    "        Whether the controls should display on creation. Ignored if controls is specified.\n",
    "\n",
    "    returns\n",
    "    -------\n",
    "    controls\n",
    "    \"\"\"\n",
    "    ipympl = notebook_backend()\n",
    "    fig, ax = gogogo_figure(ipympl, ax)\n",
    "    use_ipywidgets = ipympl or force_ipywidgets\n",
    "    slider_formats = create_slider_format_dict(slider_formats)\n",
    "\n",
    "    controls, params = gogogo_controls(\n",
    "        kwargs, controls, display_controls, slider_formats, play_buttons, play_button_pos\n",
    "    )\n",
    "\n",
    "    def update(params, indices, cache):\n",
    "        if title is not None:\n",
    "            ax.set_title(title.format(**params))\n",
    "        y_ = callable_else_value(y, params, cache).item()\n",
    "        line.set_ydata([y_, y_])\n",
    "        xmin_ = callable_else_value(xmin, params, cache).item()\n",
    "        xmax_ = callable_else_value(xmax, params, cache).item()\n",
    "        line.set_xdata([xmin_, xmax_])\n",
    "        # TODO consider updating just the ydatalim here\n",
    "\n",
    "    controls.register_function(update, fig, params)\n",
    "    line = ax.axhline(\n",
    "        callable_else_value(y, params).item(),\n",
    "        callable_else_value(xmin, params).item(),\n",
    "        callable_else_value(xmax, params).item(),\n",
    "    )\n",
    "    return controls\n",
    "\n",
    "\n",
    "def interactive_axvline(\n",
    "    x=0,\n",
    "    ymin=0,\n",
    "    ymax=1,\n",
    "    ax=None,\n",
    "    slider_formats=None,\n",
    "    title=None,\n",
    "    force_ipywidgets=False,\n",
    "    play_buttons=False,\n",
    "    play_button_pos=\"right\",\n",
    "    controls=None,\n",
    "    display_controls=True,\n",
    "    **kwargs,\n",
    "):\n",
    "    ipympl = notebook_backend()\n",
    "    fig, ax = gogogo_figure(ipympl, ax)\n",
    "    use_ipywidgets = ipympl or force_ipywidgets\n",
    "    slider_formats = create_slider_format_dict(slider_formats)\n",
    "\n",
    "    controls, params = gogogo_controls(\n",
    "        kwargs, controls, display_controls, slider_formats, play_buttons, play_button_pos\n",
    "    )\n",
    "\n",
    "    def update(params, indices, cache):\n",
    "        if title is not None:\n",
    "            ax.set_title(title.format(**params))\n",
    "        x_ = callable_else_value(x, params, cache).item()\n",
    "        line.set_ydata([x_, x_])\n",
    "        ymin_ = callable_else_value(ymin, params, cache).item()\n",
    "        ymax_ = callable_else_value(ymax, params, cache).item()\n",
    "        line.set_xdata([ymin_, ymax_])\n",
    "        # TODO consider updating just the ydatalim here\n",
    "\n",
    "    controls.register_function(update, fig, params)\n",
    "    line = ax.axvline(\n",
    "        callable_else_value(x, params).item(),\n",
    "        callable_else_value(ymin, params).item(),\n",
    "        callable_else_value(ymax, params).item(),\n",
    "    )\n",
    "    return controls"
   ]
  },
  {
   "cell_type": "code",
   "execution_count": null,
   "metadata": {},
   "outputs": [],
   "source": [
    "ret.set_ydata([0.5, 1])"
   ]
  },
  {
   "cell_type": "code",
   "execution_count": null,
   "metadata": {},
   "outputs": [],
   "source": [
    "ret = ax.axhline(0, np.array(0), 1)"
   ]
  },
  {
   "cell_type": "code",
   "execution_count": null,
   "metadata": {},
   "outputs": [],
   "source": [
    "arr = np.array(0)\n",
    "arr.item()"
   ]
  },
  {
   "cell_type": "code",
   "execution_count": null,
   "metadata": {},
   "outputs": [],
   "source": [
    "np.asscalar(arr)"
   ]
  },
  {
   "cell_type": "code",
   "execution_count": null,
   "metadata": {},
   "outputs": [],
   "source": [
    "ret.set_xdata([0, 1.5])"
   ]
  },
  {
   "cell_type": "code",
   "execution_count": null,
   "metadata": {},
   "outputs": [],
   "source": [
    "def axhline(y=0, xmin=0, xmax=1):\n",
    "    "
   ]
  },
  {
   "cell_type": "code",
   "execution_count": null,
   "metadata": {},
   "outputs": [],
   "source": [
    "ret.get_ydata()"
   ]
  },
  {
   "cell_type": "code",
   "execution_count": null,
   "metadata": {},
   "outputs": [],
   "source": []
  },
  {
   "cell_type": "code",
   "execution_count": null,
   "metadata": {},
   "outputs": [],
   "source": []
  }
 ],
 "metadata": {
  "kernelspec": {
   "display_name": "Python 3",
   "language": "python",
   "name": "python3"
  },
  "language_info": {
   "codemirror_mode": {
    "name": "ipython",
    "version": 3
   },
   "file_extension": ".py",
   "mimetype": "text/x-python",
   "name": "python",
   "nbconvert_exporter": "python",
   "pygments_lexer": "ipython3",
   "version": "3.8.5"
  }
 },
 "nbformat": 4,
 "nbformat_minor": 4
}
