{
 "cells": [
  {
   "cell_type": "markdown",
   "id": "ceab61aa-12d9-4068-89c6-ccd64b28af80",
   "metadata": {},
   "source": [
    "# Run Example 1\n",
    "\n",
    "This notbook shows the workflow for running ESCAPE simulators on your personal computer.\n",
    "\n",
    "This notebook expects that you have installed plotly and escape_abm."
   ]
  },
  {
   "cell_type": "code",
   "execution_count": 1,
   "id": "988bb29c-1eb2-4dd6-b5da-c5398037a6aa",
   "metadata": {},
   "outputs": [],
   "source": [
    "import tempfile\n",
    "from pathlib import Path\n",
    "\n",
    "import polars as pl\n",
    "import plotly.express as px\n",
    "import plotly.io as pio\n",
    "pio.renderers.default = \"svg\"\n",
    "\n",
    "from escape_abm.utils import OpenMPSimulator"
   ]
  },
  {
   "cell_type": "markdown",
   "id": "9d075b51-4237-4c98-893d-676823123123",
   "metadata": {},
   "source": [
    "For running an ESCAPE simulators we need two things:\n",
    "1) the simulator description (the ESL file) and\n",
    "2) the network (nodes and edges)\n",
    "\n",
    "For this demo we shall use the following files.\n",
    "The node and edge file can be in parquet or CSV format."
   ]
  },
  {
   "cell_type": "code",
   "execution_count": 2,
   "id": "0c013870-5644-4707-8b65-b0cc7f7e684a",
   "metadata": {},
   "outputs": [],
   "source": [
    "sim_file = \"example1.esl\"\n",
    "node_file = \"nodes.parquet\"\n",
    "edge_file = \"edges.parquet\""
   ]
  },
  {
   "cell_type": "markdown",
   "id": "858c2c81-0b3c-40d7-93a3-b2160cb3bfeb",
   "metadata": {},
   "source": [
    "The node table contains the node key (pid for this simulation) and any other static node attributes that the simulation may depend on.\n",
    "\n",
    "Similarly, the edge table contains the source and target node key (source_pid and target_pid for this simulation) and any other static edge attributes that the simulation may depend on.\n",
    "\n",
    "The column names in the node and edge file must match those provided in the simulation file."
   ]
  },
  {
   "cell_type": "code",
   "execution_count": 3,
   "id": "e0711e65-3989-4984-8a0c-a17710ab8110",
   "metadata": {},
   "outputs": [
    {
     "data": {
      "text/html": [
       "<div><style>\n",
       ".dataframe > thead > tr,\n",
       ".dataframe > tbody > tr {\n",
       "  text-align: right;\n",
       "  white-space: pre-wrap;\n",
       "}\n",
       "</style>\n",
       "<small>shape: (5, 2)</small><table border=\"1\" class=\"dataframe\"><thead><tr><th>pid</th><th>is_in_school</th></tr><tr><td>i64</td><td>bool</td></tr></thead><tbody><tr><td>3723936</td><td>true</td></tr><tr><td>3723937</td><td>true</td></tr><tr><td>3723938</td><td>false</td></tr><tr><td>3723939</td><td>true</td></tr><tr><td>3723940</td><td>true</td></tr></tbody></table></div>"
      ],
      "text/plain": [
       "shape: (5, 2)\n",
       "┌─────────┬──────────────┐\n",
       "│ pid     ┆ is_in_school │\n",
       "│ ---     ┆ ---          │\n",
       "│ i64     ┆ bool         │\n",
       "╞═════════╪══════════════╡\n",
       "│ 3723936 ┆ true         │\n",
       "│ 3723937 ┆ true         │\n",
       "│ 3723938 ┆ false        │\n",
       "│ 3723939 ┆ true         │\n",
       "│ 3723940 ┆ true         │\n",
       "└─────────┴──────────────┘"
      ]
     },
     "execution_count": 3,
     "metadata": {},
     "output_type": "execute_result"
    }
   ],
   "source": [
    "pl.read_parquet(node_file).head()"
   ]
  },
  {
   "cell_type": "code",
   "execution_count": 4,
   "id": "7224c96a-2f03-4440-a699-75758d08be62",
   "metadata": {},
   "outputs": [
    {
     "data": {
      "text/html": [
       "<div><style>\n",
       ".dataframe > thead > tr,\n",
       ".dataframe > tbody > tr {\n",
       "  text-align: right;\n",
       "  white-space: pre-wrap;\n",
       "}\n",
       "</style>\n",
       "<small>shape: (5, 5)</small><table border=\"1\" class=\"dataframe\"><thead><tr><th>target_pid</th><th>source_pid</th><th>duration</th><th>is_school_edge</th><th>is_non_home_edge</th></tr><tr><td>i64</td><td>i64</td><td>i64</td><td>bool</td><td>bool</td></tr></thead><tbody><tr><td>3723936</td><td>3723937</td><td>14400</td><td>false</td><td>true</td></tr><tr><td>3723936</td><td>3723937</td><td>20519</td><td>false</td><td>true</td></tr><tr><td>3723936</td><td>3723937</td><td>41520</td><td>false</td><td>true</td></tr><tr><td>3723936</td><td>3731305</td><td>1020</td><td>false</td><td>true</td></tr><tr><td>3723936</td><td>3742032</td><td>1320</td><td>false</td><td>true</td></tr></tbody></table></div>"
      ],
      "text/plain": [
       "shape: (5, 5)\n",
       "┌────────────┬────────────┬──────────┬────────────────┬──────────────────┐\n",
       "│ target_pid ┆ source_pid ┆ duration ┆ is_school_edge ┆ is_non_home_edge │\n",
       "│ ---        ┆ ---        ┆ ---      ┆ ---            ┆ ---              │\n",
       "│ i64        ┆ i64        ┆ i64      ┆ bool           ┆ bool             │\n",
       "╞════════════╪════════════╪══════════╪════════════════╪══════════════════╡\n",
       "│ 3723936    ┆ 3723937    ┆ 14400    ┆ false          ┆ true             │\n",
       "│ 3723936    ┆ 3723937    ┆ 20519    ┆ false          ┆ true             │\n",
       "│ 3723936    ┆ 3723937    ┆ 41520    ┆ false          ┆ true             │\n",
       "│ 3723936    ┆ 3731305    ┆ 1020     ┆ false          ┆ true             │\n",
       "│ 3723936    ┆ 3742032    ┆ 1320     ┆ false          ┆ true             │\n",
       "└────────────┴────────────┴──────────┴────────────────┴──────────────────┘"
      ]
     },
     "execution_count": 4,
     "metadata": {},
     "output_type": "execute_result"
    }
   ],
   "source": [
    "pl.read_parquet(edge_file).head()"
   ]
  },
  {
   "cell_type": "markdown",
   "id": "3a58bcf7-d38f-457b-b884-09a82931b575",
   "metadata": {},
   "source": [
    "We shall create a working directory for ESCAPE.\n",
    "\n",
    "ESCAPE shall use that folder to store the generated C++ codes and the compiled simulator.\n",
    "\n",
    "We shall also store the input.h5 and output.h5 files in that work directory."
   ]
  },
  {
   "cell_type": "code",
   "execution_count": 5,
   "id": "f0e0a3b1-83c8-4b2d-ac9f-4aeec59809d7",
   "metadata": {},
   "outputs": [],
   "source": [
    "work_dir = Path(Path.home() / \"escape-work-dir\")\n",
    "\n",
    "input_file = work_dir / \"input.h5\""
   ]
  },
  {
   "cell_type": "raw",
   "id": "e41a73dc-1447-409b-8238-b2e6a636968d",
   "metadata": {},
   "source": [
    "Next we shall instantiate a OpenMP based multi-threaded simulator."
   ]
  },
  {
   "cell_type": "code",
   "execution_count": 6,
   "id": "8d390dca-c63e-46ac-a9aa-5ffc3ad2ee30",
   "metadata": {},
   "outputs": [],
   "source": [
    "simulator = OpenMPSimulator(sim_file, work_dir)"
   ]
  },
  {
   "cell_type": "markdown",
   "id": "09a3de09-bbbd-4bf0-9329-540c00fb6336",
   "metadata": {},
   "source": [
    "Next we shall call the prepare_build() method.\n",
    "This uses CMake to find or fetch the C++ libraries needed for building the simulator.\n",
    "It is not necessary to re-execute this method every time the simulation file is changed."
   ]
  },
  {
   "cell_type": "code",
   "execution_count": 7,
   "id": "70d64ad3-ace3-48b8-93e9-6388f50b7cfa",
   "metadata": {},
   "outputs": [
    {
     "name": "stdout",
     "output_type": "stream",
     "text": [
      "-- The C compiler identification is GNU 14.2.1\n",
      "-- The CXX compiler identification is GNU 14.2.1\n",
      "-- Detecting C compiler ABI info\n",
      "-- Detecting C compiler ABI info - done\n",
      "-- Check for working C compiler: /usr/bin/cc - skipped\n",
      "-- Detecting C compile features\n",
      "-- Detecting C compile features - done\n",
      "-- Detecting CXX compiler ABI info\n",
      "-- Detecting CXX compiler ABI info - done\n",
      "-- Check for working CXX compiler: /usr/bin/c++ - skipped\n",
      "-- Detecting CXX compile features\n",
      "-- Detecting CXX compile features - done\n",
      "-- Found HDF5: /usr/lib/libhdf5.so;/usr/lib/libsz.so;/usr/lib/libz.so;/usr/lib/libdl.a;/usr/lib/libm.so;/usr/lib/libhdf5_cpp.so;/usr/lib/libhdf5.so;/usr/lib/libsz.so;/usr/lib/libz.so;/usr/lib/libdl.a;/usr/lib/libm.so (found version \"1.14.4-3\") found components: C CXX\n",
      "-- Found OpenMP_C: -fopenmp (found version \"4.5\")\n",
      "-- Found OpenMP_CXX: -fopenmp (found version \"4.5\")\n",
      "-- Found OpenMP: TRUE (found version \"4.5\") found components: C CXX\n",
      "-- Version: 10.1.0\n",
      "-- Build type: \n",
      "-- Configuring done (4.9s)\n",
      "-- Generating done (0.0s)\n",
      "-- Build files have been written to: /home/parantapa/escape-work-dir/build\n"
     ]
    }
   ],
   "source": [
    "simulator.prepare_build()"
   ]
  },
  {
   "cell_type": "markdown",
   "id": "ebaa78a6-c473-4163-9cdf-5b4c549aee32",
   "metadata": {},
   "source": [
    "The build method actually builds the simulator.\n",
    "It first compiles the ESL code to C++ and then uses a C++ compiler to build the simulator binary.\n",
    "It is necessary to rerun this method every time the simulation file is updated."
   ]
  },
  {
   "cell_type": "code",
   "execution_count": 8,
   "id": "8bb4fb89-fe43-4711-b385-a2c8038fbb72",
   "metadata": {},
   "outputs": [
    {
     "name": "stdout",
     "output_type": "stream",
     "text": [
      "[ 16%] \u001b[32mBuilding CXX object _deps/fmt-build/CMakeFiles/fmt.dir/src/format.cc.o\u001b[0m\n",
      "[ 33%] \u001b[32mBuilding CXX object _deps/fmt-build/CMakeFiles/fmt.dir/src/os.cc.o\u001b[0m\n",
      "[ 50%] \u001b[32m\u001b[1mLinking CXX static library libfmt.a\u001b[0m\n",
      "[ 50%] Built target fmt\n",
      "[ 66%] \u001b[34m\u001b[1mGenerating simulator_openmp.cpp, simulator_openmp_common.h\u001b[0m\n",
      "[ 66%] \u001b[34m\u001b[1mGenerating simulator_openmp.cpp, simulator_openmp_common.h\u001b[0m\n",
      "[ 83%] \u001b[32mBuilding CXX object CMakeFiles/simulator_openmp.dir/simulator_openmp.cpp.o\u001b[0m\n",
      "[100%] \u001b[32m\u001b[1mLinking CXX executable simulator_openmp\u001b[0m\n",
      "[100%] Built target simulator_openmp\n"
     ]
    }
   ],
   "source": [
    "simulator.build()"
   ]
  },
  {
   "cell_type": "markdown",
   "id": "feae47a4-a581-4d0b-92b1-028b900dccc7",
   "metadata": {},
   "source": [
    "Now that the simulator binary has been built, we can add the network to create a full simulation."
   ]
  },
  {
   "cell_type": "markdown",
   "id": "c72a0a2f-44c4-4835-9da8-33270fe748ff",
   "metadata": {},
   "source": [
    "The prepare input step creates the input_file from the network files (node and edge file).\n",
    "This also provides other relevant metadata to the simulator."
   ]
  },
  {
   "cell_type": "code",
   "execution_count": 9,
   "id": "883e99cf-08a2-445a-8a4a-57a26a603809",
   "metadata": {},
   "outputs": [
    {
     "data": {
      "text/html": [
       "<pre style=\"white-space:pre;overflow-x:auto;line-height:normal;font-family:Menlo,'DejaVu Sans Mono',consolas,'Courier New',monospace\"><span style=\"color: #008080; text-decoration-color: #008080\">Reading node table.</span>\n",
       "</pre>\n"
      ],
      "text/plain": [
       "\u001b[36mReading node table.\u001b[0m\n"
      ]
     },
     "metadata": {},
     "output_type": "display_data"
    },
    {
     "data": {
      "text/html": [
       "<pre style=\"white-space:pre;overflow-x:auto;line-height:normal;font-family:Menlo,'DejaVu Sans Mono',consolas,'Courier New',monospace\"><span style=\"color: #008080; text-decoration-color: #008080\">Sorting node table.</span>\n",
       "</pre>\n"
      ],
      "text/plain": [
       "\u001b[36mSorting node table.\u001b[0m\n"
      ]
     },
     "metadata": {},
     "output_type": "display_data"
    },
    {
     "data": {
      "text/html": [
       "<pre style=\"white-space:pre;overflow-x:auto;line-height:normal;font-family:Menlo,'DejaVu Sans Mono',consolas,'Courier New',monospace\"><span style=\"color: #008080; text-decoration-color: #008080\">Making node index.</span>\n",
       "</pre>\n"
      ],
      "text/plain": [
       "\u001b[36mMaking node index.\u001b[0m\n"
      ]
     },
     "metadata": {},
     "output_type": "display_data"
    },
    {
     "name": "stdout",
     "output_type": "stream",
     "text": [
      "### num_nodes:  83313\n"
     ]
    },
    {
     "data": {
      "text/html": [
       "<pre style=\"white-space:pre;overflow-x:auto;line-height:normal;font-family:Menlo,'DejaVu Sans Mono',consolas,'Courier New',monospace\"><span style=\"color: #008080; text-decoration-color: #008080\">Reading edge table.</span>\n",
       "</pre>\n"
      ],
      "text/plain": [
       "\u001b[36mReading edge table.\u001b[0m\n"
      ]
     },
     "metadata": {},
     "output_type": "display_data"
    },
    {
     "data": {
      "text/html": [
       "<pre style=\"white-space:pre;overflow-x:auto;line-height:normal;font-family:Menlo,'DejaVu Sans Mono',consolas,'Courier New',monospace\"><span style=\"color: #008080; text-decoration-color: #008080\">Sorting edge table.</span>\n",
       "</pre>\n"
      ],
      "text/plain": [
       "\u001b[36mSorting edge table.\u001b[0m\n"
      ]
     },
     "metadata": {},
     "output_type": "display_data"
    },
    {
     "data": {
      "text/html": [
       "<pre style=\"white-space:pre;overflow-x:auto;line-height:normal;font-family:Menlo,'DejaVu Sans Mono',consolas,'Courier New',monospace\"><span style=\"color: #008080; text-decoration-color: #008080\">Computing incoming incidence CSR graph's indptr.</span>\n",
       "</pre>\n"
      ],
      "text/plain": [
       "\u001b[36mComputing incoming incidence CSR graph's indptr.\u001b[0m\n"
      ]
     },
     "metadata": {},
     "output_type": "display_data"
    },
    {
     "name": "stdout",
     "output_type": "stream",
     "text": [
      "### num_edges:  3269342\n"
     ]
    },
    {
     "data": {
      "text/html": [
       "<pre style=\"white-space:pre;overflow-x:auto;line-height:normal;font-family:Menlo,'DejaVu Sans Mono',consolas,'Courier New',monospace\"><span style=\"color: #008080; text-decoration-color: #008080\">Creating input file.</span>\n",
       "</pre>\n"
      ],
      "text/plain": [
       "\u001b[36mCreating input file.\u001b[0m\n"
      ]
     },
     "metadata": {},
     "output_type": "display_data"
    },
    {
     "data": {
      "text/html": [
       "<pre style=\"white-space:pre;overflow-x:auto;line-height:normal;font-family:Menlo,'DejaVu Sans Mono',consolas,'Courier New',monospace\"><span style=\"color: #008000; text-decoration-color: #008000\">Input file created successfully.</span>\n",
       "</pre>\n"
      ],
      "text/plain": [
       "\u001b[32mInput file created successfully.\u001b[0m\n"
      ]
     },
     "metadata": {},
     "output_type": "display_data"
    }
   ],
   "source": [
    "simulator.prepare_input(node_file, edge_file, input_file)"
   ]
  },
  {
   "cell_type": "markdown",
   "id": "43dab982-0de1-4611-92ed-54f8906cb32a",
   "metadata": {},
   "source": [
    "We can view the node and edge tables in the input file using extract_nodes() and extract_edges() helper methods."
   ]
  },
  {
   "cell_type": "code",
   "execution_count": 10,
   "id": "faa5d15a-5ebe-4cae-bd22-cff6d62bd8bf",
   "metadata": {},
   "outputs": [
    {
     "data": {
      "text/html": [
       "<div><style>\n",
       ".dataframe > thead > tr,\n",
       ".dataframe > tbody > tr {\n",
       "  text-align: right;\n",
       "  white-space: pre-wrap;\n",
       "}\n",
       "</style>\n",
       "<small>shape: (5, 2)</small><table border=\"1\" class=\"dataframe\"><thead><tr><th>pid</th><th>is_in_school</th></tr><tr><td>i64</td><td>u8</td></tr></thead><tbody><tr><td>3723936</td><td>1</td></tr><tr><td>3723937</td><td>1</td></tr><tr><td>3723938</td><td>0</td></tr><tr><td>3723939</td><td>1</td></tr><tr><td>3723940</td><td>1</td></tr></tbody></table></div>"
      ],
      "text/plain": [
       "shape: (5, 2)\n",
       "┌─────────┬──────────────┐\n",
       "│ pid     ┆ is_in_school │\n",
       "│ ---     ┆ ---          │\n",
       "│ i64     ┆ u8           │\n",
       "╞═════════╪══════════════╡\n",
       "│ 3723936 ┆ 1            │\n",
       "│ 3723937 ┆ 1            │\n",
       "│ 3723938 ┆ 0            │\n",
       "│ 3723939 ┆ 1            │\n",
       "│ 3723940 ┆ 1            │\n",
       "└─────────┴──────────────┘"
      ]
     },
     "execution_count": 10,
     "metadata": {},
     "output_type": "execute_result"
    }
   ],
   "source": [
    "simulator.extract_nodes(input_file).head()"
   ]
  },
  {
   "cell_type": "code",
   "execution_count": 11,
   "id": "a8f40d6c-4090-4c04-b0e7-5fcedfeb7f0b",
   "metadata": {},
   "outputs": [
    {
     "data": {
      "text/html": [
       "<div><style>\n",
       ".dataframe > thead > tr,\n",
       ".dataframe > tbody > tr {\n",
       "  text-align: right;\n",
       "  white-space: pre-wrap;\n",
       "}\n",
       "</style>\n",
       "<small>shape: (5, 7)</small><table border=\"1\" class=\"dataframe\"><thead><tr><th>target_pid</th><th>source_pid</th><th>duration</th><th>is_school_edge</th><th>is_non_home_edge</th><th>_target_node_index</th><th>_source_node_index</th></tr><tr><td>i64</td><td>i64</td><td>i64</td><td>u8</td><td>u8</td><td>i32</td><td>i32</td></tr></thead><tbody><tr><td>3723936</td><td>3723937</td><td>14400</td><td>0</td><td>1</td><td>0</td><td>1</td></tr><tr><td>3723936</td><td>3723937</td><td>20519</td><td>0</td><td>1</td><td>0</td><td>1</td></tr><tr><td>3723936</td><td>3723937</td><td>41520</td><td>0</td><td>1</td><td>0</td><td>1</td></tr><tr><td>3723936</td><td>3731305</td><td>1020</td><td>0</td><td>1</td><td>0</td><td>7369</td></tr><tr><td>3723936</td><td>3733825</td><td>5700</td><td>1</td><td>1</td><td>0</td><td>9889</td></tr></tbody></table></div>"
      ],
      "text/plain": [
       "shape: (5, 7)\n",
       "┌────────────┬────────────┬──────────┬───────────────┬───────────────┬──────────────┬──────────────┐\n",
       "│ target_pid ┆ source_pid ┆ duration ┆ is_school_edg ┆ is_non_home_e ┆ _target_node ┆ _source_node │\n",
       "│ ---        ┆ ---        ┆ ---      ┆ e             ┆ dge           ┆ _index       ┆ _index       │\n",
       "│ i64        ┆ i64        ┆ i64      ┆ ---           ┆ ---           ┆ ---          ┆ ---          │\n",
       "│            ┆            ┆          ┆ u8            ┆ u8            ┆ i32          ┆ i32          │\n",
       "╞════════════╪════════════╪══════════╪═══════════════╪═══════════════╪══════════════╪══════════════╡\n",
       "│ 3723936    ┆ 3723937    ┆ 14400    ┆ 0             ┆ 1             ┆ 0            ┆ 1            │\n",
       "│ 3723936    ┆ 3723937    ┆ 20519    ┆ 0             ┆ 1             ┆ 0            ┆ 1            │\n",
       "│ 3723936    ┆ 3723937    ┆ 41520    ┆ 0             ┆ 1             ┆ 0            ┆ 1            │\n",
       "│ 3723936    ┆ 3731305    ┆ 1020     ┆ 0             ┆ 1             ┆ 0            ┆ 7369         │\n",
       "│ 3723936    ┆ 3733825    ┆ 5700     ┆ 1             ┆ 1             ┆ 0            ┆ 9889         │\n",
       "└────────────┴────────────┴──────────┴───────────────┴───────────────┴──────────────┴──────────────┘"
      ]
     },
     "execution_count": 11,
     "metadata": {},
     "output_type": "execute_result"
    }
   ],
   "source": [
    "simulator.extract_edges(input_file).head()"
   ]
  },
  {
   "cell_type": "markdown",
   "id": "9ee5e13d-56a4-4f68-aab0-d732fe8a68a0",
   "metadata": {},
   "source": [
    "Finally to run a simulation, we provide the location of the output file and call simulate.\n",
    "Here we can also pass a dictionary of configuration variables that were defined in the simulation."
   ]
  },
  {
   "cell_type": "code",
   "execution_count": 12,
   "id": "cd786e1c-9903-4eb5-b5b2-dbf58c23e81d",
   "metadata": {
    "scrolled": true
   },
   "outputs": [
    {
     "name": "stdout",
     "output_type": "stream",
     "text": [
      "### num_threads = 12\n",
      "### enable_hybrid_learning = 1\n",
      "### enable_day_30_antigen_test = 1\n",
      "### enable_day_30_pcr_test = 0\n",
      "### transmissibility_scale = 0.3\n",
      "### num_ticks = 100\n",
      "### input_file = /home/parantapa/escape-work-dir/input.h5\n",
      "### output_file = /home/parantapa/escape-work-dir/output.h5\n",
      "### num_nodes = 83313\n",
      "### num_edges = 3269342\n",
      "### cur_tick = 0\n",
      "### cur_tick = 1\n",
      "### cur_tick = 2\n",
      "### cur_tick = 3\n",
      "### cur_tick = 4\n",
      "### cur_tick = 5\n",
      "### cur_tick = 6\n",
      "### cur_tick = 7\n",
      "### cur_tick = 8\n",
      "### cur_tick = 9\n",
      "### cur_tick = 10\n",
      "### cur_tick = 11\n",
      "### cur_tick = 12\n",
      "### cur_tick = 13\n",
      "### cur_tick = 14\n",
      "### cur_tick = 15\n",
      "### cur_tick = 16\n",
      "### cur_tick = 17\n",
      "### cur_tick = 18\n",
      "### cur_tick = 19\n",
      "### cur_tick = 20\n",
      "### cur_tick = 21\n",
      "### cur_tick = 22\n",
      "### cur_tick = 23\n",
      "### cur_tick = 24\n",
      "### cur_tick = 25\n",
      "### cur_tick = 26\n",
      "### cur_tick = 27\n",
      "### cur_tick = 28\n",
      "### cur_tick = 29\n",
      "### cur_tick = 30\n",
      "### cur_tick = 31\n",
      "### cur_tick = 32\n",
      "### cur_tick = 33\n",
      "### cur_tick = 34\n",
      "### cur_tick = 35\n",
      "### cur_tick = 36\n",
      "### cur_tick = 37\n",
      "### cur_tick = 38\n",
      "### cur_tick = 39\n",
      "### cur_tick = 40\n",
      "### cur_tick = 41\n",
      "### cur_tick = 42\n",
      "### cur_tick = 43\n",
      "### cur_tick = 44\n",
      "### cur_tick = 45\n",
      "### cur_tick = 46\n",
      "### cur_tick = 47\n",
      "### cur_tick = 48\n",
      "### cur_tick = 49\n",
      "### cur_tick = 50\n",
      "### cur_tick = 51\n",
      "### cur_tick = 52\n",
      "### cur_tick = 53\n",
      "### cur_tick = 54\n",
      "### cur_tick = 55\n",
      "### cur_tick = 56\n",
      "### cur_tick = 57\n",
      "### cur_tick = 58\n",
      "### cur_tick = 59\n",
      "### cur_tick = 60\n",
      "### cur_tick = 61\n",
      "### cur_tick = 62\n",
      "### cur_tick = 63\n",
      "### cur_tick = 64\n",
      "### cur_tick = 65\n",
      "### cur_tick = 66\n",
      "### cur_tick = 67\n",
      "### cur_tick = 68\n",
      "### cur_tick = 69\n",
      "### cur_tick = 70\n",
      "### cur_tick = 71\n",
      "### cur_tick = 72\n",
      "### cur_tick = 73\n",
      "### cur_tick = 74\n",
      "### cur_tick = 75\n",
      "### cur_tick = 76\n",
      "### cur_tick = 77\n",
      "### cur_tick = 78\n",
      "### cur_tick = 79\n",
      "### cur_tick = 80\n",
      "### cur_tick = 81\n",
      "### cur_tick = 82\n",
      "### cur_tick = 83\n",
      "### cur_tick = 84\n",
      "### cur_tick = 85\n",
      "### cur_tick = 86\n",
      "### cur_tick = 87\n",
      "### cur_tick = 88\n",
      "### cur_tick = 89\n",
      "### cur_tick = 90\n",
      "### cur_tick = 91\n",
      "### cur_tick = 92\n",
      "### cur_tick = 93\n",
      "### cur_tick = 94\n",
      "### cur_tick = 95\n",
      "### cur_tick = 96\n",
      "### cur_tick = 97\n",
      "### cur_tick = 98\n",
      "### cur_tick = 99\n",
      "### mem_use_gb = 0.0761555\n",
      "### init_time_s = 0.0241296\n",
      "### main_time_s = 2.85445\n"
     ]
    }
   ],
   "source": [
    "output_file = work_dir / \"output.h5\"\n",
    "\n",
    "simulator.simulate(input_file, output_file, num_ticks=100, configs={\"enable_hybrid_learning\": True}, verbose=True)"
   ]
  },
  {
   "cell_type": "markdown",
   "id": "3d17157c-2b4a-4dcc-9edf-43c35d8004b5",
   "metadata": {},
   "source": [
    "Once the simulation is complete we can extract summary, transitions, transmissions and interventions from the output file."
   ]
  },
  {
   "cell_type": "code",
   "execution_count": 13,
   "id": "06364a63-064d-472f-8865-3ff67dfe32a1",
   "metadata": {},
   "outputs": [
    {
     "data": {
      "text/html": [
       "<div><style>\n",
       ".dataframe > thead > tr,\n",
       ".dataframe > tbody > tr {\n",
       "  text-align: right;\n",
       "  white-space: pre-wrap;\n",
       "}\n",
       "</style>\n",
       "<small>shape: (5, 7)</small><table border=\"1\" class=\"dataframe\"><thead><tr><th>S</th><th>E</th><th>Ipresymp</th><th>Isymp</th><th>Iasymp</th><th>R</th><th>tick</th></tr><tr><td>i64</td><td>i64</td><td>i64</td><td>i64</td><td>i64</td><td>i64</td><td>i64</td></tr></thead><tbody><tr><td>83308</td><td>5</td><td>0</td><td>0</td><td>0</td><td>0</td><td>0</td></tr><tr><td>83303</td><td>10</td><td>0</td><td>0</td><td>0</td><td>0</td><td>1</td></tr><tr><td>83298</td><td>11</td><td>4</td><td>0</td><td>0</td><td>0</td><td>2</td></tr><tr><td>83292</td><td>14</td><td>7</td><td>0</td><td>0</td><td>0</td><td>3</td></tr><tr><td>83283</td><td>18</td><td>8</td><td>4</td><td>0</td><td>0</td><td>4</td></tr></tbody></table></div>"
      ],
      "text/plain": [
       "shape: (5, 7)\n",
       "┌───────┬─────┬──────────┬───────┬────────┬─────┬──────┐\n",
       "│ S     ┆ E   ┆ Ipresymp ┆ Isymp ┆ Iasymp ┆ R   ┆ tick │\n",
       "│ ---   ┆ --- ┆ ---      ┆ ---   ┆ ---    ┆ --- ┆ ---  │\n",
       "│ i64   ┆ i64 ┆ i64      ┆ i64   ┆ i64    ┆ i64 ┆ i64  │\n",
       "╞═══════╪═════╪══════════╪═══════╪════════╪═════╪══════╡\n",
       "│ 83308 ┆ 5   ┆ 0        ┆ 0     ┆ 0      ┆ 0   ┆ 0    │\n",
       "│ 83303 ┆ 10  ┆ 0        ┆ 0     ┆ 0      ┆ 0   ┆ 1    │\n",
       "│ 83298 ┆ 11  ┆ 4        ┆ 0     ┆ 0      ┆ 0   ┆ 2    │\n",
       "│ 83292 ┆ 14  ┆ 7        ┆ 0     ┆ 0      ┆ 0   ┆ 3    │\n",
       "│ 83283 ┆ 18  ┆ 8        ┆ 4     ┆ 0      ┆ 0   ┆ 4    │\n",
       "└───────┴─────┴──────────┴───────┴────────┴─────┴──────┘"
      ]
     },
     "execution_count": 13,
     "metadata": {},
     "output_type": "execute_result"
    }
   ],
   "source": [
    "summary = simulator.extract_summary(output_file)\n",
    "summary.head()"
   ]
  },
  {
   "cell_type": "code",
   "execution_count": 14,
   "id": "433f3045-b199-4ea8-929a-530f32cd95d9",
   "metadata": {},
   "outputs": [
    {
     "data": {
      "text/html": [
       "<div><style>\n",
       ".dataframe > thead > tr,\n",
       ".dataframe > tbody > tr {\n",
       "  text-align: right;\n",
       "  white-space: pre-wrap;\n",
       "}\n",
       "</style>\n",
       "<small>shape: (5, 3)</small><table border=\"1\" class=\"dataframe\"><thead><tr><th>node_index</th><th>state</th><th>tick</th></tr><tr><td>i32</td><td>enum</td><td>i32</td></tr></thead><tbody><tr><td>77475</td><td>&quot;Ipresymp&quot;</td><td>2</td></tr><tr><td>79843</td><td>&quot;Ipresymp&quot;</td><td>2</td></tr><tr><td>79992</td><td>&quot;Ipresymp&quot;</td><td>2</td></tr><tr><td>81173</td><td>&quot;Ipresymp&quot;</td><td>2</td></tr><tr><td>76661</td><td>&quot;Ipresymp&quot;</td><td>3</td></tr></tbody></table></div>"
      ],
      "text/plain": [
       "shape: (5, 3)\n",
       "┌────────────┬──────────┬──────┐\n",
       "│ node_index ┆ state    ┆ tick │\n",
       "│ ---        ┆ ---      ┆ ---  │\n",
       "│ i32        ┆ enum     ┆ i32  │\n",
       "╞════════════╪══════════╪══════╡\n",
       "│ 77475      ┆ Ipresymp ┆ 2    │\n",
       "│ 79843      ┆ Ipresymp ┆ 2    │\n",
       "│ 79992      ┆ Ipresymp ┆ 2    │\n",
       "│ 81173      ┆ Ipresymp ┆ 2    │\n",
       "│ 76661      ┆ Ipresymp ┆ 3    │\n",
       "└────────────┴──────────┴──────┘"
      ]
     },
     "execution_count": 14,
     "metadata": {},
     "output_type": "execute_result"
    }
   ],
   "source": [
    "transitions = simulator.extract_transitions(output_file)\n",
    "transitions.head()"
   ]
  },
  {
   "cell_type": "code",
   "execution_count": 15,
   "id": "fba483a8-bc3d-482c-83d7-07274aa5b4f8",
   "metadata": {},
   "outputs": [
    {
     "data": {
      "text/html": [
       "<div><style>\n",
       ".dataframe > thead > tr,\n",
       ".dataframe > tbody > tr {\n",
       "  text-align: right;\n",
       "  white-space: pre-wrap;\n",
       "}\n",
       "</style>\n",
       "<small>shape: (5, 3)</small><table border=\"1\" class=\"dataframe\"><thead><tr><th>edge_index</th><th>state</th><th>tick</th></tr><tr><td>i64</td><td>enum</td><td>i32</td></tr></thead><tbody><tr><td>3153367</td><td>&quot;E&quot;</td><td>3</td></tr><tr><td>1838792</td><td>&quot;E&quot;</td><td>4</td></tr><tr><td>1973414</td><td>&quot;E&quot;</td><td>4</td></tr><tr><td>2806021</td><td>&quot;E&quot;</td><td>4</td></tr><tr><td>3008424</td><td>&quot;E&quot;</td><td>4</td></tr></tbody></table></div>"
      ],
      "text/plain": [
       "shape: (5, 3)\n",
       "┌────────────┬───────┬──────┐\n",
       "│ edge_index ┆ state ┆ tick │\n",
       "│ ---        ┆ ---   ┆ ---  │\n",
       "│ i64        ┆ enum  ┆ i32  │\n",
       "╞════════════╪═══════╪══════╡\n",
       "│ 3153367    ┆ E     ┆ 3    │\n",
       "│ 1838792    ┆ E     ┆ 4    │\n",
       "│ 1973414    ┆ E     ┆ 4    │\n",
       "│ 2806021    ┆ E     ┆ 4    │\n",
       "│ 3008424    ┆ E     ┆ 4    │\n",
       "└────────────┴───────┴──────┘"
      ]
     },
     "execution_count": 15,
     "metadata": {},
     "output_type": "execute_result"
    }
   ],
   "source": [
    "transmissions = simulator.extract_transmissions(output_file)\n",
    "transmissions.head()"
   ]
  },
  {
   "cell_type": "code",
   "execution_count": 16,
   "id": "099e408a-4eed-4b54-a168-62dc21a370fb",
   "metadata": {},
   "outputs": [
    {
     "data": {
      "text/html": [
       "<div><style>\n",
       ".dataframe > thead > tr,\n",
       ".dataframe > tbody > tr {\n",
       "  text-align: right;\n",
       "  white-space: pre-wrap;\n",
       "}\n",
       "</style>\n",
       "<small>shape: (5, 3)</small><table border=\"1\" class=\"dataframe\"><thead><tr><th>node_index</th><th>state</th><th>tick</th></tr><tr><td>i32</td><td>enum</td><td>i32</td></tr></thead><tbody><tr><td>77075</td><td>&quot;E&quot;</td><td>0</td></tr><tr><td>77475</td><td>&quot;E&quot;</td><td>0</td></tr><tr><td>79843</td><td>&quot;E&quot;</td><td>0</td></tr><tr><td>79992</td><td>&quot;E&quot;</td><td>0</td></tr><tr><td>81173</td><td>&quot;E&quot;</td><td>0</td></tr></tbody></table></div>"
      ],
      "text/plain": [
       "shape: (5, 3)\n",
       "┌────────────┬───────┬──────┐\n",
       "│ node_index ┆ state ┆ tick │\n",
       "│ ---        ┆ ---   ┆ ---  │\n",
       "│ i32        ┆ enum  ┆ i32  │\n",
       "╞════════════╪═══════╪══════╡\n",
       "│ 77075      ┆ E     ┆ 0    │\n",
       "│ 77475      ┆ E     ┆ 0    │\n",
       "│ 79843      ┆ E     ┆ 0    │\n",
       "│ 79992      ┆ E     ┆ 0    │\n",
       "│ 81173      ┆ E     ┆ 0    │\n",
       "└────────────┴───────┴──────┘"
      ]
     },
     "execution_count": 16,
     "metadata": {},
     "output_type": "execute_result"
    }
   ],
   "source": [
    "interventions = simulator.extract_interventions(output_file)\n",
    "interventions.head()"
   ]
  },
  {
   "cell_type": "markdown",
   "id": "d65cc15a-986f-4b29-824e-b556a0665108",
   "metadata": {},
   "source": [
    "Runtime statistics are also saved in the output file"
   ]
  },
  {
   "cell_type": "code",
   "execution_count": 17,
   "id": "84f95242-a5b8-46dc-bbff-4e32cc3d1355",
   "metadata": {},
   "outputs": [
    {
     "data": {
      "text/plain": [
       "{'init_time_s': 0.024129617002472514,\n",
       " 'main_time_s': 2.8544532590021845,\n",
       " 'mem_use_gb': 0.076155456,\n",
       " 'num_threads': 12}"
      ]
     },
     "execution_count": 17,
     "metadata": {},
     "output_type": "execute_result"
    }
   ],
   "source": [
    "simulator.runtime_stats(output_file)"
   ]
  },
  {
   "cell_type": "markdown",
   "id": "1fea1e17-285e-41c0-8a02-ef3cb64ab07a",
   "metadata": {},
   "source": [
    "Configuration variables are also saved in output file"
   ]
  },
  {
   "cell_type": "code",
   "execution_count": 18,
   "id": "3fb4b2fc-4a76-46c4-af44-5ab5045c473f",
   "metadata": {},
   "outputs": [
    {
     "data": {
      "text/plain": [
       "{'enable_day_30_antigen_test': 1,\n",
       " 'enable_day_30_pcr_test': 0,\n",
       " 'enable_hybrid_learning': 1,\n",
       " 'transmissibility_scale': 0.3}"
      ]
     },
     "execution_count": 18,
     "metadata": {},
     "output_type": "execute_result"
    }
   ],
   "source": [
    "simulator.extract_configs(output_file)"
   ]
  },
  {
   "cell_type": "markdown",
   "id": "aec76b95-9c83-4c25-87b0-c90a7df3829d",
   "metadata": {},
   "source": [
    "Compute attack rate as follows:"
   ]
  },
  {
   "cell_type": "code",
   "execution_count": 19,
   "id": "96bc4e32-319a-45de-88a6-51f91b54c4ee",
   "metadata": {
    "scrolled": true
   },
   "outputs": [
    {
     "data": {
      "text/plain": [
       "0.8119021041134037"
      ]
     },
     "execution_count": 19,
     "metadata": {},
     "output_type": "execute_result"
    }
   ],
   "source": [
    "num_nodes = simulator.num_nodes(input_file)\n",
    "attack_rate = simulator.compute_cum_count(transitions, [\"E\"]) / num_nodes\n",
    "attack_rate"
   ]
  },
  {
   "cell_type": "code",
   "execution_count": 20,
   "id": "34b341d2-175e-46be-894d-c476a917443c",
   "metadata": {
    "scrolled": true
   },
   "outputs": [
    {
     "data": {
      "image/svg+xml": [
       "<svg class=\"main-svg\" xmlns=\"http://www.w3.org/2000/svg\" xmlns:xlink=\"http://www.w3.org/1999/xlink\" width=\"700\" height=\"500\" style=\"\" viewBox=\"0 0 700 500\"><rect x=\"0\" y=\"0\" width=\"700\" height=\"500\" style=\"fill: rgb(255, 255, 255); fill-opacity: 1;\"/><defs id=\"defs-40c50e\"><g class=\"clips\"><clipPath id=\"clip40c50exyplot\" class=\"plotclip\"><rect width=\"495\" height=\"320\"/></clipPath><clipPath class=\"axesclip\" id=\"clip40c50ex\"><rect x=\"80\" y=\"0\" width=\"495\" height=\"500\"/></clipPath><clipPath class=\"axesclip\" id=\"clip40c50ey\"><rect x=\"0\" y=\"100\" width=\"700\" height=\"320\"/></clipPath><clipPath class=\"axesclip\" id=\"clip40c50exy\"><rect x=\"80\" y=\"100\" width=\"495\" height=\"320\"/></clipPath></g><g class=\"gradients\"/><g class=\"patterns\"/></defs><g class=\"bglayer\"><rect class=\"bg\" x=\"80\" y=\"100\" width=\"495\" height=\"320\" style=\"fill: rgb(229, 236, 246); fill-opacity: 1; stroke-width: 0;\"/></g><g class=\"layer-below\"><g class=\"imagelayer\"/><g class=\"shapelayer\"/></g><g class=\"cartesianlayer\"><g class=\"subplot xy\"><g class=\"layer-subplot\"><g class=\"shapelayer\"/><g class=\"imagelayer\"/></g><g class=\"minor-gridlayer\"><g class=\"x\"/><g class=\"y\"/></g><g class=\"gridlayer\"><g class=\"x\"><path class=\"xgrid crisp\" transform=\"translate(180,0)\" d=\"M0,100v320\" style=\"stroke: rgb(255, 255, 255); stroke-opacity: 1; stroke-width: 1px;\"/><path class=\"xgrid crisp\" transform=\"translate(280,0)\" d=\"M0,100v320\" style=\"stroke: rgb(255, 255, 255); stroke-opacity: 1; stroke-width: 1px;\"/><path class=\"xgrid crisp\" transform=\"translate(380,0)\" d=\"M0,100v320\" style=\"stroke: rgb(255, 255, 255); stroke-opacity: 1; stroke-width: 1px;\"/><path class=\"xgrid crisp\" transform=\"translate(480,0)\" d=\"M0,100v320\" style=\"stroke: rgb(255, 255, 255); stroke-opacity: 1; stroke-width: 1px;\"/></g><g class=\"y\"><path class=\"ygrid crisp\" transform=\"translate(0,334.86)\" d=\"M80,0h495\" style=\"stroke: rgb(255, 255, 255); stroke-opacity: 1; stroke-width: 1px;\"/><path class=\"ygrid crisp\" transform=\"translate(0,265.72)\" d=\"M80,0h495\" style=\"stroke: rgb(255, 255, 255); stroke-opacity: 1; stroke-width: 1px;\"/><path class=\"ygrid crisp\" transform=\"translate(0,196.57999999999998)\" d=\"M80,0h495\" style=\"stroke: rgb(255, 255, 255); stroke-opacity: 1; stroke-width: 1px;\"/><path class=\"ygrid crisp\" transform=\"translate(0,127.44)\" d=\"M80,0h495\" style=\"stroke: rgb(255, 255, 255); stroke-opacity: 1; stroke-width: 1px;\"/></g></g><g class=\"zerolinelayer\"><path class=\"xzl zl crisp\" transform=\"translate(80,0)\" d=\"M0,100v320\" style=\"stroke: rgb(255, 255, 255); stroke-opacity: 1; stroke-width: 2px;\"/><path class=\"yzl zl crisp\" transform=\"translate(0,404)\" d=\"M80,0h495\" style=\"stroke: rgb(255, 255, 255); stroke-opacity: 1; stroke-width: 2px;\"/></g><g class=\"layer-between\"><g class=\"shapelayer\"/><g class=\"imagelayer\"/></g><path class=\"xlines-below\"/><path class=\"ylines-below\"/><g class=\"overlines-below\"/><g class=\"xaxislayer-below\"/><g class=\"yaxislayer-below\"/><g class=\"overaxes-below\"/><g class=\"overplot\"><g class=\"xy\" transform=\"translate(80,100)\" clip-path=\"url(#clip40c50exyplot)\"><g class=\"scatterlayer mlayer\"><g class=\"trace scatter trace8a9398\" style=\"stroke-miterlimit: 2; opacity: 1;\"><g class=\"fills\"/><g class=\"errorbars\"/><g class=\"lines\"><path class=\"js-line\" d=\"M0,16L65,16.97L70,17.17L85,18.74L90,19.6L105,23.8L110,26.71L115,30.63L120,35.74L130,49.36L135,57.2L140,65.94L145,78.51L165,128.86L170,137.69L175,146.16L180,159.79L190,182.53L195,191.4L200,199.44L205,204.04L210,208.33L215,215.18L225,225.46L230,229.24L235,232.4L240,234.22L250,238.22L255,240.26L265,243.29L270,244.52L300,248.01L305,248.37L360,249.77L365,249.83L495,250\" style=\"vector-effect: none; fill: none; stroke: rgb(99, 110, 250); stroke-opacity: 1; stroke-width: 2px; opacity: 1;\"/></g><g class=\"points\"/><g class=\"text\"/></g><g class=\"trace scatter trace361d79\" style=\"stroke-miterlimit: 2; opacity: 1;\"><g class=\"fills\"/><g class=\"errorbars\"/><g class=\"lines\"><path class=\"js-line\" d=\"M0,303.98L75,303.09L80,302.79L100,300.17L105,299.16L110,297.3L115,294.54L125,286.94L130,282.81L140,275.57L145,269.44L155,258.79L160,257.42L165,256.44L170,259.75L175,263.36L180,262.16L190,259.18L195,262.79L200,266.25L205,272.42L210,277.99L215,280.38L225,282.11L230,285.02L235,287.35L240,290.62L245,293.22L250,294.84L270,297.98L275,299.15L285,300.78L290,301.29L355,303.69L360,303.77L495,304\" style=\"vector-effect: none; fill: none; stroke: rgb(239, 85, 59); stroke-opacity: 1; stroke-width: 2px; opacity: 1;\"/></g><g class=\"points\"/><g class=\"text\"/></g><g class=\"trace scatter trace7d7a97\" style=\"stroke-miterlimit: 2; opacity: 1;\"><g class=\"fills\"/><g class=\"errorbars\"/><g class=\"lines\"><path class=\"js-line\" d=\"M0,304L100,303.26L105,303.03L125,300.95L130,299.51L150,294.02L155,293.18L165,287.44L170,287.25L180,288.1L185,290.09L190,292.62L195,289.62L200,287.26L205,289.16L220,295.65L225,298.15L235,295.96L240,297.21L260,301.67L265,301.36L275,301.49L280,302.01L305,303.2L310,303.37L495,304\" style=\"vector-effect: none; fill: none; stroke: rgb(0, 204, 150); stroke-opacity: 1; stroke-width: 2px; opacity: 1;\"/></g><g class=\"points\"/><g class=\"text\"/></g><g class=\"trace scatter trace169734\" style=\"stroke-miterlimit: 2; opacity: 1;\"><g class=\"fills\"/><g class=\"errorbars\"/><g class=\"lines\"><path class=\"js-line\" d=\"M0,304L100,303.41L105,303.19L125,301.48L130,300.81L140,297.86L145,295.78L165,285.39L170,280.85L180,274.22L185,272.26L190,270.9L195,272.11L200,273.75L205,271.67L210,271.28L215,271.99L225,275.4L230,278.79L235,282.01L240,283.13L260,290.57L265,292.6L270,294.52L275,295.47L305,300.4L310,300.91L335,302.65L340,302.82L385,303.8L390,303.81L495,303.99\" style=\"vector-effect: none; fill: none; stroke: rgb(171, 99, 250); stroke-opacity: 1; stroke-width: 2px; opacity: 1;\"/></g><g class=\"points\"/><g class=\"text\"/></g><g class=\"trace scatter trace9ac5ef\" style=\"stroke-miterlimit: 2; opacity: 1;\"><g class=\"fills\"/><g class=\"errorbars\"/><g class=\"lines\"><path class=\"js-line\" d=\"M0,304L110,303.32L115,303.08L135,301.45L140,300.52L150,297.72L155,295.87L170,289.58L175,287.15L185,283.13L190,282.07L200,282.02L205,282.37L220,283.24L225,284.13L240,289.64L245,291.27L260,294.71L265,295.8L285,299.79L290,300.37L345,303.33L350,303.45L450,303.98L455,303.98L495,303.99\" style=\"vector-effect: none; fill: none; stroke: rgb(255, 161, 90); stroke-opacity: 1; stroke-width: 2px; opacity: 1;\"/></g><g class=\"points\"/><g class=\"text\"/></g><g class=\"trace scatter trace48d76a\" style=\"stroke-miterlimit: 2; opacity: 1;\"><g class=\"fills\"/><g class=\"errorbars\"/><g class=\"lines\"><path class=\"js-line\" d=\"M0,304L105,303.29L110,303.09L130,301.42L135,300.55L145,297.85L150,295.85L160,289.82L165,285.89L170,280.87L175,274.48L185,258.28L190,248.69L205,216.32L210,204.53L225,170.72L230,160.45L240,141.17L245,132.36L255,117.17L260,110.94L270,100.89L275,96.67L285,89.28L290,86.27L305,80.45L310,78.8L325,75.3L330,74.47L350,72.23L355,71.89L380,70.71L385,70.58L440,70.07L445,70.06L495,70.01\" style=\"vector-effect: none; fill: none; stroke: rgb(25, 211, 243); stroke-opacity: 1; stroke-width: 2px; opacity: 1;\"/></g><g class=\"points\"/><g class=\"text\"/></g></g></g></g><path class=\"xlines-above crisp\" d=\"M0,0\" style=\"fill: none;\"/><path class=\"ylines-above crisp\" d=\"M0,0\" style=\"fill: none;\"/><g class=\"overlines-above\"/><g class=\"xaxislayer-above\"><g class=\"xtick\"><text text-anchor=\"middle\" x=\"0\" y=\"433\" transform=\"translate(80,0)\" style=\"font-family: 'Open Sans', verdana, arial, sans-serif; font-size: 12px; fill: rgb(42, 63, 95); fill-opacity: 1; white-space: pre; opacity: 1;\">0</text></g><g class=\"xtick\"><text text-anchor=\"middle\" x=\"0\" y=\"433\" style=\"font-family: 'Open Sans', verdana, arial, sans-serif; font-size: 12px; fill: rgb(42, 63, 95); fill-opacity: 1; white-space: pre; opacity: 1;\" transform=\"translate(180,0)\">20</text></g><g class=\"xtick\"><text text-anchor=\"middle\" x=\"0\" y=\"433\" style=\"font-family: 'Open Sans', verdana, arial, sans-serif; font-size: 12px; fill: rgb(42, 63, 95); fill-opacity: 1; white-space: pre; opacity: 1;\" transform=\"translate(280,0)\">40</text></g><g class=\"xtick\"><text text-anchor=\"middle\" x=\"0\" y=\"433\" style=\"font-family: 'Open Sans', verdana, arial, sans-serif; font-size: 12px; fill: rgb(42, 63, 95); fill-opacity: 1; white-space: pre; opacity: 1;\" transform=\"translate(380,0)\">60</text></g><g class=\"xtick\"><text text-anchor=\"middle\" x=\"0\" y=\"433\" style=\"font-family: 'Open Sans', verdana, arial, sans-serif; font-size: 12px; fill: rgb(42, 63, 95); fill-opacity: 1; white-space: pre; opacity: 1;\" transform=\"translate(480,0)\">80</text></g></g><g class=\"yaxislayer-above\"><g class=\"ytick\"><text text-anchor=\"end\" x=\"79\" y=\"4.199999999999999\" transform=\"translate(0,404)\" style=\"font-family: 'Open Sans', verdana, arial, sans-serif; font-size: 12px; fill: rgb(42, 63, 95); fill-opacity: 1; white-space: pre; opacity: 1;\">0</text></g><g class=\"ytick\"><text text-anchor=\"end\" x=\"79\" y=\"4.199999999999999\" style=\"font-family: 'Open Sans', verdana, arial, sans-serif; font-size: 12px; fill: rgb(42, 63, 95); fill-opacity: 1; white-space: pre; opacity: 1;\" transform=\"translate(0,334.86)\">20k</text></g><g class=\"ytick\"><text text-anchor=\"end\" x=\"79\" y=\"4.199999999999999\" style=\"font-family: 'Open Sans', verdana, arial, sans-serif; font-size: 12px; fill: rgb(42, 63, 95); fill-opacity: 1; white-space: pre; opacity: 1;\" transform=\"translate(0,265.72)\">40k</text></g><g class=\"ytick\"><text text-anchor=\"end\" x=\"79\" y=\"4.199999999999999\" style=\"font-family: 'Open Sans', verdana, arial, sans-serif; font-size: 12px; fill: rgb(42, 63, 95); fill-opacity: 1; white-space: pre; opacity: 1;\" transform=\"translate(0,196.57999999999998)\">60k</text></g><g class=\"ytick\"><text text-anchor=\"end\" x=\"79\" y=\"4.199999999999999\" style=\"font-family: 'Open Sans', verdana, arial, sans-serif; font-size: 12px; fill: rgb(42, 63, 95); fill-opacity: 1; white-space: pre; opacity: 1;\" transform=\"translate(0,127.44)\">80k</text></g></g><g class=\"overaxes-above\"/></g></g><g class=\"polarlayer\"/><g class=\"smithlayer\"/><g class=\"ternarylayer\"/><g class=\"geolayer\"/><g class=\"funnelarealayer\"/><g class=\"pielayer\"/><g class=\"iciclelayer\"/><g class=\"treemaplayer\"/><g class=\"sunburstlayer\"/><g class=\"glimages\"/><defs id=\"topdefs-40c50e\"><g class=\"clips\"/><clipPath id=\"legend40c50e\"><rect width=\"103\" height=\"143\" x=\"0\" y=\"0\"/></clipPath></defs><g class=\"layer-above\"><g class=\"imagelayer\"/><g class=\"shapelayer\"/></g><g class=\"infolayer\"><g class=\"legend\" pointer-events=\"all\" transform=\"translate(584.9000000000001,100)\"><rect class=\"bg\" shape-rendering=\"crispEdges\" style=\"stroke: rgb(68, 68, 68); stroke-opacity: 1; fill: rgb(255, 255, 255); fill-opacity: 1; stroke-width: 0px;\" width=\"103\" height=\"143\" x=\"0\" y=\"0\"/><g class=\"scrollbox\" transform=\"\" clip-path=\"url(#legend40c50e)\"><text class=\"legendtitletext\" text-anchor=\"start\" x=\"2\" y=\"18.2\" style=\"font-family: 'Open Sans', verdana, arial, sans-serif; font-size: 14px; fill: rgb(42, 63, 95); fill-opacity: 1; white-space: pre;\">state</text><g class=\"groups\" transform=\"\"><g class=\"traces\" transform=\"translate(0,32.7)\" style=\"opacity: 1;\"><text class=\"legendtext\" text-anchor=\"start\" x=\"40\" y=\"4.680000000000001\" style=\"font-family: 'Open Sans', verdana, arial, sans-serif; font-size: 12px; fill: rgb(42, 63, 95); fill-opacity: 1; white-space: pre;\">S</text><g class=\"layers\" style=\"opacity: 1;\"><g class=\"legendfill\"/><g class=\"legendlines\"><path class=\"js-line\" d=\"M5,0h30\" style=\"fill: none; stroke: rgb(99, 110, 250); stroke-opacity: 1; stroke-width: 2px;\"/></g><g class=\"legendsymbols\"><g class=\"legendpoints\"/></g></g><rect class=\"legendtoggle\" x=\"0\" y=\"-9.5\" width=\"97.3125\" height=\"19\" style=\"fill: rgb(0, 0, 0); fill-opacity: 0;\"/></g></g><g class=\"groups\" transform=\"\"><g class=\"traces\" transform=\"translate(0,51.7)\" style=\"opacity: 1;\"><text class=\"legendtext\" text-anchor=\"start\" x=\"40\" y=\"4.680000000000001\" style=\"font-family: 'Open Sans', verdana, arial, sans-serif; font-size: 12px; fill: rgb(42, 63, 95); fill-opacity: 1; white-space: pre;\">E</text><g class=\"layers\" style=\"opacity: 1;\"><g class=\"legendfill\"/><g class=\"legendlines\"><path class=\"js-line\" d=\"M5,0h30\" style=\"fill: none; stroke: rgb(239, 85, 59); stroke-opacity: 1; stroke-width: 2px;\"/></g><g class=\"legendsymbols\"><g class=\"legendpoints\"/></g></g><rect class=\"legendtoggle\" x=\"0\" y=\"-9.5\" width=\"97.3125\" height=\"19\" style=\"fill: rgb(0, 0, 0); fill-opacity: 0;\"/></g></g><g class=\"groups\" transform=\"\"><g class=\"traces\" transform=\"translate(0,70.7)\" style=\"opacity: 1;\"><text class=\"legendtext\" text-anchor=\"start\" x=\"40\" y=\"4.680000000000001\" style=\"font-family: 'Open Sans', verdana, arial, sans-serif; font-size: 12px; fill: rgb(42, 63, 95); fill-opacity: 1; white-space: pre;\">Ipresymp</text><g class=\"layers\" style=\"opacity: 1;\"><g class=\"legendfill\"/><g class=\"legendlines\"><path class=\"js-line\" d=\"M5,0h30\" style=\"fill: none; stroke: rgb(0, 204, 150); stroke-opacity: 1; stroke-width: 2px;\"/></g><g class=\"legendsymbols\"><g class=\"legendpoints\"/></g></g><rect class=\"legendtoggle\" x=\"0\" y=\"-9.5\" width=\"97.3125\" height=\"19\" style=\"fill: rgb(0, 0, 0); fill-opacity: 0;\"/></g></g><g class=\"groups\" transform=\"\"><g class=\"traces\" transform=\"translate(0,89.7)\" style=\"opacity: 1;\"><text class=\"legendtext\" text-anchor=\"start\" x=\"40\" y=\"4.680000000000001\" style=\"font-family: 'Open Sans', verdana, arial, sans-serif; font-size: 12px; fill: rgb(42, 63, 95); fill-opacity: 1; white-space: pre;\">Isymp</text><g class=\"layers\" style=\"opacity: 1;\"><g class=\"legendfill\"/><g class=\"legendlines\"><path class=\"js-line\" d=\"M5,0h30\" style=\"fill: none; stroke: rgb(171, 99, 250); stroke-opacity: 1; stroke-width: 2px;\"/></g><g class=\"legendsymbols\"><g class=\"legendpoints\"/></g></g><rect class=\"legendtoggle\" x=\"0\" y=\"-9.5\" width=\"97.3125\" height=\"19\" style=\"fill: rgb(0, 0, 0); fill-opacity: 0;\"/></g></g><g class=\"groups\" transform=\"\"><g class=\"traces\" transform=\"translate(0,108.7)\" style=\"opacity: 1;\"><text class=\"legendtext\" text-anchor=\"start\" x=\"40\" y=\"4.680000000000001\" style=\"font-family: 'Open Sans', verdana, arial, sans-serif; font-size: 12px; fill: rgb(42, 63, 95); fill-opacity: 1; white-space: pre;\">Iasymp</text><g class=\"layers\" style=\"opacity: 1;\"><g class=\"legendfill\"/><g class=\"legendlines\"><path class=\"js-line\" d=\"M5,0h30\" style=\"fill: none; stroke: rgb(255, 161, 90); stroke-opacity: 1; stroke-width: 2px;\"/></g><g class=\"legendsymbols\"><g class=\"legendpoints\"/></g></g><rect class=\"legendtoggle\" x=\"0\" y=\"-9.5\" width=\"97.3125\" height=\"19\" style=\"fill: rgb(0, 0, 0); fill-opacity: 0;\"/></g></g><g class=\"groups\" transform=\"\"><g class=\"traces\" transform=\"translate(0,127.7)\" style=\"opacity: 1;\"><text class=\"legendtext\" text-anchor=\"start\" x=\"40\" y=\"4.680000000000001\" style=\"font-family: 'Open Sans', verdana, arial, sans-serif; font-size: 12px; fill: rgb(42, 63, 95); fill-opacity: 1; white-space: pre;\">R</text><g class=\"layers\" style=\"opacity: 1;\"><g class=\"legendfill\"/><g class=\"legendlines\"><path class=\"js-line\" d=\"M5,0h30\" style=\"fill: none; stroke: rgb(25, 211, 243); stroke-opacity: 1; stroke-width: 2px;\"/></g><g class=\"legendsymbols\"><g class=\"legendpoints\"/></g></g><rect class=\"legendtoggle\" x=\"0\" y=\"-9.5\" width=\"97.3125\" height=\"19\" style=\"fill: rgb(0, 0, 0); fill-opacity: 0;\"/></g></g></g><rect class=\"scrollbar\" rx=\"20\" ry=\"3\" width=\"0\" height=\"0\" style=\"fill: rgb(128, 139, 164); fill-opacity: 1;\" x=\"0\" y=\"0\"/></g><g class=\"g-gtitle\"><text class=\"gtitle\" x=\"35\" y=\"50\" text-anchor=\"start\" dy=\"0em\" style=\"opacity: 1; font-family: 'Open Sans', verdana, arial, sans-serif; font-size: 17px; fill: rgb(42, 63, 95); fill-opacity: 1; white-space: pre;\">Number of individuals in each state over time</text></g><g class=\"g-xtitle\"><text class=\"xtitle\" x=\"327.5\" y=\"460.3\" text-anchor=\"middle\" style=\"opacity: 1; font-family: 'Open Sans', verdana, arial, sans-serif; font-size: 14px; fill: rgb(42, 63, 95); fill-opacity: 1; white-space: pre;\">tick</text></g><g class=\"g-ytitle\"><text class=\"ytitle\" transform=\"rotate(-90,37.240625,260)\" x=\"37.240625\" y=\"260\" text-anchor=\"middle\" style=\"opacity: 1; font-family: 'Open Sans', verdana, arial, sans-serif; font-size: 14px; fill: rgb(42, 63, 95); fill-opacity: 1; white-space: pre;\">count</text></g></g></svg>"
      ]
     },
     "metadata": {},
     "output_type": "display_data"
    }
   ],
   "source": [
    "states = summary.columns\n",
    "states.remove(\"tick\")\n",
    "\n",
    "title = \"Number of individuals in each state over time\"\n",
    "pdf = summary.unpivot(index=\"tick\", on=states, variable_name=\"state\", value_name=\"count\")\n",
    "px.line(pdf, x=\"tick\", y=\"count\", color=\"state\", title=title)"
   ]
  },
  {
   "cell_type": "code",
   "execution_count": 21,
   "id": "9ed94027-7e42-4cee-8871-ce01f6354bd9",
   "metadata": {},
   "outputs": [
    {
     "data": {
      "image/svg+xml": [
       "<svg class=\"main-svg\" xmlns=\"http://www.w3.org/2000/svg\" xmlns:xlink=\"http://www.w3.org/1999/xlink\" width=\"700\" height=\"500\" style=\"\" viewBox=\"0 0 700 500\"><rect x=\"0\" y=\"0\" width=\"700\" height=\"500\" style=\"fill: rgb(255, 255, 255); fill-opacity: 1;\"/><defs id=\"defs-c273f0\"><g class=\"clips\"><clipPath id=\"clipc273f0xyplot\" class=\"plotclip\"><rect width=\"495\" height=\"320\"/></clipPath><clipPath class=\"axesclip\" id=\"clipc273f0x\"><rect x=\"80\" y=\"0\" width=\"495\" height=\"500\"/></clipPath><clipPath class=\"axesclip\" id=\"clipc273f0y\"><rect x=\"0\" y=\"100\" width=\"700\" height=\"320\"/></clipPath><clipPath class=\"axesclip\" id=\"clipc273f0xy\"><rect x=\"80\" y=\"100\" width=\"495\" height=\"320\"/></clipPath></g><g class=\"gradients\"/><g class=\"patterns\"/></defs><g class=\"bglayer\"><rect class=\"bg\" x=\"80\" y=\"100\" width=\"495\" height=\"320\" style=\"fill: rgb(229, 236, 246); fill-opacity: 1; stroke-width: 0;\"/></g><g class=\"layer-below\"><g class=\"imagelayer\"/><g class=\"shapelayer\"/></g><g class=\"cartesianlayer\"><g class=\"subplot xy\"><g class=\"layer-subplot\"><g class=\"shapelayer\"/><g class=\"imagelayer\"/></g><g class=\"minor-gridlayer\"><g class=\"x\"/><g class=\"y\"/></g><g class=\"gridlayer\"><g class=\"x\"><path class=\"xgrid crisp\" transform=\"translate(180,0)\" d=\"M0,100v320\" style=\"stroke: rgb(255, 255, 255); stroke-opacity: 1; stroke-width: 1px;\"/><path class=\"xgrid crisp\" transform=\"translate(280,0)\" d=\"M0,100v320\" style=\"stroke: rgb(255, 255, 255); stroke-opacity: 1; stroke-width: 1px;\"/><path class=\"xgrid crisp\" transform=\"translate(380,0)\" d=\"M0,100v320\" style=\"stroke: rgb(255, 255, 255); stroke-opacity: 1; stroke-width: 1px;\"/><path class=\"xgrid crisp\" transform=\"translate(480,0)\" d=\"M0,100v320\" style=\"stroke: rgb(255, 255, 255); stroke-opacity: 1; stroke-width: 1px;\"/></g><g class=\"y\"><path class=\"ygrid crisp\" transform=\"translate(0,361.45)\" d=\"M80,0h495\" style=\"stroke: rgb(255, 255, 255); stroke-opacity: 1; stroke-width: 1px;\"/><path class=\"ygrid crisp\" transform=\"translate(0,318.9)\" d=\"M80,0h495\" style=\"stroke: rgb(255, 255, 255); stroke-opacity: 1; stroke-width: 1px;\"/><path class=\"ygrid crisp\" transform=\"translate(0,276.35)\" d=\"M80,0h495\" style=\"stroke: rgb(255, 255, 255); stroke-opacity: 1; stroke-width: 1px;\"/><path class=\"ygrid crisp\" transform=\"translate(0,233.8)\" d=\"M80,0h495\" style=\"stroke: rgb(255, 255, 255); stroke-opacity: 1; stroke-width: 1px;\"/><path class=\"ygrid crisp\" transform=\"translate(0,191.25)\" d=\"M80,0h495\" style=\"stroke: rgb(255, 255, 255); stroke-opacity: 1; stroke-width: 1px;\"/><path class=\"ygrid crisp\" transform=\"translate(0,148.7)\" d=\"M80,0h495\" style=\"stroke: rgb(255, 255, 255); stroke-opacity: 1; stroke-width: 1px;\"/><path class=\"ygrid crisp\" transform=\"translate(0,106.15)\" d=\"M80,0h495\" style=\"stroke: rgb(255, 255, 255); stroke-opacity: 1; stroke-width: 1px;\"/></g></g><g class=\"zerolinelayer\"><path class=\"xzl zl crisp\" transform=\"translate(80,0)\" d=\"M0,100v320\" style=\"stroke: rgb(255, 255, 255); stroke-opacity: 1; stroke-width: 2px;\"/><path class=\"yzl zl crisp\" transform=\"translate(0,404)\" d=\"M80,0h495\" style=\"stroke: rgb(255, 255, 255); stroke-opacity: 1; stroke-width: 2px;\"/></g><g class=\"layer-between\"><g class=\"shapelayer\"/><g class=\"imagelayer\"/></g><path class=\"xlines-below\"/><path class=\"ylines-below\"/><g class=\"overlines-below\"/><g class=\"xaxislayer-below\"/><g class=\"yaxislayer-below\"/><g class=\"overaxes-below\"/><g class=\"overplot\"><g class=\"xy\" transform=\"translate(80,100)\" clip-path=\"url(#clipc273f0xyplot)\"><g class=\"scatterlayer mlayer\"><g class=\"trace scatter traced73fbd\" style=\"stroke-miterlimit: 2; opacity: 1;\"><g class=\"fills\"/><g class=\"errorbars\"/><g class=\"lines\"><path class=\"js-line\" d=\"M0,304L495,304\" style=\"vector-effect: none; fill: none; stroke: rgb(99, 110, 250); stroke-opacity: 1; stroke-width: 2px; opacity: 1;\"/></g><g class=\"points\"/><g class=\"text\"/></g><g class=\"trace scatter tracea0ab0c\" style=\"stroke-miterlimit: 2; opacity: 1;\"><g class=\"fills\"/><g class=\"errorbars\"/><g class=\"lines\"><path class=\"js-line\" d=\"M0,304L60,303.25L65,303L80,301.7L85,300.81L95,298.26L100,296.67L105,294.59L110,291.01L115,286.18L120,279.9L130,263.13L135,253.48L140,242.73L145,227.25L165,165.29L170,154.41L175,143.98L180,127.22L190,99.23L195,88.3L200,78.4L205,72.74L210,67.47L215,59.03L225,46.38L230,41.73L235,37.84L240,35.61L250,30.68L255,28.17L265,24.44L270,22.92L300,18.63L305,18.19L355,16.51L360,16.46L430,16.23L435,16.22L495,16.18\" style=\"vector-effect: none; fill: none; stroke: rgb(239, 85, 59); stroke-opacity: 1; stroke-width: 2px; opacity: 1;\"/></g><g class=\"points\"/><g class=\"text\"/></g><g class=\"trace scatter traceaf10b0\" style=\"stroke-miterlimit: 2; opacity: 1;\"><g class=\"fills\"/><g class=\"errorbars\"/><g class=\"lines\"><path class=\"js-line\" d=\"M0,304L75,303.37L80,303.21L95,302.36L100,301.83L110,300.14L115,299.07L120,297.66L125,295.31L130,292.13L135,288.06L145,277.15L150,270.82L155,263.82L160,253.73L180,213.54L185,206.3L190,199.54L195,188.6L205,170.33L210,163.19L215,156.7L220,152.92L225,149.51L230,144.02L240,135.67L245,132.6L250,130.09L255,128.57L265,125.31L270,123.65L280,121.2L285,120.18L310,117.84L315,117.48L345,116.43L350,116.34L420,115.9L425,115.9L495,115.86\" style=\"vector-effect: none; fill: none; stroke: rgb(0, 204, 150); stroke-opacity: 1; stroke-width: 2px; opacity: 1;\"/></g><g class=\"points\"/><g class=\"text\"/></g><g class=\"trace scatter traceb8efda\" style=\"stroke-miterlimit: 2; opacity: 1;\"><g class=\"fills\"/><g class=\"errorbars\"/><g class=\"lines\"><path class=\"js-line\" d=\"M0,304L85,303.37L90,303.21L105,302.36L110,301.83L120,300.14L125,299.07L130,297.66L135,295.31L140,292.13L145,288.06L155,277.15L160,270.82L165,263.82L170,253.73L190,213.54L195,206.3L200,199.54L205,188.6L215,170.33L220,163.19L225,156.7L230,152.92L235,149.51L240,144.02L250,135.67L255,132.6L260,130.09L265,128.57L275,125.31L280,123.65L290,121.2L295,120.18L320,117.84L325,117.48L355,116.43L360,116.34L430,115.9L435,115.9L495,115.87\" style=\"vector-effect: none; fill: none; stroke: rgb(171, 99, 250); stroke-opacity: 1; stroke-width: 2px; opacity: 1;\"/></g><g class=\"points\"/><g class=\"text\"/></g><g class=\"trace scatter trace4c92cd\" style=\"stroke-miterlimit: 2; opacity: 1;\"><g class=\"fills\"/><g class=\"errorbars\"/><g class=\"lines\"><path class=\"js-line\" d=\"M0,304L100,303.34L105,303.17L125,301.64L130,300.87L140,298.4L145,296.43L155,291.12L160,287.84L165,284.17L170,279.55L195,254.22L200,249.72L220,231.06L225,227.61L235,222.5L240,220.19L255,213.78L260,212.33L280,208.73L285,208.07L300,206.48L305,206.11L335,204.76L340,204.68L410,204.16L415,204.15L495,204.11\" style=\"vector-effect: none; fill: none; stroke: rgb(255, 161, 90); stroke-opacity: 1; stroke-width: 2px; opacity: 1;\"/></g><g class=\"points\"/><g class=\"text\"/></g><g class=\"trace scatter trace229c70\" style=\"stroke-miterlimit: 2; opacity: 1;\"><g class=\"fills\"/><g class=\"errorbars\"/><g class=\"lines\"><path class=\"js-line\" d=\"M0,304L100,303.28L105,303.13L125,301.59L130,300.83L140,298.36L145,296.43L150,293.97L155,290.64L165,281.71L170,275.53L175,267.67L180,258.17L190,235.92L195,223.11L215,167.04L220,152.98L235,115.09L240,103.58L250,83.11L255,74.05L265,59.92L270,54.01L280,44.01L285,39.72L290,36.01L295,33.44L305,28.85L310,26.82L325,22.51L330,21.48L350,18.73L355,18.31L375,17.07L380,16.86L425,16.13L430,16.1L495,16\" style=\"vector-effect: none; fill: none; stroke: rgb(25, 211, 243); stroke-opacity: 1; stroke-width: 2px; opacity: 1;\"/></g><g class=\"points\"/><g class=\"text\"/></g></g></g></g><path class=\"xlines-above crisp\" d=\"M0,0\" style=\"fill: none;\"/><path class=\"ylines-above crisp\" d=\"M0,0\" style=\"fill: none;\"/><g class=\"overlines-above\"/><g class=\"xaxislayer-above\"><g class=\"xtick\"><text text-anchor=\"middle\" x=\"0\" y=\"433\" transform=\"translate(80,0)\" style=\"font-family: 'Open Sans', verdana, arial, sans-serif; font-size: 12px; fill: rgb(42, 63, 95); fill-opacity: 1; white-space: pre; opacity: 1;\">0</text></g><g class=\"xtick\"><text text-anchor=\"middle\" x=\"0\" y=\"433\" style=\"font-family: 'Open Sans', verdana, arial, sans-serif; font-size: 12px; fill: rgb(42, 63, 95); fill-opacity: 1; white-space: pre; opacity: 1;\" transform=\"translate(180,0)\">20</text></g><g class=\"xtick\"><text text-anchor=\"middle\" x=\"0\" y=\"433\" style=\"font-family: 'Open Sans', verdana, arial, sans-serif; font-size: 12px; fill: rgb(42, 63, 95); fill-opacity: 1; white-space: pre; opacity: 1;\" transform=\"translate(280,0)\">40</text></g><g class=\"xtick\"><text text-anchor=\"middle\" x=\"0\" y=\"433\" style=\"font-family: 'Open Sans', verdana, arial, sans-serif; font-size: 12px; fill: rgb(42, 63, 95); fill-opacity: 1; white-space: pre; opacity: 1;\" transform=\"translate(380,0)\">60</text></g><g class=\"xtick\"><text text-anchor=\"middle\" x=\"0\" y=\"433\" style=\"font-family: 'Open Sans', verdana, arial, sans-serif; font-size: 12px; fill: rgb(42, 63, 95); fill-opacity: 1; white-space: pre; opacity: 1;\" transform=\"translate(480,0)\">80</text></g></g><g class=\"yaxislayer-above\"><g class=\"ytick\"><text text-anchor=\"end\" x=\"79\" y=\"4.199999999999999\" transform=\"translate(0,404)\" style=\"font-family: 'Open Sans', verdana, arial, sans-serif; font-size: 12px; fill: rgb(42, 63, 95); fill-opacity: 1; white-space: pre; opacity: 1;\">0</text></g><g class=\"ytick\"><text text-anchor=\"end\" x=\"79\" y=\"4.199999999999999\" style=\"font-family: 'Open Sans', verdana, arial, sans-serif; font-size: 12px; fill: rgb(42, 63, 95); fill-opacity: 1; white-space: pre; opacity: 1;\" transform=\"translate(0,361.45)\">10k</text></g><g class=\"ytick\"><text text-anchor=\"end\" x=\"79\" y=\"4.199999999999999\" style=\"font-family: 'Open Sans', verdana, arial, sans-serif; font-size: 12px; fill: rgb(42, 63, 95); fill-opacity: 1; white-space: pre; opacity: 1;\" transform=\"translate(0,318.9)\">20k</text></g><g class=\"ytick\"><text text-anchor=\"end\" x=\"79\" y=\"4.199999999999999\" style=\"font-family: 'Open Sans', verdana, arial, sans-serif; font-size: 12px; fill: rgb(42, 63, 95); fill-opacity: 1; white-space: pre; opacity: 1;\" transform=\"translate(0,276.35)\">30k</text></g><g class=\"ytick\"><text text-anchor=\"end\" x=\"79\" y=\"4.199999999999999\" style=\"font-family: 'Open Sans', verdana, arial, sans-serif; font-size: 12px; fill: rgb(42, 63, 95); fill-opacity: 1; white-space: pre; opacity: 1;\" transform=\"translate(0,233.8)\">40k</text></g><g class=\"ytick\"><text text-anchor=\"end\" x=\"79\" y=\"4.199999999999999\" style=\"font-family: 'Open Sans', verdana, arial, sans-serif; font-size: 12px; fill: rgb(42, 63, 95); fill-opacity: 1; white-space: pre; opacity: 1;\" transform=\"translate(0,191.25)\">50k</text></g><g class=\"ytick\"><text text-anchor=\"end\" x=\"79\" y=\"4.199999999999999\" style=\"font-family: 'Open Sans', verdana, arial, sans-serif; font-size: 12px; fill: rgb(42, 63, 95); fill-opacity: 1; white-space: pre; opacity: 1;\" transform=\"translate(0,148.7)\">60k</text></g><g class=\"ytick\"><text text-anchor=\"end\" x=\"79\" y=\"4.199999999999999\" style=\"font-family: 'Open Sans', verdana, arial, sans-serif; font-size: 12px; fill: rgb(42, 63, 95); fill-opacity: 1; white-space: pre; opacity: 1;\" transform=\"translate(0,106.15)\">70k</text></g></g><g class=\"overaxes-above\"/></g></g><g class=\"polarlayer\"/><g class=\"smithlayer\"/><g class=\"ternarylayer\"/><g class=\"geolayer\"/><g class=\"funnelarealayer\"/><g class=\"pielayer\"/><g class=\"iciclelayer\"/><g class=\"treemaplayer\"/><g class=\"sunburstlayer\"/><g class=\"glimages\"/><defs id=\"topdefs-c273f0\"><g class=\"clips\"/><clipPath id=\"legendc273f0\"><rect width=\"103\" height=\"143\" x=\"0\" y=\"0\"/></clipPath></defs><g class=\"layer-above\"><g class=\"imagelayer\"/><g class=\"shapelayer\"/></g><g class=\"infolayer\"><g class=\"legend\" pointer-events=\"all\" transform=\"translate(584.9000000000001,100)\"><rect class=\"bg\" shape-rendering=\"crispEdges\" width=\"103\" height=\"143\" x=\"0\" y=\"0\" style=\"stroke: rgb(68, 68, 68); stroke-opacity: 1; fill: rgb(255, 255, 255); fill-opacity: 1; stroke-width: 0px;\"/><g class=\"scrollbox\" transform=\"\" clip-path=\"url(#legendc273f0)\"><text class=\"legendtitletext\" text-anchor=\"start\" x=\"2\" y=\"18.2\" style=\"font-family: 'Open Sans', verdana, arial, sans-serif; font-size: 14px; fill: rgb(42, 63, 95); fill-opacity: 1; white-space: pre;\">state</text><g class=\"groups\" transform=\"\"><g class=\"traces\" transform=\"translate(0,32.7)\" style=\"opacity: 1;\"><text class=\"legendtext\" text-anchor=\"start\" x=\"40\" y=\"4.680000000000001\" style=\"font-family: 'Open Sans', verdana, arial, sans-serif; font-size: 12px; fill: rgb(42, 63, 95); fill-opacity: 1; white-space: pre;\">S</text><g class=\"layers\" style=\"opacity: 1;\"><g class=\"legendfill\"/><g class=\"legendlines\"><path class=\"js-line\" d=\"M5,0h30\" style=\"fill: none; stroke: rgb(99, 110, 250); stroke-opacity: 1; stroke-width: 2px;\"/></g><g class=\"legendsymbols\"><g class=\"legendpoints\"/></g></g><rect class=\"legendtoggle\" x=\"0\" y=\"-9.5\" width=\"97.3125\" height=\"19\" style=\"fill: rgb(0, 0, 0); fill-opacity: 0;\"/></g></g><g class=\"groups\" transform=\"\"><g class=\"traces\" transform=\"translate(0,51.7)\" style=\"opacity: 1;\"><text class=\"legendtext\" text-anchor=\"start\" x=\"40\" y=\"4.680000000000001\" style=\"font-family: 'Open Sans', verdana, arial, sans-serif; font-size: 12px; fill: rgb(42, 63, 95); fill-opacity: 1; white-space: pre;\">E</text><g class=\"layers\" style=\"opacity: 1;\"><g class=\"legendfill\"/><g class=\"legendlines\"><path class=\"js-line\" d=\"M5,0h30\" style=\"fill: none; stroke: rgb(239, 85, 59); stroke-opacity: 1; stroke-width: 2px;\"/></g><g class=\"legendsymbols\"><g class=\"legendpoints\"/></g></g><rect class=\"legendtoggle\" x=\"0\" y=\"-9.5\" width=\"97.3125\" height=\"19\" style=\"fill: rgb(0, 0, 0); fill-opacity: 0;\"/></g></g><g class=\"groups\" transform=\"\"><g class=\"traces\" transform=\"translate(0,70.7)\" style=\"opacity: 1;\"><text class=\"legendtext\" text-anchor=\"start\" x=\"40\" y=\"4.680000000000001\" style=\"font-family: 'Open Sans', verdana, arial, sans-serif; font-size: 12px; fill: rgb(42, 63, 95); fill-opacity: 1; white-space: pre;\">Ipresymp</text><g class=\"layers\" style=\"opacity: 1;\"><g class=\"legendfill\"/><g class=\"legendlines\"><path class=\"js-line\" d=\"M5,0h30\" style=\"fill: none; stroke: rgb(0, 204, 150); stroke-opacity: 1; stroke-width: 2px;\"/></g><g class=\"legendsymbols\"><g class=\"legendpoints\"/></g></g><rect class=\"legendtoggle\" x=\"0\" y=\"-9.5\" width=\"97.3125\" height=\"19\" style=\"fill: rgb(0, 0, 0); fill-opacity: 0;\"/></g></g><g class=\"groups\" transform=\"\"><g class=\"traces\" transform=\"translate(0,89.7)\" style=\"opacity: 1;\"><text class=\"legendtext\" text-anchor=\"start\" x=\"40\" y=\"4.680000000000001\" style=\"font-family: 'Open Sans', verdana, arial, sans-serif; font-size: 12px; fill: rgb(42, 63, 95); fill-opacity: 1; white-space: pre;\">Isymp</text><g class=\"layers\" style=\"opacity: 1;\"><g class=\"legendfill\"/><g class=\"legendlines\"><path class=\"js-line\" d=\"M5,0h30\" style=\"fill: none; stroke: rgb(171, 99, 250); stroke-opacity: 1; stroke-width: 2px;\"/></g><g class=\"legendsymbols\"><g class=\"legendpoints\"/></g></g><rect class=\"legendtoggle\" x=\"0\" y=\"-9.5\" width=\"97.3125\" height=\"19\" style=\"fill: rgb(0, 0, 0); fill-opacity: 0;\"/></g></g><g class=\"groups\" transform=\"\"><g class=\"traces\" transform=\"translate(0,108.7)\" style=\"opacity: 1;\"><text class=\"legendtext\" text-anchor=\"start\" x=\"40\" y=\"4.680000000000001\" style=\"font-family: 'Open Sans', verdana, arial, sans-serif; font-size: 12px; fill: rgb(42, 63, 95); fill-opacity: 1; white-space: pre;\">Iasymp</text><g class=\"layers\" style=\"opacity: 1;\"><g class=\"legendfill\"/><g class=\"legendlines\"><path class=\"js-line\" d=\"M5,0h30\" style=\"fill: none; stroke: rgb(255, 161, 90); stroke-opacity: 1; stroke-width: 2px;\"/></g><g class=\"legendsymbols\"><g class=\"legendpoints\"/></g></g><rect class=\"legendtoggle\" x=\"0\" y=\"-9.5\" width=\"97.3125\" height=\"19\" style=\"fill: rgb(0, 0, 0); fill-opacity: 0;\"/></g></g><g class=\"groups\" transform=\"\"><g class=\"traces\" transform=\"translate(0,127.7)\" style=\"opacity: 1;\"><text class=\"legendtext\" text-anchor=\"start\" x=\"40\" y=\"4.680000000000001\" style=\"font-family: 'Open Sans', verdana, arial, sans-serif; font-size: 12px; fill: rgb(42, 63, 95); fill-opacity: 1; white-space: pre;\">R</text><g class=\"layers\" style=\"opacity: 1;\"><g class=\"legendfill\"/><g class=\"legendlines\"><path class=\"js-line\" d=\"M5,0h30\" style=\"fill: none; stroke: rgb(25, 211, 243); stroke-opacity: 1; stroke-width: 2px;\"/></g><g class=\"legendsymbols\"><g class=\"legendpoints\"/></g></g><rect class=\"legendtoggle\" x=\"0\" y=\"-9.5\" width=\"97.3125\" height=\"19\" style=\"fill: rgb(0, 0, 0); fill-opacity: 0;\"/></g></g></g><rect class=\"scrollbar\" rx=\"20\" ry=\"3\" width=\"0\" height=\"0\" x=\"0\" y=\"0\" style=\"fill: rgb(128, 139, 164); fill-opacity: 1;\"/></g><g class=\"g-gtitle\"><text class=\"gtitle\" x=\"35\" y=\"50\" text-anchor=\"start\" dy=\"0em\" style=\"opacity: 1; font-family: 'Open Sans', verdana, arial, sans-serif; font-size: 17px; fill: rgb(42, 63, 95); fill-opacity: 1; white-space: pre;\">Cumulative number of individuals who have visited each state over time</text></g><g class=\"g-xtitle\"><text class=\"xtitle\" x=\"327.5\" y=\"460.3\" text-anchor=\"middle\" style=\"opacity: 1; font-family: 'Open Sans', verdana, arial, sans-serif; font-size: 14px; fill: rgb(42, 63, 95); fill-opacity: 1; white-space: pre;\">tick</text></g><g class=\"g-ytitle\"><text class=\"ytitle\" transform=\"rotate(-90,37.240625,260)\" x=\"37.240625\" y=\"260\" text-anchor=\"middle\" style=\"opacity: 1; font-family: 'Open Sans', verdana, arial, sans-serif; font-size: 14px; fill: rgb(42, 63, 95); fill-opacity: 1; white-space: pre;\">count</text></g></g></svg>"
      ]
     },
     "metadata": {},
     "output_type": "display_data"
    }
   ],
   "source": [
    "num_ticks = simulator.num_ticks(output_file)\n",
    "state_tick_cum_counts = simulator.compute_state_tick_unique_counts(transitions, num_ticks)\n",
    "\n",
    "states = state_tick_cum_counts.columns\n",
    "states.remove(\"tick\")\n",
    "\n",
    "state_tick_cum_counts = state_tick_cum_counts.with_columns(\n",
    "    *[pl.col(state).cum_sum() for state in states]\n",
    ")\n",
    "\n",
    "title = \"Cumulative number of individuals who have visited each state over time\"\n",
    "pdf = state_tick_cum_counts.unpivot(index=\"tick\", on=states, variable_name=\"state\", value_name=\"count\")\n",
    "px.line(pdf, x=\"tick\", y=\"count\", color=\"state\", title=title)"
   ]
  },
  {
   "cell_type": "code",
   "execution_count": null,
   "id": "b02e3548-4b24-46b6-b257-99adc10eeab4",
   "metadata": {},
   "outputs": [],
   "source": []
  }
 ],
 "metadata": {
  "kernelspec": {
   "display_name": "Python [conda env:hp12] *",
   "language": "python",
   "name": "conda-env-hp12-py"
  },
  "language_info": {
   "codemirror_mode": {
    "name": "ipython",
    "version": 3
   },
   "file_extension": ".py",
   "mimetype": "text/x-python",
   "name": "python",
   "nbconvert_exporter": "python",
   "pygments_lexer": "ipython3",
   "version": "3.12.5"
  }
 },
 "nbformat": 4,
 "nbformat_minor": 5
}
